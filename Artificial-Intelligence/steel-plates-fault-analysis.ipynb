{
 "cells": [
  {
   "cell_type": "markdown",
   "id": "immune-literacy",
   "metadata": {},
   "source": [
    "# 불량 철판 데이터 분석\n",
    "> 독립 변수는 철판의 불량 상태를 의미하는 지표인 총 27가지의 값이 주어지며, 종속 변수로는 원-핫 벡터로 표현된 7가지의 불량 종류가 존재하는 데이터셋\n",
    "\n",
    "<img width=\"1059\" alt=\"methods\" src=\"https://user-images.githubusercontent.com/28593767/113234455-3f749f00-92dc-11eb-9a10-133914398d2c.png\">"
   ]
  },
  {
   "cell_type": "code",
   "execution_count": 2,
   "id": "valued-playing",
   "metadata": {},
   "outputs": [],
   "source": [
    "import numpy as np\n",
    "import csv\n",
    "\n",
    "np.random.seed(401)\n",
    "\n",
    "RND_MEAN = 0\n",
    "RND_STD = 0.003\n",
    "\n",
    "LEARNING_RATERN = 0.003\n",
    "\n",
    "def multi_class_exec(epoch_count = 100, mb_size = 100, report = 10, train_rate = 0.75):\n",
    "    multi_load_dataset()\n",
    "    init_model()\n",
    "    train_and_test(epoch_count,mb_size,report,train_rate)"
   ]
  },
  {
   "cell_type": "code",
   "execution_count": 3,
   "id": "foreign-cartoon",
   "metadata": {},
   "outputs": [],
   "source": [
    "def multi_load_dataset():\n",
    "    with open('data_nn/faults.csv') as csvfile:\n",
    "        csvreader = csv.reader(csvfile) \n",
    "        next(csvreader,None)\n",
    "        rows = []\n",
    "        for row in csvreader:\n",
    "            rows.append(row)\n",
    "            \n",
    "    global data, input_cnt, output_cnt\n",
    "    input_cnt, output_cnt = 27,7\n",
    "    data = np.asarray(rows,dtype='float32')"
   ]
  },
  {
   "cell_type": "code",
   "execution_count": 4,
   "id": "indoor-paste",
   "metadata": {},
   "outputs": [],
   "source": [
    "def run_train(x,y):\n",
    "    output, aux_nn = forward_neuralnet(x)\n",
    "    loss, aux_pp = forward_postproc(output,y)\n",
    "    accuracy = eval_accuracy(output,y)\n",
    "    \n",
    "    G_output = backprop_postproc(aux_pp)\n",
    "    \n",
    "    return loss, accuracy"
   ]
  },
  {
   "cell_type": "code",
   "execution_count": 5,
   "id": "backed-committee",
   "metadata": {},
   "outputs": [],
   "source": [
    "def forward_postproc(output, y):\n",
    "    entropy = softmax_cross_entropy_with_logits(y, output)\n",
    "    loss = np.mean(entropy)\n",
    "    \n",
    "    return loss, [y, output, entropy]"
   ]
  },
  {
   "cell_type": "code",
   "execution_count": 6,
   "id": "efficient-measure",
   "metadata": {},
   "outputs": [],
   "source": [
    "def forward_neuralnet(x):\n",
    "    global weight, bias\n",
    "    output = np.matmul(x, weight) + bias \n",
    "    return output, x"
   ]
  },
  {
   "cell_type": "markdown",
   "id": "ordered-hungarian",
   "metadata": {},
   "source": [
    "<img width=\"454\" alt=\"softmax\" src=\"https://user-images.githubusercontent.com/28593767/113234877-186a9d00-92dd-11eb-829b-fa55554ccd29.png\">"
   ]
  },
  {
   "cell_type": "code",
   "execution_count": 7,
   "id": "capital-married",
   "metadata": {},
   "outputs": [],
   "source": [
    "def softmax(x):\n",
    "    max_elem = np.max(x, axis = 1)\n",
    "    \n",
    "    diff = (x.transpose() - max_elem).transpose()\n",
    "    exp = np.exp(diff)\n",
    "    \n",
    "    sum_exp = np.sum(exp, axis = 1)\n",
    "    probs = (exp.transpose()/sum_exp).transpose()\n",
    "    \n",
    "    return probs"
   ]
  },
  {
   "cell_type": "code",
   "execution_count": 8,
   "id": "lesbian-liver",
   "metadata": {},
   "outputs": [],
   "source": [
    "def softmax_cross_entropy_with_logits(labels, logits):\n",
    "    probs = softmax(logits)\n",
    "    return - np.sum(labels * np.log(probs + 1.0e-10), axis = 1)"
   ]
  },
  {
   "cell_type": "code",
   "execution_count": 9,
   "id": "plain-boost",
   "metadata": {},
   "outputs": [],
   "source": [
    " def backprop_postproc(aux_pp):\n",
    "    y, output, entropy = aux_pp\n",
    "    G_loss = 1.0\n",
    "    \n",
    "    g_loss_entropy = 1.0 / np.prod(entropy.shape)\n",
    "    g_entropy_output = softmax_cross_entropy_with_logits_derv(y,output)\n",
    "    G_entropy = g_loss_entropy * G_loss \n",
    "    G_output = g_entropy_output * G_entropy\n",
    "    \n",
    "    return G_output"
   ]
  },
  {
   "cell_type": "code",
   "execution_count": 10,
   "id": "breathing-horse",
   "metadata": {},
   "outputs": [],
   "source": [
    "def softmax_cross_entropy_with_logits_derv(labels,logits):\n",
    "    return softmax(logits) - labels"
   ]
  },
  {
   "cell_type": "code",
   "execution_count": 11,
   "id": "serial-preparation",
   "metadata": {},
   "outputs": [],
   "source": [
    "def eval_accuracy(output, y):\n",
    "    estimate = np.argmax(output, axis=1)\n",
    "    answer = np.argmax(y, axis=1)\n",
    "    correct = np.equal(estimate, answer)\n",
    "    \n",
    "    return np.mean(correct)"
   ]
  },
  {
   "cell_type": "code",
   "execution_count": 12,
   "id": "eligible-pendant",
   "metadata": {},
   "outputs": [
    {
     "ename": "IndexError",
     "evalue": "invalid index to scalar variable.",
     "output_type": "error",
     "traceback": [
      "\u001b[0;31m---------------------------------------------------------------------------\u001b[0m",
      "\u001b[0;31mIndexError\u001b[0m                                Traceback (most recent call last)",
      "\u001b[0;32m<ipython-input-12-0f7c177f7e03>\u001b[0m in \u001b[0;36m<module>\u001b[0;34m\u001b[0m\n\u001b[0;32m----> 1\u001b[0;31m \u001b[0mmulti_class_exec\u001b[0m\u001b[0;34m(\u001b[0m\u001b[0;34m)\u001b[0m\u001b[0;34m\u001b[0m\u001b[0;34m\u001b[0m\u001b[0m\n\u001b[0m",
      "\u001b[0;32m<ipython-input-2-20e25e4149b9>\u001b[0m in \u001b[0;36mmulti_class_exec\u001b[0;34m(epoch_count, mb_size, report, train_rate)\u001b[0m\n\u001b[1;32m     12\u001b[0m     \u001b[0mmulti_load_dataset\u001b[0m\u001b[0;34m(\u001b[0m\u001b[0;34m)\u001b[0m\u001b[0;34m\u001b[0m\u001b[0;34m\u001b[0m\u001b[0m\n\u001b[1;32m     13\u001b[0m     \u001b[0minit_model\u001b[0m\u001b[0;34m(\u001b[0m\u001b[0;34m)\u001b[0m\u001b[0;34m\u001b[0m\u001b[0;34m\u001b[0m\u001b[0m\n\u001b[0;32m---> 14\u001b[0;31m     \u001b[0mtrain_and_test\u001b[0m\u001b[0;34m(\u001b[0m\u001b[0mepoch_count\u001b[0m\u001b[0;34m,\u001b[0m\u001b[0mmb_size\u001b[0m\u001b[0;34m,\u001b[0m\u001b[0mreport\u001b[0m\u001b[0;34m,\u001b[0m\u001b[0mtrain_rate\u001b[0m\u001b[0;34m)\u001b[0m\u001b[0;34m\u001b[0m\u001b[0;34m\u001b[0m\u001b[0m\n\u001b[0m",
      "\u001b[0;32m<ipython-input-1-6473f91e6ead>\u001b[0m in \u001b[0;36mtrain_and_test\u001b[0;34m(epoch_count, mb_size, report, train_rate)\u001b[0m\n\u001b[1;32m     13\u001b[0m             \u001b[0macc\u001b[0m \u001b[0;34m=\u001b[0m \u001b[0mrun_test\u001b[0m\u001b[0;34m(\u001b[0m\u001b[0mtest_x\u001b[0m\u001b[0;34m,\u001b[0m \u001b[0mtest_y\u001b[0m\u001b[0;34m)\u001b[0m\u001b[0;34m\u001b[0m\u001b[0;34m\u001b[0m\u001b[0m\n\u001b[1;32m     14\u001b[0m             print(\"epoch{}:TRAIN - LOSS = {:5.3f},\\n accuracy:{:5.3f}, precision:{:5.3f}, recall:{:5.3f}, f1:{:5.3f}\".\\\n\u001b[0;32m---> 15\u001b[0;31m                   format(epoch+1,np.mean(losses), acc[0],acc[1],acc[2],acc[3]))\n\u001b[0m\u001b[1;32m     16\u001b[0m \u001b[0;34m\u001b[0m\u001b[0m\n\u001b[1;32m     17\u001b[0m     \u001b[0mfinal_acc\u001b[0m \u001b[0;34m=\u001b[0m \u001b[0mrun_test\u001b[0m\u001b[0;34m(\u001b[0m\u001b[0mtest_x\u001b[0m\u001b[0;34m,\u001b[0m \u001b[0mtest_y\u001b[0m\u001b[0;34m)\u001b[0m\u001b[0;34m\u001b[0m\u001b[0;34m\u001b[0m\u001b[0m\n",
      "\u001b[0;31mIndexError\u001b[0m: invalid index to scalar variable."
     ]
    }
   ],
   "source": [
    "multi_class_exec()"
   ]
  },
  {
   "cell_type": "code",
   "execution_count": null,
   "id": "through-helmet",
   "metadata": {},
   "outputs": [],
   "source": []
  },
  {
   "cell_type": "code",
   "execution_count": null,
   "id": "imposed-expert",
   "metadata": {},
   "outputs": [],
   "source": []
  }
 ],
 "metadata": {
  "kernelspec": {
   "display_name": "Python 3",
   "language": "python",
   "name": "python3"
  },
  "language_info": {
   "codemirror_mode": {
    "name": "ipython",
    "version": 3
   },
   "file_extension": ".py",
   "mimetype": "text/x-python",
   "name": "python",
   "nbconvert_exporter": "python",
   "pygments_lexer": "ipython3",
   "version": "3.7.10"
  },
  "toc": {
   "base_numbering": 1,
   "nav_menu": {},
   "number_sections": true,
   "sideBar": true,
   "skip_h1_title": false,
   "title_cell": "Table of Contents",
   "title_sidebar": "Contents",
   "toc_cell": false,
   "toc_position": {},
   "toc_section_display": true,
   "toc_window_display": false
  }
 },
 "nbformat": 4,
 "nbformat_minor": 5
}
