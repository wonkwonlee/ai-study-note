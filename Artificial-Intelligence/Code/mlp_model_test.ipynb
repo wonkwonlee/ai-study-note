{
 "cells": [
  {
   "cell_type": "code",
   "execution_count": 1,
   "metadata": {},
   "outputs": [],
   "source": [
    "%run mlp_model.ipynb\n",
    "%run dataset_chap123.ipynb\n",
    "%run dataset_flowers.ipynb"
   ]
  },
  {
   "cell_type": "code",
   "execution_count": 2,
   "metadata": {},
   "outputs": [
    {
     "name": "stdout",
     "output_type": "stream",
     "text": [
      "Model abalone_model train started:\n",
      "    Epoch 2: cost=8.191, accuracy=0.733/0.711 (0/0 secs)\n",
      "    Epoch 4: cost=7.392, accuracy=0.744/0.694 (0/0 secs)\n",
      "    Epoch 6: cost=7.247, accuracy=0.747/0.737 (0/0 secs)\n",
      "    Epoch 8: cost=7.139, accuracy=0.748/0.725 (0/0 secs)\n",
      "    Epoch 10: cost=7.054, accuracy=0.751/0.746 (0/0 secs)\n",
      "Model abalone_model train ended in 0 secs:\n",
      "Model abalone_model test report: accuracy = 0.727, (0 secs)\n",
      "\n",
      "Model abalone_model Visualization\n",
      "[0.00,0.00,1.00,0.70,0.53,0.17,1.56,0.61,0.39,0.44] => 추정 12.9 : 정답 10.0\n",
      "[0.00,1.00,0.00,0.46,0.38,0.12,0.48,0.22,0.10,0.17] => 추정  8.7 : 정답  7.0\n",
      "[0.00,0.00,1.00,0.58,0.45,0.14,1.14,0.56,0.22,0.29] => 추정 11.3 : 정답  8.0\n"
     ]
    }
   ],
   "source": [
    "ad = AbaloneDataset()\n",
    "am = MlpModel('abalone_model', ad, [])\n",
    "am.exec_all(epoch_count=10, report=2)"
   ]
  },
  {
   "cell_type": "code",
   "execution_count": 3,
   "metadata": {
    "pycharm": {
     "name": "#%%\n"
    }
   },
   "outputs": [
    {
     "name": "stdout",
     "output_type": "stream",
     "text": [
      "Model abalone_model train started:\n",
      "    Epoch 200: cost=10.403, accuracy=0.678/0.661 (3/3 secs)\n",
      "    Epoch 400: cost=10.403, accuracy=0.677/0.702 (2/5 secs)\n",
      "    Epoch 600: cost=10.403, accuracy=0.678/0.717 (3/8 secs)\n",
      "    Epoch 800: cost=10.403, accuracy=0.677/0.694 (2/10 secs)\n",
      "    Epoch 1000: cost=10.403, accuracy=0.677/0.661 (2/12 secs)\n",
      "Model abalone_model train ended in 12 secs:\n",
      "Model abalone_model test report: accuracy = 0.678, (0 secs)\n",
      "\n",
      "Model abalone_model Visualization\n",
      "[1.00,0.00,0.00,0.34,0.26,0.09,0.18,0.07,0.04,0.06] => 추정  9.9 : 정답  9.0\n",
      "[1.00,0.00,0.00,0.48,0.38,0.12,0.62,0.34,0.11,0.17] => 추정  9.9 : 정답  8.0\n",
      "[1.00,0.00,0.00,0.11,0.09,0.03,0.01,0.00,0.00,0.00] => 추정  9.9 : 정답  3.0\n",
      "[1.00,0.00,0.00,0.35,0.27,0.10,0.22,0.08,0.04,0.07] => 추정  9.9 : 정답 10.0\n",
      "[0.00,1.00,0.00,0.35,0.27,0.11,0.30,0.14,0.06,0.09] => 추정  9.9 : 정답  7.0\n"
     ]
    }
   ],
   "source": [
    "ad = AbaloneDataset()\n",
    "am = MlpModel('abalone_model', ad ,[5,3])\n",
    "am.exec_all(epoch_count=1000, report=200,\\\n",
    "            batch_size=100, learning_rate=0.003,\\\n",
    "            show_cnt=5)"
   ]
  },
  {
   "cell_type": "code",
   "execution_count": 4,
   "metadata": {
    "pycharm": {
     "name": "#%%\n"
    }
   },
   "outputs": [
    {
     "name": "stdout",
     "output_type": "stream",
     "text": [
      "abalone_model/abalone(regression, 3340+629+208)\n",
      "Model abalone_model Visualization\n",
      "[0.00,1.00,0.00,0.59,0.48,0.18,1.18,0.53,0.30,0.31] => 추정  9.9 : 정답 10.0\n",
      "[0.00,1.00,0.00,0.45,0.34,0.14,0.48,0.21,0.10,0.11] => 추정  9.9 : 정답 15.0\n",
      "[0.00,0.00,1.00,0.72,0.56,0.17,1.61,0.72,0.33,0.49] => 추정  9.9 : 정답 12.0\n",
      "[0.00,0.00,1.00,0.66,0.54,0.17,1.52,0.71,0.31,0.41] => 추정  9.9 : 정답 12.0\n",
      "[1.00,0.00,0.00,0.35,0.27,0.10,0.22,0.08,0.04,0.07] => 추정  9.9 : 정답 10.0\n"
     ]
    }
   ],
   "source": [
    "print(am)\n",
    "am.visualize(5)"
   ]
  },
  {
   "cell_type": "code",
   "execution_count": 9,
   "metadata": {},
   "outputs": [
    {
     "name": "stdout",
     "output_type": "stream",
     "text": [
      "Model pulsar_model train ended in 4 secs:\n",
      "Model pulsar_model test report: accuracy = 0.975, (0 secs)\n",
      "\n",
      "Model pulsar_model Visualization\n",
      "[139.6, 44.9, -0.2,...] => 추정 별(확률 0.00) : 정답 별 => O\n",
      "[123.8, 40.8, -0.1,...] => 추정 별(확률 0.00) : 정답 별 => O\n",
      "[105.2, 33.8,  0.4,...] => 추정 별(확률 0.01) : 정답 별 => O\n"
     ]
    }
   ],
   "source": [
    "pd = PulsarDataset()\n",
    "pm = MlpModel('pulsar_model', pd, [5])\n",
    "pm.exec_all()"
   ]
  },
  {
   "cell_type": "code",
   "execution_count": 6,
   "metadata": {
    "pycharm": {
     "name": "#%%\n"
    }
   },
   "outputs": [
    {
     "name": "stdout",
     "output_type": "stream",
     "text": [
      "Model pulsar_model train started:\n",
      "    Epoch 10: cost=0.121, accuracy=0.970/0.960 (4/4 secs)\n",
      "    Epoch 20: cost=0.110, accuracy=0.972/0.970 (4/8 secs)\n",
      "    Epoch 30: cost=0.103, accuracy=0.973/0.990 (4/12 secs)\n",
      "    Epoch 40: cost=0.099, accuracy=0.975/0.980 (5/17 secs)\n",
      "    Epoch 50: cost=0.095, accuracy=0.975/0.990 (7/24 secs)\n",
      "    Epoch 60: cost=0.093, accuracy=0.975/1.000 (4/28 secs)\n",
      "    Epoch 70: cost=0.092, accuracy=0.975/0.960 (4/32 secs)\n",
      "    Epoch 80: cost=0.090, accuracy=0.975/1.000 (4/36 secs)\n",
      "    Epoch 90: cost=0.089, accuracy=0.975/0.970 (4/40 secs)\n",
      "    Epoch 100: cost=0.089, accuracy=0.976/0.980 (4/44 secs)\n",
      "Model pulsar_model train ended in 44 secs:\n",
      "Model pulsar_model test report: accuracy = 0.968, (0 secs)\n",
      "\n",
      "Model pulsar_model Visualization\n",
      "[145.8, 47.0, -0.2,...] => 추정 별(확률 0.00) : 정답 별 => O\n",
      "[ 92.7, 40.8,  0.3,...] => 추정 별(확률 0.03) : 정답 별 => O\n",
      "[111.5, 55.8,  0.1,...] => 추정 별(확률 0.03) : 정답 별 => O\n",
      "[101.8, 54.2,  0.5,...] => 추정 별(확률 0.04) : 정답 별 => O\n",
      "Model pulsar_model Visualization\n",
      "[ 94.3, 38.6,  0.5,...] => 추정 별(확률 0.02) : 정답 별 => O\n",
      "[ 99.2, 35.1,  0.7,...] => 추정 별(확률 0.02) : 정답 별 => O\n",
      "[ 87.5, 51.8,  1.1,...] => 추정 펄서(확률 0.63) : 정답 별 => X\n",
      "[124.7, 49.4, -0.0,...] => 추정 별(확률 0.00) : 정답 별 => O\n",
      "[121.2, 57.8,  0.0,...] => 추정 별(확률 0.00) : 정답 별 => O\n"
     ]
    }
   ],
   "source": [
    "pd = PulsarDataset()\n",
    "pm = MlpModel('pulsar_model', pd, [10,5])\n",
    "pm.exec_all(epoch_count=100,report=10,show_cnt=4)\n",
    "pm.visualize(5)\n",
    "\n"
   ]
  },
  {
   "cell_type": "code",
   "execution_count": null,
   "metadata": {},
   "outputs": [],
   "source": [
    "sd = SteelDataset()\n",
    "sm = MlpModel('steel_model', sd, [12,7])\n",
    "sm.exec_all(epoch_count=50, report=10)"
   ]
  },
  {
   "cell_type": "code",
   "execution_count": null,
   "metadata": {
    "pycharm": {
     "name": "#%%\n"
    }
   },
   "outputs": [],
   "source": [
    "sd = SteelDataset()\n",
    "sm = MlpModel('steel_model', sd, [12,7,5])\n",
    "sm.exec_all(epoch_count=100, report=20,learning_rate= 0.003)"
   ]
  },
  {
   "cell_type": "code",
   "execution_count": null,
   "metadata": {},
   "outputs": [],
   "source": [
    "psd = PulsarSelectDataset()\n",
    "psm = MlpModel('pulsar_select_model', psd, [12,7,5])\n",
    "psm.exec_all(epoch_count=100, report=20,learning_rate= 0.003)"
   ]
  },
  {
   "cell_type": "code",
   "execution_count": null,
   "metadata": {
    "pycharm": {
     "name": "#%%\n"
    }
   },
   "outputs": [],
   "source": [
    "fd = FlowersDataset()\n",
    "fm = MlpModel('flowers_model_1', fd, [30,15,10])\n",
    "fm.exec_all(epoch_count=10, report=2)"
   ]
  },
  {
   "cell_type": "code",
   "execution_count": null,
   "metadata": {},
   "outputs": [],
   "source": [
    "fm.visualize(5)"
   ]
  },
  {
   "cell_type": "code",
   "execution_count": null,
   "metadata": {
    "pycharm": {
     "name": "#%%\n"
    }
   },
   "outputs": [],
   "source": [
    "fm2 = MlpModel('flowers_model_2', fd, [45,30,15,5])\n",
    "fm2.exec_all(epoch_count=100, report=10)"
   ]
  },
  {
   "cell_type": "code",
   "execution_count": null,
   "metadata": {
    "pycharm": {
     "name": "#%%\n"
    }
   },
   "outputs": [],
   "source": [
    "fm2.visualize(5)\n"
   ]
  }
 ],
 "metadata": {
  "kernelspec": {
   "display_name": "Python 3",
   "language": "python",
   "name": "python3"
  },
  "language_info": {
   "codemirror_mode": {
    "name": "ipython",
    "version": 3
   },
   "file_extension": ".py",
   "mimetype": "text/x-python",
   "name": "python",
   "nbconvert_exporter": "python",
   "pygments_lexer": "ipython3",
   "version": "3.7.10"
  },
  "toc": {
   "base_numbering": 1,
   "nav_menu": {},
   "number_sections": true,
   "sideBar": true,
   "skip_h1_title": false,
   "title_cell": "Table of Contents",
   "title_sidebar": "Contents",
   "toc_cell": false,
   "toc_position": {},
   "toc_section_display": true,
   "toc_window_display": false
  }
 },
 "nbformat": 4,
 "nbformat_minor": 2
}