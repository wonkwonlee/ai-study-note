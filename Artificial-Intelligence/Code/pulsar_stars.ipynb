{
 "cells": [
  {
   "cell_type": "code",
   "execution_count": 1,
   "metadata": {
    "pycharm": {
     "name": "#%%\n"
    }
   },
   "outputs": [],
   "source": [
    "%run abalone.ipynb"
   ]
  },
  {
   "cell_type": "code",
   "execution_count": 2,
   "metadata": {
    "executionInfo": {
     "elapsed": 765,
     "status": "ok",
     "timestamp": 1617071267660,
     "user": {
      "displayName": "J.H Lee",
      "photoUrl": "https://lh3.googleusercontent.com/a-/AOh14GjXbQ4H4DovEvK-CyOR647ftdReBCjlMLx98Z5_qw=s64",
      "userId": "17750727185697517622"
     },
     "user_tz": -540
    },
    "id": "aPqLOdHepgO0"
   },
   "outputs": [],
   "source": [
    "def binary_classification_exec(epoch_count=10, mb_size=10, report=1,train_rate = 0.8):\n",
    "    binary_load_dataset()\n",
    "    init_model()\n",
    "    train_and_test(epoch_count, mb_size, report, train_rate)"
   ]
  },
  {
   "cell_type": "code",
   "execution_count": 3,
   "metadata": {
    "executionInfo": {
     "elapsed": 746,
     "status": "ok",
     "timestamp": 1617071269539,
     "user": {
      "displayName": "J.H Lee",
      "photoUrl": "https://lh3.googleusercontent.com/a-/AOh14GjXbQ4H4DovEvK-CyOR647ftdReBCjlMLx98Z5_qw=s64",
      "userId": "17750727185697517622"
     },
     "user_tz": -540
    },
    "id": "RYcpT0cZpgO2"
   },
   "outputs": [],
   "source": [
    "def binary_load_dataset():\n",
    "    with open('../data_nn/pulsar_stars.csv') as csvfile:\n",
    "        csvreader = csv.reader(csvfile)\n",
    "        next(csvreader, None)\n",
    "        rows = []\n",
    "        for row in csvreader:\n",
    "            rows.append(row)\n",
    "            \n",
    "    global data, input_cnt, output_cnt\n",
    "    input_cnt, output_cnt = 8, 1\n",
    "    data = np.asarray(rows, dtype='float32')"
   ]
  },
  {
   "cell_type": "code",
   "execution_count": 4,
   "metadata": {
    "executionInfo": {
     "elapsed": 808,
     "status": "ok",
     "timestamp": 1617071269994,
     "user": {
      "displayName": "J.H Lee",
      "photoUrl": "https://lh3.googleusercontent.com/a-/AOh14GjXbQ4H4DovEvK-CyOR647ftdReBCjlMLx98Z5_qw=s64",
      "userId": "17750727185697517622"
     },
     "user_tz": -540
    },
    "id": "YscqIGJOpgO3"
   },
   "outputs": [],
   "source": [
    "def forward_postproc(output, y):\n",
    "    entropy = sigmoid_cross_entropy_with_logits(y, output)\n",
    "    loss = np.mean(entropy)\n",
    "    return loss, [y, output, entropy]\n",
    "\n",
    "def backprop_postproc(G_loss, aux):\n",
    "    y, output, entropy = aux\n",
    "    \n",
    "    g_loss_entropy = 1.0 / np.prod(entropy.shape)\n",
    "    g_entropy_output = sigmoid_cross_entropy_with_logits_derv(y, output)    \n",
    "    \n",
    "    G_entropy = g_loss_entropy * G_loss\n",
    "    G_output = g_entropy_output * G_entropy\n",
    "    \n",
    "    return G_output"
   ]
  },
  {
   "cell_type": "code",
   "execution_count": 5,
   "metadata": {
    "executionInfo": {
     "elapsed": 760,
     "status": "ok",
     "timestamp": 1617071270353,
     "user": {
      "displayName": "J.H Lee",
      "photoUrl": "https://lh3.googleusercontent.com/a-/AOh14GjXbQ4H4DovEvK-CyOR647ftdReBCjlMLx98Z5_qw=s64",
      "userId": "17750727185697517622"
     },
     "user_tz": -540
    },
    "id": "RxImLVDwpgO3"
   },
   "outputs": [],
   "source": [
    "def eval_accuracy(output, y):\n",
    "    estimate = np.greater(output, 0)\n",
    "    answer = np.greater(y, 0.5)\n",
    "    correct = np.equal(estimate, answer)\n",
    "    \n",
    "    return np.mean(correct)"
   ]
  },
  {
   "cell_type": "code",
   "execution_count": 6,
   "metadata": {
    "executionInfo": {
     "elapsed": 610,
     "status": "ok",
     "timestamp": 1617071270679,
     "user": {
      "displayName": "J.H Lee",
      "photoUrl": "https://lh3.googleusercontent.com/a-/AOh14GjXbQ4H4DovEvK-CyOR647ftdReBCjlMLx98Z5_qw=s64",
      "userId": "17750727185697517622"
     },
     "user_tz": -540
    },
    "id": "WOw70CRRpgO4",
    "pycharm": {
     "name": "#%%\n"
    }
   },
   "outputs": [],
   "source": [
    "def relu(x):\n",
    "    return np.maximum(x, 0)\n",
    "\n",
    "def sigmoid(x):\n",
    "    return np.exp(-relu(-x)) / (1.0 + np.exp(-np.abs(x)))\n",
    "        \n",
    "def sigmoid_derv(x, y):\n",
    "    return y * (1 - y)\n",
    "\n",
    "def sigmoid_cross_entropy_with_logits(z, x):\n",
    "    return relu(x) - x * z + np.log(1 + np.exp(-np.abs(x)))\n",
    "\n",
    "def sigmoid_cross_entropy_with_logits_derv(z, x):\n",
    "    return -z + sigmoid(x)\n",
    "\n"
   ]
  }
 ],
 "metadata": {
  "colab": {
   "name": "신경망(이진분류)_사전배포.ipynb",
   "provenance": []
  },
  "kernelspec": {
   "display_name": "Python 3",
   "language": "python",
   "name": "python3"
  },
  "language_info": {
   "codemirror_mode": {
    "name": "ipython",
    "version": 3
   },
   "file_extension": ".py",
   "mimetype": "text/x-python",
   "name": "python",
   "nbconvert_exporter": "python",
   "pygments_lexer": "ipython3",
   "version": "3.7.10"
  },
  "toc": {
   "base_numbering": 1,
   "nav_menu": {},
   "number_sections": true,
   "sideBar": true,
   "skip_h1_title": false,
   "title_cell": "Table of Contents",
   "title_sidebar": "Contents",
   "toc_cell": false,
   "toc_position": {},
   "toc_section_display": true,
   "toc_window_display": false
  }
 },
 "nbformat": 4,
 "nbformat_minor": 1
}