{
 "cells": [
  {
   "cell_type": "code",
   "execution_count": 2,
   "metadata": {
    "id": "0sBfK3_BVs72"
   },
   "outputs": [],
   "source": [
    "%run faults.ipynb"
   ]
  },
  {
   "cell_type": "code",
   "execution_count": 3,
   "metadata": {
    "id": "HU4zFBFMVs79",
    "pycharm": {
     "name": "#%%\n"
    }
   },
   "outputs": [
    {
     "name": "stdout",
     "output_type": "stream",
     "text": [
      "Epoch 1 : Train - loss = 16.150, accuracy = 0.299 / Test = 0.413\n",
      "Epoch 2 : Train - loss = 15.689, accuracy = 0.319 / Test = 0.373\n",
      "Epoch 3 : Train - loss = 15.562, accuracy = 0.324 / Test = 0.426\n",
      "Epoch 4 : Train - loss = 15.435, accuracy = 0.330 / Test = 0.228\n",
      "Epoch 5 : Train - loss = 15.928, accuracy = 0.308 / Test = 0.253\n",
      "Epoch 6 : Train - loss = 16.055, accuracy = 0.303 / Test = 0.375\n",
      "Epoch 7 : Train - loss = 15.388, accuracy = 0.332 / Test = 0.305\n",
      "Epoch 8 : Train - loss = 15.610, accuracy = 0.322 / Test = 0.212\n",
      "Epoch 9 : Train - loss = 15.626, accuracy = 0.321 / Test = 0.141\n",
      "Epoch 10 : Train - loss = 15.388, accuracy = 0.332 / Test = 0.228\n",
      "\n",
      " 최종 테스트 : Final accuracy = 0.228\n"
     ]
    }
   ],
   "source": [
    "multi_class_exec()"
   ]
  }
 ],
 "metadata": {
  "colab": {
   "name": "신경망(다중선택분류).ipynb",
   "provenance": []
  },
  "kernelspec": {
   "display_name": "Python 3",
   "language": "python",
   "name": "python3"
  },
  "language_info": {
   "codemirror_mode": {
    "name": "ipython",
    "version": 3
   },
   "file_extension": ".py",
   "mimetype": "text/x-python",
   "name": "python",
   "nbconvert_exporter": "python",
   "pygments_lexer": "ipython3",
   "version": "3.7.10"
  },
  "toc": {
   "base_numbering": 1,
   "nav_menu": {},
   "number_sections": true,
   "sideBar": true,
   "skip_h1_title": false,
   "title_cell": "Table of Contents",
   "title_sidebar": "Contents",
   "toc_cell": false,
   "toc_position": {},
   "toc_section_display": true,
   "toc_window_display": false
  }
 },
 "nbformat": 4,
 "nbformat_minor": 1
}
