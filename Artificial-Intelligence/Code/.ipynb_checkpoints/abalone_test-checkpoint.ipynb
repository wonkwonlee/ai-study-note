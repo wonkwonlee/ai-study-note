{
 "cells": [
  {
   "cell_type": "code",
   "execution_count": 3,
   "metadata": {
    "pycharm": {
     "name": "#%%\n"
    }
   },
   "outputs": [],
   "source": [
    "%run abalone.ipynb"
   ]
  },
  {
   "cell_type": "code",
   "execution_count": 4,
   "metadata": {
    "pycharm": {
     "name": "#%%\n"
    }
   },
   "outputs": [
    {
     "name": "stdout",
     "output_type": "stream",
     "text": [
      "Epoch 10 : Train - loss = 12.006, accuracy = 0.784 / Test = 0.791\n",
      "Epoch 20 : Train - loss = 7.776, accuracy = 0.819 / Test = 0.817\n",
      "Epoch 30 : Train - loss = 7.522, accuracy = 0.812 / Test = 0.811\n",
      "Epoch 40 : Train - loss = 7.427, accuracy = 0.811 / Test = 0.809\n",
      "Epoch 50 : Train - loss = 7.352, accuracy = 0.810 / Test = 0.808\n",
      "Epoch 60 : Train - loss = 7.288, accuracy = 0.810 / Test = 0.808\n",
      "Epoch 70 : Train - loss = 7.232, accuracy = 0.810 / Test = 0.808\n",
      "Epoch 80 : Train - loss = 7.183, accuracy = 0.810 / Test = 0.808\n",
      "Epoch 90 : Train - loss = 7.140, accuracy = 0.810 / Test = 0.808\n",
      "Epoch 100 : Train - loss = 7.101, accuracy = 0.810 / Test = 0.808\n",
      "Epoch 110 : Train - loss = 7.066, accuracy = 0.810 / Test = 0.807\n",
      "Epoch 120 : Train - loss = 7.034, accuracy = 0.811 / Test = 0.807\n",
      "Epoch 130 : Train - loss = 7.005, accuracy = 0.810 / Test = 0.807\n",
      "Epoch 140 : Train - loss = 6.979, accuracy = 0.811 / Test = 0.807\n",
      "Epoch 150 : Train - loss = 6.954, accuracy = 0.811 / Test = 0.807\n",
      "Epoch 160 : Train - loss = 6.931, accuracy = 0.811 / Test = 0.807\n",
      "Epoch 170 : Train - loss = 6.911, accuracy = 0.811 / Test = 0.807\n",
      "Epoch 180 : Train - loss = 6.891, accuracy = 0.811 / Test = 0.807\n",
      "Epoch 190 : Train - loss = 6.873, accuracy = 0.811 / Test = 0.807\n",
      "Epoch 200 : Train - loss = 6.856, accuracy = 0.811 / Test = 0.807\n",
      "Epoch 210 : Train - loss = 6.839, accuracy = 0.811 / Test = 0.807\n",
      "Epoch 220 : Train - loss = 6.824, accuracy = 0.811 / Test = 0.807\n",
      "Epoch 230 : Train - loss = 6.810, accuracy = 0.811 / Test = 0.807\n",
      "Epoch 240 : Train - loss = 6.797, accuracy = 0.811 / Test = 0.807\n",
      "Epoch 250 : Train - loss = 6.783, accuracy = 0.811 / Test = 0.807\n",
      "Epoch 260 : Train - loss = 6.771, accuracy = 0.811 / Test = 0.808\n",
      "Epoch 270 : Train - loss = 6.759, accuracy = 0.811 / Test = 0.808\n",
      "Epoch 280 : Train - loss = 6.748, accuracy = 0.811 / Test = 0.808\n",
      "Epoch 290 : Train - loss = 6.737, accuracy = 0.812 / Test = 0.808\n",
      "Epoch 300 : Train - loss = 6.726, accuracy = 0.811 / Test = 0.808\n",
      "Epoch 310 : Train - loss = 6.716, accuracy = 0.811 / Test = 0.808\n",
      "Epoch 320 : Train - loss = 6.706, accuracy = 0.812 / Test = 0.808\n",
      "Epoch 330 : Train - loss = 6.696, accuracy = 0.812 / Test = 0.808\n",
      "Epoch 340 : Train - loss = 6.686, accuracy = 0.812 / Test = 0.808\n",
      "Epoch 350 : Train - loss = 6.677, accuracy = 0.812 / Test = 0.808\n",
      "Epoch 360 : Train - loss = 6.668, accuracy = 0.812 / Test = 0.808\n",
      "Epoch 370 : Train - loss = 6.659, accuracy = 0.812 / Test = 0.808\n",
      "Epoch 380 : Train - loss = 6.650, accuracy = 0.812 / Test = 0.808\n",
      "Epoch 390 : Train - loss = 6.642, accuracy = 0.812 / Test = 0.808\n",
      "Epoch 400 : Train - loss = 6.633, accuracy = 0.812 / Test = 0.808\n",
      "Epoch 410 : Train - loss = 6.625, accuracy = 0.812 / Test = 0.808\n",
      "Epoch 420 : Train - loss = 6.617, accuracy = 0.812 / Test = 0.808\n",
      "Epoch 430 : Train - loss = 6.609, accuracy = 0.812 / Test = 0.809\n",
      "Epoch 440 : Train - loss = 6.601, accuracy = 0.812 / Test = 0.809\n",
      "Epoch 450 : Train - loss = 6.593, accuracy = 0.812 / Test = 0.809\n",
      "Epoch 460 : Train - loss = 6.585, accuracy = 0.812 / Test = 0.809\n",
      "Epoch 470 : Train - loss = 6.577, accuracy = 0.813 / Test = 0.809\n",
      "Epoch 480 : Train - loss = 6.569, accuracy = 0.813 / Test = 0.809\n",
      "Epoch 490 : Train - loss = 6.562, accuracy = 0.813 / Test = 0.809\n",
      "Epoch 500 : Train - loss = 6.554, accuracy = 0.813 / Test = 0.809\n",
      "Epoch 510 : Train - loss = 6.547, accuracy = 0.813 / Test = 0.809\n",
      "Epoch 520 : Train - loss = 6.539, accuracy = 0.813 / Test = 0.809\n",
      "Epoch 530 : Train - loss = 6.532, accuracy = 0.813 / Test = 0.809\n",
      "Epoch 540 : Train - loss = 6.524, accuracy = 0.813 / Test = 0.809\n",
      "Epoch 550 : Train - loss = 6.517, accuracy = 0.813 / Test = 0.810\n",
      "Epoch 560 : Train - loss = 6.510, accuracy = 0.813 / Test = 0.810\n",
      "Epoch 570 : Train - loss = 6.503, accuracy = 0.813 / Test = 0.810\n",
      "Epoch 580 : Train - loss = 6.495, accuracy = 0.814 / Test = 0.810\n",
      "Epoch 590 : Train - loss = 6.488, accuracy = 0.814 / Test = 0.810\n",
      "Epoch 600 : Train - loss = 6.481, accuracy = 0.814 / Test = 0.810\n",
      "Epoch 610 : Train - loss = 6.474, accuracy = 0.814 / Test = 0.810\n",
      "Epoch 620 : Train - loss = 6.467, accuracy = 0.814 / Test = 0.810\n",
      "Epoch 630 : Train - loss = 6.460, accuracy = 0.814 / Test = 0.810\n",
      "Epoch 640 : Train - loss = 6.454, accuracy = 0.814 / Test = 0.810\n",
      "Epoch 650 : Train - loss = 6.446, accuracy = 0.814 / Test = 0.811\n",
      "Epoch 660 : Train - loss = 6.439, accuracy = 0.814 / Test = 0.811\n",
      "Epoch 670 : Train - loss = 6.433, accuracy = 0.814 / Test = 0.811\n",
      "Epoch 680 : Train - loss = 6.426, accuracy = 0.815 / Test = 0.811\n",
      "Epoch 690 : Train - loss = 6.419, accuracy = 0.814 / Test = 0.811\n",
      "Epoch 700 : Train - loss = 6.412, accuracy = 0.815 / Test = 0.811\n",
      "Epoch 710 : Train - loss = 6.406, accuracy = 0.815 / Test = 0.811\n",
      "Epoch 720 : Train - loss = 6.399, accuracy = 0.815 / Test = 0.811\n",
      "Epoch 730 : Train - loss = 6.393, accuracy = 0.815 / Test = 0.811\n",
      "Epoch 740 : Train - loss = 6.386, accuracy = 0.815 / Test = 0.811\n",
      "Epoch 750 : Train - loss = 6.379, accuracy = 0.815 / Test = 0.812\n",
      "Epoch 760 : Train - loss = 6.373, accuracy = 0.815 / Test = 0.812\n",
      "Epoch 770 : Train - loss = 6.366, accuracy = 0.815 / Test = 0.812\n",
      "Epoch 780 : Train - loss = 6.360, accuracy = 0.815 / Test = 0.812\n",
      "Epoch 790 : Train - loss = 6.353, accuracy = 0.816 / Test = 0.812\n",
      "Epoch 800 : Train - loss = 6.347, accuracy = 0.816 / Test = 0.812\n",
      "Epoch 810 : Train - loss = 6.341, accuracy = 0.816 / Test = 0.812\n",
      "Epoch 820 : Train - loss = 6.334, accuracy = 0.816 / Test = 0.812\n",
      "Epoch 830 : Train - loss = 6.328, accuracy = 0.816 / Test = 0.812\n",
      "Epoch 840 : Train - loss = 6.322, accuracy = 0.816 / Test = 0.813\n",
      "Epoch 850 : Train - loss = 6.315, accuracy = 0.816 / Test = 0.813\n",
      "Epoch 860 : Train - loss = 6.309, accuracy = 0.816 / Test = 0.813\n",
      "Epoch 870 : Train - loss = 6.303, accuracy = 0.816 / Test = 0.813\n",
      "Epoch 880 : Train - loss = 6.297, accuracy = 0.817 / Test = 0.813\n",
      "Epoch 890 : Train - loss = 6.290, accuracy = 0.816 / Test = 0.813\n",
      "Epoch 900 : Train - loss = 6.284, accuracy = 0.817 / Test = 0.813\n",
      "Epoch 910 : Train - loss = 6.278, accuracy = 0.817 / Test = 0.813\n",
      "Epoch 920 : Train - loss = 6.272, accuracy = 0.817 / Test = 0.813\n",
      "Epoch 930 : Train - loss = 6.266, accuracy = 0.817 / Test = 0.813\n",
      "Epoch 940 : Train - loss = 6.260, accuracy = 0.817 / Test = 0.813\n",
      "Epoch 950 : Train - loss = 6.254, accuracy = 0.817 / Test = 0.814\n",
      "Epoch 960 : Train - loss = 6.248, accuracy = 0.817 / Test = 0.814\n",
      "Epoch 970 : Train - loss = 6.242, accuracy = 0.817 / Test = 0.814\n",
      "Epoch 980 : Train - loss = 6.236, accuracy = 0.817 / Test = 0.814\n",
      "Epoch 990 : Train - loss = 6.230, accuracy = 0.818 / Test = 0.814\n",
      "Epoch 1000 : Train - loss = 6.224, accuracy = 0.818 / Test = 0.814\n",
      "\n",
      " 최종 테스트 : Final accuracy = 0.814\n"
     ]
    }
   ],
   "source": [
    "main_exec(epoch_count=1000, mb_size=100, report=10, train_rate=0.7)                                              #메인함수 실행"
   ]
  },
  {
   "cell_type": "code",
   "execution_count": 5,
   "metadata": {
    "colab": {
     "base_uri": "https://localhost:8080/"
    },
    "executionInfo": {
     "elapsed": 548,
     "status": "ok",
     "timestamp": 1616650025194,
     "user": {
      "displayName": "J.H Lee",
      "photoUrl": "https://lh3.googleusercontent.com/a-/AOh14GjXbQ4H4DovEvK-CyOR647ftdReBCjlMLx98Z5_qw=s64",
      "userId": "17750727185697517622"
     },
     "user_tz": -540
    },
    "id": "Rrub9bKiKpMY",
    "outputId": "4c3afae9-377b-4960-f179-389dd97e0f0e",
    "pycharm": {
     "name": "#%%\n"
    }
   },
   "outputs": [
    {
     "name": "stdout",
     "output_type": "stream",
     "text": [
      "[[ 0.67789916]\n",
      " [ 1.74910184]\n",
      " [ 2.05772738]\n",
      " [ 2.59035198]\n",
      " [ 2.30656136]\n",
      " [ 1.17108935]\n",
      " [ 2.1475458 ]\n",
      " [-2.89791625]\n",
      " [-0.00741591]\n",
      " [ 3.14238841]]\n",
      "[4.48963327]\n"
     ]
    }
   ],
   "source": [
    "#갱신이 완료된 가중치와 편향 값을 확인하여 봅시다.\n",
    "print(weight)\n",
    "print(bias)"
   ]
  },
  {
   "cell_type": "code",
   "execution_count": null,
   "metadata": {
    "id": "CGFO33J9KpMZ",
    "outputId": "0bdee20b-16cb-4ad4-e834-c802d202cd05",
    "pycharm": {
     "name": "#%%\n"
    }
   },
   "outputs": [
    {
     "ename": "SyntaxError",
     "evalue": "invalid syntax (<ipython-input-152-004c580ad0b6>, line 2)",
     "output_type": "error",
     "traceback": [
      "\u001b[1;36m  File \u001b[1;32m\"<ipython-input-152-004c580ad0b6>\"\u001b[1;36m, line \u001b[1;32m2\u001b[0m\n\u001b[1;33m    LEARNING_RATE =\u001b[0m\n\u001b[1;37m                   ^\u001b[0m\n\u001b[1;31mSyntaxError\u001b[0m\u001b[1;31m:\u001b[0m invalid syntax\n"
     ]
    }
   ],
   "source": [
    "#하이퍼파라미터를 수정하여 새로운 실험을 수행하여 봅시다.\n",
    "LEARNING_RATE =\n",
    "main_exec(epoch_count =  , mb_size =  , report =  , train_rate =  )"
   ]
  },
  {
   "cell_type": "code",
   "execution_count": 6,
   "metadata": {
    "colab": {
     "base_uri": "https://localhost:8080/"
    },
    "executionInfo": {
     "elapsed": 616,
     "status": "ok",
     "timestamp": 1616650364936,
     "user": {
      "displayName": "J.H Lee",
      "photoUrl": "https://lh3.googleusercontent.com/a-/AOh14GjXbQ4H4DovEvK-CyOR647ftdReBCjlMLx98Z5_qw=s64",
      "userId": "17750727185697517622"
     },
     "user_tz": -540
    },
    "id": "PVt3pJiEKpMa",
    "outputId": "c3290564-19ce-476d-bcfb-abef4848e601",
    "pycharm": {
     "name": "#%%\n"
    }
   },
   "outputs": [
    {
     "name": "stdout",
     "output_type": "stream",
     "text": [
      "[13.64560488]\n"
     ]
    }
   ],
   "source": [
    "#새로운 데이터를 할당하여 이 데이터를 가진 전복의 나이를 예측하여 보겠습니다.\n",
    "new_x = [0, 1, 0, 0.685,0.545, 0.18,1.42,0.674,0.392,0.5]\n",
    "output = forward_neuralnet(new_x)\n",
    "\n",
    "print(output[0] + 1.5)"
   ]
  },
  {
   "cell_type": "code",
   "execution_count": null,
   "metadata": {
    "id": "H-vRKZ1s3uUa"
   },
   "outputs": [],
   "source": []
  }
 ],
 "metadata": {
  "colab": {
   "name": "신경망(회귀)_사전배포.ipynb",
   "provenance": []
  },
  "kernelspec": {
   "display_name": "Python 3",
   "language": "python",
   "name": "python3"
  },
  "language_info": {
   "codemirror_mode": {
    "name": "ipython",
    "version": 3
   },
   "file_extension": ".py",
   "mimetype": "text/x-python",
   "name": "python",
   "nbconvert_exporter": "python",
   "pygments_lexer": "ipython3",
   "version": "3.7.10"
  },
  "toc": {
   "base_numbering": 1,
   "nav_menu": {},
   "number_sections": true,
   "sideBar": true,
   "skip_h1_title": false,
   "title_cell": "Table of Contents",
   "title_sidebar": "Contents",
   "toc_cell": false,
   "toc_position": {},
   "toc_section_display": true,
   "toc_window_display": false
  }
 },
 "nbformat": 4,
 "nbformat_minor": 1
}
