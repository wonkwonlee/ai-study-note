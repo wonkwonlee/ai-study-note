{
 "cells": [
  {
   "cell_type": "code",
   "execution_count": 5,
   "metadata": {},
   "outputs": [],
   "source": [
    "%run dataset.ipynb"
   ]
  },
  {
   "cell_type": "code",
   "execution_count": 6,
   "metadata": {},
   "outputs": [],
   "source": [
    "class FlowersDataset(Dataset):\n",
    "    pass"
   ]
  },
  {
   "cell_type": "code",
   "execution_count": 7,
   "metadata": {},
   "outputs": [],
   "source": [
    "def flowers_init(self, resolution=[100,100], input_shape=[-1]):\n",
    "    super(FlowersDataset, self).__init__('flowers', 'select')\n",
    "    \n",
    "    path = '../data_nn/flowers'\n",
    "    self.target_names = list_dir(path)\n",
    "\n",
    "    images = []\n",
    "    idxs = []\n",
    "    \n",
    "    for dx, dname in enumerate(self.target_names):\n",
    "        subpath = path + '/' + dname\n",
    "        filenames = list_dir(subpath)\n",
    "        for fname in filenames:\n",
    "            if fname[-4:] != '.jpg':\n",
    "                continue\n",
    "            imagepath = os.path.join(subpath, fname)\n",
    "            pixels = load_image_pixels(imagepath, resolution, input_shape)\n",
    "            images.append(pixels)\n",
    "            idxs.append(dx)\n",
    "\n",
    "    self.image_shape = resolution + [3]\n",
    "\n",
    "    xs = np.asarray(images, np.float32)\n",
    "    ys = onehot(idxs, len(self.target_names))\n",
    "\n",
    "    self.shuffle_data(xs, ys, 0.8)\n",
    "\n",
    "FlowersDataset.__init__ = flowers_init"
   ]
  },
  {
   "cell_type": "code",
   "execution_count": 8,
   "metadata": {},
   "outputs": [],
   "source": [
    "def flowers_visualize(self, xs, estimates, answers):\n",
    "    draw_images_horz(xs, self.image_shape)\n",
    "    show_select_results(estimates, answers, self.target_names)\n",
    "\n",
    "FlowersDataset.visualize = flowers_visualize"
   ]
  }
 ],
 "metadata": {
  "kernelspec": {
   "display_name": "Python 3",
   "language": "python",
   "name": "python3"
  },
  "language_info": {
   "codemirror_mode": {
    "name": "ipython",
    "version": 3
   },
   "file_extension": ".py",
   "mimetype": "text/x-python",
   "name": "python",
   "nbconvert_exporter": "python",
   "pygments_lexer": "ipython3",
   "version": "3.7.10"
  },
  "toc": {
   "base_numbering": 1,
   "nav_menu": {},
   "number_sections": true,
   "sideBar": true,
   "skip_h1_title": false,
   "title_cell": "Table of Contents",
   "title_sidebar": "Contents",
   "toc_cell": false,
   "toc_position": {},
   "toc_section_display": true,
   "toc_window_display": false
  }
 },
 "nbformat": 4,
 "nbformat_minor": 2
}