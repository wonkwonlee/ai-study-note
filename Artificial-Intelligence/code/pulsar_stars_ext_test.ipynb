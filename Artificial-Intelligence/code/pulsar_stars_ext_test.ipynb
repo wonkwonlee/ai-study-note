{
 "cells": [
  {
   "cell_type": "code",
   "execution_count": 4,
   "metadata": {
    "id": "vNf-yhPopgOx"
   },
   "outputs": [],
   "source": [
    "%run pulsar_stars_ext.ipynb"
   ]
  },
  {
   "cell_type": "code",
   "execution_count": 5,
   "metadata": {
    "id": "aPqLOdHepgO0"
   },
   "outputs": [
    {
     "name": "stdout",
     "output_type": "stream",
     "text": [
      "Epoch 1: loss=0.411, \n",
      " accuracy:0.504, precision:0.993, recall:0.408, f1:0.578\n",
      "Epoch 2: loss=0.396, \n",
      " accuracy:0.504, precision:0.946, recall:0.492, f1:0.648\n",
      "Epoch 3: loss=0.383, \n",
      " accuracy:0.504, precision:0.940, recall:0.495, f1:0.648\n",
      "Epoch 4: loss=0.381, \n",
      " accuracy:0.504, precision:0.937, recall:0.496, f1:0.649\n",
      "Epoch 5: loss=0.357, \n",
      " accuracy:0.504, precision:0.980, recall:0.469, f1:0.635\n",
      "Epoch 6: loss=0.364, \n",
      " accuracy:0.504, precision:0.989, recall:0.457, f1:0.625\n",
      "Epoch 7: loss=0.377, \n",
      " accuracy:0.504, precision:0.925, recall:0.503, f1:0.652\n",
      "Epoch 8: loss=0.366, \n",
      " accuracy:0.504, precision:0.759, recall:0.575, f1:0.654\n",
      "Epoch 9: loss=0.386, \n",
      " accuracy:0.504, precision:0.981, recall:0.468, f1:0.634\n",
      "Epoch 10: loss=0.373, \n",
      " accuracy:0.504, precision:0.966, recall:0.479, f1:0.640\n",
      "\n",
      "Final Test: accuracy:0.504, precision:0.966, recall:0.479, f1:0.640\n"
     ]
    }
   ],
   "source": [
    "binary_classification_exec(adjust_ratio=True)"
   ]
  },
  {
   "cell_type": "code",
   "execution_count": 3,
   "metadata": {
    "id": "ya0d1Uw2tLhT"
   },
   "outputs": [
    {
     "name": "stdout",
     "output_type": "stream",
     "text": [
      "Epoch 1: loss=0.148, \n",
      " accuracy:0.094, precision:0.970, recall:0.065, f1:0.123\n",
      "Epoch 2: loss=0.121, \n",
      " accuracy:0.094, precision:0.964, recall:0.070, f1:0.130\n",
      "Epoch 3: loss=0.131, \n",
      " accuracy:0.094, precision:0.964, recall:0.070, f1:0.130\n",
      "Epoch 4: loss=0.125, \n",
      " accuracy:0.094, precision:0.873, recall:0.079, f1:0.144\n",
      "Epoch 5: loss=0.130, \n",
      " accuracy:0.094, precision:0.987, recall:0.066, f1:0.124\n",
      "Epoch 6: loss=0.144, \n",
      " accuracy:0.094, precision:0.547, recall:0.090, f1:0.154\n",
      "Epoch 7: loss=0.127, \n",
      " accuracy:0.094, precision:0.984, recall:0.069, f1:0.129\n",
      "Epoch 8: loss=0.127, \n",
      " accuracy:0.094, precision:0.926, recall:0.075, f1:0.138\n",
      "Epoch 9: loss=0.127, \n",
      " accuracy:0.094, precision:0.801, recall:0.080, f1:0.146\n",
      "Epoch 10: loss=0.122, \n",
      " accuracy:0.094, precision:0.963, recall:0.074, f1:0.138\n",
      "\n",
      "Final Test: accuracy:0.094, precision:0.963, recall:0.074, f1:0.138\n"
     ]
    }
   ],
   "source": [
    "binary_classification_exec(adjust_ratio=False)\n"
   ]
  }
 ],
 "metadata": {
  "colab": {
   "name": "신경망(이진분류_정확도 측정 방법 개선).ipynb",
   "provenance": []
  },
  "kernelspec": {
   "display_name": "Python 3",
   "language": "python",
   "name": "python3"
  },
  "language_info": {
   "codemirror_mode": {
    "name": "ipython",
    "version": 3
   },
   "file_extension": ".py",
   "mimetype": "text/x-python",
   "name": "python",
   "nbconvert_exporter": "python",
   "pygments_lexer": "ipython3",
   "version": "3.7.10"
  },
  "toc": {
   "base_numbering": 1,
   "nav_menu": {},
   "number_sections": true,
   "sideBar": true,
   "skip_h1_title": false,
   "title_cell": "Table of Contents",
   "title_sidebar": "Contents",
   "toc_cell": false,
   "toc_position": {},
   "toc_section_display": true,
   "toc_window_display": false
  }
 },
 "nbformat": 4,
 "nbformat_minor": 1
}
