{
 "cells": [
  {
   "cell_type": "code",
   "execution_count": 4,
   "metadata": {
    "collapsed": true
   },
   "outputs": [],
   "source": [
    "%run dataset.ipynb"
   ]
  },
  {
   "cell_type": "code",
   "execution_count": 5,
   "outputs": [],
   "source": [
    "class Office31Dataset(Dataset):\n",
    "    @property\n",
    "    def base(self):\n",
    "        return super(Office31Dataset, self)"
   ],
   "metadata": {
    "collapsed": false,
    "pycharm": {
     "name": "#%%\n"
    }
   }
  },
  {
   "cell_type": "code",
   "execution_count": 6,
   "outputs": [],
   "source": [
    "def office31_init(self, resolution=[100,100], input_shape=[-1]):\n",
    "    self.base.__init__('office31', 'dual_select')\n",
    "    path = '../data_nn/office31'\n",
    "    domain_names = list_dir(path)\n",
    "    #domain_names = 'amazon', 'dslr', 'webcam'\n",
    "    images = []\n",
    "    didxs, oidxs = [], [] #domain / office\n",
    "\n",
    "    for dx, dname in enumerate(domain_names):\n",
    "        domainpath = os.path.join(path, dname, 'images')\n",
    "        object_names = list_dir(domainpath)\n",
    "        for ox, oname in enumerate(object_names):\n",
    "            objectpath = os.path.join(domainpath, oname)\n",
    "            filenames = list_dir(objectpath)\n",
    "            for fname in filenames:\n",
    "                if fname[-4:] != '.jpg':\n",
    "                    continue\n",
    "                imagepath = os.path.join(objectpath, fname)\n",
    "                pixels = load_image_pixels(imagepath, resolution, input_shape)\n",
    "                images.append(pixels)\n",
    "                didxs.append(dx)\n",
    "                oidxs.append(ox)\n",
    "\n",
    "    self.image_shape = resolution + [3]\n",
    "    xs = np.asarray(images, np.float32)\n",
    "\n",
    "    ys0 = onehot(didxs, len(domain_names))\n",
    "    ys1 = onehot(oidxs, len(object_names))\n",
    "    ys = np.hstack([ys0, ys1])\n",
    "\n",
    "    self.shuffle_data(xs, ys, 0.8)\n",
    "    self.target_names = [domain_names, object_names]\n",
    "    self.cnts = [len(domain_names)]"
   ],
   "metadata": {
    "collapsed": false,
    "pycharm": {
     "name": "#%%\n"
    }
   }
  },
  {
   "cell_type": "code",
   "execution_count": 7,
   "outputs": [],
   "source": [
    "def office31_forward_postproc(self, output, y):\n",
    "    #예측과 실제 정답을 구분하여 저장하는과정\n",
    "    #np.hsplits(나누고자 하는 것, 몇개로)나누는 함수\n",
    "    outputs, ys = np.hsplit(output, self.cnts), np.hsplit(y, self.cnts)\n",
    "\n",
    "    #dual_select이 없기 때문에 'select'을 활용\n",
    "    loss0, aux0 = self.base.forward_postproc(outputs[0], ys[0], 'select')\n",
    "    loss1, aux1 = self.base.forward_postproc(outputs[1], ys[1], 'select')\n",
    "\n",
    "    #손실 합산\n",
    "    return loss0 + loss1, [aux0, aux1]"
   ],
   "metadata": {
    "collapsed": false,
    "pycharm": {
     "name": "#%%\n"
    }
   }
  },
  {
   "cell_type": "code",
   "execution_count": 8,
   "outputs": [],
   "source": [
    "def office31_backprop_postproc(self, G_loss, aux):\n",
    "    aux0, aux1 = aux\n",
    "    #역전파를 위한 G_OUTPUT구하기 \\ G_OUTPUT0는 3개, G_OUTPUT1은 31개\n",
    "    G_ouput0 = self.base.backprop_postproc(G_loss, aux0, 'select')\n",
    "    G_ouput1 = self.base.backprop_postproc(G_loss, aux1, 'select')\n",
    "\n",
    "    return np.hstack([G_ouput0, G_ouput1])"
   ],
   "metadata": {
    "collapsed": false,
    "pycharm": {
     "name": "#%%\n"
    }
   }
  },
  {
   "cell_type": "code",
   "execution_count": 10,
   "outputs": [],
   "source": [
    "def office31_eval_accuracy(self, x, y, output):\n",
    "    #예측 output과 실제값 y를 받아 각각 분할\n",
    "    outputs, ys = np.hsplit(output, self.cnts), np.hsplit(y, self.cnts)\n",
    "\n",
    "    #값을 전달받아 dataset에 있는 eval_accuracy()에 값을 전달하여 acc 구하기\n",
    "    acc0 = self.base.eval_accuracy(x, ys[0], outputs[0], 'select')\n",
    "    acc1 = self.base.eval_accuracy(x, ys[1], outputs[1], 'select')\n",
    "\n",
    "    return [acc0, acc1]"
   ],
   "metadata": {
    "collapsed": false,
    "pycharm": {
     "name": "#%%\n"
    }
   }
  },
  {
   "cell_type": "code",
   "execution_count": 12,
   "outputs": [],
   "source": [
    "def office31_train_prt_result(self, epoch, costs, accs, acc, time1, time2):\n",
    "    acc_pair = np.mean(accs, axis=0)\n",
    "    print('Epoch {}: cost={:5.3f}, ' \\\n",
    "          'accuracy={:5.3f}+{:5.3f}/{:5.3f}+{:5.3f} ({}/{} secs)'. \\\n",
    "          format(epoch, np.mean(costs), acc_pair[0], acc_pair[1], \\\n",
    "                 acc[0], acc[1], time1, time2))\n",
    "\n",
    "def office31_test_prt_result(self, name, acc, time):\n",
    "    print('Model {} test report: accuracy = {:5.3f}+{:5.3f}, ({} secs)\\n'. \\\n",
    "          format(name, acc[0], acc[1], time))\n"
   ],
   "metadata": {
    "collapsed": false,
    "pycharm": {
     "name": "#%%\n"
    }
   }
  }
 ],
 "metadata": {
  "kernelspec": {
   "display_name": "Python 3",
   "language": "python",
   "name": "python3"
  },
  "language_info": {
   "codemirror_mode": {
    "name": "ipython",
    "version": 2
   },
   "file_extension": ".py",
   "mimetype": "text/x-python",
   "name": "python",
   "nbconvert_exporter": "python",
   "pygments_lexer": "ipython2",
   "version": "2.7.6"
  }
 },
 "nbformat": 4,
 "nbformat_minor": 0
}