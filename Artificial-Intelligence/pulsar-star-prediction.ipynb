{
 "cells": [
  {
   "cell_type": "markdown",
   "id": "dominican-performance",
   "metadata": {},
   "source": [
    "# Pulsar Star Prediction\n",
    "\n",
    "<img width=\"1134\" alt=\"methods\" src=\"https://user-images.githubusercontent.com/28593767/112789439-0cda6480-9098-11eb-96e5-9fc335f3bfd8.png\">"
   ]
  },
  {
   "cell_type": "code",
   "execution_count": 1,
   "id": "resident-reaction",
   "metadata": {},
   "outputs": [],
   "source": [
    "import numpy as np\n",
    "import csv\n",
    "\n",
    "np.random.seed(222)\n",
    "\n",
    "RND_MEAN = 0\n",
    "RND_STD = 0.003\n",
    "\n",
    "LEARNING_RATE = 0.003"
   ]
  },
  {
   "cell_type": "code",
   "execution_count": 2,
   "id": "headed-bicycle",
   "metadata": {},
   "outputs": [],
   "source": [
    "def binary_classification_exec(epoch_count=10,mb_size=10, report=1,train_rate=0.8,adjust_ratio = False): \n",
    "    binary_load_dataset(adjust_ratio)\n",
    "    init_model()\n",
    "    train_and_test(epoch_count, mb_size, report, train_rate)"
   ]
  },
  {
   "cell_type": "markdown",
   "id": "fifty-distinction",
   "metadata": {},
   "source": [
    "Adjust_ration 라는 인자를 binary_load_dataset()로 할당하여 pulsar 데이터를 증폭시켜주는 역할을 수행한다."
   ]
  },
  {
   "cell_type": "code",
   "execution_count": 20,
   "id": "surprised-plant",
   "metadata": {},
   "outputs": [],
   "source": [
    "# 오직 실수 데이터만 존재하므로 원-핫 벡터 과정은 생략 가능하다.\n",
    "# 데이터 로드 및 처리 함수\n",
    "def binary_load_dataset(adjust_ratio):\n",
    "    pulsars, stars = [], []\n",
    "    with open('data_nn/pulsar_stars.csv') as csvfile:\n",
    "        csvreader = csv.reader(csvfile)\n",
    "        next(csvreader, None)\n",
    "        \n",
    "        for row in csvreader:\n",
    "            if row[8] == '1': pulsars.append(row)\n",
    "            else:\n",
    "                stars.append(row)\n",
    "    global data, input_cnt, output_cnt \n",
    "    input_cnt, output_cnt = 8, 1\n",
    "    star_cnt, pulsar_cnt = len(stars), len(pulsars)\n",
    "    if adjust_ratio: \n",
    "        data = np.zeros([2*star_cnt, 9])\n",
    "        data[0:star_cnt, :] = np.asarray(stars, dtype='float32') # Numpy 배열 구조로 변환\n",
    "        for n in range(star_cnt):\n",
    "            data[star_cnt+n] = np.asarray(pulsars[n % pulsar_cnt], dtype='float32')\n",
    "    else: # adjust_ratio가 False의 경우 이전과 동일하게 실행된다\n",
    "        data = np.zeros([star_cnt+pulsar_cnt,9]) \n",
    "        data[0:star_cnt, :] = np.asarray(stars, dtype='float32') \n",
    "        data[star_cnt:,:] = np.asarray(pulsars, dtype='float32')"
   ]
  },
  {
   "cell_type": "code",
   "execution_count": 4,
   "id": "homeless-landing",
   "metadata": {},
   "outputs": [],
   "source": [
    "# 파라미터 초기화 함수\n",
    "def init_model():\n",
    "    global weight, bias, input_cnt, output_cnt\n",
    "    weight = np.random.normal(RND_MEAN, RND_STD, [input_cnt, output_cnt])\n",
    "    bias = np.zeros([output_cnt])"
   ]
  },
  {
   "cell_type": "code",
   "execution_count": 5,
   "id": "cathedral-movie",
   "metadata": {},
   "outputs": [],
   "source": [
    "def train_and_test(epoch_count, mb_size, report, train_rate): \n",
    "    step_count = arrange_data(mb_size, train_rate)\n",
    "    test_x, test_y = get_test_data()\n",
    "    \n",
    "    for epoch in range(epoch_count): \n",
    "        losses, accs = [], []\n",
    "        for n in range(step_count):\n",
    "            train_x, train_y = get_train_data(mb_size, n) \n",
    "            loss, acc = run_train(train_x, train_y) \n",
    "            losses.append(loss)\n",
    "            accs.append(acc)\n",
    "        if report > 0 and (epoch + 1) % report == 0:\n",
    "            acc = run_test(test_x, test_y)\n",
    "            print(\"epoch{}:TRAIN - LOSS = {:5.3f},\\n accuracy:{:5.3f}, precision:{:5.3f}, recall:{:5.3f}, f1:{:5.3f}\".\\\n",
    "                  format(epoch+1,np.mean(losses), acc[0],acc[1],acc[2],acc[3]))\n",
    "        \n",
    "    final_acc = run_test(test_x, test_y)\n",
    "    print(\"\\n Final Test :\\n accuracy:{:5.3f}, precision:{:5.3f}, recall:{:5.3f}, f1:{:5.3f}\".\\\n",
    "            format(final_acc[0],final_acc[1],final_acc[2],final_acc[3]))"
   ]
  },
  {
   "cell_type": "code",
   "execution_count": 6,
   "id": "authentic-italy",
   "metadata": {},
   "outputs": [],
   "source": [
    "def arrange_data(mb_size, train_rate):\n",
    "    global data, shuffle_map, test_begin_idx\n",
    "    # 주의!!! Numpy의 메소드는 np.arange() 이다 (Arrange가 아니다!)\n",
    "    shuffle_map = np.arange(data.shape[0]) \n",
    "    np.random.shuffle(shuffle_map)\n",
    "    step_count = int(data.shape[0] * train_rate) // mb_size\n",
    "    test_begin_idx = step_count * mb_size\n",
    "    \n",
    "    return step_count"
   ]
  },
  {
   "cell_type": "code",
   "execution_count": 7,
   "id": "hollywood-metadata",
   "metadata": {},
   "outputs": [],
   "source": [
    "def get_test_data():\n",
    "    global data, shuffle_map, test_begin_idx, output_cnt \n",
    "    test_data = data[shuffle_map[test_begin_idx:]]\n",
    "    return test_data[:, :-output_cnt], test_data[:, -output_cnt:]"
   ]
  },
  {
   "cell_type": "code",
   "execution_count": 8,
   "id": "nonprofit-barbados",
   "metadata": {},
   "outputs": [],
   "source": [
    "def get_train_data(mb_size, nth):\n",
    "    global data, shuffle_map, test_begin_idx, output_cnt \n",
    "    if nth == 0:\n",
    "        np.random.shuffle(shuffle_map[:test_begin_idx])\n",
    "    train_data = data[shuffle_map[mb_size * nth : mb_size * (nth + 1)]] \n",
    "    return train_data[:, :-output_cnt], train_data[:, -output_cnt:]"
   ]
  },
  {
   "cell_type": "code",
   "execution_count": 9,
   "id": "imposed-economics",
   "metadata": {},
   "outputs": [],
   "source": [
    "def run_train(x, y):\n",
    "    # 순전파 과정\n",
    "    output, aux_nn = forward_neuralnet(x)\n",
    "    loss, aux_pp = forward_postproc(output, y)\n",
    "    accuracy = eval_accuracy(output, y)\n",
    "    \n",
    "    # 역전파 과정\n",
    "    G_loss = 1.0\n",
    "    G_output = backprop_postproc(G_loss, aux_pp) \n",
    "    backprop_neuralnet(G_output, aux_nn)\n",
    "    \n",
    "    return loss, accuracy"
   ]
  },
  {
   "cell_type": "code",
   "execution_count": 10,
   "id": "bacterial-skill",
   "metadata": {},
   "outputs": [],
   "source": [
    "def run_test(x, y):\n",
    "    output, _ = forward_neuralnet(x) \n",
    "    accuracy = eval_accuracy(output, y) \n",
    "    return accuracy"
   ]
  },
  {
   "cell_type": "code",
   "execution_count": 11,
   "id": "signed-minimum",
   "metadata": {},
   "outputs": [],
   "source": [
    "def forward_neuralnet(x):\n",
    "    global weight, bias\n",
    "    output = np.matmul(x, weight) + bias \n",
    "    return output, x"
   ]
  },
  {
   "cell_type": "code",
   "execution_count": 12,
   "id": "parental-worry",
   "metadata": {},
   "outputs": [],
   "source": [
    "def backprop_neuralnet(G_output, x): \n",
    "    global weight, bias\n",
    "    g_output_w = x.transpose()\n",
    "    G_w = np.matmul(g_output_w, G_output) \n",
    "    G_b = np.sum(G_output, axis=0)\n",
    "    \n",
    "    weight -= LEARNING_RATE * G_w \n",
    "    bias -= LEARNING_RATE * G_b"
   ]
  },
  {
   "cell_type": "code",
   "execution_count": 13,
   "id": "fixed-telescope",
   "metadata": {},
   "outputs": [],
   "source": [
    "def forward_postproc(output, y):\n",
    "    CEE = sigmoid_cross_entropy_with_logits(y,output)  # 시그모이드 교차 엔트로피 함수\n",
    "    loss = np.mean(CEE)\n",
    "    \n",
    "    return loss, [y, output, CEE]"
   ]
  },
  {
   "cell_type": "code",
   "execution_count": 14,
   "id": "useful-rough",
   "metadata": {},
   "outputs": [],
   "source": [
    "def backprop_postproc(G_loss, aux):\n",
    "    y, output, CEE = aux\n",
    "    G_loss = 1.0\n",
    "\n",
    "    g_loss_entropy = 1.0 / np.prod(CEE.shape)\n",
    "    g_entropy_output = sigmoid_cross_entropy_with_logits_derv(y,output)\n",
    "\n",
    "    G_entropy = g_loss_entropy * G_loss\n",
    "    G_output = g_entropy_output * G_entropy\n",
    "\n",
    "    return G_output"
   ]
  },
  {
   "cell_type": "code",
   "execution_count": 15,
   "id": "mounted-bermuda",
   "metadata": {},
   "outputs": [],
   "source": [
    "def sigmoid(x):\n",
    "    return np.exp(-relu(-x)) / (1.0 + np.exp(-np.abs(x)))\n",
    "\n",
    "def relu(x):\n",
    "    return np.maximum(x, 0)\n",
    "\n",
    "def sigmoid_cross_entropy_with_logits(z, x):\n",
    "    return relu(x) - x * z + np.log(1 + np.exp(-np.abs(x)))\n",
    "\n",
    "def sigmoid_cross_entropy_with_logits_derv(z, x):\n",
    "    return -z + sigmoid(x)"
   ]
  },
  {
   "cell_type": "markdown",
   "id": "objective-things",
   "metadata": {},
   "source": [
    "정확도, 정밀도, 재현율을 이용해 신경망을 평가한다."
   ]
  },
  {
   "cell_type": "code",
   "execution_count": 16,
   "id": "looking-collection",
   "metadata": {},
   "outputs": [],
   "source": [
    "def eval_accuracy(output,y): \n",
    "    est_yes = np.greater(output,0) \n",
    "    ans_yes = np.greater(y, 0.5)\n",
    "    \n",
    "    est_no = np.logical_not(est_yes) \n",
    "    ans_no = np.logical_not(ans_yes)\n",
    "    \n",
    "    tp = np.sum(np.logical_and(est_yes,ans_yes)) \n",
    "    fp = np.sum(np.logical_and(est_yes, ans_no)) \n",
    "    fn = np.sum(np.logical_and(est_no, ans_no)) \n",
    "    tn = np.sum(np.logical_and(est_no, ans_yes))\n",
    "    \n",
    "    accuracy = safe_div(tp+tn,tp+fp+fn+tn) \n",
    "    precision = safe_div(tp,tp+fp)\n",
    "    recall = safe_div(tp,tp+fn)\n",
    "    \n",
    "    f1 = 2 * safe_div(recall*precision,recall+precision) \n",
    "\n",
    "    # 정확도, 정밀도, 재현율, F1 스코어를 리스트로 반환\n",
    "    return [accuracy, precision, recall, f1] "
   ]
  },
  {
   "cell_type": "code",
   "execution_count": 17,
   "id": "amended-summit",
   "metadata": {},
   "outputs": [],
   "source": [
    "# 분모가 매우 작은 값일 때 0으로 변환하는 문제를 해결한다\n",
    "\n",
    "def safe_div(p, q): \n",
    "    p, q = float(p), float(q)\n",
    "    if np.abs(q) < 1.0e-20:\n",
    "        return np.sign(p) \n",
    "    return p / q"
   ]
  },
  {
   "cell_type": "markdown",
   "id": "skilled-narrative",
   "metadata": {},
   "source": [
    "# 정확도 계산 함수 정의\n",
    "결과값을 보면 학습 초기부터 정확도가 \"너무\" 높다.\n",
    "\n",
    "그 이유는 데이터의 분포를 보면 알 수 있는데, 데이터의 타입이 0이 16259개, 1이 1639개로 일반 별의 분포가 90%를 차지하고 있다는 점이다.\n",
    "\n",
    "따라서 정확도를 측정하는 과정에서 문제가 발생한다.\n",
    "\n",
    "* 이러한 착시 현상으로 인해 정확도가 정확하게 보여지지 않는 상황을 타개하기 위해 신경망의 성능을 더욱 잘 보여줄 수 있는 또 다른 평가 지표가 필요하다.\n",
    "* 대표적인 지표에는 **정밀도(precision)** 와 **재현율(recall)** 이 있다.\n",
    "    + 정밀도는 신경망이 참으로 예측한 것 가운데 정답이 참인 비율을 의미한다. \n",
    "        - TP / (TP + FP)\n",
    "    + 재현율은 거꾸로 정답이 참인 것들 가운데 신경망이 참으로 예측한 비율을 의미한다.\n",
    "        - TP / (TP + FN)\n",
    "    \n",
    "> TP : 신경망의 추측이 '참(P)'이며, 데이터의 정답 또한 '참'(T)으로 정확하게 평가한 결과 (TRUE POSITIVE)\n",
    ">\n",
    "> TN : 신경망의 추측이 '거짓(N)'이며, 데이터의 정답은 '참'(T)으로 부정확하게 평가한 결과 (TRUE NEGATIVE)\n",
    ">\n",
    "> FP : 신경망의 추측이 '참(P)'이며, 데이터의 정답은 '거짓(F)'으로 부정확하게 평가한 결과 (FALSE POSITIVE)\n",
    ">\n",
    "> FN : 신경망의 추측이 '거짓(N)'이며, 데이터의 정답 또한 '거짓(F)'으로 정확하게 평가한 결과 (FALSE NEGATIVE)\n",
    "\n",
    "정밀도와 재현율의 조화 평균인 **F1 score** 가 정확도 대신 사용되기도 한다.\n",
    "\n",
    "조화 평균은 *역수의 차원에서 평균을 구하고 다시 역수*를 취해 원래 차원의 값으로 돌아오게 하여 구할 수 있다.\n",
    "\n",
    "![f1](https://user-images.githubusercontent.com/28593767/112940203-ca805880-9167-11eb-9ad1-895a6674cb67.png)"
   ]
  },
  {
   "cell_type": "code",
   "execution_count": 18,
   "id": "primary-parts",
   "metadata": {},
   "outputs": [
    {
     "name": "stdout",
     "output_type": "stream",
     "text": [
      "epoch100:TRAIN - LOSS = 0.345,\n",
      " accuracy:0.089, precision:0.864, recall:0.075, f1:0.138\n",
      "epoch200:TRAIN - LOSS = 0.336,\n",
      " accuracy:0.089, precision:0.840, recall:0.080, f1:0.146\n",
      "epoch300:TRAIN - LOSS = 0.297,\n",
      " accuracy:0.089, precision:0.898, recall:0.076, f1:0.140\n",
      "epoch400:TRAIN - LOSS = 0.275,\n",
      " accuracy:0.089, precision:0.893, recall:0.074, f1:0.137\n",
      "epoch500:TRAIN - LOSS = 0.282,\n",
      " accuracy:0.089, precision:0.944, recall:0.072, f1:0.134\n",
      "epoch600:TRAIN - LOSS = 0.313,\n",
      " accuracy:0.089, precision:0.856, recall:0.078, f1:0.143\n",
      "epoch700:TRAIN - LOSS = 0.314,\n",
      " accuracy:0.089, precision:0.825, recall:0.078, f1:0.143\n",
      "epoch800:TRAIN - LOSS = 0.271,\n",
      " accuracy:0.089, precision:0.958, recall:0.071, f1:0.133\n",
      "epoch900:TRAIN - LOSS = 0.290,\n",
      " accuracy:0.089, precision:0.829, recall:0.078, f1:0.142\n",
      "epoch1000:TRAIN - LOSS = 0.295,\n",
      " accuracy:0.089, precision:0.986, recall:0.061, f1:0.115\n",
      "\n",
      " Final Test :\n",
      " accuracy:0.089, precision:0.986, recall:0.061, f1:0.115\n"
     ]
    }
   ],
   "source": [
    "binary_classification_exec(epoch_count=1000, report=100,mb_size = 10,adjust_ratio=False)"
   ]
  },
  {
   "cell_type": "code",
   "execution_count": 21,
   "id": "forced-diagram",
   "metadata": {},
   "outputs": [
    {
     "name": "stdout",
     "output_type": "stream",
     "text": [
      "epoch100:TRAIN - LOSS = 0.985,\n",
      " accuracy:0.498, precision:0.590, recall:0.759, f1:0.664\n",
      "epoch200:TRAIN - LOSS = 0.881,\n",
      " accuracy:0.498, precision:0.871, recall:0.520, f1:0.652\n",
      "epoch300:TRAIN - LOSS = 0.929,\n",
      " accuracy:0.498, precision:0.797, recall:0.556, f1:0.655\n",
      "epoch400:TRAIN - LOSS = 0.910,\n",
      " accuracy:0.498, precision:0.978, recall:0.475, f1:0.640\n",
      "epoch500:TRAIN - LOSS = 0.870,\n",
      " accuracy:0.498, precision:0.968, recall:0.484, f1:0.645\n",
      "epoch600:TRAIN - LOSS = 0.896,\n",
      " accuracy:0.498, precision:0.933, recall:0.498, f1:0.649\n",
      "epoch700:TRAIN - LOSS = 0.902,\n",
      " accuracy:0.498, precision:0.691, recall:0.628, f1:0.658\n",
      "epoch800:TRAIN - LOSS = 0.840,\n",
      " accuracy:0.498, precision:0.988, recall:0.464, f1:0.632\n",
      "epoch900:TRAIN - LOSS = 0.868,\n",
      " accuracy:0.498, precision:0.994, recall:0.454, f1:0.623\n",
      "epoch1000:TRAIN - LOSS = 0.868,\n",
      " accuracy:0.498, precision:0.980, recall:0.475, f1:0.640\n",
      "\n",
      " Final Test :\n",
      " accuracy:0.498, precision:0.980, recall:0.475, f1:0.640\n"
     ]
    }
   ],
   "source": [
    "binary_classification_exec(epoch_count=1000, report=100,mb_size = 10,adjust_ratio=True)"
   ]
  },
  {
   "cell_type": "markdown",
   "id": "different-leonard",
   "metadata": {},
   "source": [
    " 결과를 살펴보기 앞서 단순 정확도를 살펴보는 것보단 정밀도와 재현율 그리고 *F1 score*를 주의깊게 살펴봐야 한다. \n",
    "\n",
    " 최종 테스트 결과 pulsar 데이터를 증폭시킨 결과에 대한 모든 지표가 더 높은 결괏값을 출력했고 특히 재현율과 더불어 *F1 score*가 눈에 띄게 향상되었음을 알 수 있다. \n",
    " \n",
    " 하지만 이러한 데이터 증폭 방식을 무작정 적용하게 되면 이후 **과잉 적합(overfitting)** 문제가 발생할 수 있다."
   ]
  },
  {
   "cell_type": "code",
   "execution_count": null,
   "id": "green-locator",
   "metadata": {},
   "outputs": [],
   "source": []
  }
 ],
 "metadata": {
  "kernelspec": {
   "display_name": "Python 3",
   "language": "python",
   "name": "python3"
  },
  "language_info": {
   "codemirror_mode": {
    "name": "ipython",
    "version": 3
   },
   "file_extension": ".py",
   "mimetype": "text/x-python",
   "name": "python",
   "nbconvert_exporter": "python",
   "pygments_lexer": "ipython3",
   "version": "3.7.10"
  },
  "toc": {
   "base_numbering": 1,
   "nav_menu": {},
   "number_sections": true,
   "sideBar": true,
   "skip_h1_title": false,
   "title_cell": "Table of Contents",
   "title_sidebar": "Contents",
   "toc_cell": false,
   "toc_position": {},
   "toc_section_display": true,
   "toc_window_display": false
  }
 },
 "nbformat": 4,
 "nbformat_minor": 5
}
