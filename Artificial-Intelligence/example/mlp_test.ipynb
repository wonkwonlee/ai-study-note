{
 "cells": [
  {
   "cell_type": "code",
   "execution_count": 14,
   "metadata": {},
   "outputs": [
    {
     "name": "stdout",
     "output_type": "stream",
     "text": [
      "은닉 계층 0개를 갖는 다층 퍼셉트론이 작동되었습니다.\n",
      "Epoch 1 : Train - loss = 33.773, accuracy = 0.556 / Test = 0.811\n",
      "Epoch 2 : Train - loss = 8.233, accuracy = 0.819 / Test = 0.814\n",
      "Epoch 3 : Train - loss = 7.573, accuracy = 0.813 / Test = 0.808\n",
      "Epoch 4 : Train - loss = 7.463, accuracy = 0.810 / Test = 0.807\n",
      "Epoch 5 : Train - loss = 7.381, accuracy = 0.810 / Test = 0.807\n",
      "Epoch 6 : Train - loss = 7.313, accuracy = 0.809 / Test = 0.807\n",
      "Epoch 7 : Train - loss = 7.254, accuracy = 0.809 / Test = 0.808\n",
      "Epoch 8 : Train - loss = 7.204, accuracy = 0.810 / Test = 0.806\n",
      "Epoch 9 : Train - loss = 7.160, accuracy = 0.810 / Test = 0.806\n",
      "Epoch 10 : Train - loss = 7.121, accuracy = 0.809 / Test = 0.806\n",
      "\n",
      " 최종 테스트 : Final accuracy = 0.806\n"
     ]
    }
   ],
   "source": [
    "%run abalone.ipynb\n",
    "%run mlp.ipynb\n",
    "\n",
    "set_hidden([])\n",
    "main_exec()"
   ]
  },
  {
   "cell_type": "code",
   "execution_count": 3,
   "metadata": {},
   "outputs": [
    {
     "name": "stdout",
     "output_type": "stream",
     "text": [
      "은닉 계층 하나를 갖는 다층 퍼셉트론이 작동되었습니다.\n",
      "Epoch 10 : Train - loss = 6.618, accuracy = 0.810 / Test = 0.798\n",
      "Epoch 20 : Train - loss = 6.110, accuracy = 0.817 / Test = 0.813\n",
      "Epoch 30 : Train - loss = 5.449, accuracy = 0.829 / Test = 0.813\n",
      "Epoch 40 : Train - loss = 5.012, accuracy = 0.836 / Test = 0.843\n",
      "Epoch 50 : Train - loss = 4.845, accuracy = 0.840 / Test = 0.836\n",
      "\n",
      " 최종 테스트 : Final accuracy = 0.836\n"
     ]
    }
   ],
   "source": [
    "set_hidden(4)\n",
    "main_exec(epoch_count=50, report=10)"
   ]
  },
  {
   "cell_type": "code",
   "execution_count": 4,
   "metadata": {},
   "outputs": [
    {
     "name": "stdout",
     "output_type": "stream",
     "text": [
      "은닉 계층 하나를 갖는 다층 퍼셉트론이 작동되었습니다.\n",
      "Epoch 10 : Train - loss = 6.850, accuracy = 0.808 / Test = 0.798\n",
      "Epoch 20 : Train - loss = 6.295, accuracy = 0.815 / Test = 0.821\n",
      "Epoch 30 : Train - loss = 5.582, accuracy = 0.828 / Test = 0.830\n",
      "Epoch 40 : Train - loss = 5.138, accuracy = 0.835 / Test = 0.840\n",
      "Epoch 50 : Train - loss = 5.045, accuracy = 0.837 / Test = 0.837\n",
      "\n",
      " 최종 테스트 : Final accuracy = 0.837\n"
     ]
    }
   ],
   "source": [
    "main_exec(epoch_count=50, report=10)"
   ]
  },
  {
   "cell_type": "code",
   "execution_count": 15,
   "metadata": {},
   "outputs": [
    {
     "name": "stdout",
     "output_type": "stream",
     "text": [
      "은닉 계층 하나를 갖는 다층 퍼셉트론이 작동되었습니다.\n",
      "Epoch 10: loss=0.093, \n",
      " accuracy:0.091, precision:0.940, recall:0.068, f1:0.127\n",
      "Epoch 20: loss=0.090, \n",
      " accuracy:0.091, precision:0.941, recall:0.069, f1:0.128\n",
      "Epoch 30: loss=0.088, \n",
      " accuracy:0.091, precision:0.936, recall:0.071, f1:0.132\n",
      "Epoch 40: loss=0.086, \n",
      " accuracy:0.091, precision:0.926, recall:0.075, f1:0.138\n",
      "Epoch 50: loss=0.086, \n",
      " accuracy:0.091, precision:0.940, recall:0.072, f1:0.134\n",
      "\n",
      "Final Test: accuracy:0.091, precision:0.940, recall:0.072, f1:0.134\n"
     ]
    }
   ],
   "source": [
    "%run C:/github/AIRIM_COLAB/code/pulsar_stars_ext.ipynb\n",
    "%run C:/github/AIRIM_COLAB/code/mlp.ipynb\n",
    "set_hidden(6)\n",
    "binary_classification_exec(epoch_count=50, report=10)"
   ]
  },
  {
   "cell_type": "code",
   "execution_count": 7,
   "metadata": {},
   "outputs": [
    {
     "name": "stdout",
     "output_type": "stream",
     "text": [
      "은닉 계층 1개를 갖는 다층 퍼셉트론이 작동되었습니다.\n",
      "Epoch 10: loss=0.095, \n",
      " accuracy:0.096, precision:0.931, recall:0.074, f1:0.137\n",
      "Epoch 20: loss=0.091, \n",
      " accuracy:0.096, precision:0.871, recall:0.081, f1:0.149\n",
      "Epoch 30: loss=0.090, \n",
      " accuracy:0.096, precision:0.933, recall:0.076, f1:0.140\n",
      "Epoch 40: loss=0.090, \n",
      " accuracy:0.096, precision:0.945, recall:0.075, f1:0.138\n",
      "Epoch 50: loss=0.088, \n",
      " accuracy:0.096, precision:0.917, recall:0.079, f1:0.145\n",
      "\n",
      "Final Test: accuracy:0.096, precision:0.917, recall:0.079, f1:0.145\n"
     ]
    }
   ],
   "source": [
    "set_hidden([6])\n",
    "binary_classification_exec(epoch_count=50, report=10)"
   ]
  },
  {
   "cell_type": "code",
   "execution_count": 8,
   "metadata": {},
   "outputs": [
    {
     "name": "stdout",
     "output_type": "stream",
     "text": [
      "은닉 계층 2개를 갖는 다층 퍼셉트론이 작동되었습니다.\n",
      "Epoch 40: loss=0.108, \n",
      " accuracy:0.091, precision:0.911, recall:0.073, f1:0.135\n",
      "Epoch 80: loss=0.095, \n",
      " accuracy:0.091, precision:0.914, recall:0.076, f1:0.140\n",
      "Epoch 120: loss=0.091, \n",
      " accuracy:0.091, precision:0.896, recall:0.076, f1:0.141\n",
      "Epoch 160: loss=0.090, \n",
      " accuracy:0.091, precision:0.895, recall:0.076, f1:0.140\n",
      "Epoch 200: loss=0.088, \n",
      " accuracy:0.091, precision:0.890, recall:0.077, f1:0.141\n",
      "\n",
      "Final Test: accuracy:0.091, precision:0.890, recall:0.077, f1:0.141\n"
     ]
    }
   ],
   "source": [
    "set_hidden([12,6])\n",
    "binary_classification_exec(epoch_count=200, report=40)"
   ]
  },
  {
   "cell_type": "code",
   "execution_count": 10,
   "metadata": {},
   "outputs": [
    {
     "name": "stdout",
     "output_type": "stream",
     "text": [
      "은닉 계층 하나를 갖는 다층 퍼셉트론이 작동되었습니다.\n",
      "Epoch 10 : Train - loss = 1.859, accuracy = 0.343 / Test = 0.358\n",
      "Epoch 20 : Train - loss = 1.799, accuracy = 0.343 / Test = 0.358\n",
      "Epoch 30 : Train - loss = 1.761, accuracy = 0.343 / Test = 0.358\n",
      "Epoch 40 : Train - loss = 1.737, accuracy = 0.343 / Test = 0.358\n",
      "Epoch 50 : Train - loss = 1.721, accuracy = 0.343 / Test = 0.358\n",
      "\n",
      " 최종 테스트 : Final accuracy = 0.358\n"
     ]
    }
   ],
   "source": [
    "%run C:/github/AIRIM_COLAB/code/faults.ipynb\n",
    "%run C:/github/AIRIM_COLAB/code/mlp.ipynb\n",
    "\n",
    "set_hidden(10)\n",
    "multi_class_exec(epoch_count=50, report=10)"
   ]
  },
  {
   "cell_type": "code",
   "execution_count": 11,
   "metadata": {},
   "outputs": [
    {
     "name": "stdout",
     "output_type": "stream",
     "text": [
      "은닉 계층 3개를 갖는 다층 퍼셉트론이 작동되었습니다.\n",
      "Epoch 10 : Train - loss = 1.861, accuracy = 0.339 / Test = 0.371\n",
      "Epoch 20 : Train - loss = 1.801, accuracy = 0.339 / Test = 0.371\n",
      "Epoch 30 : Train - loss = 1.763, accuracy = 0.339 / Test = 0.371\n",
      "Epoch 40 : Train - loss = 1.739, accuracy = 0.339 / Test = 0.371\n",
      "Epoch 50 : Train - loss = 1.723, accuracy = 0.339 / Test = 0.371\n",
      "\n",
      " 최종 테스트 : Final accuracy = 0.371\n"
     ]
    }
   ],
   "source": [
    "set_hidden([12, 6, 4])\n",
    "multi_class_exec(epoch_count=50, report=10)"
   ]
  },
  {
   "cell_type": "code",
   "execution_count": 12,
   "metadata": {},
   "outputs": [
    {
     "name": "stdout",
     "output_type": "stream",
     "text": [
      "은닉 계층 3개를 갖는 다층 퍼셉트론이 작동되었습니다.\n",
      "Epoch 10 : Train - loss = 1.650, accuracy = 0.249 / Test = 0.356\n",
      "Epoch 20 : Train - loss = 1.645, accuracy = 0.335 / Test = 0.497\n",
      "Epoch 30 : Train - loss = 1.635, accuracy = 0.383 / Test = 0.424\n",
      "Epoch 40 : Train - loss = 1.619, accuracy = 0.427 / Test = 0.446\n",
      "Epoch 50 : Train - loss = 1.606, accuracy = 0.431 / Test = 0.479\n",
      "\n",
      " 최종 테스트 : Final accuracy = 0.479\n"
     ]
    }
   ],
   "source": [
    "LEARNING_RATE=0.0001\n",
    "hidden_config = [12, 6, 4]\n",
    "multi_class_exec(epoch_count=50, report=10)"
   ]
  },
  {
   "cell_type": "code",
   "execution_count": null,
   "metadata": {
    "pycharm": {
     "name": "#%%\n"
    }
   },
   "outputs": [],
   "source": []
  }
 ],
 "metadata": {
  "kernelspec": {
   "display_name": "Python 3",
   "language": "python",
   "name": "python3"
  },
  "language_info": {
   "codemirror_mode": {
    "name": "ipython",
    "version": 3
   },
   "file_extension": ".py",
   "mimetype": "text/x-python",
   "name": "python",
   "nbconvert_exporter": "python",
   "pygments_lexer": "ipython3",
   "version": "3.7.10"
  },
  "toc": {
   "base_numbering": 1,
   "nav_menu": {},
   "number_sections": true,
   "sideBar": true,
   "skip_h1_title": false,
   "title_cell": "Table of Contents",
   "title_sidebar": "Contents",
   "toc_cell": false,
   "toc_position": {},
   "toc_section_display": true,
   "toc_window_display": false
  }
 },
 "nbformat": 4,
 "nbformat_minor": 2
}
