{
 "cells": [
  {
   "cell_type": "code",
   "execution_count": 1,
   "metadata": {
    "pycharm": {
     "name": "#%%\n"
    }
   },
   "outputs": [],
   "source": [
    "%run pulsar_stars.ipynb"
   ]
  },
  {
   "cell_type": "code",
   "execution_count": 2,
   "metadata": {
    "pycharm": {
     "name": "#%%\n"
    }
   },
   "outputs": [
    {
     "name": "stdout",
     "output_type": "stream",
     "text": [
      "Epoch 1 : Train - loss = 0.139, accuracy = 0.961 / Test = 0.971\n",
      "Epoch 2 : Train - loss = 0.136, accuracy = 0.966 / Test = 0.970\n",
      "Epoch 3 : Train - loss = 0.135, accuracy = 0.967 / Test = 0.974\n",
      "Epoch 4 : Train - loss = 0.126, accuracy = 0.968 / Test = 0.975\n",
      "Epoch 5 : Train - loss = 0.123, accuracy = 0.969 / Test = 0.973\n",
      "Epoch 6 : Train - loss = 0.124, accuracy = 0.969 / Test = 0.975\n",
      "Epoch 7 : Train - loss = 0.130, accuracy = 0.968 / Test = 0.975\n",
      "Epoch 8 : Train - loss = 0.128, accuracy = 0.968 / Test = 0.976\n",
      "Epoch 9 : Train - loss = 0.132, accuracy = 0.968 / Test = 0.974\n",
      "Epoch 10 : Train - loss = 0.130, accuracy = 0.970 / Test = 0.976\n",
      "\n",
      " 최종 테스트 : Final accuracy = 0.976\n"
     ]
    }
   ],
   "source": [
    "binary_classification_exec()\n",
    "\n"
   ]
  }
 ],
 "metadata": {
  "colab": {
   "name": "신경망(이진분류)_사전배포.ipynb",
   "provenance": []
  },
  "kernelspec": {
   "display_name": "Python 3",
   "language": "python",
   "name": "python3"
  },
  "language_info": {
   "codemirror_mode": {
    "name": "ipython",
    "version": 3
   },
   "file_extension": ".py",
   "mimetype": "text/x-python",
   "name": "python",
   "nbconvert_exporter": "python",
   "pygments_lexer": "ipython3",
   "version": "3.7.10"
  },
  "toc": {
   "base_numbering": 1,
   "nav_menu": {},
   "number_sections": true,
   "sideBar": true,
   "skip_h1_title": false,
   "title_cell": "Table of Contents",
   "title_sidebar": "Contents",
   "toc_cell": false,
   "toc_position": {},
   "toc_section_display": true,
   "toc_window_display": false
  }
 },
 "nbformat": 4,
 "nbformat_minor": 1
}