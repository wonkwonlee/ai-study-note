{
  "nbformat": 4,
  "nbformat_minor": 0,
  "metadata": {
    "colab": {
      "name": "rnn.ipynb",
      "provenance": [],
      "collapsed_sections": [],
      "authorship_tag": "ABX9TyM5e/joZijh1yCTvH4Ea8sO",
      "include_colab_link": true
    },
    "kernelspec": {
      "name": "python3",
      "display_name": "Python 3"
    },
    "language_info": {
      "name": "python"
    },
    "accelerator": "GPU"
  },
  "cells": [
    {
      "cell_type": "markdown",
      "metadata": {
        "id": "view-in-github",
        "colab_type": "text"
      },
      "source": [
        "<a href=\"https://colab.research.google.com/github/wonkwonlee/likelion-k-digital-training-AI/blob/main/Artificial-Intelligence/rnn.ipynb\" target=\"_parent\"><img src=\"https://colab.research.google.com/assets/colab-badge.svg\" alt=\"Open In Colab\"/></a>"
      ]
    },
    {
      "cell_type": "code",
      "metadata": {
        "colab": {
          "base_uri": "https://localhost:8080/"
        },
        "id": "IvG2Gd_105HT",
        "outputId": "53ac8ec2-f089-4a70-ffaa-a07a8fe1fd50"
      },
      "source": [
        "# 시퀸스 예측 모델: [0.0, 0.1, 0.2, 0.3] 이라는 연속된 숫자가 주어졌을 때 [0.4]를 예측하는 신경망\n",
        "\n",
        "import tensorflow as tf\n",
        "import numpy as np\n",
        "\n",
        "# 시퀀스 예측 데이터 생성 \n",
        "X = []\n",
        "Y = []\n",
        "for i in range(6):\n",
        "  # [0,1,2,3], [1,2,3,4] 같은 정수의 시퀸스\n",
        "  lst = list(range(i,i+4))\n",
        "\n",
        "  # 시퀸스를 각 10으로 나눔\n",
        "  # SimpleRNN 에 각 타임스텝에 하나씩 숫자가 들어가기 때문에 하나씩 분리해서 배열에 저장\n",
        "  X.append(list(map(lambda c: [c/10], lst)))\n",
        "  # 정답을 10으로 나눠서 저장\n",
        "  Y.append((i+4)/10)\n",
        "\n",
        "X = np.array(X)\n",
        "Y = np.array(Y)\n",
        "for i in range(len(X)):\n",
        "    print(X[i], Y[i])"
      ],
      "execution_count": null,
      "outputs": [
        {
          "output_type": "stream",
          "text": [
            "[[0. ]\n",
            " [0.1]\n",
            " [0.2]\n",
            " [0.3]] 0.4\n",
            "[[0.1]\n",
            " [0.2]\n",
            " [0.3]\n",
            " [0.4]] 0.5\n",
            "[[0.2]\n",
            " [0.3]\n",
            " [0.4]\n",
            " [0.5]] 0.6\n",
            "[[0.3]\n",
            " [0.4]\n",
            " [0.5]\n",
            " [0.6]] 0.7\n",
            "[[0.4]\n",
            " [0.5]\n",
            " [0.6]\n",
            " [0.7]] 0.8\n",
            "[[0.5]\n",
            " [0.6]\n",
            " [0.7]\n",
            " [0.8]] 0.9\n"
          ],
          "name": "stdout"
        }
      ]
    },
    {
      "cell_type": "code",
      "metadata": {
        "colab": {
          "base_uri": "https://localhost:8080/"
        },
        "id": "elumPVG91wAV",
        "outputId": "6f7b8c93-fe01-420f-e166-a60d6c119a72"
      },
      "source": [
        "model = tf.keras.Sequential([\n",
        "    tf.keras.layers.SimpleRNN(units=10, return_sequences=False, input_shape=[4,1]),\n",
        "    tf.keras.layers.Dense(1)\n",
        "])\n",
        "\n",
        "model.compile(optimizer='adam', loss='mse')\n",
        "model.summary()"
      ],
      "execution_count": 6,
      "outputs": [
        {
          "output_type": "stream",
          "text": [
            "Model: \"sequential_2\"\n",
            "_________________________________________________________________\n",
            "Layer (type)                 Output Shape              Param #   \n",
            "=================================================================\n",
            "simple_rnn_2 (SimpleRNN)     (None, 10)                120       \n",
            "_________________________________________________________________\n",
            "dense_2 (Dense)              (None, 1)                 11        \n",
            "=================================================================\n",
            "Total params: 131\n",
            "Trainable params: 131\n",
            "Non-trainable params: 0\n",
            "_________________________________________________________________\n"
          ],
          "name": "stdout"
        }
      ]
    },
    {
      "cell_type": "code",
      "metadata": {
        "colab": {
          "base_uri": "https://localhost:8080/"
        },
        "id": "OVVj8i7m3B8c",
        "outputId": "64ccd1fb-c3ee-486b-eb12-b96ae842783c"
      },
      "source": [
        "model.fit(X, Y, epochs=100, verbose=0) \n",
        "model.save('simple_rnn_1.h5') \n",
        "print(model.predict(X))"
      ],
      "execution_count": 11,
      "outputs": [
        {
          "output_type": "stream",
          "text": [
            "[[0.44798857]\n",
            " [0.5371386 ]\n",
            " [0.621542  ]\n",
            " [0.7006974 ]\n",
            " [0.7749436 ]\n",
            " [0.84507906]]\n"
          ],
          "name": "stdout"
        }
      ]
    },
    {
      "cell_type": "code",
      "metadata": {
        "colab": {
          "base_uri": "https://localhost:8080/"
        },
        "id": "HpNcGH3C3qXv",
        "outputId": "cc0644ef-3f8f-41ff-c64c-c62403a15dc7"
      },
      "source": [
        "# 학습 과정에서 본 적이 없는 테스트 데이터 입력\n",
        "print(model.predict(np.array([[[0.6],[0.7],[0.8],[0.9]]]))) \n",
        "print(model.predict(np.array([[[-0.1],[0.0],[0.1],[0.2]]])))"
      ],
      "execution_count": 13,
      "outputs": [
        {
          "output_type": "stream",
          "text": [
            "[[0.9120264]]\n",
            "[[0.35565808]]\n"
          ],
          "name": "stdout"
        }
      ]
    },
    {
      "cell_type": "code",
      "metadata": {
        "id": "wvFDRO--G-4R"
      },
      "source": [
        "# LSTM 실험 - 곱셈 문제\n",
        "\n",
        "X = []\n",
        "Y = []\n",
        "for i in range(3000):\n",
        "  # 0~1 사이의 랜덤한 숫자 100 개를 만듭니다. \n",
        "  lst = np.random.rand(100)\n",
        "  #print(lst)\n",
        "  # 마킹할 숫자 2개의 인덱스를 뽑습니다.\n",
        "  idx = np.random.choice(100, 2, replace=False) \n",
        "  #print(idx)\n",
        "  # 마킹 인덱스가 저장된 원-핫 인코딩 벡터를 만듭니다. \n",
        "  zeros = np.zeros(100)\n",
        "  #print(zeros)\n",
        "  zeros[idx] = 1\n",
        "  #print(zeros)\n",
        "  # 마킹 인덱스와 랜덤한 숫자를 합쳐서 X 에 저장합니다. \n",
        "  X.append(np.array(list(zip(zeros, lst)))) \n",
        "  #print(X)\n",
        "  # 마킹 인덱스가 1인 값들만 서로 곱해서 Y 에 저장합니다. \n",
        "  Y.append(np.prod(lst[idx]))\n",
        "  #print(Y)\n",
        "\n",
        "print(X[0], Y[0])"
      ],
      "execution_count": null,
      "outputs": []
    },
    {
      "cell_type": "code",
      "metadata": {
        "colab": {
          "base_uri": "https://localhost:8080/"
        },
        "id": "yplMZLhgIqLA",
        "outputId": "315906ae-2ff3-40ab-a82a-e7f01369b521"
      },
      "source": [
        "# SimpleRNN 레이어를 사용한 곱셈 문제 모델 정의 \n",
        "model = tf.keras.Sequential([\n",
        "        tf.keras.layers.SimpleRNN(units=30, return_sequences=True, input_shape=[100,2]), \n",
        "        tf.keras.layers.SimpleRNN(units=30),\n",
        "        tf.keras.layers.Dense(1)\n",
        "])\n",
        "\n",
        "model.compile(optimizer='adam', loss='mse') \n",
        "model.summary()"
      ],
      "execution_count": 18,
      "outputs": [
        {
          "output_type": "stream",
          "text": [
            "Model: \"sequential_3\"\n",
            "_________________________________________________________________\n",
            "Layer (type)                 Output Shape              Param #   \n",
            "=================================================================\n",
            "simple_rnn_3 (SimpleRNN)     (None, 100, 30)           990       \n",
            "_________________________________________________________________\n",
            "simple_rnn_4 (SimpleRNN)     (None, 30)                1830      \n",
            "_________________________________________________________________\n",
            "dense_3 (Dense)              (None, 1)                 31        \n",
            "=================================================================\n",
            "Total params: 2,851\n",
            "Trainable params: 2,851\n",
            "Non-trainable params: 0\n",
            "_________________________________________________________________\n"
          ],
          "name": "stdout"
        }
      ]
    },
    {
      "cell_type": "code",
      "metadata": {
        "id": "kamVkRblJXsI"
      },
      "source": [
        "# SimpleRNN 네트워크 학습\n",
        "X = np.array(X)\n",
        "Y = np.array(Y)\n",
        "# 2560개의 데이터만 학습, validation 데이터는 20% 로 지정합\n",
        "history = model.fit(X[:2560], Y[:2560], epochs=100, validation_split=0.2)"
      ],
      "execution_count": null,
      "outputs": []
    },
    {
      "cell_type": "code",
      "metadata": {
        "colab": {
          "base_uri": "https://localhost:8080/",
          "height": 279
        },
        "id": "PnTz0o6PKJho",
        "outputId": "c4f76b8d-e612-4255-aa52-462c1dc5ac2c"
      },
      "source": [
        "# SimpleRNN 네트워크 학습 결과 확인\n",
        "import matplotlib.pyplot as plt \n",
        "\n",
        "plt.plot(history.history['loss'], 'b-', label='loss') \n",
        "plt.plot(history.history['val_loss'], 'r--', label='val_loss') \n",
        "plt.xlabel('Epoch')\n",
        "plt.legend()\n",
        "plt.show()"
      ],
      "execution_count": 20,
      "outputs": [
        {
          "output_type": "display_data",
          "data": {
            "image/png": "[encoded data removed]",
            "text/plain": [
              "<Figure size 432x288 with 1 Axes>"
            ]
          },
          "metadata": {
            "tags": [],
            "needs_background": "light"
          }
        }
      ]
    },
    {
      "cell_type": "code",
      "metadata": {
        "colab": {
          "base_uri": "https://localhost:8080/"
        },
        "id": "jmobIT7HK1Zc",
        "outputId": "08cdb2f5-2aa9-4774-c826-01e81c98bd2d"
      },
      "source": [
        "# Test 데이터에 대한 예측 정확도 확인 \n",
        "model.evaluate(X[2560:], Y[2560:]) \n",
        "prediction = model.predict(X[2560:2560+5]) \n",
        "# 5개 테스트 데이터에 대한 예측 확인 (오차 0.04)\n",
        "for i in range(5):\n",
        "  print(Y[2560+i], '\\t', prediction[i][0], '\\tdiff:', abs(prediction[i][0] - Y[2560+i]))\n",
        "\n",
        "# 논문과 동일하게 오차가 0.04 이상이면 오답 처리\n",
        "prediction = model.predict(X[2560:]) \n",
        "fail = 0\n",
        "for i in range(len(prediction)):\n",
        "  if abs(prediction[i][0] - Y[2560+i]) > 0.04:\n",
        "    fail += 1\n",
        "print('correctness:', (440 - fail) / 440 * 100, '%')"
      ],
      "execution_count": 21,
      "outputs": [
        {
          "output_type": "stream",
          "text": [
            "14/14 [==============================] - 0s 10ms/step - loss: 0.0633\n",
            "0.08762021765390386 \t 0.118496545 \tdiff: 0.030876327005233864\n",
            "0.0604481840913088 \t 0.30627292 \tdiff: 0.2458247398550718\n",
            "0.3365305196102409 \t 0.6390184 \tdiff: 0.30248789679448324\n",
            "0.07004657349258536 \t 0.11948655 \tdiff: 0.049439974513949214\n",
            "0.28404793788535415 \t -0.006010276 \tdiff: 0.29005821368513524\n",
            "correctness: 10.909090909090908 %\n"
          ],
          "name": "stdout"
        }
      ]
    },
    {
      "cell_type": "code",
      "metadata": {
        "colab": {
          "base_uri": "https://localhost:8080/"
        },
        "id": "Tc1SqpZ8M2WP",
        "outputId": "91d9f8e5-3279-45b0-d47f-4b3aa66af932"
      },
      "source": [
        "# LSTM 곱셈 문제\n",
        "\n",
        "import tensorflow as tf\n",
        "import numpy as np\n",
        "\n",
        "X = []\n",
        "Y = []\n",
        "for i in range(3000):\n",
        "  lst = np.random.rand(100)\n",
        "  idx = np.random.choice(100, 2, replace=False) \n",
        "  zeros = np.zeros(100)\n",
        "  zeros[idx] = 1\n",
        "  X.append(np.array(list(zip(zeros, lst)))) \n",
        "  Y.append(np.prod(lst[idx]))\n",
        "\n",
        "#LSTM 레이어를 사용한 곱셈 문제 모델 정의\n",
        "model = tf.keras.Sequential([\n",
        "        tf.keras.layers.LSTM(units=30, return_sequences=True, input_shape=[100,2]), \n",
        "        tf.keras.layers.LSTM(units=30),\n",
        "        tf.keras.layers.Dense(1)\n",
        "])\n",
        "\n",
        "model.compile(optimizer='adam', loss='mse') \n",
        "model.summary()"
      ],
      "execution_count": 2,
      "outputs": [
        {
          "output_type": "stream",
          "text": [
            "Model: \"sequential_1\"\n",
            "_________________________________________________________________\n",
            "Layer (type)                 Output Shape              Param #   \n",
            "=================================================================\n",
            "lstm_2 (LSTM)                (None, 100, 30)           3960      \n",
            "_________________________________________________________________\n",
            "lstm_3 (LSTM)                (None, 30)                7320      \n",
            "_________________________________________________________________\n",
            "dense_1 (Dense)              (None, 1)                 31        \n",
            "=================================================================\n",
            "Total params: 11,311\n",
            "Trainable params: 11,311\n",
            "Non-trainable params: 0\n",
            "_________________________________________________________________\n"
          ],
          "name": "stdout"
        }
      ]
    },
    {
      "cell_type": "code",
      "metadata": {
        "id": "X24sNTekNIlk"
      },
      "source": [
        "# LSTM 네트워크 학습\n",
        "X = np.array(X)\n",
        "Y = np.array(Y)\n",
        "history = model.fit(X[:2560], Y[:2560], epochs=100, validation_split=0.2)"
      ],
      "execution_count": null,
      "outputs": []
    },
    {
      "cell_type": "code",
      "metadata": {
        "colab": {
          "base_uri": "https://localhost:8080/",
          "height": 279
        },
        "id": "Qfj5AS1ZN003",
        "outputId": "b96a6da0-e154-4e91-af37-eabb069d74d3"
      },
      "source": [
        "# LSTM 네트워크 학습 결과 확인\n",
        "import matplotlib.pyplot as plt \n",
        "plt.plot(history.history['loss'], 'b-', label='loss') \n",
        "plt.plot(history.history['val_loss'], 'r--', label='val_loss') \n",
        "plt.xlabel('Epoch')\n",
        "plt.legend()\n",
        "plt.show()"
      ],
      "execution_count": 4,
      "outputs": [
        {
          "output_type": "display_data",
          "data": {
            "image/png": "[encoded data removed]",
            "text/plain": [
              "<Figure size 432x288 with 1 Axes>"
            ]
          },
          "metadata": {
            "tags": [],
            "needs_background": "light"
          }
        }
      ]
    },
    {
      "cell_type": "code",
      "metadata": {
        "colab": {
          "base_uri": "https://localhost:8080/"
        },
        "id": "oyBFgxr2OB9W",
        "outputId": "11d21c3f-9649-451f-b9d6-5f67a85784fa"
      },
      "source": [
        "#Test 데이터에 대한 예측 정확도 확인 \n",
        "model.evaluate(X[2560:], Y[2560:]) \n",
        "prediction = model.predict(X[2560:2560+5]) \n",
        "for i in range(5):\n",
        "  print(Y[2560+i], '\\t', prediction[i][0], '\\tdiff:', abs(prediction[i][0] - Y[2560+i]))\n",
        "\n",
        "prediction = model.predict(X[2560:])\n",
        "cnt = 0\n",
        "for i in range(len(prediction)):\n",
        "  if abs(prediction[i][0] - Y[2560+i]) > 0.04: \n",
        "    cnt += 1\n",
        "\n",
        "print('correctness:', (440 - cnt) / 440 * 100, '%')"
      ],
      "execution_count": 5,
      "outputs": [
        {
          "output_type": "stream",
          "text": [
            "14/14 [==============================] - 1s 7ms/step - loss: 1.9984e-04\n",
            "0.01729577757378255 \t 0.0782948 \tdiff: 0.060999021158021347\n",
            "0.28328026989406224 \t 0.28015524 \tdiff: 0.0031250284046518417\n",
            "0.03173832951157406 \t 0.029056024 \tdiff: 0.0026823057052405147\n",
            "0.06055874572030356 \t 0.059660625 \tdiff: 0.0008981210075979448\n",
            "0.3468460626742874 \t 0.3457283 \tdiff: 0.0011177547118698117\n",
            "correctness: 97.95454545454545 %\n"
          ],
          "name": "stdout"
        }
      ]
    },
    {
      "cell_type": "code",
      "metadata": {
        "id": "qsTDuIvJOLUn"
      },
      "source": [
        "from keras.models import Sequential\n",
        "from keras.layers import Dense, Activation, Bidirectional, LSTM\n",
        "\n",
        "model = Sequential()\n",
        "model.add(Bidirectional(LSTM(30, return_sequences=True), input_shape=[100, 2])) \n",
        "model.add(Bidirectional(LSTM(30)))\n",
        "model.add(Dense(1))\n",
        "model.compile(loss='mse', optimizer = 'adam')\n",
        "model.summary()\n",
        "\n",
        "X = np.array(X)\n",
        "Y = np.array(Y)\n",
        "history = model.fit(X, Y, epochs=100, verbose=1, validation_split= 0.2)\n"
      ],
      "execution_count": null,
      "outputs": []
    },
    {
      "cell_type": "code",
      "metadata": {
        "colab": {
          "base_uri": "https://localhost:8080/",
          "height": 279
        },
        "id": "rWnW6ko8Tm0L",
        "outputId": "477d9092-f504-42b6-e232-2cff57a57d3e"
      },
      "source": [
        "import matplotlib.pyplot as plt \n",
        "plt.plot(history.history['loss'], 'b-', label='loss') \n",
        "plt.plot(history.history['val_loss'], 'r--', label='val_loss') \n",
        "plt.xlabel('Epoch')\n",
        "plt.legend()\n",
        "plt.show()"
      ],
      "execution_count": 7,
      "outputs": [
        {
          "output_type": "display_data",
          "data": {
            "image/png": "[encoded data removed]",
            "text/plain": [
              "<Figure size 432x288 with 1 Axes>"
            ]
          },
          "metadata": {
            "tags": [],
            "needs_background": "light"
          }
        }
      ]
    },
    {
      "cell_type": "code",
      "metadata": {
        "colab": {
          "base_uri": "https://localhost:8080/"
        },
        "id": "mqCNbLYaU8oT",
        "outputId": "ecf2640a-7e24-4b82-ab4b-6dff8b8504bf"
      },
      "source": [
        "model.evaluate(X[2560:], Y[2560:]) \n",
        "prediction = model.predict(X[2560:2560+5]) \n",
        "for i in range(5):\n",
        "  print(Y[2560+i], '\\t', prediction[i][0], '\\tdiff:', abs(prediction[i][0] - Y[2560+i]))\n",
        "\n",
        "prediction = model.predict(X[2560:]) \n",
        "cnt = 0\n",
        "for i in range(len(prediction)):\n",
        "  if abs(prediction[i][0] - Y[2560+i]) > 0.04: \n",
        "    cnt += 1\n",
        "print('correctness:', (440 - cnt) / 440 * 100, '%')"
      ],
      "execution_count": 8,
      "outputs": [
        {
          "output_type": "stream",
          "text": [
            "14/14 [==============================] - 0s 12ms/step - loss: 2.1717e-04\n",
            "0.01729577757378255 \t 0.12080736 \tdiff: 0.1035115795586523\n",
            "0.28328026989406224 \t 0.28772375 \tdiff: 0.004443479981960097\n",
            "0.03173832951157406 \t 0.029936505 \tdiff: 0.0018018240299732952\n",
            "0.06055874572030356 \t 0.067516536 \tdiff: 0.006957789800250032\n",
            "0.3468460626742874 \t 0.34788334 \tdiff: 0.001037281022306824\n",
            "correctness: 97.04545454545455 %\n"
          ],
          "name": "stdout"
        }
      ]
    }
  ]
}