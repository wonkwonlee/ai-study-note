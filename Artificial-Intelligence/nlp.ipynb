{
  "nbformat": 4,
  "nbformat_minor": 0,
  "metadata": {
    "kernelspec": {
      "display_name": "Python 3",
      "language": "python",
      "name": "python3"
    },
    "language_info": {
      "codemirror_mode": {
        "name": "ipython",
        "version": 2
      },
      "file_extension": ".py",
      "mimetype": "text/x-python",
      "name": "python",
      "nbconvert_exporter": "python",
      "pygments_lexer": "ipython2",
      "version": "2.7.6"
    },
    "colab": {
      "name": "nlp.ipynb",
      "provenance": [],
      "collapsed_sections": [],
      "include_colab_link": true
    }
  },
  "cells": [
    {
      "cell_type": "markdown",
      "metadata": {
        "id": "view-in-github",
        "colab_type": "text"
      },
      "source": [
        "<a href=\"https://colab.research.google.com/github/wonkwonlee/likelion-k-digital-training-AI/blob/main/Artificial-Intelligence/nlp.ipynb\" target=\"_parent\"><img src=\"https://colab.research.google.com/assets/colab-badge.svg\" alt=\"Open In Colab\"/></a>"
      ]
    },
    {
      "cell_type": "code",
      "metadata": {
        "colab": {
          "base_uri": "https://localhost:8080/"
        },
        "id": "j6dnsdDRppeG",
        "outputId": "a6618de9-cf5d-4203-8bc7-d8fa765b2469"
      },
      "source": [
        "!pip3 install konlpy"
      ],
      "execution_count": 5,
      "outputs": [
        {
          "output_type": "stream",
          "text": [
            "Requirement already satisfied: konlpy in /usr/local/lib/python3.7/dist-packages (0.5.2)\n",
            "Requirement already satisfied: numpy>=1.6 in /usr/local/lib/python3.7/dist-packages (from konlpy) (1.19.5)\n",
            "Requirement already satisfied: JPype1>=0.7.0 in /usr/local/lib/python3.7/dist-packages (from konlpy) (1.2.1)\n",
            "Requirement already satisfied: tweepy>=3.7.0 in /usr/local/lib/python3.7/dist-packages (from konlpy) (3.10.0)\n",
            "Requirement already satisfied: colorama in /usr/local/lib/python3.7/dist-packages (from konlpy) (0.4.4)\n",
            "Requirement already satisfied: beautifulsoup4==4.6.0 in /usr/local/lib/python3.7/dist-packages (from konlpy) (4.6.0)\n",
            "Requirement already satisfied: lxml>=4.1.0 in /usr/local/lib/python3.7/dist-packages (from konlpy) (4.2.6)\n",
            "Requirement already satisfied: typing-extensions; python_version < \"3.8\" in /usr/local/lib/python3.7/dist-packages (from JPype1>=0.7.0->konlpy) (3.7.4.3)\n",
            "Requirement already satisfied: six>=1.10.0 in /usr/local/lib/python3.7/dist-packages (from tweepy>=3.7.0->konlpy) (1.15.0)\n",
            "Requirement already satisfied: requests[socks]>=2.11.1 in /usr/local/lib/python3.7/dist-packages (from tweepy>=3.7.0->konlpy) (2.23.0)\n",
            "Requirement already satisfied: requests-oauthlib>=0.7.0 in /usr/local/lib/python3.7/dist-packages (from tweepy>=3.7.0->konlpy) (1.3.0)\n",
            "Requirement already satisfied: chardet<4,>=3.0.2 in /usr/local/lib/python3.7/dist-packages (from requests[socks]>=2.11.1->tweepy>=3.7.0->konlpy) (3.0.4)\n",
            "Requirement already satisfied: idna<3,>=2.5 in /usr/local/lib/python3.7/dist-packages (from requests[socks]>=2.11.1->tweepy>=3.7.0->konlpy) (2.10)\n",
            "Requirement already satisfied: urllib3!=1.25.0,!=1.25.1,<1.26,>=1.21.1 in /usr/local/lib/python3.7/dist-packages (from requests[socks]>=2.11.1->tweepy>=3.7.0->konlpy) (1.24.3)\n",
            "Requirement already satisfied: certifi>=2017.4.17 in /usr/local/lib/python3.7/dist-packages (from requests[socks]>=2.11.1->tweepy>=3.7.0->konlpy) (2020.12.5)\n",
            "Requirement already satisfied: PySocks!=1.5.7,>=1.5.6; extra == \"socks\" in /usr/local/lib/python3.7/dist-packages (from requests[socks]>=2.11.1->tweepy>=3.7.0->konlpy) (1.7.1)\n",
            "Requirement already satisfied: oauthlib>=3.0.0 in /usr/local/lib/python3.7/dist-packages (from requests-oauthlib>=0.7.0->tweepy>=3.7.0->konlpy) (3.1.0)\n"
          ],
          "name": "stdout"
        }
      ]
    },
    {
      "cell_type": "code",
      "metadata": {
        "collapsed": true,
        "id": "fzZcnblfpbYV"
      },
      "source": [
        "from konlpy.tag import Kkma\n",
        "# 꼬꼬마 형태소 분석기 객체 생성\n",
        "kkma = Kkma()\n",
        "text = \"아버지가 방에 들어갑니다.\""
      ],
      "execution_count": 6,
      "outputs": []
    },
    {
      "cell_type": "code",
      "metadata": {
        "pycharm": {
          "name": "#%%\n"
        },
        "colab": {
          "base_uri": "https://localhost:8080/"
        },
        "id": "4GJdC7RPpbYd",
        "outputId": "327333bb-e81a-4d89-bb01-1ae73a6852af"
      },
      "source": [
        "# 형태소 추출\n",
        "morphs = kkma.morphs(text)\n",
        "print(morphs)"
      ],
      "execution_count": 7,
      "outputs": [
        {
          "output_type": "stream",
          "text": [
            "['아버지', '가', '방', '에', '들어가', 'ㅂ니다', '.']\n"
          ],
          "name": "stdout"
        }
      ]
    },
    {
      "cell_type": "code",
      "metadata": {
        "pycharm": {
          "name": "#%%\n"
        },
        "colab": {
          "base_uri": "https://localhost:8080/"
        },
        "id": "Um_cGRaOpbYf",
        "outputId": "8904c064-b315-45dc-b676-34d4dca3d88d"
      },
      "source": [
        "# 형태소와 품사 태그 추출\n",
        "pos = kkma.pos(text)\n",
        "print(pos)"
      ],
      "execution_count": 8,
      "outputs": [
        {
          "output_type": "stream",
          "text": [
            "[('아버지', 'NNG'), ('가', 'JKS'), ('방', 'NNG'), ('에', 'JKM'), ('들어가', 'VV'), ('ㅂ니다', 'EFN'), ('.', 'SF')]\n"
          ],
          "name": "stdout"
        }
      ]
    },
    {
      "cell_type": "code",
      "metadata": {
        "pycharm": {
          "name": "#%%\n"
        },
        "colab": {
          "base_uri": "https://localhost:8080/"
        },
        "id": "ipEx81P4pbYf",
        "outputId": "b0724203-85f9-4d47-e0a1-f04e6f3fc259"
      },
      "source": [
        "# 명사만 추출\n",
        "nouns = kkma.nouns(text)\n",
        "print(nouns)"
      ],
      "execution_count": 9,
      "outputs": [
        {
          "output_type": "stream",
          "text": [
            "['아버지', '방']\n"
          ],
          "name": "stdout"
        }
      ]
    },
    {
      "cell_type": "code",
      "metadata": {
        "pycharm": {
          "name": "#%%\n"
        },
        "colab": {
          "base_uri": "https://localhost:8080/"
        },
        "id": "AtVJdJiGpbYg",
        "outputId": "be0c2910-182a-4c78-c894-d77f5d599d2e"
      },
      "source": [
        "# 문장 분리\n",
        "sentences = \"국내 코스피가 3000선을 돌파하였습니다! 이번 해는 정말 기대가 되네요!\"\n",
        "s = kkma.sentences(sentences)\n",
        "print(s)"
      ],
      "execution_count": 10,
      "outputs": [
        {
          "output_type": "stream",
          "text": [
            "['국내 코스 피가 3000 선을 돌파하였습니다!', '이번 해는 정말 기대가 되네요!']\n"
          ],
          "name": "stdout"
        }
      ]
    },
    {
      "cell_type": "code",
      "metadata": {
        "pycharm": {
          "name": "#%%\n"
        },
        "colab": {
          "base_uri": "https://localhost:8080/"
        },
        "id": "0NMJ4w8cpbYg",
        "outputId": "5af08c05-7f66-406d-8467-d0036a021a8e"
      },
      "source": [
        "from konlpy.tag import Komoran\n",
        "# 코모란 형태소 분석기 객체 생성\n",
        "komoran = Komoran()\n",
        "text = \"거인의 어깨위에 올라서라.\"\n",
        "\n",
        "# 형태소 추출\n",
        "morphs = komoran.morphs(text)\n",
        "print(morphs)"
      ],
      "execution_count": 11,
      "outputs": [
        {
          "output_type": "stream",
          "text": [
            "['거인', '의', '어깨', '위', '에', '올라서', '라', '.']\n"
          ],
          "name": "stdout"
        }
      ]
    },
    {
      "cell_type": "code",
      "metadata": {
        "pycharm": {
          "name": "#%%\n"
        },
        "colab": {
          "base_uri": "https://localhost:8080/"
        },
        "id": "rcU8LQ4-pbYh",
        "outputId": "36e85742-da01-41d6-e161-b3219f60f368"
      },
      "source": [
        "# 형태소와 품사 태그 추출\n",
        "pos = komoran.pos(text)\n",
        "print(pos)"
      ],
      "execution_count": 12,
      "outputs": [
        {
          "output_type": "stream",
          "text": [
            "[('거인', 'NNP'), ('의', 'JKG'), ('어깨', 'NNG'), ('위', 'NNG'), ('에', 'JKB'), ('올라서', 'VV'), ('라', 'EF'), ('.', 'SF')]\n"
          ],
          "name": "stdout"
        }
      ]
    },
    {
      "cell_type": "code",
      "metadata": {
        "pycharm": {
          "name": "#%%\n"
        },
        "colab": {
          "base_uri": "https://localhost:8080/"
        },
        "id": "DvQx3ShypbYh",
        "outputId": "f9a5ae50-7eb8-49e5-8027-d826b62bd92a"
      },
      "source": [
        "# 명사만 추출\n",
        "nouns = komoran.nouns(text)\n",
        "print(nouns)"
      ],
      "execution_count": 13,
      "outputs": [
        {
          "output_type": "stream",
          "text": [
            "['거인', '어깨', '위']\n"
          ],
          "name": "stdout"
        }
      ]
    },
    {
      "cell_type": "code",
      "metadata": {
        "colab": {
          "base_uri": "https://localhost:8080/"
        },
        "id": "LwJHhEQkrlxe",
        "outputId": "002f73cb-8b57-43b2-809e-48aa1e10f5e1"
      },
      "source": [
        "from konlpy.tag import Okt\n",
        "# Okt 형태소 분석기 객체 생성\n",
        "okt = Okt() \n",
        "text = \"트위터에서 개발한 형태소 분석기 Okt\" \n",
        "\n",
        "# 형태소 추출\n",
        "morphs = okt.morphs(text) \n",
        "print(morphs)"
      ],
      "execution_count": 18,
      "outputs": [
        {
          "output_type": "stream",
          "text": [
            "['트위터', '에서', '개발', '한', '형태소', '분석', '기', 'Okt']\n"
          ],
          "name": "stdout"
        }
      ]
    },
    {
      "cell_type": "code",
      "metadata": {
        "colab": {
          "base_uri": "https://localhost:8080/"
        },
        "id": "CiK2iyKCsLQa",
        "outputId": "a8aa09a8-611c-4e45-f861-1416afc217b6"
      },
      "source": [
        "# 형태소와 품사 태그 추출\n",
        "pos = okt.pos(text) \n",
        "print(pos)"
      ],
      "execution_count": 19,
      "outputs": [
        {
          "output_type": "stream",
          "text": [
            "[('트위터', 'Noun'), ('에서', 'Josa'), ('개발', 'Noun'), ('한', 'Josa'), ('형태소', 'Noun'), ('분석', 'Noun'), ('기', 'Noun'), ('Okt', 'Alpha')]\n"
          ],
          "name": "stdout"
        }
      ]
    },
    {
      "cell_type": "code",
      "metadata": {
        "colab": {
          "base_uri": "https://localhost:8080/"
        },
        "id": "SFtaVQxLsUeq",
        "outputId": "b3081e2d-3cac-4dc9-fec2-a4d81178aa8e"
      },
      "source": [
        "# 명사만 추출\n",
        "nouns = okt.nouns(text)  \n",
        "print(nouns)"
      ],
      "execution_count": 20,
      "outputs": [
        {
          "output_type": "stream",
          "text": [
            "['트위터', '개발', '형태소', '분석', '기']\n"
          ],
          "name": "stdout"
        }
      ]
    },
    {
      "cell_type": "code",
      "metadata": {
        "colab": {
          "base_uri": "https://localhost:8080/"
        },
        "id": "OOcTx0zSsZg4",
        "outputId": "5fc5babf-dff8-4374-a608-60632fcf61bf"
      },
      "source": [
        "# 정규화, 어구 추출\n",
        "text = \"정규화 시도해보깈ㅋㅋㅋㅋㅋ\" \n",
        "print(okt.normalize(text)) \n",
        "print(okt.phrases(text))"
      ],
      "execution_count": 21,
      "outputs": [
        {
          "output_type": "stream",
          "text": [
            "정규화 시도해보기ㅋㅋㅋ\n",
            "['정규화', '정규화 시도', '시도']\n"
          ],
          "name": "stdout"
        }
      ]
    },
    {
      "cell_type": "code",
      "metadata": {
        "id": "xGMwn0jjsZvj"
      },
      "source": [
        ""
      ],
      "execution_count": null,
      "outputs": []
    }
  ]
}