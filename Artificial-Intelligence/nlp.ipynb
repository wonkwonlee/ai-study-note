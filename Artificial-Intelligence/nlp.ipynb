{
  "nbformat": 4,
  "nbformat_minor": 0,
  "metadata": {
    "kernelspec": {
      "display_name": "Python 3",
      "language": "python",
      "name": "python3"
    },
    "language_info": {
      "codemirror_mode": {
        "name": "ipython",
        "version": 2
      },
      "file_extension": ".py",
      "mimetype": "text/x-python",
      "name": "python",
      "nbconvert_exporter": "python",
      "pygments_lexer": "ipython2",
      "version": "2.7.6"
    },
    "colab": {
      "name": "nlp.ipynb",
      "provenance": [],
      "collapsed_sections": [],
      "include_colab_link": true
    },
    "accelerator": "GPU"
  },
  "cells": [
    {
      "cell_type": "markdown",
      "metadata": {
        "id": "view-in-github",
        "colab_type": "text"
      },
      "source": [
        "<a href=\"https://colab.research.google.com/github/wonkwonlee/likelion-k-digital-training-AI/blob/main/Artificial-Intelligence/nlp.ipynb\" target=\"_parent\"><img src=\"https://colab.research.google.com/assets/colab-badge.svg\" alt=\"Open In Colab\"/></a>"
      ]
    },
    {
      "cell_type": "code",
      "metadata": {
        "colab": {
          "base_uri": "https://localhost:8080/"
        },
        "id": "j6dnsdDRppeG",
        "outputId": "952ae721-5acc-4095-e88e-76a8389f9c9d"
      },
      "source": [
        "!pip3 install konlpy"
      ],
      "execution_count": 1,
      "outputs": [
        {
          "output_type": "stream",
          "text": [
            "Collecting konlpy\n",
            "\u001b[?25l  Downloading https://files.pythonhosted.org/packages/85/0e/f385566fec837c0b83f216b2da65db9997b35dd675e107752005b7d392b1/konlpy-0.5.2-py2.py3-none-any.whl (19.4MB)\n",
            "\u001b[K     |████████████████████████████████| 19.4MB 1.2MB/s \n",
            "\u001b[?25hRequirement already satisfied: lxml>=4.1.0 in /usr/local/lib/python3.7/dist-packages (from konlpy) (4.2.6)\n",
            "Collecting beautifulsoup4==4.6.0\n",
            "\u001b[?25l  Downloading https://files.pythonhosted.org/packages/9e/d4/10f46e5cfac773e22707237bfcd51bbffeaf0a576b0a847ec7ab15bd7ace/beautifulsoup4-4.6.0-py3-none-any.whl (86kB)\n",
            "\u001b[K     |████████████████████████████████| 92kB 10.8MB/s \n",
            "\u001b[?25hCollecting JPype1>=0.7.0\n",
            "\u001b[?25l  Downloading https://files.pythonhosted.org/packages/cd/a5/9781e2ef4ca92d09912c4794642c1653aea7607f473e156cf4d423a881a1/JPype1-1.2.1-cp37-cp37m-manylinux2010_x86_64.whl (457kB)\n",
            "\u001b[K     |████████████████████████████████| 460kB 47.1MB/s \n",
            "\u001b[?25hRequirement already satisfied: tweepy>=3.7.0 in /usr/local/lib/python3.7/dist-packages (from konlpy) (3.10.0)\n",
            "Requirement already satisfied: numpy>=1.6 in /usr/local/lib/python3.7/dist-packages (from konlpy) (1.19.5)\n",
            "Collecting colorama\n",
            "  Downloading https://files.pythonhosted.org/packages/44/98/5b86278fbbf250d239ae0ecb724f8572af1c91f4a11edf4d36a206189440/colorama-0.4.4-py2.py3-none-any.whl\n",
            "Requirement already satisfied: typing-extensions; python_version < \"3.8\" in /usr/local/lib/python3.7/dist-packages (from JPype1>=0.7.0->konlpy) (3.7.4.3)\n",
            "Requirement already satisfied: six>=1.10.0 in /usr/local/lib/python3.7/dist-packages (from tweepy>=3.7.0->konlpy) (1.15.0)\n",
            "Requirement already satisfied: requests-oauthlib>=0.7.0 in /usr/local/lib/python3.7/dist-packages (from tweepy>=3.7.0->konlpy) (1.3.0)\n",
            "Requirement already satisfied: requests[socks]>=2.11.1 in /usr/local/lib/python3.7/dist-packages (from tweepy>=3.7.0->konlpy) (2.23.0)\n",
            "Requirement already satisfied: oauthlib>=3.0.0 in /usr/local/lib/python3.7/dist-packages (from requests-oauthlib>=0.7.0->tweepy>=3.7.0->konlpy) (3.1.0)\n",
            "Requirement already satisfied: urllib3!=1.25.0,!=1.25.1,<1.26,>=1.21.1 in /usr/local/lib/python3.7/dist-packages (from requests[socks]>=2.11.1->tweepy>=3.7.0->konlpy) (1.24.3)\n",
            "Requirement already satisfied: certifi>=2017.4.17 in /usr/local/lib/python3.7/dist-packages (from requests[socks]>=2.11.1->tweepy>=3.7.0->konlpy) (2020.12.5)\n",
            "Requirement already satisfied: idna<3,>=2.5 in /usr/local/lib/python3.7/dist-packages (from requests[socks]>=2.11.1->tweepy>=3.7.0->konlpy) (2.10)\n",
            "Requirement already satisfied: chardet<4,>=3.0.2 in /usr/local/lib/python3.7/dist-packages (from requests[socks]>=2.11.1->tweepy>=3.7.0->konlpy) (3.0.4)\n",
            "Requirement already satisfied: PySocks!=1.5.7,>=1.5.6; extra == \"socks\" in /usr/local/lib/python3.7/dist-packages (from requests[socks]>=2.11.1->tweepy>=3.7.0->konlpy) (1.7.1)\n",
            "Installing collected packages: beautifulsoup4, JPype1, colorama, konlpy\n",
            "  Found existing installation: beautifulsoup4 4.6.3\n",
            "    Uninstalling beautifulsoup4-4.6.3:\n",
            "      Successfully uninstalled beautifulsoup4-4.6.3\n",
            "Successfully installed JPype1-1.2.1 beautifulsoup4-4.6.0 colorama-0.4.4 konlpy-0.5.2\n"
          ],
          "name": "stdout"
        }
      ]
    },
    {
      "cell_type": "code",
      "metadata": {
        "collapsed": true,
        "id": "fzZcnblfpbYV"
      },
      "source": [
        "from konlpy.tag import Kkma\n",
        "# 꼬꼬마 형태소 분석기 객체 생성\n",
        "kkma = Kkma()\n",
        "text = \"아버지가 방에 들어갑니다.\""
      ],
      "execution_count": 2,
      "outputs": []
    },
    {
      "cell_type": "code",
      "metadata": {
        "pycharm": {
          "name": "#%%\n"
        },
        "colab": {
          "base_uri": "https://localhost:8080/"
        },
        "id": "4GJdC7RPpbYd",
        "outputId": "91f5ff81-f799-48b9-c364-3b0431aa36d1"
      },
      "source": [
        "# 형태소 추출\n",
        "morphs = kkma.morphs(text)\n",
        "print(morphs)"
      ],
      "execution_count": 3,
      "outputs": [
        {
          "output_type": "stream",
          "text": [
            "['아버지', '가', '방', '에', '들어가', 'ㅂ니다', '.']\n"
          ],
          "name": "stdout"
        }
      ]
    },
    {
      "cell_type": "code",
      "metadata": {
        "pycharm": {
          "name": "#%%\n"
        },
        "colab": {
          "base_uri": "https://localhost:8080/"
        },
        "id": "Um_cGRaOpbYf",
        "outputId": "0f284b0b-011a-4a9c-88ee-8606dde9fc96"
      },
      "source": [
        "# 형태소와 품사 태그 추출\n",
        "pos = kkma.pos(text)\n",
        "print(pos)"
      ],
      "execution_count": 4,
      "outputs": [
        {
          "output_type": "stream",
          "text": [
            "[('아버지', 'NNG'), ('가', 'JKS'), ('방', 'NNG'), ('에', 'JKM'), ('들어가', 'VV'), ('ㅂ니다', 'EFN'), ('.', 'SF')]\n"
          ],
          "name": "stdout"
        }
      ]
    },
    {
      "cell_type": "code",
      "metadata": {
        "pycharm": {
          "name": "#%%\n"
        },
        "colab": {
          "base_uri": "https://localhost:8080/"
        },
        "id": "ipEx81P4pbYf",
        "outputId": "925457dd-400c-4b3a-a6b6-0de312a2ad70"
      },
      "source": [
        "# 명사만 추출\n",
        "nouns = kkma.nouns(text)\n",
        "print(nouns)"
      ],
      "execution_count": 5,
      "outputs": [
        {
          "output_type": "stream",
          "text": [
            "['아버지', '방']\n"
          ],
          "name": "stdout"
        }
      ]
    },
    {
      "cell_type": "code",
      "metadata": {
        "pycharm": {
          "name": "#%%\n"
        },
        "colab": {
          "base_uri": "https://localhost:8080/"
        },
        "id": "AtVJdJiGpbYg",
        "outputId": "a4c6e4a8-c6f5-4bfd-a698-d2454f19e21f"
      },
      "source": [
        "# 문장 분리\n",
        "sentences = \"국내 코스피가 3000선을 돌파하였습니다! 이번 해는 정말 기대가 되네요!\"\n",
        "s = kkma.sentences(sentences)\n",
        "print(s)"
      ],
      "execution_count": 6,
      "outputs": [
        {
          "output_type": "stream",
          "text": [
            "['국내 코스 피가 3000 선을 돌파하였습니다!', '이번 해는 정말 기대가 되네요!']\n"
          ],
          "name": "stdout"
        }
      ]
    },
    {
      "cell_type": "code",
      "metadata": {
        "pycharm": {
          "name": "#%%\n"
        },
        "colab": {
          "base_uri": "https://localhost:8080/"
        },
        "id": "0NMJ4w8cpbYg",
        "outputId": "340f12d4-c1d7-4e63-aa1b-d6b0326b62dc"
      },
      "source": [
        "from konlpy.tag import Komoran\n",
        "# 코모란 형태소 분석기 객체 생성\n",
        "komoran = Komoran()\n",
        "text = \"거인의 어깨위에 올라서라.\"\n",
        "\n",
        "# 형태소 추출\n",
        "morphs = komoran.morphs(text)\n",
        "print(morphs)"
      ],
      "execution_count": 7,
      "outputs": [
        {
          "output_type": "stream",
          "text": [
            "['거인', '의', '어깨', '위', '에', '올라서', '라', '.']\n"
          ],
          "name": "stdout"
        }
      ]
    },
    {
      "cell_type": "code",
      "metadata": {
        "pycharm": {
          "name": "#%%\n"
        },
        "colab": {
          "base_uri": "https://localhost:8080/"
        },
        "id": "rcU8LQ4-pbYh",
        "outputId": "82fc0458-a2a8-469c-9c70-82a109d66135"
      },
      "source": [
        "# 형태소와 품사 태그 추출\n",
        "pos = komoran.pos(text)\n",
        "print(pos)"
      ],
      "execution_count": 8,
      "outputs": [
        {
          "output_type": "stream",
          "text": [
            "[('거인', 'NNP'), ('의', 'JKG'), ('어깨', 'NNG'), ('위', 'NNG'), ('에', 'JKB'), ('올라서', 'VV'), ('라', 'EF'), ('.', 'SF')]\n"
          ],
          "name": "stdout"
        }
      ]
    },
    {
      "cell_type": "code",
      "metadata": {
        "pycharm": {
          "name": "#%%\n"
        },
        "colab": {
          "base_uri": "https://localhost:8080/"
        },
        "id": "DvQx3ShypbYh",
        "outputId": "7e21def1-959d-42fe-e2c8-4ec9eafb7eed"
      },
      "source": [
        "# 명사만 추출\n",
        "nouns = komoran.nouns(text)\n",
        "print(nouns)"
      ],
      "execution_count": 9,
      "outputs": [
        {
          "output_type": "stream",
          "text": [
            "['거인', '어깨', '위']\n"
          ],
          "name": "stdout"
        }
      ]
    },
    {
      "cell_type": "code",
      "metadata": {
        "colab": {
          "base_uri": "https://localhost:8080/"
        },
        "id": "LwJHhEQkrlxe",
        "outputId": "8226235b-bc97-4001-a0e3-668b9dd53e49"
      },
      "source": [
        "from konlpy.tag import Okt\n",
        "# Okt 형태소 분석기 객체 생성\n",
        "okt = Okt() \n",
        "text = \"트위터에서 개발한 형태소 분석기 Okt\" \n",
        "\n",
        "# 형태소 추출\n",
        "morphs = okt.morphs(text) \n",
        "print(morphs)"
      ],
      "execution_count": 10,
      "outputs": [
        {
          "output_type": "stream",
          "text": [
            "['트위터', '에서', '개발', '한', '형태소', '분석', '기', 'Okt']\n"
          ],
          "name": "stdout"
        }
      ]
    },
    {
      "cell_type": "code",
      "metadata": {
        "colab": {
          "base_uri": "https://localhost:8080/"
        },
        "id": "CiK2iyKCsLQa",
        "outputId": "9efe16ea-e1ab-4f09-a63c-9ad827a13aea"
      },
      "source": [
        "# 형태소와 품사 태그 추출\n",
        "pos = okt.pos(text) \n",
        "print(pos)"
      ],
      "execution_count": 11,
      "outputs": [
        {
          "output_type": "stream",
          "text": [
            "[('트위터', 'Noun'), ('에서', 'Josa'), ('개발', 'Noun'), ('한', 'Josa'), ('형태소', 'Noun'), ('분석', 'Noun'), ('기', 'Noun'), ('Okt', 'Alpha')]\n"
          ],
          "name": "stdout"
        }
      ]
    },
    {
      "cell_type": "code",
      "metadata": {
        "colab": {
          "base_uri": "https://localhost:8080/"
        },
        "id": "SFtaVQxLsUeq",
        "outputId": "3a986b72-643b-4144-f04c-613b03b20426"
      },
      "source": [
        "# 명사만 추출\n",
        "nouns = okt.nouns(text)  \n",
        "print(nouns)"
      ],
      "execution_count": 12,
      "outputs": [
        {
          "output_type": "stream",
          "text": [
            "['트위터', '개발', '형태소', '분석', '기']\n"
          ],
          "name": "stdout"
        }
      ]
    },
    {
      "cell_type": "code",
      "metadata": {
        "colab": {
          "base_uri": "https://localhost:8080/"
        },
        "id": "OOcTx0zSsZg4",
        "outputId": "4b586aae-b0f3-4efd-bac6-2a09f69d1e42"
      },
      "source": [
        "# 정규화, 어구 추출\n",
        "text = \"정규화 시도해보깈ㅋㅋㅋㅋㅋ\" \n",
        "print(okt.normalize(text)) \n",
        "print(okt.phrases(text))"
      ],
      "execution_count": 13,
      "outputs": [
        {
          "output_type": "stream",
          "text": [
            "정규화 시도해보기ㅋㅋㅋ\n",
            "['정규화', '정규화 시도', '시도']\n"
          ],
          "name": "stdout"
        }
      ]
    },
    {
      "cell_type": "code",
      "metadata": {
        "colab": {
          "base_uri": "https://localhost:8080/"
        },
        "id": "jNFc3pElcEh9",
        "outputId": "91a91a93-d554-4e50-d9e7-2358588bdfdd"
      },
      "source": [
        "from google.colab import drive\n",
        "drive.mount('/content/drive')"
      ],
      "execution_count": 14,
      "outputs": [
        {
          "output_type": "stream",
          "text": [
            "Mounted at /content/drive\n"
          ],
          "name": "stdout"
        }
      ]
    },
    {
      "cell_type": "code",
      "metadata": {
        "id": "xGMwn0jjsZvj",
        "colab": {
          "base_uri": "https://localhost:8080/"
        },
        "outputId": "5110eee8-1d5d-42a2-b0ae-42fd116118e1"
      },
      "source": [
        "from gensim.models import Word2Vec \n",
        "from konlpy.tag import Komoran \n",
        "import time\n",
        "\n",
        "# 네이버 영화 리뷰 데이터 읽어옴 \n",
        "def read_review_data(filename):\n",
        "  with open(filename, 'r') as f:\n",
        "    data = [line.split('\\t') for line in f.read().splitlines()] \n",
        "    data = data[1:] # header 제거\n",
        "  return data\n",
        "\n",
        "# 측정 시작\n",
        "start = time.time()\n",
        "\n",
        "# 리뷰 파일 읽어오기\n",
        "print('1) 말뭉치 데이터 읽기 시작')\n",
        "review_data = read_review_data('/content/drive/MyDrive/Colab_Notebooks/data_nlp/ratings.txt') \n",
        "print(len(review_data)) # 리뷰 데이터 전체 개수\n",
        "print('1) 말뭉치 데이터 읽기 완료: ', time.time() - start)"
      ],
      "execution_count": 15,
      "outputs": [
        {
          "output_type": "stream",
          "text": [
            "1) 말뭉치 데이터 읽기 시작\n",
            "200000\n",
            "1) 말뭉치 데이터 읽기 완료:  1.656266689300537\n"
          ],
          "name": "stdout"
        }
      ]
    },
    {
      "cell_type": "code",
      "metadata": {
        "id": "Q3RDVbEnHSCw",
        "colab": {
          "base_uri": "https://localhost:8080/"
        },
        "outputId": "0f1b7152-c963-4e31-90b4-216bdc10794b"
      },
      "source": [
        "# 문장단위로 명사만 추출해 학습 입력 데이터로 만듬\n",
        "print('2) 형태소에서 명사만 추출 시작')\n",
        "komoran = Komoran()\n",
        "docs = [komoran.nouns(sentence[1]) for sentence in review_data]\n",
        "print('2) 형태소에서 명사만 추출 완료: ', time.time() - start)"
      ],
      "execution_count": 16,
      "outputs": [
        {
          "output_type": "stream",
          "text": [
            "2) 형태소에서 명사만 추출 시작\n",
            "2) 형태소에서 명사만 추출 완료:  156.5513617992401\n"
          ],
          "name": "stdout"
        }
      ]
    },
    {
      "cell_type": "markdown",
      "metadata": {
        "id": "PQPzgIAEf0ty"
      },
      "source": [
        "![word2vec](https://user-images.githubusercontent.com/28593767/115336861-f0cf6c00-a1da-11eb-815e-773c8b1d8716.png)\n"
      ]
    },
    {
      "cell_type": "code",
      "metadata": {
        "colab": {
          "base_uri": "https://localhost:8080/"
        },
        "id": "7o5SxrrteiN_",
        "outputId": "e107a1b7-c0d4-4feb-e058-7414b1032750"
      },
      "source": [
        "# word2vec 모델 학습\n",
        "print('3) word2vec 모델 학습 시작')\n",
        "model = Word2Vec(sentences=docs, size=200, window=4, min_count=2, sg=1) \n",
        "print('3) word2vec 모델 학습 완료: ', time.time() - start)"
      ],
      "execution_count": 17,
      "outputs": [
        {
          "output_type": "stream",
          "text": [
            "3) word2vec 모델 학습 시작\n",
            "3) word2vec 모델 학습 완료:  181.40194845199585\n"
          ],
          "name": "stdout"
        }
      ]
    },
    {
      "cell_type": "code",
      "metadata": {
        "colab": {
          "base_uri": "https://localhost:8080/"
        },
        "id": "8ydNWHtwgcPZ",
        "outputId": "5efa2c9e-5e51-40f0-e2ec-c332dc364f96"
      },
      "source": [
        "# 모델 저장\n",
        "print('4) 학습된 모델 저장 시작') \n",
        "model.save('/content/drive/MyDrive/Colab_Notebooks/data_nlp/nvmc.model') \n",
        "print('4) 학습된 모델 저장 완료: ', time.time() - start)"
      ],
      "execution_count": 19,
      "outputs": [
        {
          "output_type": "stream",
          "text": [
            "4) 학습된 모델 저장 시작\n",
            "4) 학습된 모델 저장 완료:  457.6273057460785\n"
          ],
          "name": "stdout"
        }
      ]
    },
    {
      "cell_type": "code",
      "metadata": {
        "colab": {
          "base_uri": "https://localhost:8080/"
        },
        "id": "4FwlLRNzgsf9",
        "outputId": "b47c6311-318f-4b4a-9307-6d06c15343f2"
      },
      "source": [
        "# 학습된 말뭉치 개수, 코퍼스 내 전체 단어 개수 \n",
        "print(\"corpus_count : \", model.corpus_count) \n",
        "print(\"corpus_total_words : \", model.corpus_total_words)"
      ],
      "execution_count": 20,
      "outputs": [
        {
          "output_type": "stream",
          "text": [
            "corpus_count :  200000\n",
            "corpus_total_words :  1076896\n"
          ],
          "name": "stdout"
        }
      ]
    },
    {
      "cell_type": "code",
      "metadata": {
        "colab": {
          "base_uri": "https://localhost:8080/"
        },
        "id": "genuvj9hivbM",
        "outputId": "2ed8e235-c229-48d3-e5b8-becb8e56f971"
      },
      "source": [
        "# 모델 로딩\n",
        "model = Word2Vec.load('/content/drive/MyDrive/Colab_Notebooks/data_nlp/nvmc.model') \n",
        "print(\"corpus_total_words : \", model.corpus_total_words)"
      ],
      "execution_count": 22,
      "outputs": [
        {
          "output_type": "stream",
          "text": [
            "corpus_total_words :  1076896\n"
          ],
          "name": "stdout"
        }
      ]
    },
    {
      "cell_type": "code",
      "metadata": {
        "colab": {
          "base_uri": "https://localhost:8080/"
        },
        "id": "fE59KxSNi3Qz",
        "outputId": "39a8a403-314a-4613-f31d-1c7478e422fc"
      },
      "source": [
        "# '사랑'이란 단어로 생성한 단어 임베딩 벡터 \n",
        "print('사랑 : ', model.wv['사랑'])"
      ],
      "execution_count": 23,
      "outputs": [
        {
          "output_type": "stream",
          "text": [
            "사랑 :  [-0.13942128 -0.16700919 -0.11383553  0.10721043 -0.17076369 -0.45397413\n",
            "  0.27751765  0.20602822 -0.02943875  0.01778933 -0.11554421 -0.36770803\n",
            " -0.03889825 -0.20280802  0.4544831   0.25672284  0.4165739   0.24694075\n",
            "  0.02965643  0.04014489  0.05003343  0.14081623  0.53975207  0.32834074\n",
            " -0.52688825  0.01191469  0.24112207  0.62268406  0.1706313  -0.04350467\n",
            "  0.14891042  0.2767436   0.36890125 -0.20104706  0.18907505  0.15152262\n",
            "  0.26625448 -0.04337716  0.01487687  0.11456443 -0.19571492 -0.28775942\n",
            " -0.17705299  0.07345479  0.4729766  -0.44712612 -0.05195167  0.03940356\n",
            "  0.36243108  0.41134545  0.03471749  0.15986504 -0.13539328 -0.00407774\n",
            " -0.16571757 -0.04960795  0.42976162 -0.6298046  -0.14148065  0.083768\n",
            " -0.19510013  0.13992682 -0.24870299 -0.24830733 -0.2350071  -0.18462215\n",
            " -0.18194099  0.12208567  0.49397764 -0.1004668  -0.0101516   0.1118672\n",
            "  0.21075422  0.10197547 -0.11133939  0.16151907 -0.5533288  -0.08946005\n",
            "  0.01113127  0.12505639  0.2880543   0.1716263  -0.08025781  0.35780123\n",
            "  0.02060566 -0.04617439  0.08146702  0.09821229 -0.04651362 -0.26734266\n",
            "  0.29902202  0.05350436  0.08249931  0.07870813  0.05367598 -0.08421668\n",
            "  0.08262988 -0.06687315  0.01995952 -0.30741     0.02168338  0.08945917\n",
            " -0.1595774   0.18540323  0.20965187 -0.3422992  -0.01438693 -0.16288522\n",
            "  0.16619352  0.35346657 -0.01449604  0.24150725 -0.27850378 -0.5057998\n",
            "  0.08213048  0.11202138  0.5945248   0.4535356  -0.02233465  0.13240851\n",
            " -0.19188838 -0.14350118  0.20852984  0.06386382 -0.20419158 -0.1841284\n",
            " -0.11583418 -0.06756261  0.24593803 -0.04696969 -0.1286448   0.3521156\n",
            "  0.0512855   0.14183438  0.15048502 -0.07705315  0.18634091  0.010992\n",
            "  0.39037833  0.5007967   0.35423163 -0.23570243  0.130765    0.36364007\n",
            "  0.28550738  0.28890717  0.1313005  -0.18419997 -0.07142733 -0.06410834\n",
            " -0.3997353  -0.08610829  0.20452334  0.08548032  0.08770292  0.3412794\n",
            "  0.15548614  0.12196131  0.12081391 -0.0872606  -0.22078861  0.1663887\n",
            " -0.06462409  0.0815559   0.22755736 -0.0717878   0.5866944  -0.03138391\n",
            " -0.2557351   0.318944    0.5087088   0.52343136  0.0593858  -0.18915655\n",
            "  0.03643885  0.18095489 -0.06920354 -0.0561718   0.12015947 -0.0469491\n",
            "  0.1027278  -0.10868743 -0.00736036  0.37634206 -0.33264786 -0.1212827\n",
            " -0.21208836 -0.16240893 -0.12606336  0.09311187 -0.1402923  -0.1769798\n",
            "  0.02409526  0.13792574 -0.01693616 -0.03834438  0.13284485 -0.21751401\n",
            " -0.40756625 -0.30335575]\n"
          ],
          "name": "stdout"
        }
      ]
    },
    {
      "cell_type": "code",
      "metadata": {
        "colab": {
          "base_uri": "https://localhost:8080/"
        },
        "id": "b2d5q4KljGbd",
        "outputId": "4cc479e9-8f1a-4c49-fbba-4ea95494f20f"
      },
      "source": [
        "# 단어 유사도 계산\n",
        "print(\"일요일 = 월요일\\t\", model.wv.similarity(w1='일요일', w2='월요일')) \n",
        "print(\"안성기 = 배우\\t\", model.wv.similarity(w1='안성기', w2='배우')) \n",
        "print(\"대기업 = 삼성\\t\", model.wv.similarity(w1='대기업', w2='삼성')) \n",
        "print(\"일요일 = 삼성\\t\", model.wv.similarity(w1='일요일', w2='삼성')) \n",
        "print(\"히어로 = 삼성\\t\", model.wv.similarity(w1='히어로', w2='삼성'))\n",
        "\n",
        "\n",
        "# 가장 유사한 단어 추출 \n",
        "print(model.wv.most_similar(\"신세경\", topn=5)) \n",
        "print(model.wv.most_similar(\"시리즈\", topn=5))"
      ],
      "execution_count": 39,
      "outputs": [
        {
          "output_type": "stream",
          "text": [
            "일요일 = 월요일\t 0.8954381\n",
            "안성기 = 배우\t 0.7341496\n",
            "대기업 = 삼성\t 0.88479316\n",
            "일요일 = 삼성\t 0.6191012\n",
            "히어로 = 삼성\t 0.44594395\n",
            "[('윤계상', 0.9296842813491821), ('유아인', 0.9274037480354309), ('신하균', 0.9184755086898804), ('장나라', 0.9172791242599487), ('김남길', 0.9145889282226562)]\n",
            "[('엑스맨', 0.8243157863616943), ('스타워즈', 0.8107457160949707), ('미이라', 0.8056933879852295), ('포터', 0.8007972240447998), ('다이하드', 0.7901696562767029)]\n"
          ],
          "name": "stdout"
        }
      ]
    },
    {
      "cell_type": "code",
      "metadata": {
        "id": "mEewaEwHuISc"
      },
      "source": [
        ""
      ],
      "execution_count": null,
      "outputs": []
    }
  ]
}