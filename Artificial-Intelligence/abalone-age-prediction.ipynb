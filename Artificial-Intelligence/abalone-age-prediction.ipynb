{
 "cells": [
  {
   "cell_type": "markdown",
   "metadata": {},
   "source": [
    "# Abalone Age Prediction\n",
    "\n",
    "![method](https://user-images.githubusercontent.com/28593767/112245885-1e390080-8c95-11eb-9dee-5f66bb94cbf8.png)\n",
    "\n",
    "회귀 분석을 이용한 전복 나이 예측"
   ]
  },
  {
   "cell_type": "code",
   "execution_count": 1,
   "metadata": {},
   "outputs": [],
   "source": [
    "import numpy as np\n",
    "import pandas as pd\n",
    "import csv\n",
    "\n",
    "np.random.seed(777)"
   ]
  },
  {
   "cell_type": "code",
   "execution_count": 2,
   "metadata": {},
   "outputs": [],
   "source": [
    "# Training hyper parameters\n",
    "RAND_MEAN = 0\n",
    "RAND_STD = 0.0030\n",
    "\n",
    "LEARNING_RATE = 0.001"
   ]
  },
  {
   "cell_type": "code",
   "execution_count": 3,
   "metadata": {},
   "outputs": [],
   "source": [
    "# Implement main_exec function\n",
    "# epoch number, minibatch size, output report, training rate\n",
    "def main_exec(epoch_count=10, mb_size=10, report=1, train_rate=0.8):\n",
    "    load_dataset()   # Load data\n",
    "    init_model()     # Initialize parameters\n",
    "    train_and_test(epoch_count, mb_size, report, train_rate)   # Train and test"
   ]
  },
  {
   "cell_type": "code",
   "execution_count": 4,
   "metadata": {},
   "outputs": [],
   "source": [
    "# Implement load_dataset function\n",
    "def load_dataset():\n",
    "    with open('data_nn/abalone.csv') as csv_file:\n",
    "        csvreader = csv.reader(csv_file)\n",
    "        next(csvreader, None)    # Skip the first row (column info)\n",
    "        rows = []\n",
    "        # Store csv data to empty list, rows\n",
    "        for row in csvreader:\n",
    "            rows.append(row)\n",
    "    # Global variable (전역 변수)\n",
    "    # Input vector size increases from 8 to 10 (One-hot vector)\n",
    "    global data, input_cnt, output_cnt\n",
    "    input_cnt, output_cnt = 10, 1    # Size of independant and dependant variables\n",
    "    data = np.zeros([len(rows), input_cnt+output_cnt])   # Buffer\n",
    "    \n",
    "    # One-hot vector\n",
    "    # I = [1,0,0], M = [0,1,0], F = [0,0,1]\n",
    "    for n, row in enumerate(rows):\n",
    "        if row[0] == 'I': data[n, 0] = 1\n",
    "        if row[0] == 'M': data[n, 1] = 1\n",
    "        if row[0] == 'F': data[n, 2] = 1\n",
    "        data[n, 3:] = row[1:]    # For the rest, store data from enumerate"
   ]
  },
  {
   "cell_type": "code",
   "execution_count": 5,
   "metadata": {},
   "outputs": [
    {
     "name": "stdout",
     "output_type": "stream",
     "text": [
      "[[ 0.      1.      0.     ...  0.101   0.15   15.    ]\n",
      " [ 0.      1.      0.     ...  0.0485  0.07    7.    ]\n",
      " [ 0.      0.      1.     ...  0.1415  0.21    9.    ]\n",
      " ...\n",
      " [ 0.      1.      0.     ...  0.2875  0.308   9.    ]\n",
      " [ 0.      0.      1.     ...  0.261   0.296  10.    ]\n",
      " [ 0.      1.      0.     ...  0.3765  0.495  12.    ]]\n"
     ]
    }
   ],
   "source": [
    "# data 출력 형태 확인 (원 핫 벡터 확인)\n",
    "\n",
    "with open('data_nn/abalone.csv') as csvfile:\n",
    "    csvreader = csv.reader(csvfile)\n",
    "    next(csvreader, None)    # Skip the first row (column info)\n",
    "    rows = []\n",
    "    for row in csvreader:\n",
    "        rows.append(row)\n",
    "        \n",
    "global data\n",
    "data = np.zeros([len(rows), 11]) \n",
    "\n",
    "for n, row in enumerate(rows):\n",
    "    if row[0] == 'I': data[n, 0] = 1\n",
    "    if row[0] == 'M': data[n, 1] = 1\n",
    "    if row[0] == 'F': data[n, 2] = 1\n",
    "    data[n, 3:] = row[1:]  \n",
    "print(data)"
   ]
  },
  {
   "cell_type": "code",
   "execution_count": 6,
   "metadata": {},
   "outputs": [],
   "source": [
    "# Implement parameters initializing function\n",
    "\n",
    "def init_model():\n",
    "    global weight, bias, input_cnt, output_cnt\n",
    "    weight = np.random.normal(RAND_MEAN, RAND_STD, [input_cnt, output_cnt])\n",
    "    bias = np.zeros([output_cnt])\n",
    "    # print(weight)\n",
    "    # print(bias)"
   ]
  },
  {
   "cell_type": "code",
   "execution_count": 7,
   "metadata": {},
   "outputs": [],
   "source": [
    "# Implement training and testing function & Ouput training result\n",
    "\n",
    "def train_and_test(epoch_count, mb_size, report, train_rate):\n",
    "    step_count = arrange_data(mb_size, train_rate)  # Return how many steps in each minibatch\n",
    "    test_x, test_y = get_test_data()                # Get x and y value from test data\n",
    "    \n",
    "    # Nested for-loop\n",
    "    for epoch in range(epoch_count):\n",
    "        losses, accs = [], []         # Store loss and accuracy of total minibatch (1 epoch)\n",
    "        for n in range(step_count):\n",
    "            # Return x and y value from train data from minibatch size and step count\n",
    "            train_x, train_y = get_train_data(mb_size, n)\n",
    "            loss, acc = run_train(train_x, train_y)\n",
    "            losses.append(loss)\n",
    "            accs.append(acc)\n",
    "        \n",
    "        if report > 0 and (epoch+1) % report == 0:\n",
    "            acc = run_test(test_x, test_y)\n",
    "            # format 5.3f : 소수점을 포함한 전체 자릿수.소수점 이하 자릿수\n",
    "            print(\"Epoch {} : Train - loss = {:5.3f}. accuracy = {:5.3f} / Test = {:5.3f}\".\\\n",
    "                  format(epoch+1, np.mean(losses), np.mean(accs), acc))\n",
    "            \n",
    "        final_acc = run_test(test_x, test_y)\n",
    "        print(\"\\n 최종 테스트 결과 : final accuracy = {:5.3f}.format(final_acc)\")"
   ]
  },
  {
   "cell_type": "code",
   "execution_count": null,
   "metadata": {},
   "outputs": [],
   "source": []
  }
 ],
 "metadata": {
  "kernelspec": {
   "display_name": "Python 3",
   "language": "python",
   "name": "python3"
  },
  "language_info": {
   "codemirror_mode": {
    "name": "ipython",
    "version": 3
   },
   "file_extension": ".py",
   "mimetype": "text/x-python",
   "name": "python",
   "nbconvert_exporter": "python",
   "pygments_lexer": "ipython3",
   "version": "3.8.5"
  },
  "toc": {
   "base_numbering": 1,
   "nav_menu": {},
   "number_sections": false,
   "sideBar": true,
   "skip_h1_title": false,
   "title_cell": "Table of Contents",
   "title_sidebar": "Contents",
   "toc_cell": false,
   "toc_position": {},
   "toc_section_display": true,
   "toc_window_display": false
  }
 },
 "nbformat": 4,
 "nbformat_minor": 5
}
