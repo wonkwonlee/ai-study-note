{
 "cells": [
  {
   "cell_type": "code",
   "execution_count": 13,
   "metadata": {},
   "outputs": [
    {
     "name": "stdout",
     "output_type": "stream",
     "text": [
      "Caitlyn 챔피언이 소환사의 협곡에 참여하였습니다.\n",
      "체력 400, 공격력 55 \n",
      "\n"
     ]
    }
   ],
   "source": [
    "# Caitlyn / Fast DPS / Gun\n",
    "name = \"Caitlyn\"\n",
    "hp = 400\n",
    "damage = 55\n",
    "\n",
    "print(\"{0} 챔피언이 소환사의 협곡에 참여하였습니다.\".format(name))\n",
    "print(\"체력 {0}, 공격력 {1} \\n\".format(hp, damage))"
   ]
  },
  {
   "cell_type": "code",
   "execution_count": 14,
   "metadata": {
    "scrolled": true
   },
   "outputs": [
    {
     "name": "stdout",
     "output_type": "stream",
     "text": [
      "Jhin 챔피언이 소환사의 협곡에 참여하였습니다.\n",
      "체력 550, 공격력 70 \n",
      "\n"
     ]
    }
   ],
   "source": [
    "# Jhin / Slow DPS / Strong gun\n",
    "J_name = \"Jhin\"\n",
    "J_hp = 550\n",
    "J_damage = 70\n",
    "\n",
    "print(\"{0} 챔피언이 소환사의 협곡에 참여하였습니다.\".format(J_name))\n",
    "print(\"체력 {0}, 공격력 {1} \\n\".format(J_hp, J_damage))"
   ]
  },
  {
   "cell_type": "code",
   "execution_count": 15,
   "metadata": {},
   "outputs": [
    {
     "name": "stdout",
     "output_type": "stream",
     "text": [
      "Caitlyn : 바텀 방향으로 상대 챔피언을 공격합니다. [공격력 55]\n",
      "Jhin : 바텀 방향으로 상대 챔피언을 공격합니다. [공격력 70]\n"
     ]
    }
   ],
   "source": [
    "def attack(name, location, damage):\n",
    "    print(\"{0} : {1} 방향으로 상대 챔피언을 공격합니다. [공격력 {2}]\".format(name, location, damage))\n",
    "attack(name, \"바텀\", damage)\n",
    "attack(J_name, \"바텀\", J_damage)"
   ]
  },
  {
   "cell_type": "code",
   "execution_count": null,
   "metadata": {},
   "outputs": [],
   "source": []
  }
 ],
 "metadata": {
  "kernelspec": {
   "display_name": "Python 3",
   "language": "python",
   "name": "python3"
  },
  "language_info": {
   "codemirror_mode": {
    "name": "ipython",
    "version": 3
   },
   "file_extension": ".py",
   "mimetype": "text/x-python",
   "name": "python",
   "nbconvert_exporter": "python",
   "pygments_lexer": "ipython3",
   "version": "3.8.5"
  },
  "pycharm": {
   "stem_cell": {
    "cell_type": "raw",
    "metadata": {
     "collapsed": false
    },
    "source": [
     "\n",
     "\n",
     "\n"
    ]
   }
  }
 },
 "nbformat": 4,
 "nbformat_minor": 1
}
