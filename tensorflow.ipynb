{
  "nbformat": 4,
  "nbformat_minor": 5,
  "metadata": {
    "kernelspec": {
      "display_name": "Python 3",
      "language": "python",
      "name": "python3"
    },
    "language_info": {
      "codemirror_mode": {
        "name": "ipython",
        "version": 3
      },
      "file_extension": ".py",
      "mimetype": "text/x-python",
      "name": "python",
      "nbconvert_exporter": "python",
      "pygments_lexer": "ipython3",
      "version": "3.7.10"
    },
    "toc": {
      "base_numbering": 1,
      "nav_menu": {},
      "number_sections": true,
      "sideBar": true,
      "skip_h1_title": false,
      "title_cell": "Table of Contents",
      "title_sidebar": "Contents",
      "toc_cell": false,
      "toc_position": {
        "height": "calc(100% - 180px)",
        "left": "10px",
        "top": "150px",
        "width": "247.594px"
      },
      "toc_section_display": true,
      "toc_window_display": false
    },
    "colab": {
      "name": "tensorflow.ipynb",
      "provenance": [],
      "collapsed_sections": [],
      "include_colab_link": true
    }
  },
  "cells": [
    {
      "cell_type": "markdown",
      "metadata": {
        "id": "view-in-github",
        "colab_type": "text"
      },
      "source": [
        "<a href=\"https://colab.research.google.com/github/wonkwonlee/likelion-k-digital-training-AI/blob/main/tensorflow.ipynb\" target=\"_parent\"><img src=\"https://colab.research.google.com/assets/colab-badge.svg\" alt=\"Open In Colab\"/></a>"
      ]
    },
    {
      "cell_type": "markdown",
      "metadata": {
        "id": "automotive-pillow"
      },
      "source": [
        "# 텐서플로 기초\n",
        "\n",
        "> 인공지능의 겨울(AI Winter) 이라 불리는 시기가 두 차례 있었는데 그 중 첫 번째는 퍼셉트론의 한계를 지적한 책 **퍼셉트론**의 발간이 영향을 미쳤다.\n",
        "> \n",
        "> AND, OR, XOR 연산\n",
        "\n",
        "## 난수 Random Number\n",
        "* 신경망의 초깃값을 지정해주는 것을 **초기화(Initialization)** 이라 한다.\n",
        "* 현재 가장 많이 쓰이는 방법은 **Xavier 초기화(Xavier Initialization)**, **He 초기화(He Initialization)** 인데, 이 방법들은 랜덤하지만 어느 정도 규칙성이 있는 범위 내에서 난수를 지정한다.\n",
        "\n",
        "### 균일 분포 Unifrom distribution\n",
        "* 균일 분포란 최솟값과 최댓값 사이의 모든 수가 나올 확률이 동일한 분포\n",
        "* tf.random.uniform() 메서드 사용\n",
        "* 첫번째 인자는 결괏값의 shape, 두번째 인자는 최솟값, 세번째 인자는 최대값"
      ],
      "id": "automotive-pillow"
    },
    {
      "cell_type": "code",
      "metadata": {
        "colab": {
          "base_uri": "https://localhost:8080/"
        },
        "id": "revised-album",
        "outputId": "420b00d8-f485-44bd-baaa-f873209406dc"
      },
      "source": [
        "# 텐서플로 버전 확인\n",
        "import tensorflow as tf \n",
        "print(tf.__version__) "
      ],
      "id": "revised-album",
      "execution_count": 1,
      "outputs": [
        {
          "output_type": "stream",
          "text": [
            "2.4.1\n"
          ],
          "name": "stdout"
        }
      ]
    },
    {
      "cell_type": "code",
      "metadata": {
        "colab": {
          "base_uri": "https://localhost:8080/"
        },
        "id": "sustained-updating",
        "outputId": "7f92c003-4949-43fc-cc74-2f19b509d674"
      },
      "source": [
        "rand = tf.random.uniform([4,2],0,1)\n",
        "print(rand)"
      ],
      "id": "sustained-updating",
      "execution_count": 2,
      "outputs": [
        {
          "output_type": "stream",
          "text": [
            "tf.Tensor(\n",
            "[[0.09990346 0.2948004 ]\n",
            " [0.00809145 0.61982906]\n",
            " [0.8457402  0.63781893]\n",
            " [0.66443753 0.54506636]], shape=(4, 2), dtype=float32)\n"
          ],
          "name": "stdout"
        }
      ]
    },
    {
      "cell_type": "markdown",
      "metadata": {
        "id": "thick-bradley"
      },
      "source": [
        "### 정규 분포 Normal Distribution\n",
        "* 정규 분포는 가운데가 높고 양극단으로 갈수록 낮아지는 분포\n",
        "* tf.random.normal() 메서드 사용\n",
        "* 두번째 인자는 정규 분포의 평균, 세번째 인자는 정규 분포의 표준 편차\n",
        "    + 평균이 0이고 표준 편차가 1일 때 표준 정규 분포라고 한다."
      ],
      "id": "thick-bradley"
    },
    {
      "cell_type": "code",
      "metadata": {
        "id": "ordered-uncle",
        "outputId": "ef3e6000-af91-4cf7-a158-3f0aa06ca298"
      },
      "source": [
        "# mean = 0, std = 1\n",
        "rand = tf.random.normal([4],0,1)\n",
        "print(rand)"
      ],
      "id": "ordered-uncle",
      "execution_count": null,
      "outputs": [
        {
          "output_type": "stream",
          "text": [
            "tf.Tensor([-0.40757585 -0.3489127   0.35641307  1.140465  ], shape=(4,), dtype=float32)\n"
          ],
          "name": "stdout"
        }
      ]
    },
    {
      "cell_type": "markdown",
      "metadata": {
        "id": "spectacular-paradise"
      },
      "source": [
        "## 뉴런\n",
        "* 입력 ➡️ 뉴런 ➡️ 출력\n",
        "* 입력 x ➡️ 가중치 w ➡️ 활성화함수 f ➡️ 출력 y\n",
        "* 뉴런에서 학습할 때 변하는 것은 가중치로 처음에는 초기화를 통해 랜덤한 값을 넣고 학습 과정에서 점차 일정한 값으로 수렴하게 된다.\n",
        "* 학습이 잘 된다는 것은 좋은 가중치를 얻어서 원하는 출력에 점점 가까운 값을 얻는 것을 말한다.\n",
        "* 활성화 함수는 시그모이드, ReLU 등이 쓰인다.\n",
        "    + 신경망 초창기에는 시그모이드가 주로 쓰였으니 은닉층이 다수 사용되며 ReLU가 더 많이 쓰인다.\n",
        "* 딥러닝에서 오류를 역전파(Backpropagate) 할 때 시그모이드 함수가 값이 점점 작아지는 문제로 인해 [ReLU 함수](https://www.cs.toronto.edu/~fritz/absps/reluICML.pdf)가 대안으로 제시되었다.\n"
      ],
      "id": "spectacular-paradise"
    },
    {
      "cell_type": "code",
      "metadata": {
        "id": "dedicated-gibson"
      },
      "source": [
        "# Sigmoid activation function\n",
        "import math\n",
        "def sigmoid(x):\n",
        "    return 1 / (1+math.exp(-x))"
      ],
      "id": "dedicated-gibson",
      "execution_count": null,
      "outputs": []
    },
    {
      "cell_type": "code",
      "metadata": {
        "id": "hired-slovakia",
        "outputId": "a4dce398-3ba5-4391-cb9f-fd12de948d6e"
      },
      "source": [
        "x = 1    # 입력값\n",
        "y = 0    # 출력값\n",
        "w = tf.random.normal([1],0,1)  # 초기 가중치\n",
        "\n",
        "output = sigmoid(x * w)        # 예측값  \n",
        "print(output)"
      ],
      "id": "hired-slovakia",
      "execution_count": null,
      "outputs": [
        {
          "output_type": "stream",
          "text": [
            "0.5803337141450682\n"
          ],
          "name": "stdout"
        }
      ]
    },
    {
      "cell_type": "markdown",
      "metadata": {
        "id": "temporal-details"
      },
      "source": [
        "### 경사 하강법 Gradient Descent\n",
        "* 실제 출력값(Output)과 기대 출력(y)의 차이를 에러(Error)라고 한다.\n",
        "* 경사 하강법은 w에 입력과 학습률(a)과 에러를 곱해주는 방법으로 *w = w + x * a * error* 라고 나타낸다.\n",
        "    + 학습률(Learning rate)는 w를 업데이트하는 정도로 큰 값으로 설정하면 학습 속도가 빠르지만 과도한 학습으로 적정 수치를 벗어날 우려가 있고 너무 작은 값은 학습 속도가 너무 느려질 수 있다.\n",
        "* 경사 하강법의 경사는 손실 곡선의 기울기를 의미한다.\n",
        "* 경사 하강법은 손실 곡선을 미분한 다음 그 값을 이용하여 가중치가 손실이 가장 낮아지는 지점에 도달하도록 반복적으로 계산한다."
      ],
      "id": "temporal-details"
    },
    {
      "cell_type": "code",
      "metadata": {
        "id": "original-reason",
        "outputId": "86a7aaa7-447a-4492-8207-d40a72fe1034"
      },
      "source": [
        "# Using gradient descent to calculate output\n",
        "\n",
        "# learning rate = 0.1\n",
        "a = 0.1\n",
        "# epoch = 1000\n",
        "for i in range(1000): \n",
        "    output = sigmoid(x * w) \n",
        "    error = y - output\n",
        "    # Training/Update\n",
        "    w = w + x * a * error\n",
        "\n",
        "    # Print only 100th result (ex i=99, 199, 299, ..., 999)\n",
        "    if i % 100 == 99:\n",
        "        print('반복 횟수 {0} : , 에러값 : {1}, 결과값 : {2}'.format(i, error, output))"
      ],
      "id": "original-reason",
      "execution_count": null,
      "outputs": [
        {
          "output_type": "stream",
          "text": [
            "반복 횟수 99 : , 에러값 : -0.10786565018391682, 결과값 : 0.10786565018391682\n",
            "반복 횟수 199 : , 에러값 : -0.053899421926197406, 결과값 : 0.053899421926197406\n",
            "반복 횟수 299 : , 에러값 : -0.035538856495399444, 결과값 : 0.035538856495399444\n",
            "반복 횟수 399 : , 에러값 : -0.026422023054466868, 결과값 : 0.026422023054466868\n",
            "반복 횟수 499 : , 에러값 : -0.020998091264506177, 결과값 : 0.020998091264506177\n",
            "반복 횟수 599 : , 에러값 : -0.01740896972097045, 결과값 : 0.01740896972097045\n",
            "반복 횟수 699 : , 에러값 : -0.01486133118912339, 결과값 : 0.01486133118912339\n",
            "반복 횟수 799 : , 에러값 : -0.012960610596220995, 결과값 : 0.012960610596220995\n",
            "반복 횟수 899 : , 에러값 : -0.01148888141704749, 결과값 : 0.01148888141704749\n",
            "반복 횟수 999 : , 에러값 : -0.010315955200393467, 결과값 : 0.010315955200393467\n"
          ],
          "name": "stdout"
        }
      ]
    },
    {
      "cell_type": "code",
      "metadata": {
        "id": "manual-finger",
        "outputId": "d335684e-63bb-4896-d20c-312bfeba73f1"
      },
      "source": [
        "# 입력이 0이고 출력이 1\n",
        "\n",
        "x = 0\n",
        "y = 1\n",
        "#w = tf.random.normal([1], 0,1) \n",
        "#w = tf.random.uniform([1], 0,1)\n",
        "\n",
        "a = 0.1\n",
        "for i in range(1000): \n",
        "    output = sigmoid(x * w) \n",
        "    error = y - output\n",
        "    w = w + x * a * error\n",
        "    \n",
        "    if i % 100 == 99:\n",
        "        print('반복 횟수 {0} : , 에러값 : {1}, 결과값 : {2}'.format(i,error, output))\n",
        "        \n",
        "        "
      ],
      "id": "manual-finger",
      "execution_count": null,
      "outputs": [
        {
          "output_type": "stream",
          "text": [
            "반복 횟수 99 : , 에러값 : 0.5, 결과값 : 0.5\n",
            "반복 횟수 199 : , 에러값 : 0.5, 결과값 : 0.5\n",
            "반복 횟수 299 : , 에러값 : 0.5, 결과값 : 0.5\n",
            "반복 횟수 399 : , 에러값 : 0.5, 결과값 : 0.5\n",
            "반복 횟수 499 : , 에러값 : 0.5, 결과값 : 0.5\n",
            "반복 횟수 599 : , 에러값 : 0.5, 결과값 : 0.5\n",
            "반복 횟수 699 : , 에러값 : 0.5, 결과값 : 0.5\n",
            "반복 횟수 799 : , 에러값 : 0.5, 결과값 : 0.5\n",
            "반복 횟수 899 : , 에러값 : 0.5, 결과값 : 0.5\n",
            "반복 횟수 999 : , 에러값 : 0.5, 결과값 : 0.5\n"
          ],
          "name": "stdout"
        }
      ]
    },
    {
      "cell_type": "markdown",
      "metadata": {
        "id": "solid-insert"
      },
      "source": [
        "> error값도 결과값도 0.5에서 변하지 않는다. 왜냐하면 입력으로 넣은 수가 0이기 때문에 w가 갱신되지 않는다.\n",
        "\n",
        "\n",
        "### 편향 Bias\n",
        "* 편향은 입력으로는 늘 한쪽으로 치우친 고정된 값(b = 1)을 받아서 입력으로 0을 받았을 때 뉴런이 아무것도 배우지 못하는 상황을 방지한다.\n",
        "* 편향 역시 w처럼 난수로 초기화되서 뉴런에 더해져서 출력을 계산하게 된다.\n",
        "* 편향이 더해진 뉴런의 출력 계산식은 *Y = f(X * w + 1 * b)* 라고 나타낸다.\n",
        "\n",
        "![b](https://user-images.githubusercontent.com/28593767/111951384-f3c93500-8b26-11eb-977f-6d60e3d2d39b.png)"
      ],
      "id": "solid-insert"
    },
    {
      "cell_type": "code",
      "metadata": {
        "scrolled": true,
        "id": "exciting-machine",
        "outputId": "7b7eeeeb-e101-4aa9-864f-5673fdfc9a73"
      },
      "source": [
        "# 편향 추가\n",
        "\n",
        "x = 0\n",
        "y = 1\n",
        "w = tf.random.normal([1], 0,1) \n",
        "b = tf.random.uniform([1], 0,1)\n",
        "\n",
        "a = 0.1\n",
        "for i in range(1000): \n",
        "    output = sigmoid(x * w + 1 * b) \n",
        "    error = y - output\n",
        "    w = w + x * a * error\n",
        "    b = b + 1 * a * error\n",
        "    \n",
        "    if i % 100 == 99:\n",
        "        print('반복 횟수 {0} : , 에러값 : {1}, 결과값 : {2}'.format(i,error, output))"
      ],
      "id": "exciting-machine",
      "execution_count": null,
      "outputs": [
        {
          "output_type": "stream",
          "text": [
            "반복 횟수 99 : , 에러값 : 0.09448796264598214, 결과값 : 0.9055120373540179\n",
            "반복 횟수 199 : , 에러값 : 0.05016521840287913, 결과값 : 0.9498347815971209\n",
            "반복 횟수 299 : , 에러값 : 0.03384851830265623, 결과값 : 0.9661514816973438\n",
            "반복 횟수 399 : , 에러값 : 0.025468313766778605, 결과값 : 0.9745316862332214\n",
            "반복 횟수 499 : , 에러값 : 0.020388210650287508, 결과값 : 0.9796117893497125\n",
            "반복 횟수 599 : , 에러값 : 0.01698628911914557, 결과값 : 0.9830137108808544\n",
            "반복 횟수 699 : , 에러값 : 0.014551502627808577, 결과값 : 0.9854484973721914\n",
            "반복 횟수 799 : , 에러값 : 0.012723906150726938, 결과값 : 0.9872760938492731\n",
            "반복 횟수 899 : , 에러값 : 0.011302196076267035, 결과값 : 0.988697803923733\n",
            "반복 횟수 999 : , 에러값 : 0.010165031638684097, 결과값 : 0.9898349683613159\n"
          ],
          "name": "stdout"
        }
      ]
    },
    {
      "cell_type": "markdown",
      "metadata": {
        "id": "looking-aspect"
      },
      "source": [
        "## AND 연산\n",
        "* AND 연산은 입력이 모두 참 값일 때 참이 되고, 그 밖의 경우에는 모두 거짓이 된다.\n",
        "* 프로그래밍에서는 관습적으로 거짓을 0이라 표시하고 참을 0이 아닌 다른 값으로 표시한다.\n",
        "\n",
        "![AND](https://user-images.githubusercontent.com/28593767/112101737-7e269d00-8bea-11eb-8c87-bf3d24a1c1a7.png)"
      ],
      "id": "looking-aspect"
    },
    {
      "cell_type": "code",
      "metadata": {
        "id": "capital-conclusion",
        "outputId": "6202761a-0ce1-43af-de94-9ed25e7bac0b"
      },
      "source": [
        "# AND 연산 \n",
        "# x, y를 넘파이 array로 정의\n",
        "# 리스트는 정수가 아닌 수를 곱할 수 없지만 array는 실수를 곱할 수 있다.\n",
        "\n",
        "import numpy as np\n",
        "\n",
        "x = np.array([[1,1],[1,0],[0,1],[0,0]])  # 입력값\n",
        "y = np.array([[1],[0],[0],[0]])          # 출력값\n",
        "w = tf.random.normal([2],0,1)            # 초기 가중치\n",
        "b = tf.random.normal([1],0,1)            # 편향\n",
        "b_x = 1                                  # 고정된 편향값\n",
        "\n",
        "# 하이퍼 파라미터(학습율)\n",
        "a = 0.1\n",
        "for i in range(2000):\n",
        "    error_sum = 0\n",
        "    \n",
        "    for j in range(4):\n",
        "        output = sigmoid(np.sum(x[j]*w) + b_x*b) \n",
        "        error = y[j][0] - output\n",
        "        w = w + x[j] * a * error       # 원소에 대한 연산(element-wise)\n",
        "        b = b + b_x * a * error\n",
        "        error_sum += error\n",
        "        \n",
        "    # Print only 200th result\n",
        "    if i % 200 == 199:\n",
        "        print(i, error_sum)"
      ],
      "id": "capital-conclusion",
      "execution_count": null,
      "outputs": [
        {
          "output_type": "stream",
          "text": [
            "199 -0.11003026359524606\n",
            "399 -0.06561083806139906\n",
            "599 -0.04662799899970279\n",
            "799 -0.0360600564674673\n",
            "999 -0.029343878767919766\n",
            "1199 -0.0247078635438404\n",
            "1399 -0.02132126880362394\n",
            "1599 -0.018741055609916114\n",
            "1799 -0.016710722647793632\n",
            "1999 -0.015073397967912374\n"
          ],
          "name": "stdout"
        }
      ]
    },
    {
      "cell_type": "code",
      "metadata": {
        "id": "favorite-flavor",
        "outputId": "c98c51af-9e2a-48b4-f5ac-2261887a46f1"
      },
      "source": [
        "# 네트워크에 x값을 넣었을 때 실제 출력이 기대 출력인 y값에 얼마나 가까운지 확인\n",
        "for i in range(4):\n",
        "    print('X:', x[i], 'Y:', y[i], 'Output:', sigmoid(np.sum(x[i]*w)+b))"
      ],
      "id": "favorite-flavor",
      "execution_count": null,
      "outputs": [
        {
          "output_type": "stream",
          "text": [
            "X: [1 1] Y: [1] Output: 0.9648089445513748\n",
            "X: [1 0] Y: [0] Output: 0.024937239196749072\n",
            "X: [0 1] Y: [0] Output: 0.02501355162346913\n",
            "X: [0 0] Y: [0] Output: 2.3931678496725494e-05\n"
          ],
          "name": "stdout"
        }
      ]
    },
    {
      "cell_type": "markdown",
      "metadata": {
        "id": "general-dressing"
      },
      "source": [
        "## OR 연산\n",
        "![OR](https://user-images.githubusercontent.com/28593767/112101739-7f57ca00-8bea-11eb-8034-37e1c7fd82ff.png)"
      ],
      "id": "general-dressing"
    },
    {
      "cell_type": "code",
      "metadata": {
        "id": "other-brain",
        "outputId": "845f95ce-ae6d-40e0-d8c7-c06d96bbd856"
      },
      "source": [
        "# OR 연산 \n",
        "import numpy as np\n",
        "\n",
        "x = np.array([[1,1],[1,0],[0,1],[0,0]])  # 입력값\n",
        "y = np.array([[1],[1],[1],[0]])          # 출력값  <--- AND연산과의 차이\n",
        "w = tf.random.normal([2],0,1)            # 초기 가중치\n",
        "b = tf.random.normal([1],0,1)            # 편향\n",
        "b_x = 1                                  # 고정된 편향값\n",
        "\n",
        "for i in range(2000):\n",
        "    error_sum = 0\n",
        "    \n",
        "    for j in range(4):\n",
        "        output = sigmoid(np.sum(x[j]*w) + b_x*b) \n",
        "        error = y[j][0] - output\n",
        "        w = w + x[j] * 0.1 * error       # 원소에 대한 연산(element-wise)\n",
        "        b = b + b_x * 0.1 * error\n",
        "        error_sum += error\n",
        "        \n",
        "    # Print only 200th result\n",
        "    if i % 200 == 199:\n",
        "        print(i, error_sum)"
      ],
      "id": "other-brain",
      "execution_count": null,
      "outputs": [
        {
          "output_type": "stream",
          "text": [
            "199 -0.055589407683865805\n",
            "399 -0.027496425772412764\n",
            "599 -0.01813171942996268\n",
            "799 -0.013472537244346189\n",
            "999 -0.0106970758600052\n",
            "1199 -0.008859700486486537\n",
            "1399 -0.007555966653526737\n",
            "1599 -0.006583863649986907\n",
            "1799 -0.005831621396811891\n",
            "1999 -0.005231466921091981\n"
          ],
          "name": "stdout"
        }
      ]
    },
    {
      "cell_type": "code",
      "metadata": {
        "id": "funny-scott",
        "outputId": "c30fb49a-4349-49c7-a4ed-1473f4b07c08"
      },
      "source": [
        "# 네트워크에 x값을 넣었을 때 실제 출력이 기대 출력인 y값에 얼마나 가까운지 확인\n",
        "for i in range(4):\n",
        "    print('X:', x[i], 'Y:', y[i], 'Output:', sigmoid(np.sum(x[i]*w)+b))"
      ],
      "id": "funny-scott",
      "execution_count": null,
      "outputs": [
        {
          "output_type": "stream",
          "text": [
            "X: [1 1] Y: [1] Output: 0.9999970693684695\n",
            "X: [1 0] Y: [1] Output: 0.9896264698278397\n",
            "X: [0 1] Y: [1] Output: 0.9896081851184444\n",
            "X: [0 0] Y: [0] Output: 0.02593388818460478\n"
          ],
          "name": "stdout"
        }
      ]
    },
    {
      "cell_type": "markdown",
      "metadata": {
        "id": "associate-costs"
      },
      "source": [
        "## XOR 연산\n",
        "![xor](https://user-images.githubusercontent.com/28593767/112101827-a8785a80-8bea-11eb-80fb-af0fedefb382.png)\n"
      ],
      "id": "associate-costs"
    },
    {
      "cell_type": "code",
      "metadata": {
        "id": "delayed-comparison",
        "outputId": "1c619287-1e8f-446a-dff1-de8c65dc134c"
      },
      "source": [
        "# XOR 연산 \n",
        "# AND, OR 연산과 동일하게 작성\n",
        "import numpy as np\n",
        "\n",
        "x = np.array([[1,1],[1,0],[0,1],[0,0]])  # 입력값\n",
        "y = np.array([[0],[1],[1],[0]])          # 출력값\n",
        "w = tf.random.normal([2],0,1)            # 초기 가중치\n",
        "b = tf.random.normal([1],0,1)            # 편향\n",
        "b_x = 1                                  # 고정된 편향값\n",
        "\n",
        "for i in range(2000):\n",
        "    error_sum = 0\n",
        "    for j in range(4):\n",
        "        output = sigmoid(np.sum(x[j]*w) + b_x*b) \n",
        "        error = y[j][0] - output\n",
        "        w = w + x[j] * 0.1 * error       # 원소에 대한 연산(element-wise)\n",
        "        b = b + b_x * 0.1 * error\n",
        "        error_sum += error\n",
        "        \n",
        "    # Print only 200th result\n",
        "    if i % 200 == 199:\n",
        "        print(i, error_sum)"
      ],
      "id": "delayed-comparison",
      "execution_count": null,
      "outputs": [
        {
          "output_type": "stream",
          "text": [
            "199 0.004497410850683559\n",
            "399 0.00018280430645190027\n",
            "599 7.427080467192759e-06\n",
            "799 2.9689667957466526e-07\n",
            "999 3.722842145670313e-09\n",
            "1199 1.8614210173240053e-09\n",
            "1399 1.8614210173240053e-09\n",
            "1599 1.8614210173240053e-09\n",
            "1799 1.8614210173240053e-09\n",
            "1999 1.8614210173240053e-09\n"
          ],
          "name": "stdout"
        }
      ]
    },
    {
      "cell_type": "code",
      "metadata": {
        "id": "prime-monaco",
        "outputId": "2617f026-36c6-4576-e036-1d3bb67c8e78"
      },
      "source": [
        "# 에러값이 점점 줄어들다 어느 순간 변하지 않는다.\n",
        "# XOR 연산은 신경망으로 풀 수 없다.\n",
        "\n",
        "for i in range(4):\n",
        "    print('X:', x[i], 'Y:', y[i], 'Output:', sigmoid(np.sum(x[i]*w)+b))\n",
        "    \n",
        "print('w:', w)\n",
        "print('b:', b)"
      ],
      "id": "prime-monaco",
      "execution_count": null,
      "outputs": [
        {
          "output_type": "stream",
          "text": [
            "X: [1 1] Y: [0] Output: 0.5128176323940516\n",
            "X: [1 0] Y: [1] Output: 0.5128176314633411\n",
            "X: [0 1] Y: [1] Output: 0.4999999990686774\n",
            "X: [0 0] Y: [0] Output: 0.49999999813735485\n",
            "w: tf.Tensor([5.1281769e-02 3.7252903e-09], shape=(2,), dtype=float32)\n",
            "b: tf.Tensor([-7.450581e-09], shape=(1,), dtype=float32)\n"
          ],
          "name": "stdout"
        }
      ]
    },
    {
      "cell_type": "markdown",
      "metadata": {
        "id": "solid-dependence"
      },
      "source": [
        "### AND 연산과 XOR 연산의 차이\n",
        "* AND 연산의 가중치가 하려는 작업은 XOR 연산에 비해 분명하다.\n",
        "* AND 연산 두 개의 가중치가 비슷하기 때문에 입력 2개는 서로 거의 비슷한 중요도를 지닌다.\n",
        "* 편향값은 큰 음수로 중간 계산값을 음수로 보내려는 경향을 확인할 수 있다.\n",
        "* 두 가중치를 모두 합쳐야 음수 편향을 이겨낼 수 있다.\n",
        "* 반면 XOR 연산는 어떤 일을 하려는지 명확하지 않다. \n",
        "    + 가중치 w1이 w2에 비해 좀 더 큰 값을 가지고 있기는 하지만 중간 계산 값은 0에 가까워지고 시그모이드 함수를 취한 값은 0.5에 가까워질 뿐이다.\n",
        "    \n",
        "![and_xor](https://user-images.githubusercontent.com/28593767/112101741-7ff06080-8bea-11eb-9be0-28bc1d02c535.png)    \n",
        "    \n",
        "> 이것이 바로 첫 번째 인공지능의 겨울을 불러온 것으로 잘 알려진 **XOR 문제(XOR Problem)** 이다. \n",
        "> \n",
        "> 하나의 퍼셉트론으로는 간단한 XOR 연산자도 만들어 낼 수 없다는 것을 동명의 책인 \"퍼셉트론\"에서 마빈 민스키와 시모어 페퍼트가 증명했다.\n",
        ">\n",
        "> 해결책은 바로 **여러 개의 퍼셉트론을 사용하는 것**이다."
      ],
      "id": "solid-dependence"
    },
    {
      "cell_type": "code",
      "metadata": {
        "id": "national-gossip",
        "outputId": "81580354-84d5-4dc2-b1ec-f6d6c823bf3e"
      },
      "source": [
        "# 세 개의 퍼셉트론과 뉴런을 이용한 XOR 연산\n",
        "\n",
        "import numpy as np \n",
        "import tensorflow as tf\n",
        "\n",
        "x = np.array([[1,1],[1,0],[0,1],[0,0]]) \n",
        "y = np.array([[0],[1],[1],[0]])\n",
        "\n",
        "model = tf.keras.Sequential([tf.keras.layers.Dense(units=2,activation='sigmoid',input_shape=(2,)), \n",
        "                             tf.keras.layers.Dense(units=1,activation='sigmoid')])\n",
        "\n",
        "model.compile(optimizer=tf.keras.optimizers.SGD(lr=0.3),loss='mse') \n",
        "model.summary()"
      ],
      "id": "national-gossip",
      "execution_count": null,
      "outputs": [
        {
          "output_type": "stream",
          "text": [
            "Model: \"sequential\"\n",
            "_________________________________________________________________\n",
            "Layer (type)                 Output Shape              Param #   \n",
            "=================================================================\n",
            "dense (Dense)                (None, 2)                 6         \n",
            "_________________________________________________________________\n",
            "dense_1 (Dense)              (None, 1)                 3         \n",
            "=================================================================\n",
            "Total params: 9\n",
            "Trainable params: 9\n",
            "Non-trainable params: 0\n",
            "_________________________________________________________________\n"
          ],
          "name": "stdout"
        }
      ]
    },
    {
      "cell_type": "markdown",
      "metadata": {
        "id": "early-phoenix"
      },
      "source": [
        "### tf.keras를 이용한 XOR 네트워크\n",
        "* model : 딥러닝 계산을 간편하게 하기 위한 추상적인 클래스 \n",
        "    + 쉽게 말해 여러 함수와 변수의 묶음이다.\n",
        "* tf.keras.Sequential : 뉴런과 뉴런이 합쳐진 단위인 레이어를 일직선으로 배치한 것\n",
        "* tf.keras.layers.Dense : model에서 사용하는 레이어를 정의하는 명령\n",
        "    + Dense는 가장 기본적인 레이어로서 레이어의 입력과 출력 사이에 있는 모든 뉴런이 서로 연결되는 **완결 연결 계층(Fully Connected Layer)** 레이어이다.\n",
        "* units : 레이어를 구성하는 뉴런의 수를 정의\n",
        "    + 뉴런이 많을수록 일반적으로 레이어의 성능은 좋아지지만 계산량도 많아지고 메모리도 많이 차지하게 된다.\n",
        "* activation : 활성화함수\n",
        "    + 위에서는 sigmoid를 사용했다.\n",
        "* input_shape : 입력의 차원 수가 어떻게 되는지를 정의\n",
        "    + 시퀀셜 모델의 첫 번째 레이어에서만 사용한다.\n",
        "    + 위에서는 각 데이터가 2개의 입력을 받는 1차원 array이므로 1차원 원소의 개수인 2개를 명시해서 (2,)라고 정의했다.\n",
        " \n",
        " \n",
        "* optimizer : 딥러닝의 학습식을 정의하는 부분\n",
        "    + tf.keras에서는 복잡한 수식되신 미리 정의된 최적화 함수를 사용 가능하다.\n",
        "* SGD : 확률적 경사하강법(Stochastic Gradient Descent)의 약자\n",
        "    + 경사하강법은 가중치를 업데이트할 때 미분을 통해 기울기를 구한 다음 기울기가 낮은 쪽으로 업데이트한다는 의미이고 확률적은 확률적으로 일부 샘플을 구해서 조금씩 나눠서 계산하겠다는 의미이다.\n",
        "* loss : error와 비슷한 개념\n",
        "    + mse는 평균제곱오차의 약자로 기대 출력(y_k)에서 실제 출력(output_k)을 뺀 뒤에 제곱한 값을 평균하는 것으로 구한다.\n",
        "* model.summary() : 현재 네트워크 구조를 알아보기 쉽게 출력하는 기능   \n",
        "\n",
        "\n",
        "* Trainable params : 학습 가능한 파라미터\n",
        "* Non-trainable params : 학습 불가능한 파라미터 (다른 신경망을 불러 사용할 때)\n",
        "\n",
        "\n",
        "#### 편향을 포함한 2-레이어 XOR 네트워크 구조\n",
        "![xor2](https://user-images.githubusercontent.com/28593767/112102202-3fddad80-8beb-11eb-9453-b6563dbbecd9.png)\n",
        "\n"
      ],
      "id": "early-phoenix"
    },
    {
      "cell_type": "code",
      "metadata": {
        "id": "brutal-seven"
      },
      "source": [
        "# 네트워크 실제 학습\n",
        "history = model.fit(x, y, epochs=2000, batch_size=1)\n",
        "\n",
        "# 파라미터 출력\n",
        "for weight in model.weights:\n",
        "    print(weight)\n",
        "\n",
        "# 학습이 끝난 네트워크 평가\n",
        "# model.predict(x)"
      ],
      "id": "brutal-seven",
      "execution_count": null,
      "outputs": []
    },
    {
      "cell_type": "markdown",
      "metadata": {
        "id": "designed-alexander"
      },
      "source": [
        "* model.fit() : 에폭(epoch)에 지정된 횟수만큼 학습\n",
        "* epoch : 훈련 데이터를 반복 학습 시키는 횟수 \n",
        "* batch_size : 한번에 학습시키는 데이터의 수\n",
        "\n",
        "\n",
        "#### XOR 네트워크 실험 결과\n",
        "<img width=\"1026\" alt=\"result\" src=\"https://user-images.githubusercontent.com/28593767/112107406-402d7700-8bf2-11eb-8a1d-41273007c3d3.png\">\n",
        "\n",
        "* 가중치 정보는 model.weights에 저장되어 있다. \n",
        "    + kernel : 입력과 레이어 또는 레이어 사이의 뉴런을 연결할 때 사용되는 가중치\n",
        "    + bias : 편향과 연결된 가중치\n",
        "* 뉴런과 레이어 개수가 늘어날 수록 가중치들이 무슨 역할을 하는지 한눈에 파악하기가 어려워진다.\n",
        "* 따라서 가중치 시각화보다 네트워크의 학습 상황을 더 잘 파악할 수 있는 방법이 필요하다."
      ],
      "id": "designed-alexander"
    },
    {
      "cell_type": "code",
      "metadata": {
        "id": "contrary-number",
        "outputId": "7adced37-592a-4bfd-cb49-46f6605c7d98"
      },
      "source": [
        "import matplotlib.pyplot as plt\n",
        "\n",
        "plt.plot(history.history['loss'])\n",
        "plt.show"
      ],
      "id": "contrary-number",
      "execution_count": null,
      "outputs": [
        {
          "output_type": "execute_result",
          "data": {
            "text/plain": [
              "<function matplotlib.pyplot.show(close=None, block=None)>"
            ]
          },
          "metadata": {
            "tags": []
          },
          "execution_count": 6
        },
        {
          "output_type": "display_data",
          "data": {
            "image/png": "[encoded data removed]",
            "text/plain": [
              "<Figure size 432x288 with 1 Axes>"
            ]
          },
          "metadata": {
            "tags": [],
            "needs_background": "light"
          }
        }
      ]
    },
    {
      "cell_type": "markdown",
      "metadata": {
        "id": "absolute-rogers"
      },
      "source": [
        "> 처음에는 손실이 점점 감소하다가 어느 시점부터 급격히 감소하고 나중에는 거의 감소하지 않는 S자 곡선을 그린다.\n",
        ">\n",
        "> 손실을 시각화하면 **네트워크 학습 현황을 한눈에 파악**할 수 있다.\n",
        "\n",
        "* y축: loss vs x축: 학습 횟수 (y의 길이)\n",
        "* plt.plot()에 하나의 변수만 전달하면 그 변수를 y로 간주하고 x는 자동으로 range(len(y))에 해당하는 값을 넣어 그래프를 만든다."
      ],
      "id": "absolute-rogers"
    },
    {
      "cell_type": "markdown",
      "metadata": {
        "id": "we4J7mCKGSeG"
      },
      "source": [
        "## Boston Housing Dataset"
      ],
      "id": "we4J7mCKGSeG"
    },
    {
      "cell_type": "code",
      "metadata": {
        "colab": {
          "base_uri": "https://localhost:8080/"
        },
        "id": "annoying-rider",
        "outputId": "ae980510-8fe1-4ab0-8891-8ac2ce6baf8f"
      },
      "source": [
        "import tensorflow as tf\n",
        "from tensorflow.keras.datasets import boston_housing\n",
        "(train_X, train_Y), (test_X, test_Y) = boston_housing.load_data()\n",
        "\n",
        "print(len(train_X), len(test_X)) \n",
        "print(train_X[0]) \n",
        "print(train_Y[0])"
      ],
      "id": "annoying-rider",
      "execution_count": 3,
      "outputs": [
        {
          "output_type": "stream",
          "text": [
            "Downloading data from https://storage.googleapis.com/tensorflow/tf-keras-datasets/boston_housing.npz\n",
            "57344/57026 [==============================] - 0s 0us/step\n",
            "404 102\n",
            "[  1.23247   0.        8.14      0.        0.538     6.142    91.7\n",
            "   3.9769    4.      307.       21.      396.9      18.72   ]\n",
            "15.2\n"
          ],
          "name": "stdout"
        }
      ]
    },
    {
      "cell_type": "markdown",
      "metadata": {
        "id": "external-modeling"
      },
      "source": [
        "Standardization = (data - mean) / std"
      ],
      "id": "external-modeling"
    },
    {
      "cell_type": "code",
      "metadata": {
        "colab": {
          "base_uri": "https://localhost:8080/"
        },
        "id": "thousand-borough",
        "outputId": "d0b143d4-6179-4bb1-a7e2-e0473f66c502"
      },
      "source": [
        "# Standardize the data\n",
        "x_mean = train_X.mean(axis=0) \n",
        "x_std = train_X.std(axis=0)\n",
        "\n",
        "# (data - mean) / std\n",
        "train_X -= x_mean\n",
        "train_X /= x_std\n",
        "test_X -= x_mean\n",
        "test_X /= x_std\n",
        "\n",
        "y_mean = train_Y.mean(axis=0) \n",
        "y_std = train_Y.std(axis=0) \n",
        "train_Y -= y_mean\n",
        "train_Y /= y_std\n",
        "test_Y -= y_mean\n",
        "test_Y /= y_std\n",
        "\n",
        "print(train_X[0])\n",
        "print(train_Y[0])"
      ],
      "id": "thousand-borough",
      "execution_count": 18,
      "outputs": [
        {
          "output_type": "stream",
          "text": [
            "[-0.27224633 -0.48361547 -0.43576161 -0.25683275 -0.1652266  -0.1764426\n",
            "  0.81306188  0.1166983  -0.62624905 -0.59517003  1.14850044  0.44807713\n",
            "  0.8252202 ]\n",
            "-0.782152603377916\n"
          ],
          "name": "stdout"
        }
      ]
    },
    {
      "cell_type": "code",
      "metadata": {
        "colab": {
          "base_uri": "https://localhost:8080/"
        },
        "id": "moved-freedom",
        "outputId": "3b61bc30-c8f0-4760-b254-bcfe7254c03d"
      },
      "source": [
        "# Create Boston Housing Dataset regression model \n",
        "model = tf.keras.Sequential([\n",
        "        # Unit값은 처음에는 큰 수로 넣고 줄여나가는 경우가 많다\n",
        "        tf.keras.layers.Dense(units=52, activation='relu', input_shape=(13,)), \n",
        "        tf.keras.layers.Dense(units=39, activation='relu'), \n",
        "        tf.keras.layers.Dense(units=26, activation='relu'), \n",
        "        tf.keras.layers.Dense(units=1)\n",
        "])\n",
        "\n",
        "model.compile(optimizer=tf.keras.optimizers.Adam(lr=0.07), loss='mse') \n",
        "model.summary()"
      ],
      "id": "moved-freedom",
      "execution_count": 19,
      "outputs": [
        {
          "output_type": "stream",
          "text": [
            "Model: \"sequential_1\"\n",
            "_________________________________________________________________\n",
            "Layer (type)                 Output Shape              Param #   \n",
            "=================================================================\n",
            "dense_4 (Dense)              (None, 52)                728       \n",
            "_________________________________________________________________\n",
            "dense_5 (Dense)              (None, 39)                2067      \n",
            "_________________________________________________________________\n",
            "dense_6 (Dense)              (None, 26)                1040      \n",
            "_________________________________________________________________\n",
            "dense_7 (Dense)              (None, 1)                 27        \n",
            "=================================================================\n",
            "Total params: 3,862\n",
            "Trainable params: 3,862\n",
            "Non-trainable params: 0\n",
            "_________________________________________________________________\n"
          ],
          "name": "stdout"
        }
      ]
    },
    {
      "cell_type": "code",
      "metadata": {
        "colab": {
          "base_uri": "https://localhost:8080/"
        },
        "id": "modern-kentucky",
        "outputId": "07fb5b50-590b-4e64-9129-a873fe1b55b5"
      },
      "source": [
        "# Use 25% of data for training\n",
        "# Callback : 과적합을 막기 위해 학습 중간에 멈추는 과정\n",
        "history = model.fit(train_X, train_Y, epochs=25, batch_size=32, validation_split=0.25,\n",
        "                    callbacks=[tf.keras.callbacks.EarlyStopping(patience=3, monitor='val_loss')])"
      ],
      "id": "modern-kentucky",
      "execution_count": 20,
      "outputs": [
        {
          "output_type": "stream",
          "text": [
            "Epoch 1/25\n",
            "10/10 [==============================] - 1s 19ms/step - loss: 6.8502 - val_loss: 0.9527\n",
            "Epoch 2/25\n",
            "10/10 [==============================] - 0s 6ms/step - loss: 0.5155 - val_loss: 0.6660\n",
            "Epoch 3/25\n",
            "10/10 [==============================] - 0s 7ms/step - loss: 0.4356 - val_loss: 0.8741\n",
            "Epoch 4/25\n",
            "10/10 [==============================] - 0s 6ms/step - loss: 0.4073 - val_loss: 0.3323\n",
            "Epoch 5/25\n",
            "10/10 [==============================] - 0s 6ms/step - loss: 0.2112 - val_loss: 0.3213\n",
            "Epoch 6/25\n",
            "10/10 [==============================] - 0s 7ms/step - loss: 0.2264 - val_loss: 0.4838\n",
            "Epoch 7/25\n",
            "10/10 [==============================] - 0s 6ms/step - loss: 0.4914 - val_loss: 0.7421\n",
            "Epoch 8/25\n",
            "10/10 [==============================] - 0s 6ms/step - loss: 0.4945 - val_loss: 0.2917\n",
            "Epoch 9/25\n",
            "10/10 [==============================] - 0s 6ms/step - loss: 0.2008 - val_loss: 0.2340\n",
            "Epoch 10/25\n",
            "10/10 [==============================] - 0s 6ms/step - loss: 0.1620 - val_loss: 0.2190\n",
            "Epoch 11/25\n",
            "10/10 [==============================] - 0s 7ms/step - loss: 0.1338 - val_loss: 0.2046\n",
            "Epoch 12/25\n",
            "10/10 [==============================] - 0s 7ms/step - loss: 0.1705 - val_loss: 0.1758\n",
            "Epoch 13/25\n",
            "10/10 [==============================] - 0s 7ms/step - loss: 0.1148 - val_loss: 0.1597\n",
            "Epoch 14/25\n",
            "10/10 [==============================] - 0s 7ms/step - loss: 0.1117 - val_loss: 0.1329\n",
            "Epoch 15/25\n",
            "10/10 [==============================] - 0s 6ms/step - loss: 0.1034 - val_loss: 0.1356\n",
            "Epoch 16/25\n",
            "10/10 [==============================] - 0s 6ms/step - loss: 0.1325 - val_loss: 0.1458\n",
            "Epoch 17/25\n",
            "10/10 [==============================] - 0s 8ms/step - loss: 0.0828 - val_loss: 0.1384\n"
          ],
          "name": "stdout"
        }
      ]
    },
    {
      "cell_type": "code",
      "metadata": {
        "colab": {
          "base_uri": "https://localhost:8080/",
          "height": 282
        },
        "id": "afraid-smooth",
        "outputId": "268f76e4-e43c-40b0-c6fe-9ad5c460dad6"
      },
      "source": [
        "# 과적합이 일어난 그래프\n",
        "\n",
        "import matplotlib.pyplot as plt \n",
        "plt.plot(history.history['loss'], 'b-', label='loss') \n",
        "plt.plot(history.history['val_loss'], 'r--', label='val_loss') \n",
        "plt.xlabel('Epoch')\n",
        "plt.legend()\n",
        "plt.show()"
      ],
      "id": "afraid-smooth",
      "execution_count": 11,
      "outputs": [
        {
          "output_type": "display_data",
          "data": {
            "image/png": "[encoded data removed]",
            "text/plain": [
              "<Figure size 432x288 with 1 Axes>"
            ]
          },
          "metadata": {
            "tags": [],
            "needs_background": "light"
          }
        }
      ]
    },
    {
      "cell_type": "code",
      "metadata": {
        "colab": {
          "base_uri": "https://localhost:8080/",
          "height": 279
        },
        "id": "i-53YiZvGY4c",
        "outputId": "3c4b36e0-ee9c-4d9b-80bd-f49701f379fb"
      },
      "source": [
        "# Callback으로 과적합을 방지한 그래프\n",
        "\n",
        "import matplotlib.pyplot as plt \n",
        "plt.plot(history.history['loss'], 'b-', label='loss') \n",
        "plt.plot(history.history['val_loss'], 'r--', label='val_loss') \n",
        "plt.xlabel('Epoch')\n",
        "plt.legend()\n",
        "plt.show()"
      ],
      "id": "i-53YiZvGY4c",
      "execution_count": 21,
      "outputs": [
        {
          "output_type": "display_data",
          "data": {
            "image/png": "[encoded data removed]",
            "text/plain": [
              "<Figure size 432x288 with 1 Axes>"
            ]
          },
          "metadata": {
            "tags": [],
            "needs_background": "light"
          }
        }
      ]
    },
    {
      "cell_type": "code",
      "metadata": {
        "colab": {
          "base_uri": "https://localhost:8080/"
        },
        "id": "cOwXF5dBIiQI",
        "outputId": "d5220f87-1b8c-41f5-f009-584c51ce8de8"
      },
      "source": [
        "model.evaluate(test_X, test_Y)"
      ],
      "id": "cOwXF5dBIiQI",
      "execution_count": 22,
      "outputs": [
        {
          "output_type": "stream",
          "text": [
            "4/4 [==============================] - 0s 3ms/step - loss: 0.2603\n"
          ],
          "name": "stdout"
        },
        {
          "output_type": "execute_result",
          "data": {
            "text/plain": [
              "0.26032203435897827"
            ]
          },
          "metadata": {
            "tags": []
          },
          "execution_count": 22
        }
      ]
    },
    {
      "cell_type": "code",
      "metadata": {
        "colab": {
          "base_uri": "https://localhost:8080/",
          "height": 1000
        },
        "id": "RAM5jySyI-z6",
        "outputId": "f9e17aab-c74a-4644-aab5-3d92f3a11461"
      },
      "source": [
        "import matplotlib.pyplot as plt\n",
        "\n",
        "pred_Y = model.predict(test_X)\n",
        "\n",
        "plt.figure(figsize=(5,5))\n",
        "plt.plot(test_Y, pred_Y, 'b.')\n",
        "plt.axis([min(test_Y), max(test_Y), min(test_Y), max(test_Y)])\n",
        "\n",
        "plt.plot([min(test_Y), max(test_Y)], [min(test_Y), max(test_Y)], ls=\"--\", c=\".3\") \n",
        "plt.xlabel('test_Y')\n",
        "plt.ylabel('pred_Y')\n",
        "\n",
        "plt.show()\n",
        "\n",
        "print(pred_Y)"
      ],
      "id": "RAM5jySyI-z6",
      "execution_count": 25,
      "outputs": [
        {
          "output_type": "display_data",
          "data": {
            "image/png": "[encoded data removed]",
            "text/plain": [
              "<Figure size 360x360 with 1 Axes>"
            ]
          },
          "metadata": {
            "tags": [],
            "needs_background": "light"
          }
        },
        {
          "output_type": "stream",
          "text": [
            "[[-1.4894485e+00]\n",
            " [-3.6142641e-01]\n",
            " [-7.9048917e-02]\n",
            " [ 5.4831153e-01]\n",
            " [-4.0792108e-02]\n",
            " [-2.6002920e-01]\n",
            " [ 8.6094266e-01]\n",
            " [-4.0792108e-02]\n",
            " [-3.8653442e-01]\n",
            " [-2.9085851e-01]\n",
            " [-7.2959828e-01]\n",
            " [-7.6041043e-01]\n",
            " [-7.6046634e-01]\n",
            " [ 2.2372627e+00]\n",
            " [-4.2188185e-01]\n",
            " [-4.0792108e-02]\n",
            " [ 3.3412957e-01]\n",
            " [-4.0792108e-02]\n",
            " [-4.3352666e-01]\n",
            " [ 1.0297340e+00]\n",
            " [-1.1127460e+00]\n",
            " [-9.6653664e-01]\n",
            " [-2.8124130e-01]\n",
            " [-8.7907618e-01]\n",
            " [-4.0792108e-02]\n",
            " [ 1.7412491e-01]\n",
            " [ 4.9933717e-01]\n",
            " [ 1.4613345e-01]\n",
            " [-1.2520341e+00]\n",
            " [-4.0792108e-02]\n",
            " [-2.6304466e-01]\n",
            " [-9.4998550e-01]\n",
            " [ 1.0068456e+00]\n",
            " [ 8.7744489e-02]\n",
            " [-5.6207675e-01]\n",
            " [-1.6314012e+00]\n",
            " [-7.8557557e-01]\n",
            " [-4.5463949e-01]\n",
            " [-4.0034950e-01]\n",
            " [ 3.8473946e-01]\n",
            " [ 4.4881299e-01]\n",
            " [ 4.6056429e-01]\n",
            " [-8.8881481e-01]\n",
            " [ 2.3261211e+00]\n",
            " [ 3.4790623e-01]\n",
            " [-4.0792108e-02]\n",
            " [ 4.3183661e-01]\n",
            " [-5.3523600e-01]\n",
            " [ 3.5493815e-01]\n",
            " [-4.0792108e-02]\n",
            " [ 1.2330019e+00]\n",
            " [-6.2386316e-01]\n",
            " [-1.2364172e+00]\n",
            " [-1.0389301e+00]\n",
            " [ 1.5638621e+00]\n",
            " [ 4.4088492e-01]\n",
            " [-1.0909156e+00]\n",
            " [ 2.8875833e+00]\n",
            " [ 1.0287271e+00]\n",
            " [-4.0792108e-02]\n",
            " [ 1.8080054e-01]\n",
            " [-6.8875337e-01]\n",
            " [-9.3246847e-01]\n",
            " [-3.4050483e-01]\n",
            " [-1.9741125e-02]\n",
            " [-4.0792108e-02]\n",
            " [-1.0416589e+00]\n",
            " [-4.7681406e-02]\n",
            " [-1.2118417e+00]\n",
            " [-1.5399122e+00]\n",
            " [ 9.1045463e-01]\n",
            " [ 8.5699290e-01]\n",
            " [ 2.4061263e-01]\n",
            " [-1.0406607e+00]\n",
            " [ 4.8968157e-01]\n",
            " [-2.2602318e-01]\n",
            " [-4.0792108e-02]\n",
            " [ 1.4332116e-01]\n",
            " [ 1.2736748e+00]\n",
            " [-1.4341474e+00]\n",
            " [-1.6123289e-01]\n",
            " [ 1.8181896e+00]\n",
            " [-8.5735065e-01]\n",
            " [-9.8344296e-01]\n",
            " [-5.4913205e-01]\n",
            " [-4.4178650e-01]\n",
            " [-1.7773558e-01]\n",
            " [-4.0792108e-02]\n",
            " [ 1.4396645e-03]\n",
            " [ 9.8111242e-01]\n",
            " [-6.3082951e-01]\n",
            " [-4.0792108e-02]\n",
            " [ 4.8129442e-01]\n",
            " [ 2.5237586e+00]\n",
            " [ 1.2271791e+00]\n",
            " [-5.5976003e-01]\n",
            " [ 1.5114822e+00]\n",
            " [ 3.3456290e+00]\n",
            " [ 3.4771839e-01]\n",
            " [ 2.7349942e+00]\n",
            " [ 5.8186644e-01]\n",
            " [-2.5304127e-01]]\n"
          ],
          "name": "stdout"
        }
      ]
    }
  ]
}