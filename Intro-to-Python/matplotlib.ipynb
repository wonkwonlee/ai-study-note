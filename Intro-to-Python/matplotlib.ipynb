{
 "cells": [
  {
   "cell_type": "markdown",
   "metadata": {},
   "source": [
    "# 데이터 시각화 Data Visualization\n",
    "> 앤스콤 4분할 그래프는 데이터를 시각화하지 않고 수치만 확인할 때 발생할 수 있는 함정을 보여주는 그래프이다."
   ]
  },
  {
   "cell_type": "code",
   "execution_count": 2,
   "metadata": {},
   "outputs": [
    {
     "name": "stdout",
     "output_type": "stream",
     "text": [
      "  dataset     x      y\n",
      "0       I  10.0   8.04\n",
      "1       I   8.0   6.95\n",
      "2       I  13.0   7.58\n",
      "3       I   9.0   8.81\n",
      "4       I  11.0   8.33\n",
      "5       I  14.0   9.96\n",
      "6       I   6.0   7.24\n",
      "7       I   4.0   4.26\n",
      "8       I  12.0  10.84\n",
      "9       I   7.0   4.82\n",
      "<class 'pandas.core.frame.DataFrame'>\n"
     ]
    }
   ],
   "source": [
    "# 앤스콤 데이터 셋은 seaborn 라이브러리에 포함\n",
    "import seaborn as sns\n",
    "\n",
    "anscombe = sns.load_dataset(\"anscombe\")\n",
    "print(anscombe[:10])\n",
    "print(type(anscombe))"
   ]
  },
  {
   "cell_type": "code",
   "execution_count": null,
   "metadata": {},
   "outputs": [],
   "source": []
  }
 ],
 "metadata": {
  "kernelspec": {
   "display_name": "Python 3",
   "language": "python",
   "name": "python3"
  },
  "language_info": {
   "codemirror_mode": {
    "name": "ipython",
    "version": 3
   },
   "file_extension": ".py",
   "mimetype": "text/x-python",
   "name": "python",
   "nbconvert_exporter": "python",
   "pygments_lexer": "ipython3",
   "version": "3.8.5"
  },
  "toc": {
   "base_numbering": 1,
   "nav_menu": {},
   "number_sections": true,
   "sideBar": true,
   "skip_h1_title": false,
   "title_cell": "Table of Contents",
   "title_sidebar": "Contents",
   "toc_cell": false,
   "toc_position": {},
   "toc_section_display": true,
   "toc_window_display": false
  }
 },
 "nbformat": 4,
 "nbformat_minor": 4
}
