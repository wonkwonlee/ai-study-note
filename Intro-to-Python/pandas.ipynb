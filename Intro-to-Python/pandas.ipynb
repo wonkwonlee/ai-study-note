{
 "cells": [
  {
   "cell_type": "markdown",
   "metadata": {},
   "source": [
    "# Pandas \n",
    "> 판다스(Pandas)는 데이터프레임(DataFrame)과 시리즈(Series)라는 자료형과 데이터 분석을 위한 다양한 기능을 제공하는 파이썬 라이브러리이다\n",
    ">\n",
    "> 판다스의 기초 개념을 정리하고 실습을 통해 판다스를 숙지한다\n",
    "\n",
    "## Pandas 시작하기\n",
    "> *빅데이터의 분석의 시작은 데이터 불러오기 부터*\n",
    ">\n",
    "> import pandas 명령어 사용\n",
    "\n",
    "* csv : Comma-Separated Values. 콤마로 구분\n",
    "* tsv : Tab-Separated Values. 탭으로 구분"
   ]
  },
  {
   "cell_type": "code",
   "execution_count": 1,
   "metadata": {
    "scrolled": true
   },
   "outputs": [],
   "source": [
    "import pandas as pd\n",
    "df = pd.read_csv('data_visual/gapminder.tsv', sep='\\t')    # Load gapminder, 탭으로 구분"
   ]
  },
  {
   "cell_type": "markdown",
   "metadata": {},
   "source": [
    "### 시리즈와 데이터프레임\n",
    "* 데이터프레임 DataFrame : 엑셀에서 볼 수 있는 시트(Sheet)와 동일한 개념\n",
    "* 시리즈 Series : 시트의 열 1개를 의미\n",
    "* read_csv(): 데이터 집합을 데이터프레임 자료형으로 변환한다\n",
    "* head() : 데이터프레임에서 가장 앞 5개의 행을 출력한다\n",
    "* type() : 자료형을 출력한다 \n",
    "    + 자료가 데이터프레임인지 확인 가능하다\n",
    "* shape() : 행과 열의 크기를 출력한다"
   ]
  },
  {
   "cell_type": "code",
   "execution_count": 2,
   "metadata": {},
   "outputs": [
    {
     "name": "stdout",
     "output_type": "stream",
     "text": [
      "       country continent  year  lifeExp       pop   gdpPercap\n",
      "0  Afghanistan      Asia  1952   28.801   8425333  779.445314\n",
      "1  Afghanistan      Asia  1957   30.332   9240934  820.853030\n",
      "2  Afghanistan      Asia  1962   31.997  10267083  853.100710\n",
      "3  Afghanistan      Asia  1967   34.020  11537966  836.197138\n",
      "4  Afghanistan      Asia  1972   36.088  13079460  739.981106\n",
      "<class 'pandas.core.frame.DataFrame'>\n",
      "(1704, 6)\n"
     ]
    }
   ],
   "source": [
    "print(df.head())    # df의 5개의 행 출력\n",
    "print(type(df))     # df의 자료형 출력\n",
    "print(df.shape)     # df의 행, 열의 크기 출력"
   ]
  },
  {
   "cell_type": "code",
   "execution_count": 3,
   "metadata": {},
   "outputs": [
    {
     "name": "stdout",
     "output_type": "stream",
     "text": [
      "Index(['country', 'continent', 'year', 'lifeExp', 'pop', 'gdpPercap'], dtype='object')\n"
     ]
    }
   ],
   "source": [
    "print(df.columns)     # Pandas의 string은 object라고 한다"
   ]
  },
  {
   "cell_type": "code",
   "execution_count": null,
   "metadata": {},
   "outputs": [],
   "source": []
  }
 ],
 "metadata": {
  "kernelspec": {
   "display_name": "Python 3",
   "language": "python",
   "name": "python3"
  },
  "language_info": {
   "codemirror_mode": {
    "name": "ipython",
    "version": 3
   },
   "file_extension": ".py",
   "mimetype": "text/x-python",
   "name": "python",
   "nbconvert_exporter": "python",
   "pygments_lexer": "ipython3",
   "version": "3.8.5"
  }
 },
 "nbformat": 4,
 "nbformat_minor": 5
}
