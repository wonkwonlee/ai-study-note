{
 "cells": [
  {
   "cell_type": "code",
   "execution_count": 1,
   "metadata": {},
   "outputs": [
    {
     "name": "stdout",
     "output_type": "stream",
     "text": [
      "Caitlyn 챔피언이 소환사의 협곡에 참여하였습니다.\n",
      "체력 400, 공격력 55 \n",
      "\n"
     ]
    }
   ],
   "source": [
    "# Caitlyn / Fast DPS / Gun\n",
    "name = \"Caitlyn\"\n",
    "hp = 400\n",
    "damage = 55\n",
    "\n",
    "print(\"{0} 챔피언이 소환사의 협곡에 참여하였습니다.\".format(name))\n",
    "print(\"체력 {0}, 공격력 {1} \\n\".format(hp, damage))"
   ]
  },
  {
   "cell_type": "code",
   "execution_count": 2,
   "metadata": {
    "scrolled": true
   },
   "outputs": [
    {
     "name": "stdout",
     "output_type": "stream",
     "text": [
      "Jhin 챔피언이 소환사의 협곡에 참여하였습니다.\n",
      "체력 550, 공격력 70 \n",
      "\n"
     ]
    }
   ],
   "source": [
    "# Jhin / Slow DPS / Strong gun\n",
    "J_name = \"Jhin\"\n",
    "J_hp = 550\n",
    "J_damage = 70\n",
    "\n",
    "print(\"{0} 챔피언이 소환사의 협곡에 참여하였습니다.\".format(J_name))\n",
    "print(\"체력 {0}, 공격력 {1} \\n\".format(J_hp, J_damage))"
   ]
  },
  {
   "cell_type": "code",
   "execution_count": 3,
   "metadata": {},
   "outputs": [
    {
     "name": "stdout",
     "output_type": "stream",
     "text": [
      "Caitlyn : 바텀 방향으로 상대 챔피언을 공격합니다. [공격력 55]\n",
      "Jhin : 바텀 방향으로 상대 챔피언을 공격합니다. [공격력 70]\n"
     ]
    }
   ],
   "source": [
    "def attack(name, location, damage):\n",
    "    print(\"{0} : {1} 방향으로 상대 챔피언을 공격합니다. [공격력 {2}]\".format(name, location, damage))\n",
    "attack(name, \"바텀\", damage)\n",
    "attack(J_name, \"바텀\", J_damage)"
   ]
  },
  {
   "cell_type": "code",
   "execution_count": 4,
   "metadata": {},
   "outputs": [
    {
     "name": "stdout",
     "output_type": "stream",
     "text": [
      "Caitlyn : 바텀 방향으로 상대 챔피언을 공격합니다. [공격력 55]\n",
      "Jhin : 바텀 방향으로 상대 챔피언을 공격합니다. [공격력 70]\n",
      "진 : 바텀 방향으로 상대 챔피언을 공격합니다. [공격력 70]\n"
     ]
    }
   ],
   "source": [
    "# New Champion\n",
    "J_name_2 = \"진\" \n",
    "J_hp_2 = 550 \n",
    "J_damage_2 = 70\n",
    "\n",
    "attack(name, \"바텀\", damage)\n",
    "attack(J_name, \"바텀\", J_damage)\n",
    "attack(J_name_2, \"바텀\", J_damage_2)"
   ]
  },
  {
   "cell_type": "code",
   "execution_count": 5,
   "metadata": {},
   "outputs": [],
   "source": [
    "# 클래스는 붕어빵 기계와 비슷함 -> 재료를 넣으면 클래스에 맞게 값을 출력한다\n",
    "# 클래스를 정의할 때 첫 문자는 항상 \"대문자\"\n",
    "class Unit:\n",
    "    def __init__(self, name, hp, damage):  # __init__ 으로 초기화\n",
    "        self.name = name                   # Initialize 초기화\n",
    "        self.hp = hp\n",
    "        self.damage = damage\n",
    "        print(\"{0} 챔피언이 소환사의 협곡에 참여하였습니다.\".format(self.name))\n",
    "        print(\"체력 {0}, 공격력 {1} \\n\".format(self.hp, self.damage))"
   ]
  },
  {
   "cell_type": "code",
   "execution_count": 6,
   "metadata": {},
   "outputs": [
    {
     "name": "stdout",
     "output_type": "stream",
     "text": [
      "진 챔피언이 소환사의 협곡에 참여하였습니다.\n",
      "체력 550, 공격력 70 \n",
      "\n",
      "진 챔피언이 소환사의 협곡에 참여하였습니다.\n",
      "체력 550, 공격력 70 \n",
      "\n",
      "케이틀린 챔피언이 소환사의 협곡에 참여하였습니다.\n",
      "체력 400, 공격력 55 \n",
      "\n"
     ]
    }
   ],
   "source": [
    "Jhin1 = Unit(\"진\", 550, 70)\n",
    "Jhin2 = Unit(\"진\", 550, 70) \n",
    "Caitlyn = Unit(\"케이틀린\", 400, 55)"
   ]
  },
  {
   "cell_type": "code",
   "execution_count": 7,
   "metadata": {},
   "outputs": [
    {
     "name": "stdout",
     "output_type": "stream",
     "text": [
      "유미 챔피언이 소환사의 협곡에 참여하였습니다.\n",
      "체력 300, 공격력 10 \n",
      "\n",
      "챔피언 이름 : 유미, 공격력 : 10\n"
     ]
    }
   ],
   "source": [
    "# 클래스 변수에 저장된 name, damage 등을 '.'을 이용해 접근 가능하다\n",
    "# Yuumi, Supporter, Hide(Impossible to attack)\n",
    "Yuumi_1 = Unit(\"유미\", 300, 10)\n",
    "print(\"챔피언 이름 : {0}, 공격력 : {1}\".format(Yuumi_1.name, Yuumi_1.damage))"
   ]
  },
  {
   "cell_type": "code",
   "execution_count": 8,
   "metadata": {},
   "outputs": [
    {
     "name": "stdout",
     "output_type": "stream",
     "text": [
      "유미 챔피언이 소환사의 협곡에 참여하였습니다.\n",
      "체력 300, 공격력 10 \n",
      "\n"
     ]
    }
   ],
   "source": [
    "# 클래스 변수를 생성하는 과정에서 기존에 없던 매개 변수를 생성할 수 있다\n",
    "Yuumi_2 = Unit(\"유미\", 300, 10)\n",
    "Yuumi_2.impossible_to_attack = True"
   ]
  },
  {
   "cell_type": "code",
   "execution_count": 9,
   "metadata": {},
   "outputs": [
    {
     "name": "stdout",
     "output_type": "stream",
     "text": [
      "유미는 현재 공격 불가 상태입니다.\n"
     ]
    }
   ],
   "source": [
    "if Yuumi_2.impossible_to_attack == True:\n",
    "    print(\"{0}는 현재 공격 불가 상태입니다.\".format(Yuumi_2.name))"
   ]
  },
  {
   "cell_type": "code",
   "execution_count": 10,
   "metadata": {},
   "outputs": [],
   "source": [
    "class AttackUnit:\n",
    "    def __init__(self, name, hp, damage):\n",
    "        self.name = name             # Initialize\n",
    "        self.hp = hp\n",
    "        self.damage = damage\n",
    "    \n",
    "    \"\"\"\n",
    "    Method와 Function의 차이\n",
    "    Method는 Class Function. \n",
    "    즉, 클래스 안에 존재하는 Function이 Method\n",
    "    \n",
    "    \"\"\"\n",
    "    def attack(self, location):      # Method for attack\n",
    "        print(\"{0} : {1} 방향으로 상대방 챔피언을 공격합니다. [공격력 {2}]\".format(self.name, location, self.damage))\n",
    "    \n",
    "    def damaged(self, damage):       # Method for being attacked\n",
    "        print(\"{0} : {1} 데미지를 입었습니다.\".format(self.name, damage))\n",
    "        self.hp -= damage            # Champion loses hp as much as damage\n",
    "        print(\"{0} : 현재 체력은 {1} 입니다.\".format(self.name, self.hp))\n",
    "        if self.hp <= 0:             # If hp is less or equal to zero, champion is dead\n",
    "            print(\"{0} : 처치당하였습니다.\".format(self.name))"
   ]
  },
  {
   "cell_type": "code",
   "execution_count": 11,
   "metadata": {},
   "outputs": [
    {
     "name": "stdout",
     "output_type": "stream",
     "text": [
      "카이사 : 정글 방향으로 상대방 챔피언을 공격합니다. [공격력 55]\n",
      "카이사 : 250 데미지를 입었습니다.\n",
      "카이사 : 현재 체력은 200 입니다.\n",
      "카이사 : 150 데미지를 입었습니다.\n",
      "카이사 : 현재 체력은 50 입니다.\n",
      "카이사 : 200 데미지를 입었습니다.\n",
      "카이사 : 현재 체력은 -150 입니다.\n",
      "카이사 : 처치당하였습니다.\n"
     ]
    }
   ],
   "source": [
    "# Kai'Sa, Fast DPS, Fast movement speed\n",
    "KaiSa = AttackUnit(\"카이사\", 450, 55)\n",
    "KaiSa.attack(\"정글\")\n",
    "\n",
    "# Kai'Sa is attacked by enemy\n",
    "KaiSa.damaged(250)\n",
    "KaiSa.damaged(150)\n",
    "KaiSa.damaged(200)"
   ]
  },
  {
   "cell_type": "code",
   "execution_count": 12,
   "metadata": {},
   "outputs": [],
   "source": [
    "# 클래스 상속 (Inheritance) : Parent Class의 속성과 메소드을 Child class가 가지게 되는 것을 의미\n",
    "class Unit:\n",
    "    def __init__(self, name, hp):\n",
    "        self.name = name\n",
    "        self.hp = hp\n",
    "\n",
    "# 괄호 안에 (Unit)을 입력하는 것으로 AttackUnit은 Unit 클래스를 상속한다\n",
    "# Unit 클래스에서 쓰이는 변수를 그대로 받을 수 있음\n",
    "class AttackUnit(Unit):        \n",
    "    def __init__(self, name, hp, damage):\n",
    "        Unit.__init__(self, name, hp)\n",
    "        self.damage = damage\n",
    "    \n",
    "    def attack(self, location):\n",
    "        print(\"{0} : {1} 방향으로 상대방 챔피언을 공격합니다. [공격력 {2}]\".format(self.name, location, self.damage))\n",
    "    \n",
    "    def damaged(self, damage):      \n",
    "        print(\"{0} : {1} 데미지를 입었습니다.\".format(self.name, damage))\n",
    "        self.hp -= damage  \n",
    "        print(\"{0} : 현재 체력은 {1} 입니다.\".format(self.name, self.hp))\n",
    "        if self.hp <= 0:   \n",
    "            print(\"{0} : 처치당하였습니다.\".format(self.name))"
   ]
  },
  {
   "cell_type": "code",
   "execution_count": 13,
   "metadata": {},
   "outputs": [
    {
     "name": "stdout",
     "output_type": "stream",
     "text": [
      "카이사 : 정글 방향으로 상대방 챔피언을 공격합니다. [공격력 55]\n",
      "카이사 : 250 데미지를 입었습니다.\n",
      "카이사 : 현재 체력은 200 입니다.\n",
      "카이사 : 150 데미지를 입었습니다.\n",
      "카이사 : 현재 체력은 50 입니다.\n",
      "카이사 : 200 데미지를 입었습니다.\n",
      "카이사 : 현재 체력은 -150 입니다.\n",
      "카이사 : 처치당하였습니다.\n"
     ]
    }
   ],
   "source": [
    "# 클래스 상속을 사용한 결과값과 상속하지 않은 결과값 모두 같다\n",
    "KaiSa = AttackUnit(\"카이사\", 450, 55)\n",
    "KaiSa.attack(\"정글\")\n",
    "\n",
    "KaiSa.damaged(250)\n",
    "KaiSa.damaged(150)\n",
    "KaiSa.damaged(200)"
   ]
  },
  {
   "cell_type": "code",
   "execution_count": 14,
   "metadata": {},
   "outputs": [
    {
     "name": "stdout",
     "output_type": "stream",
     "text": [
      "레드 : 공격받은 방향 반대 방향을 회피를 합니다. [속도 10]\n"
     ]
    }
   ],
   "source": [
    "# 클래스 다중 상속\n",
    "#\n",
    "# Unit <- AttackUnit <- JungleAttackUnit ..... Jungle <- JungleAttackUnit\n",
    "\n",
    "# Jungle unit / Fast dash speed / May or may not attack champions\n",
    "class Jungle:\n",
    "    def __init__(self, dash_speed):\n",
    "        self.dash_speed = dash_speed\n",
    "        \n",
    "    def dash(self, name, location):\n",
    "        print(\"{0} : {1} 방향을 회피를 합니다. [속도 {2}]\".format(name, location, self.dash_speed))\n",
    "        \n",
    "# Red / Jungle unit / Attack champions\n",
    "class JungleAttackUnit(AttackUnit, Jungle):\n",
    "    # 여러 클래스에서 상속받음\n",
    "    def __init__(self, name, hp, damage, dash_speed):\n",
    "        AttackUnit.__init__(self, name, hp, damage)       # AttackUnit 클래스 상속\n",
    "        Jungle.__init__(self, dash_speed)                 # Jungle 클래스 상속\n",
    "\n",
    "red = JungleAttackUnit(\"레드\", 120, 50, 10)\n",
    "red.dash(red.name, \"공격받은 방향 반대\")"
   ]
  },
  {
   "cell_type": "code",
   "execution_count": 15,
   "metadata": {},
   "outputs": [
    {
     "name": "stdout",
     "output_type": "stream",
     "text": [
      "From:\tlikelion_k@gmail.com\n",
      "To:\ttest1@gmail.com\n",
      "Subject:\tWelcome!\n",
      "Contents\n",
      "This is contents\n",
      "--------------------\n",
      "From:\tlikelion_k@gmail.com\n",
      "To:\ttest2@gmail.com\n",
      "Subject:\tWelcome!\n",
      "Contents\n",
      "This is contents\n",
      "--------------------\n",
      "From:\tlikelion_k@gmail.com\n",
      "To:\ttest3@gmail.com\n",
      "Subject:\tWelcome!\n",
      "Contents\n",
      "This is contents\n",
      "--------------------\n"
     ]
    }
   ],
   "source": [
    "# 이메일 전송 클래스\n",
    "\n",
    "class Email:\n",
    "    sender = \"\"\n",
    "    \n",
    "    def send_mail(self, recv, subject, contents):\n",
    "        print(\"From:\\t\" + self.sender)\n",
    "        print(\"To:\\t\" + recv)\n",
    "        print(\"Subject:\\t\" + subject)\n",
    "        print(\"Contents\")\n",
    "        print(contents)\n",
    "        print(\"-\"*20)        # Python에서는 String값도 곱해서 출력이 가능하다!\n",
    "\n",
    "# e를 Email 클래스 자료형 변수로 생성\n",
    "e = Email()\n",
    "e.sender = \"likelion_k@gmail.com\"\n",
    "recv_list = ['test1@gmail.com', 'test2@gmail.com', 'test3@gmail.com']\n",
    "\n",
    "# recv_list의 각 이메일마다 send_mail가 실행됨\n",
    "for recv in recv_list:\n",
    "    e.send_mail(recv, \"Welcome!\", \"This is contents\")"
   ]
  }
 ],
 "metadata": {
  "kernelspec": {
   "display_name": "Python 3",
   "language": "python",
   "name": "python3"
  },
  "language_info": {
   "codemirror_mode": {
    "name": "ipython",
    "version": 3
   },
   "file_extension": ".py",
   "mimetype": "text/x-python",
   "name": "python",
   "nbconvert_exporter": "python",
   "pygments_lexer": "ipython3",
   "version": "3.7.10"
  },
  "pycharm": {
   "stem_cell": {
    "cell_type": "raw",
    "metadata": {
     "collapsed": false
    },
    "source": [
     "\n",
     "\n",
     "\n"
    ]
   }
  }
 },
 "nbformat": 4,
 "nbformat_minor": 1
}
