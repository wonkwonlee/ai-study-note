{
 "cells": [
  {
   "cell_type": "code",
   "execution_count": 3,
   "metadata": {},
   "outputs": [],
   "source": [
    "# My Code\n",
    "def greedy_test(n):\n",
    "    # 현재 거슬러 주는 동전의 개수\n",
    "    count = 0\n",
    "    # 동전의 종류\n",
    "    coin_type = [500, 100, 50, 10]\n",
    "    \n",
    "    while n > 0:\n",
    "        if n >= coin_type[0]:\n",
    "            n -= coin_type[0]\n",
    "            count += 1\n",
    "        elif n >= coin_type[1]:\n",
    "            n -= coin_type[1]\n",
    "            count += 1\n",
    "        elif n >= coin_type[2]:\n",
    "            n -= coin_type[2]\n",
    "            count += 1\n",
    "        else:\n",
    "            n -= coin_type[3]\n",
    "            count += 1\n",
    "    print(count)\n",
    "    \n",
    "    "
   ]
  },
  {
   "cell_type": "code",
   "execution_count": 6,
   "metadata": {},
   "outputs": [
    {
     "name": "stdout",
     "output_type": "stream",
     "text": [
      "1\n"
     ]
    }
   ],
   "source": [
    "greedy_test(1260)"
   ]
  },
  {
   "cell_type": "code",
   "execution_count": 11,
   "metadata": {},
   "outputs": [],
   "source": [
    "def greedy_coin(n):\n",
    "    # 현재 거슬러 주는 동전의 개수\n",
    "    count = 0\n",
    "    # 동전의 종류\n",
    "    coin_types = [500, 100, 50, 10]\n",
    "    \n",
    "    # 해당 화폐로 거슬러 줄 수 있는 동전의 개수 세기\n",
    "    # // : 몫 반환 연산자, % : 나머지 반환 연산자\n",
    "    # 예를 들어 n을 1000이라 가정\n",
    "    for coin in coin_types:    # coin에 500, 100, 50, 10 순으로 할당\n",
    "        count += n // coin     # 전체에서 동전을 뺀 횟수만큼 count\n",
    "        print(\"{0}원 동전을 빼기 전 금액 : {1}\".format(coin, n))\n",
    "        n %= coin\n",
    "        print(\"{0}원 동전을 뺀 후 금액 : {1}\".format(coin, n))\n",
    "    \n",
    "    # 전체 동전의 개수 출력\n",
    "    print(count)\n",
    "    "
   ]
  },
  {
   "cell_type": "code",
   "execution_count": 12,
   "metadata": {},
   "outputs": [
    {
     "name": "stdout",
     "output_type": "stream",
     "text": [
      "500 동전을 빼기 전 금액 : 1260\n",
      "260\n",
      "100 동전을 빼기 전 금액 : 260\n",
      "60\n",
      "50 동전을 빼기 전 금액 : 60\n",
      "10\n",
      "10 동전을 빼기 전 금액 : 10\n",
      "0\n",
      "6\n"
     ]
    }
   ],
   "source": [
    "greedy_coin(1260)"
   ]
  },
  {
   "cell_type": "code",
   "execution_count": null,
   "metadata": {},
   "outputs": [],
   "source": []
  }
 ],
 "metadata": {
  "kernelspec": {
   "display_name": "Python 3",
   "language": "python",
   "name": "python3"
  },
  "language_info": {
   "codemirror_mode": {
    "name": "ipython",
    "version": 3
   },
   "file_extension": ".py",
   "mimetype": "text/x-python",
   "name": "python",
   "nbconvert_exporter": "python",
   "pygments_lexer": "ipython3",
   "version": "3.8.5"
  }
 },
 "nbformat": 4,
 "nbformat_minor": 4
}
