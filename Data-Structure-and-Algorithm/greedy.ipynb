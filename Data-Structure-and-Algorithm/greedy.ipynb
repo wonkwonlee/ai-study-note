{
 "cells": [
  {
   "cell_type": "markdown",
   "metadata": {},
   "source": [
    "# 탐욕 알고리즘 Greedy Algorithm\n",
    "\n",
    "## 시간과 메모리 측정\n",
    "> 프로그램의 수행 시간을 측정하는 것은 알고리즘의 효율성을 측정하는 가장 기본적인 방법이다.\n",
    ">\n",
    "> 특정한 프로그램의 수행 시간을 측정하는 소스코드 예시는 다음과 같다.\n",
    "\n",
    "\n",
    "```python\n",
    "import time\n",
    "start_time = time.time()    #측정 시작\n",
    "\n",
    "# 프로그램 소스코드\n",
    "end_time = time.time()\n",
    "print(\"time :\", end_time - start_time)\n",
    "```"
   ]
  },
  {
   "cell_type": "markdown",
   "metadata": {},
   "source": [
    "### 선택 정렬과 파이썬 기본 정렬 라이브러리 속도 비교\n",
    "> 선택 정렬과 파이썬 내장 정렬 라이브러리의 속도를 비교한다."
   ]
  },
  {
   "cell_type": "code",
   "execution_count": 1,
   "metadata": {},
   "outputs": [
    {
     "name": "stdout",
     "output_type": "stream",
     "text": [
      "선택 정렬 성능 측정: 6.8089141845703125\n"
     ]
    }
   ],
   "source": [
    "# 선택 정렬 Selection sort\n",
    "# 선택 정렬은 제자리 정렬 알고리즘의 하나로, 다음과 같은 순서로 이루어진다. \n",
    "# 주어진 리스트 중에 최소값을 찾고, 그 값을 맨 앞에 위치한 값과 교체.\n",
    "#\n",
    "# 제자리 정렬(in-place sorting)\n",
    "\n",
    "from random import randint\n",
    "import time\n",
    "\n",
    "# 배열에 10,000개의 정수를 삽입\n",
    "array = []                        # 값을 담아둘 빈 리스트 생성\n",
    "for _ in range(10000):            # range()를 통해 0 ~ 9999 까지의 값을 _에 할당 (반복)\n",
    "    array.append(randint(1,100))  # 1부터 100 사이의 랜덤한 정수 \n",
    "    \n",
    "# 선택 정렬 프로그램 성능 측정\n",
    "start_time = time.time()\n",
    "\n",
    "for i in range(len(array)):       # range(len(array)) -> range(0,10000)\n",
    "    min_index = i\n",
    "    # 2중 반복문 시작 = O(n^2)\n",
    "    for j in range(i + 1, len(array)):\n",
    "        if array[min_index] > array[j]: \n",
    "            min_index = j\n",
    "\n",
    "    array[i], array[min_index] = array[min_index], array[i]\n",
    "\n",
    "end_time = time.time()            # 측정 종료\n",
    "print(\"선택 정렬 성능 측정:\", end_time - start_time) # 수행시간 출력"
   ]
  },
  {
   "cell_type": "code",
   "execution_count": 2,
   "metadata": {},
   "outputs": [
    {
     "name": "stdout",
     "output_type": "stream",
     "text": [
      "기본 정렬 라이브러리 성능 측정: 0.002287149429321289\n"
     ]
    }
   ],
   "source": [
    "# 파이썬 기본 정렬 라이브러리 .sort()\n",
    "\n",
    "# 배열을 무작위 데이터로 초기화 array = []\n",
    "for _ in range(10000):\n",
    "    array.append(randint(1,100)) # 1부터 100 사이의 랜덤한 정수 \n",
    "\n",
    "# 기본 정렬 라이브러리 성능 측정\n",
    "start_time = time.time()\n",
    "\n",
    "# 기본 정렬 라이브러리 사용 \n",
    "array.sort()\n",
    "\n",
    "end_time = time.time() # 측정 종료\n",
    "print(\"기본 정렬 라이브러리 성능 측정:\", end_time - start_time) # 수행 시간 출력"
   ]
  },
  {
   "cell_type": "markdown",
   "metadata": {},
   "source": [
    "### 비교 결과\n",
    "> 기본 정렬 라이브러리가 훨씬 짧은 시간이 걸렸다.\n",
    ">\n",
    "> 이러한 시간 복잡도는 특정 알고리즘이 계산적으로 얼마나 복잡한지를 나타낸다고 할 수 있다."
   ]
  },
  {
   "cell_type": "markdown",
   "metadata": {},
   "source": [
    "## 탐욕 알고리즘 Greedy Algorithm\n",
    "> **현재 상황에서 지금 당장 좋은 것만 고르는 알고리즘** \n",
    ">\n",
    "> 매 순간 가장 좋아보이는 것을 선택하여, 현재의 선택이 *나중에 미칠 영향*에 대해서는 고려하지 않는다.\n",
    "\n",
    "* 일반적으로 코딩 테스트에서 그리디 알고리즘은 다른 알고리즘에 비해 *사전에 외우고 있지 않아도 풀 수 있을 가능성이 높은 문제 유형*이다.\n",
    "* 기준에 따라 좋은 것을 선택하는 알고리즘이므로 문제에서 **가장 큰 순서대로**, **가장 작은 순서대로**와 같은 기준을 제시한다.\n",
    "\n",
    "\n",
    "### 거스름돈 문제\n",
    "**문제** : 당신은 음식점의 계산을 도와주는 점원입니다. 카운터에는 거스름돈으로 사용할 500원, 100원, 50원, 10원짜리 동전이 무한히 존재한다고 가정합니다. 손님에게 거슬러 줘야 할 돈이 N원일 때 거슬러 줘야 할 동전의 최소 개수를 구하라. (단, 거슬러 줘야 할 돈 N은 항상 10의 배수이다.)\n",
    "\n",
    "**해설** : 그리디 알고리즘을 이용해 풀 수 있는 대표적인 문제로 *가장 큰 화폐 단위부터 돈을 거슬러 주는 것*으로 쉽게 풀 수 있다. N원을 거슬러 줘야 할 때, 가장 먼저 500원으로 거슬러 줄 수 있을 만큼 거슬러 준다. 그 다음 100원, 50원, 10원짜리 동전을 차례대로 거슬러 줄 수 있을 만큼 거슬러 주면 최소의 동전 개수로 모두 거슬러 줄 수 있다."
   ]
  },
  {
   "cell_type": "code",
   "execution_count": 3,
   "metadata": {},
   "outputs": [],
   "source": [
    "# My Code\n",
    "def greedy_test(n):\n",
    "    # 현재 거슬러 주는 동전의 개수\n",
    "    count = 0\n",
    "    # 동전의 종류\n",
    "    coin_type = [500, 100, 50, 10]\n",
    "    \n",
    "    while n > 0:\n",
    "        if n >= coin_type[0]:\n",
    "            n -= coin_type[0]\n",
    "            count += 1\n",
    "        elif n >= coin_type[1]:\n",
    "            n -= coin_type[1]\n",
    "            count += 1\n",
    "        elif n >= coin_type[2]:\n",
    "            n -= coin_type[2]\n",
    "            count += 1\n",
    "        else:\n",
    "            n -= coin_type[3]\n",
    "            count += 1\n",
    "    print(count)\n",
    "    \n",
    "    "
   ]
  },
  {
   "cell_type": "code",
   "execution_count": 4,
   "metadata": {},
   "outputs": [
    {
     "name": "stdout",
     "output_type": "stream",
     "text": [
      "6\n"
     ]
    }
   ],
   "source": [
    "greedy_test(1260)"
   ]
  },
  {
   "cell_type": "code",
   "execution_count": 5,
   "metadata": {},
   "outputs": [],
   "source": [
    "# 예시 코드\n",
    "def greedy_coin(n):\n",
    "    # 현재 거슬러 주는 동전의 개수\n",
    "    count = 0\n",
    "    # 동전의 종류\n",
    "    coin_types = [500, 100, 50, 10]\n",
    "    \n",
    "    # 해당 화폐로 거슬러 줄 수 있는 동전의 개수 세기\n",
    "    # // : 몫 반환 연산자, % : 나머지 반환 연산자\n",
    "    for coin in coin_types:    # coin에 500, 100, 50, 10 순으로 할당\n",
    "        count += n // coin     # 전체에서 동전을 뺀 횟수만큼 count\n",
    "        print(\"{0}원 동전을 빼기 전 금액 : {1}원\".format(coin, n))\n",
    "        n %= coin\n",
    "        print(\"{0}원 동전을 뺀 후 금액 : {1}원\".format(coin, n))\n",
    "    \n",
    "    # 전체 동전의 개수 출력\n",
    "    print(\"전체 동전의 개수는 :\", count, \"개\")\n",
    "    "
   ]
  },
  {
   "cell_type": "code",
   "execution_count": 6,
   "metadata": {},
   "outputs": [
    {
     "name": "stdout",
     "output_type": "stream",
     "text": [
      "500원 동전을 빼기 전 금액 : 1260원\n",
      "500원 동전을 뺀 후 금액 : 260원\n",
      "100원 동전을 빼기 전 금액 : 260원\n",
      "100원 동전을 뺀 후 금액 : 60원\n",
      "50원 동전을 빼기 전 금액 : 60원\n",
      "50원 동전을 뺀 후 금액 : 10원\n",
      "10원 동전을 빼기 전 금액 : 10원\n",
      "10원 동전을 뺀 후 금액 : 0원\n",
      "전체 동전의 개수는 : 6 개\n"
     ]
    }
   ],
   "source": [
    "greedy_coin(1260)"
   ]
  },
  {
   "cell_type": "markdown",
   "metadata": {},
   "source": [
    "## 그리디 알고리즘의 정당성\n",
    "\n",
    "* 그리디 알고리즘을 *모든 알고리즘 문제*에 적용할 수 있는 것은 아니다.\n",
    "* 대부분의 경우 그리디 알고리즘을 사용하면 **최적의 해를 찾을 수 없을 가능성이 높다**.\n",
    "* 하지만 탐욕적으로 문제에 접근했을 때 정확한 답을 찾을 수 있다는 보장이 있을 경우 **매우 효과적이고 직관적이라는 장점**이 존재한다.\n",
    "* **주의!** : 그리디 알고리즘으로 문제의 해법을 찾은 뒤에는 그 **해법이 정당한 지 검토**해야 한다\n",
    "    + 예를 들어 800원을 거슬러 줘야 하는데, 화폐 단위가 500원, 400원, 100원인 경우\n",
    "    + 그리디 알고리즘으로는 4개의 동전(500원, 100원, 100원, 100원)이 필요하지만 최적의 해는 2개의 동전(400원, 400원)이다.\n",
    "* 거스름돈 문제의 경우 동전의 단위가 **큰 단위가 작은 단위의 배수 형태**이므로, 가장 큰 단위의 동전부터 가장 작은 단위의 동전으로 거슬러 주면 된다.\n",
    "* 다만 만약 동전의 단위가 서로 배수 형태가 아니라, **무작위로 주어진 경우에는 그리디 알고리즘으로 해결할 수 없다**.\n",
    "\n",
    "> *코딩 테스트 문제 유형을 파악하기 어렵다면 그리디 알고리즘을 의심하고, 문제를 해결할 수 있는 탐욕적인 해결법이 존재하는 지 생각해보자!*\n"
   ]
  },
  {
   "cell_type": "markdown",
   "metadata": {},
   "source": [
    "## 큰 수의 법칙\n",
    "> 큰 수의 법칙은 **다양한 수로 이루어진 배열**이 있을 때 **주어진 수들을 M번 더하여 가장 큰 수를 만드는 법칙**이다. \n",
    ">\n",
    "> 단, 배열의 특정한 인덱스(번호)에 해당하는 수가 **연속 해서 K번을 초과하여 더해질 수 없다**. \n",
    ">\n",
    "> 예시 : 2, 4, 5, 4, 6으로 이루어진 배열이 있을 때 M이 8이고, K가 3이라고 가정하면 이 경우 특정한 인덱스의 수가 연속해서 세 번 까지만 더해질 수 있으므로 큰 수의 법칙에 따른 결과는 6 + 6 + 6 + 5 + 6 + 6 + 6 + 5인 46이 된다.\n",
    "\n",
    "\n",
    "1. 가장 먼저 반복되는 수열에 대해서 파악해야 한다.\n",
    "2. 가장 큰 수와 두 번째로 큰 수가 더해질 때는 **특정한 수열 형태로 일정하게 반복**해서 더해진다.\n",
    "    * 예시에서는 수열[6, 6, 6, 5]가 반복\n",
    "3. 반복 수열의 길이는 (K+1)로 구할 수 있고 **수열이 반복되는 횟수**는 M을 (K+1)로 나눈 몫이다.\n",
    "4. M이 (K+1)로 나누어 떨어지지 않는 경우, **나머지만큼 가장 큰 수가 추가**로 더해진다.\n",
    "5. 즉, 가장 큰 수가 더해지는 횟수는 **(M // (K+1)) * K + (M % (K+1))**.\n",
    "6. 두번째로 큰 수가 더해지는 횟수는 **M // (K+1)**, 혹은 **M - 가장 큰 수의 횟수**."
   ]
  },
  {
   "cell_type": "markdown",
   "metadata": {},
   "source": [
    "* map(a, b) : b에 지정된 요소를 지정된 a 함수에 반복해서 적용\n",
    "* split() : 주어진 문자열에 대해서 띄어쓰기 기준 하에 구분\n",
    "> a = \"1 2 3\"\n",
    ">\n",
    "> a.split()\n",
    ">\n",
    "> ['1', '2', '3']"
   ]
  },
  {
   "cell_type": "code",
   "execution_count": 7,
   "metadata": {
    "scrolled": true
   },
   "outputs": [
    {
     "name": "stdout",
     "output_type": "stream",
     "text": [
      "7 4\n",
      "*******\n",
      "*******\n",
      "*******\n",
      "*******\n",
      "\n"
     ]
    }
   ],
   "source": [
    "#손풀기 문제\n",
    "# 별(*)문자를 이용해 가로가 n, 세로가 m인 직사각형 출력\n",
    "\n",
    "a, b = map(int, input().split())\n",
    "answer = ('*' * a + '\\n') * b    # 가로줄을 a개만큼 출력하고 세로줄을 b개만큼 출력 (\\n을 이용해 세로줄 구분)\n",
    "print(answer)\n"
   ]
  },
  {
   "cell_type": "code",
   "execution_count": 8,
   "metadata": {},
   "outputs": [
    {
     "name": "stdout",
     "output_type": "stream",
     "text": [
      "5 8 3\n",
      "2 4 5 4 6\n",
      "46\n",
      "time : 0.0003731250762939453\n"
     ]
    }
   ],
   "source": [
    "# My code 내 풀이\n",
    "\n",
    "# N, M, K 를 공백으로 구분하여 입력 받기\n",
    "\n",
    "# map(a,b) : b에 지정된 요소를 지정된 a 함수에 반복해서 적용 \n",
    "# split() : 주어진 문자열에 대하여 띄어쓰기 기준 하에 구분\n",
    "# a = \"1 2 3\" ; a.split()\n",
    "# ['1', '2', '3']\n",
    "\n",
    "import time\n",
    "\n",
    "n, m ,k = map(int, input().split())\n",
    "data = list(map(int, input().split()))        # list() : 배열로 만드는 함수\n",
    "\n",
    "# 알고리즘 복잡도 측정\n",
    "start_time = time.time()\n",
    "\n",
    "data.sort()       # Sorting array\n",
    "\n",
    "# 파이썬에서 음수 인덱스는 배열 맨 뒤부터\n",
    "first = data[-1]\n",
    "second = data[-2]\n",
    "\n",
    "\n",
    "# 가장 큰 수는 M을 (K+1)로 나눈 몫 + 나머지만큼 추가로 더해짐.\n",
    "count_first = (m //(k+1)) * k + (m % (k+1))\n",
    "# 두번째로 큰 수는 M을 (K+1)로 나눈 몫만큼 더해짐\n",
    "# 혹은 M에서 가장 큰 수의 개수를 뺀 개수\n",
    "count_second = m //(k+1)\n",
    "\n",
    "# print(count_first)\n",
    "# print(count_second)\n",
    "\n",
    "end_time = time.time()\n",
    "\n",
    "print(first*count_first + second*count_second)\n",
    "\n",
    "print(\"time :\", end_time - start_time)    # 시간 복잡도 확인"
   ]
  },
  {
   "cell_type": "code",
   "execution_count": 9,
   "metadata": {},
   "outputs": [
    {
     "name": "stdout",
     "output_type": "stream",
     "text": [
      "5 8 3\n",
      "2 4 5 4 6\n",
      "46\n",
      "time : 0.000514984130859375\n"
     ]
    }
   ],
   "source": [
    "# 예제 코드 1\n",
    "# For-loop를 이용한 간단한 해법 (상대적으로 더 복잡하다)\n",
    "\n",
    "# N, M, K 를 공백으로 구분하여 입력 받기\n",
    "\n",
    "# map(a,b) : b에 지정된 요소를 지정된 a 함수에 반복해서 적용 \n",
    "# split() : 주어진 문자열에 대하여 띄어쓰기 기준 하에 구분\n",
    "# a = \"1 2 3\" ; a.split()\n",
    "# ['1', '2', '3']\n",
    "\n",
    "import time\n",
    "\n",
    "n, m, k = map(int, input().split())\n",
    "# print(n,m,k)\n",
    "\n",
    "# N개의 수를 공백으로 구분하여 입력받기\n",
    "data = list(map(int, input().split()))\n",
    "\n",
    "# 알고리즘 복잡도 측정\n",
    "start_time = time.time()\n",
    "\n",
    "data.sort()           # Sorting array \n",
    "first = data[n-1]     # 가장 큰 수\n",
    "second = data[n-2]    # 두번째로 큰 수\n",
    "\n",
    "result = 0            # 결과값 초기화\n",
    "\n",
    "while True:\n",
    "    for i in range(k):    # 가장 큰 수를 K번 더하기\n",
    "        if m == 0:        # m이 0이면 break\n",
    "          break\n",
    "        result += first\n",
    "        m -= 1            # 더할 때마다 1씩 빼기\n",
    "    if m == 0 :           # m이 0이면 break\n",
    "        break\n",
    "    result += second      # 두번째로 큰 수를 한 번 더하기\n",
    "    m -= 1                # 더할 때마다 1씩 빼기\n",
    "            \n",
    "end_time = time.time()\n",
    "\n",
    "print(result)         # Print output\n",
    "            \n",
    "print(\"time :\", end_time - start_time)    # 시간 복잡도 확인"
   ]
  },
  {
   "cell_type": "code",
   "execution_count": 10,
   "metadata": {},
   "outputs": [
    {
     "name": "stdout",
     "output_type": "stream",
     "text": [
      "5 8 3\n",
      "2 4 5 4 6\n",
      "46\n",
      "time : 0.00043582916259765625\n"
     ]
    }
   ],
   "source": [
    "# 예제 코드 2\n",
    "# 가장 큰 수를 수식으로 구한 해법 (상대적으로 덜 복잡하다)\n",
    "\n",
    "# N, M, K 를 공백으로 구분하여 입력 받기\n",
    "\n",
    "# map(a,b) : b에 지정된 요소를 지정된 a 함수에 반복해서 적용 \n",
    "# split() : 주어진 문자열에 대하여 띄어쓰기 기준 하에 구분\n",
    "# a = \"1 2 3\" ; a.split()\n",
    "# ['1', '2', '3']\n",
    "\n",
    "n, m, k = map(int,input().split())\n",
    "# print(n,m,k) - 출력값을 확인\n",
    "\n",
    "# N개의 수를 공백으로 구분하여 입력받기 \n",
    "data = list(map(int, input().split()))\n",
    "\n",
    "start_time = time.time()\n",
    "\n",
    "data.sort()         # 입력받은 수들 정렬하기 \n",
    "first = data[n-1]   # 가장 큰 수\n",
    "second = data[n-2]  # 두 번째로 큰 수\n",
    "\n",
    "# 가장 큰 수가 더해지는 횟수 계산\n",
    "# 두번째로 큰 수는 (M - 가장 큰 수) (m-count)\n",
    "count = int(m/(k+1)) * k       # 몫만큼 곱하기\n",
    "count += m % (k+1)             # 나머지 만큼 더하기\n",
    "\n",
    "result = 0\n",
    "result += (count) * first      # 가장 큰 수 더하기 \n",
    "result += (m-count) * second   # 두번째로 큰 수 더하기\n",
    "\n",
    "end_time = time.time()\n",
    "\n",
    "print(result)\n",
    "            \n",
    "print(\"time :\", end_time - start_time)    # 시간 복잡도 확인"
   ]
  },
  {
   "cell_type": "markdown",
   "metadata": {},
   "source": [
    "### 문제 해설\n",
    "\n",
    "* 내가 푼 풀이는 예제 1번 코드보다 더 간결했다. 하지만 내가 푼 풀이보다 예제 2번 코드가 더 간결했다. \n",
    "    + 워낙 간단한 코드와 input이라 큰 차이는 없다.\n",
    "* 예제 2번은 두번째로 큰 수의 개수를 저장하는 대신, **전체 숫자의 개수(M)에서 가장 큰 수의 개수를 빼는 것**으로 간결화했다.\n",
    "\n",
    "> 전형적인 그리디 알고리즘 문제로 문제 자체의 난이도는 평이하지만 구현 실수로 인해 오답 처리를 받는 경우가 많음\n",
    ">\n",
    "> 이 문제를 해결하려면 일단 입력값 중에서 가장 큰 수와 두 번째로 큰 수만 저장해야 한다. \n",
    ">\n",
    ">연속으로 더할 수 있는 횟수는 최대 K번이므로 가장 큰 수를 K번 더하고 두 번째로 큰 수를 한 번 더하는 연산을 반복하면 된다.\n"
   ]
  }
 ],
 "metadata": {
  "kernelspec": {
   "display_name": "Python 3",
   "language": "python",
   "name": "python3"
  },
  "language_info": {
   "codemirror_mode": {
    "name": "ipython",
    "version": 3
   },
   "file_extension": ".py",
   "mimetype": "text/x-python",
   "name": "python",
   "nbconvert_exporter": "python",
   "pygments_lexer": "ipython3",
   "version": "3.8.5"
  },
  "toc": {
   "base_numbering": 1,
   "nav_menu": {
    "height": "169px",
    "width": "364px"
   },
   "number_sections": true,
   "sideBar": true,
   "skip_h1_title": false,
   "title_cell": "Table of Contents",
   "title_sidebar": "Contents",
   "toc_cell": false,
   "toc_position": {
    "height": "calc(100% - 180px)",
    "left": "10px",
    "top": "150px",
    "width": "244px"
   },
   "toc_section_display": true,
   "toc_window_display": true
  }
 },
 "nbformat": 4,
 "nbformat_minor": 4
}
