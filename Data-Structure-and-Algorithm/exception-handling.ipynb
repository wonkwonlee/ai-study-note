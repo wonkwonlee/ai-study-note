{
 "cells": [
  {
   "cell_type": "markdown",
   "metadata": {},
   "source": [
    "# 예외 처리 Exception Handling\n",
    "> Exception handling is process of responding to the occurrence of exceptions – anomalous or exceptional conditions requiring special processing - during the execution of a program.\n",
    "> \n",
    "> 다시 말해, 에러가 터졌을 때 처리하는 방법을 의미한다.\n",
    "\n",
    "일반적으로 에러가 발생하면 프로그램이 종료하지만, 예외 처리를 통해 에러가 발생하면 프로그램은 정상적으로 돌아가되 에러 상태를 알려주기 위해 사용된다.\n",
    "\n",
    "보통 Java에서 Try-Catch라고 많이 사용되는 기법이지만 파이썬에서도 쓰인다."
   ]
  },
  {
   "cell_type": "code",
   "execution_count": 1,
   "metadata": {},
   "outputs": [
    {
     "name": "stdout",
     "output_type": "stream",
     "text": [
      "나눗셈 전용 계산기 입니다.\n",
      "첫 번째 숫자를 입력하세요 : 10\n",
      "두 번째 숫자를 입력하세요 : 5\n",
      "10 / 5 = 2\n"
     ]
    }
   ],
   "source": [
    "# 예외 처리\n",
    "print(\"나눗셈 전용 계산기 입니다.\")\n",
    "num_1 = int(input(\"첫 번째 숫자를 입력하세요 : \"))\n",
    "num_2 = int(input(\"두 번째 숫자를 입력하세요 : \"))\n",
    "\n",
    "print(\"{0} / {1} = {2}\".format(num_1, num_2, int(num_1/num_2)))"
   ]
  },
  {
   "cell_type": "code",
   "execution_count": 2,
   "metadata": {},
   "outputs": [
    {
     "name": "stdout",
     "output_type": "stream",
     "text": [
      "나눗셈 전용 계산기 입니다.\n",
      "첫 번째 숫자를 입력하세요 : 10\n",
      "두 번째 숫자를 입력하세요 : 사\n"
     ]
    },
    {
     "ename": "ValueError",
     "evalue": "invalid literal for int() with base 10: '사'",
     "output_type": "error",
     "traceback": [
      "\u001b[0;31m---------------------------------------------------------------------------\u001b[0m",
      "\u001b[0;31mValueError\u001b[0m                                Traceback (most recent call last)",
      "\u001b[0;32m<ipython-input-2-a852590c2d4a>\u001b[0m in \u001b[0;36m<module>\u001b[0;34m\u001b[0m\n\u001b[1;32m      3\u001b[0m \u001b[0mprint\u001b[0m\u001b[0;34m(\u001b[0m\u001b[0;34m\"나눗셈 전용 계산기 입니다.\"\u001b[0m\u001b[0;34m)\u001b[0m\u001b[0;34m\u001b[0m\u001b[0;34m\u001b[0m\u001b[0m\n\u001b[1;32m      4\u001b[0m \u001b[0mnum_1\u001b[0m \u001b[0;34m=\u001b[0m \u001b[0mint\u001b[0m\u001b[0;34m(\u001b[0m\u001b[0minput\u001b[0m\u001b[0;34m(\u001b[0m\u001b[0;34m\"첫 번째 숫자를 입력하세요 : \"\u001b[0m\u001b[0;34m)\u001b[0m\u001b[0;34m)\u001b[0m\u001b[0;34m\u001b[0m\u001b[0;34m\u001b[0m\u001b[0m\n\u001b[0;32m----> 5\u001b[0;31m \u001b[0mnum_2\u001b[0m \u001b[0;34m=\u001b[0m \u001b[0mint\u001b[0m\u001b[0;34m(\u001b[0m\u001b[0minput\u001b[0m\u001b[0;34m(\u001b[0m\u001b[0;34m\"두 번째 숫자를 입력하세요 : \"\u001b[0m\u001b[0;34m)\u001b[0m\u001b[0;34m)\u001b[0m\u001b[0;34m\u001b[0m\u001b[0;34m\u001b[0m\u001b[0m\n\u001b[0m\u001b[1;32m      6\u001b[0m \u001b[0;34m\u001b[0m\u001b[0m\n\u001b[1;32m      7\u001b[0m \u001b[0mprint\u001b[0m\u001b[0;34m(\u001b[0m\u001b[0;34m\"{0} / {1} = {2}\"\u001b[0m\u001b[0;34m.\u001b[0m\u001b[0mformat\u001b[0m\u001b[0;34m(\u001b[0m\u001b[0mnum_1\u001b[0m\u001b[0;34m,\u001b[0m \u001b[0mnum_2\u001b[0m\u001b[0;34m,\u001b[0m \u001b[0mint\u001b[0m\u001b[0;34m(\u001b[0m\u001b[0mnum_1\u001b[0m\u001b[0;34m/\u001b[0m\u001b[0mnum_2\u001b[0m\u001b[0;34m)\u001b[0m\u001b[0;34m)\u001b[0m\u001b[0;34m)\u001b[0m\u001b[0;34m\u001b[0m\u001b[0;34m\u001b[0m\u001b[0m\n",
      "\u001b[0;31mValueError\u001b[0m: invalid literal for int() with base 10: '사'"
     ]
    }
   ],
   "source": [
    "# Invalid input\n",
    "\n",
    "print(\"나눗셈 전용 계산기 입니다.\")\n",
    "num_1 = int(input(\"첫 번째 숫자를 입력하세요 : \"))\n",
    "num_2 = int(input(\"두 번째 숫자를 입력하세요 : \"))\n",
    "\n",
    "print(\"{0} / {1} = {2}\".format(num_1, num_2, int(num_1/num_2)))"
   ]
  },
  {
   "cell_type": "code",
   "execution_count": 3,
   "metadata": {},
   "outputs": [
    {
     "name": "stdout",
     "output_type": "stream",
     "text": [
      "나눗셈 전용 계산기 입니다.\n",
      "첫 번째 숫자를 입력하세요 : 10\n",
      "두 번째 숫자를 입력하세요 : 0\n",
      "division by zero\n"
     ]
    }
   ],
   "source": [
    "# Try-Except 를 통해서 예외를 처리한다\n",
    "\n",
    "try:\n",
    "    print(\"나눗셈 전용 계산기 입니다.\")\n",
    "    num1 = int(input(\"첫 번째 숫자를 입력하세요 : \"))\n",
    "    num2 = int(input(\"두 번째 숫자를 입력하세요 : \"))\n",
    "    print(\"{0} / {1} = {2}\".format(num1, num2, int(num1/num2)))\n",
    "    \n",
    "except ValueError:           # Invalid value\n",
    "    print(\"숫자만 입력하세요.\")\n",
    "except ZeroDivisionError as err:    # Division by zero\n",
    "    print(err)"
   ]
  },
  {
   "cell_type": "code",
   "execution_count": 4,
   "metadata": {},
   "outputs": [
    {
     "name": "stdout",
     "output_type": "stream",
     "text": [
      "나눗셈 전용 계산기 입니다.\n",
      "첫 번째 숫자를 입력하세요. : 10\n",
      "두 번째 숫자를 입력하세요. : ㅁㅇㅁㄹ\n",
      "에러가 발생했습니다. 현재 이 문제는 해결 중에 있습니다.\n",
      "이용해주셔서 감사합니다.\n"
     ]
    }
   ],
   "source": [
    "# 새로운 List를 만들어서 예외를 처리한다\n",
    "\n",
    "try:\n",
    "    print(\"나눗셈 전용 계산기 입니다.\")\n",
    "    nums = []\n",
    "    nums.append(int(input(\"첫 번째 숫자를 입력하세요. : \")))\n",
    "    nums.append(int(input(\"두 번째 숫자를 입력하세요. : \")))\n",
    "    nums.append(int(nums[0]/nums[1]))\n",
    "    print(\"{0} / {1} = {2}\".format(nums[0], nums[1], nums[2]))\n",
    "    \n",
    "except Exception as err:\n",
    "    print(\"에러가 발생했습니다. 현재 이 문제는 해결 중에 있습니다.\")\n",
    "    \n",
    "# 무조건 수행시키는 구문\n",
    "finally:\n",
    "    print(\"이용해주셔서 감사합니다.\")"
   ]
  },
  {
   "cell_type": "code",
   "execution_count": 5,
   "metadata": {},
   "outputs": [
    {
     "name": "stdout",
     "output_type": "stream",
     "text": [
      "나눗셈 전용 계산기 입니다.\n",
      "첫 번째 숫자를 입력하세요. : 10\n",
      "두 번째 숫자를 입력하세요. : 2\n",
      "잘못된 값을 입력하였습니다. 한 자리 숫자만 입력하세요.\n"
     ]
    }
   ],
   "source": [
    "# 의도적으로 특정 에러를 발생시켜 raise ValueError를 실행\n",
    "# 이렇게 발생된 값을 except ValueError로 전달하여 에러 메세지 출력\n",
    "\n",
    "try:\n",
    "    print(\"나눗셈 전용 계산기 입니다.\")\n",
    "    nums = []\n",
    "    nums.append(int(input(\"첫 번째 숫자를 입력하세요. : \")))\n",
    "    nums.append(int(input(\"두 번째 숫자를 입력하세요. : \")))\n",
    "    \n",
    "    # 조건 성립하면 raise ValueError\n",
    "    if nums[0] >= 10 or nums[1] >= 10:\n",
    "        raise ValueError\n",
    "    \n",
    "    nums.append(int(nums[0]/nums[1]))\n",
    "    print(\"{0} / {1} = {2}\".format(nums[0], nums[1], nums[2]))\n",
    "    \n",
    "except ValueError:\n",
    "    print(\"잘못된 값을 입력하였습니다. 한 자리 숫자만 입력하세요.\")\n",
    "    \n",
    "except Exception as err:\n",
    "    print(\"에러가 발생했습니다. 현재 이 문제는 해결 중에 있습니다.\")"
   ]
  }
 ],
 "metadata": {
  "kernelspec": {
   "display_name": "Python 3",
   "language": "python",
   "name": "python3"
  },
  "language_info": {
   "codemirror_mode": {
    "name": "ipython",
    "version": 3
   },
   "file_extension": ".py",
   "mimetype": "text/x-python",
   "name": "python",
   "nbconvert_exporter": "python",
   "pygments_lexer": "ipython3",
   "version": "3.8.5"
  },
  "toc": {
   "base_numbering": 1,
   "nav_menu": {},
   "number_sections": true,
   "sideBar": true,
   "skip_h1_title": false,
   "title_cell": "Table of Contents",
   "title_sidebar": "Contents",
   "toc_cell": false,
   "toc_position": {},
   "toc_section_display": true,
   "toc_window_display": true
  }
 },
 "nbformat": 4,
 "nbformat_minor": 4
}
