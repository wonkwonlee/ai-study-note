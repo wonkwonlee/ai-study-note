{
 "cells": [
  {
   "cell_type": "markdown",
   "metadata": {},
   "source": [
    "# 예외 처리 Exception handling\n",
    "> Exception handling is process of responding to the occurrence of exceptions – anomalous or exceptional conditions requiring special processing - during the execution of a program.\n",
    "> \n",
    "> 다시 말해, 에러가 터졌을 때 처리하는 방법을 의미한다."
   ]
  },
  {
   "cell_type": "code",
   "execution_count": 1,
   "metadata": {},
   "outputs": [
    {
     "name": "stdout",
     "output_type": "stream",
     "text": [
      "나눗셈 전용 계산기 입니다.\n",
      "첫 번째 숫자를 입력하세요 : 5\n",
      "두 번째 숫자를 입력하세요 : 2\n",
      "5 / 2 = 2\n"
     ]
    }
   ],
   "source": [
    "# 예외 처리\n",
    "print(\"나눗셈 전용 계산기 입니다.\")\n",
    "num_1 = int(input(\"첫 번째 숫자를 입력하세요 : \"))\n",
    "num_2 = int(input(\"두 번째 숫자를 입력하세요 : \"))\n",
    "\n",
    "print(\"{0} / {1} = {2}\".format(num_1, num_2, int(num_1/num_2)))"
   ]
  },
  {
   "cell_type": "code",
   "execution_count": null,
   "metadata": {},
   "outputs": [],
   "source": []
  }
 ],
 "metadata": {
  "kernelspec": {
   "display_name": "Python 3",
   "language": "python",
   "name": "python3"
  },
  "language_info": {
   "codemirror_mode": {
    "name": "ipython",
    "version": 3
   },
   "file_extension": ".py",
   "mimetype": "text/x-python",
   "name": "python",
   "nbconvert_exporter": "python",
   "pygments_lexer": "ipython3",
   "version": "3.8.5"
  },
  "toc": {
   "base_numbering": 1,
   "nav_menu": {},
   "number_sections": true,
   "sideBar": true,
   "skip_h1_title": false,
   "title_cell": "Table of Contents",
   "title_sidebar": "Contents",
   "toc_cell": false,
   "toc_position": {},
   "toc_section_display": true,
   "toc_window_display": false
  }
 },
 "nbformat": 4,
 "nbformat_minor": 4
}
