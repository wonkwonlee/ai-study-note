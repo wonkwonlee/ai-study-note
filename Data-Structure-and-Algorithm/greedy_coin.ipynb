{
 "cells": [
  {
   "cell_type": "markdown",
   "metadata": {},
   "source": [
    "# 탐욕 알고리즘 Greedy Algorithm\n",
    "\n",
    "## 시간과 메모리 측정\n",
    "> 프로그램의 수행 시간을 측정하는 것은 알고리즘의 효율성을 측정하는 가장 기본적인 방법이다.\n",
    ">\n",
    "> 특정한 프로그램의 수행 시간을 측정하는 소스코드 예시는 다음과 같다.\n",
    "\n",
    "\n",
    "```python\n",
    "import time\n",
    "start_time = time.time()    #측정 시작\n",
    "\n",
    "# 프로그램 소스코드\n",
    "end_time = time.time()\n",
    "print(\"time :\", end_time - start_time)\n",
    "```"
   ]
  },
  {
   "cell_type": "markdown",
   "metadata": {},
   "source": [
    "### 선택 정렬과 파이썬 기본 정렬 라이브러리 속도 비교\n",
    "> 선택 정렬과 파이썬 내장 정렬 라이브러리의 속도를 비교한다"
   ]
  },
  {
   "cell_type": "code",
   "execution_count": 1,
   "metadata": {},
   "outputs": [
    {
     "name": "stdout",
     "output_type": "stream",
     "text": [
      "선택 정렬 성능 측정: 7.777214050292969\n"
     ]
    }
   ],
   "source": [
    "# 선택 정렬 Selection sort\n",
    "# 선택 정렬은 제자리 정렬 알고리즘의 하나로, 다음과 같은 순서로 이루어진다. \n",
    "# 주어진 리스트 중에 최소값을 찾고, 그 값을 맨 앞에 위치한 값과 교체.\n",
    "#\n",
    "# 제자리 정렬(in-place sorting)\n",
    "\n",
    "from random import randint\n",
    "import time\n",
    "\n",
    "# 배열에 10,000개의 정수를 삽입\n",
    "array = []                        # 값을 담아둘 빈 리스트 생성\n",
    "for _ in range(10000):            # range()를 통해 0 ~ 9999 까지의 값을 _ 에 할당 (반복))\n",
    "    array.append(randint(1,100))  # 1부터 100 사이의 랜덤한 정수 \n",
    "    \n",
    "# 선택 정렬 프로그램 성능 측정\n",
    "start_time = time.time()\n",
    "\n",
    "for i in range(len(array)):       # range(len(array)) -> range(0,10000)\n",
    "    min_index = i\n",
    "    # 2중 반복문 시작 = O(n^2)\n",
    "    for j in range(i + 1, len(array)):\n",
    "        if array[min_index] > array[j]: \n",
    "            min_index = j\n",
    "\n",
    "    array[i], array[min_index] = array[min_index], array[i]\n",
    "\n",
    "end_time = time.time()            # 측정 종료\n",
    "print(\"선택 정렬 성능 측정:\", end_time - start_time) # 수행시간 출력"
   ]
  },
  {
   "cell_type": "code",
   "execution_count": 2,
   "metadata": {},
   "outputs": [
    {
     "name": "stdout",
     "output_type": "stream",
     "text": [
      "기본 정렬 라이브러리 성능 측정: 0.0021529197692871094\n"
     ]
    }
   ],
   "source": [
    "# 파이썬 기본 정렬 라이브러리 .sort()\n",
    "\n",
    "# 배열을 무작위 데이터로 초기화 array = []\n",
    "for _ in range(10000):\n",
    "    array.append(randint(1,100)) # 1부터 100 사이의 랜덤한 정수 \n",
    "\n",
    "# 기본 정렬 라이브러리 성능 측정\n",
    "start_time = time.time()\n",
    "\n",
    "# 기본 정렬 라이브러리 사용 \n",
    "array.sort()\n",
    "\n",
    "end_time = time.time() # 측정 종료\n",
    "print(\"기본 정렬 라이브러리 성능 측정:\", end_time - start_time) # 수행 시간 출력"
   ]
  },
  {
   "cell_type": "markdown",
   "metadata": {},
   "source": [
    "### 비교 결과\n",
    "> 기본 정렬 라이브러리가 훨씬 짧은 시간이 걸렸다.\n",
    ">\n",
    "> 이러한 시간 복잡도는 특정 알고리즘이 계산적으로 얼마나 복잡한지를 나타낸다고 할 수 있다."
   ]
  },
  {
   "cell_type": "markdown",
   "metadata": {},
   "source": [
    "## 탐욕 알고리즘 Greedy Algorithm\n",
    "> **현재 상황에서 지금 당장 좋은 것만 고르는 알고리즘** \n",
    ">\n",
    "> 매 순간 가장 좋아보이는 것을 선택하여, 현재의 선택이 *나중에 미칠 영향*에 대해서는 고려하지 않는다.\n",
    "\n",
    "* 일반적으로 코딩 테스트에서 그리디 알고리즘은 다른 알고리즘에 비해 *사전에 외우고 있지 않아도 풀 수 있을 가능성이 높은 문제 유형*이다.\n",
    "* 기준에 따라 좋은 것을 선택하는 알고리즘이므로 문제에서 **가장 큰 순서대로**, **가장 작은 순서대로**와 같은 기준을 제시한다.\n",
    "\n",
    "\n",
    "### 거스름돈 문제\n",
    "**문제** : 당신은 음식점의 계산을 도와주는 점원입니다. 카운터에는 거스름돈으로 사용할 500원, 100원, 50원, 10원짜리 동전이 무한히 존재한다고 가정합니다. 손님에게 거슬러 줘야 할 돈이 N원일 때 거슬러 줘야 할 동전의 최소 개수를 구하라. (단, 거슬러 줘야 할 돈 N은 항상 10의 배수이다.)\n",
    "\n",
    "**해설** : 그리디 알고리즘을 이용해 풀 수 있는 대표적인 문제로 가장 큰 화폐 단위부터 돈을 거슬러 주는 것으로 쉽게 풀 수 있다. N원을 거슬러 줘야 할 때, 가장 먼저 500원으로 거슬러 줄 수 있을 만큼 거슬러 준다. 그 다음 100원, 50원, 10원짜리 동전을 차례대로 거슬러 줄 수 있을 만큼 거슬러 주면 최소의 동전 개수로 모두 거슬러 줄 수 있다."
   ]
  },
  {
   "cell_type": "code",
   "execution_count": 3,
   "metadata": {},
   "outputs": [],
   "source": [
    "# My Code\n",
    "def greedy_test(n):\n",
    "    # 현재 거슬러 주는 동전의 개수\n",
    "    count = 0\n",
    "    # 동전의 종류\n",
    "    coin_type = [500, 100, 50, 10]\n",
    "    \n",
    "    while n > 0:\n",
    "        if n >= coin_type[0]:\n",
    "            n -= coin_type[0]\n",
    "            count += 1\n",
    "        elif n >= coin_type[1]:\n",
    "            n -= coin_type[1]\n",
    "            count += 1\n",
    "        elif n >= coin_type[2]:\n",
    "            n -= coin_type[2]\n",
    "            count += 1\n",
    "        else:\n",
    "            n -= coin_type[3]\n",
    "            count += 1\n",
    "    print(count)\n",
    "    \n",
    "    "
   ]
  },
  {
   "cell_type": "code",
   "execution_count": 4,
   "metadata": {},
   "outputs": [
    {
     "name": "stdout",
     "output_type": "stream",
     "text": [
      "6\n"
     ]
    }
   ],
   "source": [
    "greedy_test(1260)"
   ]
  },
  {
   "cell_type": "code",
   "execution_count": 5,
   "metadata": {},
   "outputs": [],
   "source": [
    "# 예시 코드\n",
    "def greedy_coin(n):\n",
    "    # 현재 거슬러 주는 동전의 개수\n",
    "    count = 0\n",
    "    # 동전의 종류\n",
    "    coin_types = [500, 100, 50, 10]\n",
    "    \n",
    "    # 해당 화폐로 거슬러 줄 수 있는 동전의 개수 세기\n",
    "    # // : 몫 반환 연산자, % : 나머지 반환 연산자\n",
    "    for coin in coin_types:    # coin에 500, 100, 50, 10 순으로 할당\n",
    "        count += n // coin     # 전체에서 동전을 뺀 횟수만큼 count\n",
    "        print(\"{0}원 동전을 빼기 전 금액 : {1}원\".format(coin, n))\n",
    "        n %= coin\n",
    "        print(\"{0}원 동전을 뺀 후 금액 : {1}원\".format(coin, n))\n",
    "    \n",
    "    # 전체 동전의 개수 출력\n",
    "    print(\"전체 동전의 개수는 :\", count, \"개\")\n",
    "    "
   ]
  },
  {
   "cell_type": "code",
   "execution_count": 6,
   "metadata": {},
   "outputs": [
    {
     "name": "stdout",
     "output_type": "stream",
     "text": [
      "500원 동전을 빼기 전 금액 : 1260원\n",
      "500원 동전을 뺀 후 금액 : 260원\n",
      "100원 동전을 빼기 전 금액 : 260원\n",
      "100원 동전을 뺀 후 금액 : 60원\n",
      "50원 동전을 빼기 전 금액 : 60원\n",
      "50원 동전을 뺀 후 금액 : 10원\n",
      "10원 동전을 빼기 전 금액 : 10원\n",
      "10원 동전을 뺀 후 금액 : 0원\n",
      "전체 동전의 개수는 : 6 개\n"
     ]
    }
   ],
   "source": [
    "greedy_coin(1260)"
   ]
  },
  {
   "cell_type": "markdown",
   "metadata": {},
   "source": [
    "## 그리디 알고리즘의 정당성\n",
    "\n",
    "* 그리디 알고리즘을 *모든 알고리즘 문제*에 적용할 수 있는 것은 아니다.\n",
    "* 대부분의 경우 그리디 알고리즘을 사용하면 **최적의 해를 찾을 수 없을 가능성이 높다**.\n",
    "* 하지만 탐욕적으로 문제에 접근했을 때 정확한 답을 찾을 수 있다는 보장이 있을 경우 **매우 효과적이고 직관적이라는 장점**이 존재한다.\n",
    "* **주의!** : 그리디 알고리즘으로 문제의 해법을 찾은 뒤에는 그 **해법이 정당한 지 검토**해야 한다\n",
    "    + 예를 들어 800원을 거슬러 줘야 하는데, 화폐 단위가 500원, 400원, 100원인 경우\n",
    "    + 그리디 알고리즘으로는 4개의 동전(500원, 100원, 100원, 100원)이 필요하지만 최적의 해는 2개의 동전(400원, 400원)이다.\n",
    "* 거스름돈 문제의 경우 동전의 단위가 **큰 단위가 작은 단위의 배수 형태**이므로, 가장 큰 단위의 동전부터 가장 작은 단위의 동전으로 거슬러 주면 된다.\n",
    "* 다만 만약 동전의 단위가 서로 배수 형태가 아니라, **무작위로 주어진 경우에는 그리디 알고리즘으로 해결할 수 없다**.\n",
    "\n",
    "> 코딩 테스트 문제 유형을 파악하기 어렵다면 그리디 알고리즘을 의심하고, 문제를 해결할 수 있는 탐욕적인 해결법이 존재하는 지 생각해보자!\n"
   ]
  }
 ],
 "metadata": {
  "kernelspec": {
   "display_name": "Python 3",
   "language": "python",
   "name": "python3"
  },
  "language_info": {
   "codemirror_mode": {
    "name": "ipython",
    "version": 3
   },
   "file_extension": ".py",
   "mimetype": "text/x-python",
   "name": "python",
   "nbconvert_exporter": "python",
   "pygments_lexer": "ipython3",
   "version": "3.8.5"
  }
 },
 "nbformat": 4,
 "nbformat_minor": 4
}
