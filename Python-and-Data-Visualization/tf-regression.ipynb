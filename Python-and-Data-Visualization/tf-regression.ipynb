{
 "cells": [
  {
   "cell_type": "markdown",
   "id": "trying-privilege",
   "metadata": {},
   "source": [
    "# 회귀 Regression\n",
    "> 회귀는 머신러닝에서 가장 기초적인 데이터 분석 방법 중 하나이다.\n",
    ">\n",
    "> 선형 회귀(Linear Regression)은 데이터의 경향성을 나타내는 하나의 직선을 예측하는 것으로 선형 회귀에서 주로 사용되는 2차원에서의 직선이란 **기울기와 y절편을 가진 좌표 평면 위 점들의 집합**이다.\n",
    "\n",
    "* **극단치 Outlier** : 일반적인 경향에서 벗어나는 사례\n",
    "    + 데이터의 일반적인 경향을 파악하기 위해서 극단치는 제거하는 것이 좋다.\n",
    "* **잔차 Residual** : 데이터의 경향성을 가장 잘 설명하는 하나의 직선과 각 데이터의 차이\n",
    "* **최소제곱법 Least Squared Method** : 잔차의 제곱을 최소화하는 알고리즘"
   ]
  },
  {
   "cell_type": "markdown",
   "id": "geographic-speech",
   "metadata": {},
   "source": [
    "<img width=\"458\" alt=\"re\" src=\"https://user-images.githubusercontent.com/28593767/112263607-eb9e0080-8cb2-11eb-80f2-4b6bb7bf9365.png\">"
   ]
  },
  {
   "cell_type": "code",
   "execution_count": 4,
   "id": "suburban-corporation",
   "metadata": {},
   "outputs": [
    {
     "name": "stdout",
     "output_type": "stream",
     "text": [
      "a: -0.355834147915461 b: 15.669317743971302\n"
     ]
    },
    {
     "data": {
      "image/png": "[encoded data removed]",
      "text/plain": [
       "<Figure size 432x288 with 1 Axes>"
      ]
     },
     "metadata": {
      "needs_background": "light"
     },
     "output_type": "display_data"
    }
   ],
   "source": [
    "# Tensorflow 없이 구현\n",
    "\n",
    "import numpy as np\n",
    "import matplotlib.pyplot as plt\n",
    "\n",
    "X = [0.3, -0.78, 1.26, 0.03, 1.11, 0.24, -0.24, -0.47, -0.77, -0.37, -0.85, -0.41, -0.27, 0.02, - 0.76, 2.66]\n",
    "Y = [12.27, 14.44, 11.87, 18.75, 17.52, 16.37, 19.78, 19.51, 12.65, 14.74, 10.72, 21.94, 12.83, 15.51, 17.14, 14.42]\n",
    "\n",
    "# Get mean of X and Y\n",
    "x_bar = sum(X) / len(X) \n",
    "y_bar = sum(Y) / len(Y)\n",
    "\n",
    "# Calculate a, b from least squared method\n",
    "# zip(a,b) : 두 값 a, b를 하나로 묶는 메서드\n",
    "a = sum([(y - y_bar) * (x - x_bar) for y, x in list(zip(Y, X))]) \n",
    "a /= sum([(x - x_bar) ** 2 for x in X])\n",
    "b = y_bar - a * x_bar\n",
    "print('a:', a, 'b:', b)\n",
    "\n",
    "# Get x, y data to plot a graph\n",
    "line_x = np.arange(min(X), max(X), 0.01)\n",
    "# y = ax + b\n",
    "line_y = a * line_x + b\n",
    "\n",
    "# Plot a regression line with red dotted line.\n",
    "plt.plot(line_x,line_y,'r--')\n",
    "# Plot data with blue dots\n",
    "plt.plot(X,Y,'bo')\n",
    "plt.xlabel('Population Growth Rate (%)') \n",
    "plt.ylabel('Elderly Population Rate (%)') \n",
    "plt.show()"
   ]
  },
  {
   "cell_type": "code",
   "execution_count": 6,
   "id": "cooked-growth",
   "metadata": {},
   "outputs": [
    {
     "name": "stdout",
     "output_type": "stream",
     "text": [
      "99 a: 0.1234091 b: 6.6380925 loss: 91.15463\n",
      "199 a: -0.11518871 b: 11.139836 loss: 30.249416\n",
      "299 a: -0.25504148 b: 13.772118 loss: 13.371824\n",
      "399 a: -0.32107148 b: 15.014985 loss: 10.207962\n",
      "499 a: -0.34601063 b: 15.484413 loss: 9.814914\n",
      "599 a: -0.3535694 b: 15.626688 loss: 9.782617\n",
      "699 a: -0.35541093 b: 15.661355 loss: 9.780867\n",
      "799 a: -0.3557708 b: 15.668125 loss: 9.780805\n",
      "899 a: -0.35582653 b: 15.669177 loss: 9.780804\n",
      "999 a: -0.35583362 b: 15.669302 loss: 9.780804\n"
     ]
    },
    {
     "data": {
      "image/png": "[encoded data removed]",
      "text/plain": [
       "<Figure size 432x288 with 1 Axes>"
      ]
     },
     "metadata": {
      "needs_background": "light"
     },
     "output_type": "display_data"
    }
   ],
   "source": [
    "# Tensorflow를 이용하여 구현\n",
    "\n",
    "import tensorflow as tf\n",
    "import numpy as np\n",
    "import matplotlib.pyplot as plt\n",
    "import random\n",
    "\n",
    "X = [0.3, -0.78, 1.26, 0.03, 1.11, 0.24, -0.24, -0.47, -0.77, -0.37, -0.85, -0.41, -0.27, 0.02, -0.76, 2.66]\n",
    "Y = [12.27, 14.44, 11.87, 18.75, 17.52, 16.37, 19.78, 19.51, 12.65, 14.74, 10.72, 21.94, 12.83, 15.51, 17.14, 14.42]\n",
    "\n",
    "# Initialize a, b with random values.\n",
    "a = tf.Variable(random.random()) \n",
    "b = tf.Variable(random.random())\n",
    "\n",
    "# Return mean value of residual squares.\n",
    "def compute_loss():\n",
    "    y_pred = a * X + b\n",
    "    loss = tf.reduce_mean((Y - y_pred) ** 2)  # tf.reduce_mean : return mean value\n",
    "    return loss\n",
    "\n",
    "optimizer = tf.keras.optimizers.Adam(lr=0.07) \n",
    "for i in range(1000):\n",
    "    # Minimize mean value of residual squares.\n",
    "    optimizer.minimize(compute_loss, var_list=[a, b])\n",
    "    \n",
    "    if i % 100 == 99:\n",
    "        print(i, 'a:', a.numpy(), 'b:', b.numpy(), 'loss:', compute_loss().numpy())\n",
    "        \n",
    "line_x = np.arange(min(X), max(X), 0.01) \n",
    "line_y = a * line_x + b\n",
    "\n",
    "# Plot a graph\n",
    "plt.plot(line_x,line_y,'r--') \n",
    "plt.plot(X,Y,'bo')\n",
    "plt.xlabel('Population Growth Rate (%)') \n",
    "plt.ylabel('Elderly Population Rate (%)') \n",
    "plt.show()"
   ]
  },
  {
   "cell_type": "markdown",
   "id": "annoying-registrar",
   "metadata": {},
   "source": [
    "> [Adam 최적화 함수](https://arxiv.org/pdf/1412.6980.pdf)"
   ]
  },
  {
   "cell_type": "code",
   "execution_count": 12,
   "id": "designing-lesson",
   "metadata": {},
   "outputs": [
    {
     "name": "stdout",
     "output_type": "stream",
     "text": [
      "Model: \"sequential_1\"\n",
      "_________________________________________________________________\n",
      "Layer (type)                 Output Shape              Param #   \n",
      "=================================================================\n",
      "dense_2 (Dense)              (None, 6)                 12        \n",
      "_________________________________________________________________\n",
      "dense_3 (Dense)              (None, 1)                 7         \n",
      "=================================================================\n",
      "Total params: 19\n",
      "Trainable params: 19\n",
      "Non-trainable params: 0\n",
      "_________________________________________________________________\n"
     ]
    }
   ],
   "source": [
    "# 신경망을 이용해 문제 해결\n",
    "\n",
    "import tensorflow as tf\n",
    "import numpy as np\n",
    "X = [0.3, -0.78, 1.26, 0.03, 1.11, 0.24, -0.24, -0.47, -0.77, -0.37, -0.85, -0.41, -0.27, 0.02, -0.76, 2.66]\n",
    "Y = [12.27, 14.44, 11.87, 18.75, 17.52, 16.37, 19.78, 19.51, 12.65, 14.74, 10.72, 21.94, 12.83, 15.51, 17.14, 14.42]\n",
    "\n",
    "model = tf.keras.Sequential([\n",
    "        tf.keras.layers.Dense(units=6, activation='tanh', input_shape=(1,)), \n",
    "        tf.keras.layers.Dense(units=1)\n",
    "])\n",
    "model.compile(optimizer=tf.keras.optimizers.SGD(lr=0.1), loss='mse') \n",
    "model.summary()"
   ]
  },
  {
   "cell_type": "code",
   "execution_count": 13,
   "id": "pending-supplement",
   "metadata": {},
   "outputs": [
    {
     "name": "stdout",
     "output_type": "stream",
     "text": [
      "Train on 16 samples\n",
      "Epoch 1/10\n",
      "16/16 [==============================] - 1s 46ms/sample - loss: 255.3449\n",
      "Epoch 2/10\n",
      "16/16 [==============================] - 0s 10ms/sample - loss: 99.4700\n",
      "Epoch 3/10\n",
      "16/16 [==============================] - 0s 17ms/sample - loss: 11.2228\n",
      "Epoch 4/10\n",
      "16/16 [==============================] - 0s 16ms/sample - loss: 9.7249\n",
      "Epoch 5/10\n",
      "16/16 [==============================] - 0s 9ms/sample - loss: 9.4797\n",
      "Epoch 6/10\n",
      "16/16 [==============================] - 0s 8ms/sample - loss: 9.4296\n",
      "Epoch 7/10\n",
      "16/16 [==============================] - 0s 4ms/sample - loss: 9.4021\n",
      "Epoch 8/10\n",
      "16/16 [==============================] - 0s 4ms/sample - loss: 9.3758\n",
      "Epoch 9/10\n",
      "16/16 [==============================] - 0s 3ms/sample - loss: 9.3470\n",
      "Epoch 10/10\n",
      "16/16 [==============================] - 0s 4ms/sample - loss: 9.3145\n"
     ]
    },
    {
     "data": {
      "text/plain": [
       "<tensorflow.python.keras.callbacks.History at 0x7f9065800e50>"
      ]
     },
     "execution_count": 13,
     "metadata": {},
     "output_type": "execute_result"
    }
   ],
   "source": [
    "# Train the model\n",
    "model.fit(X, Y, epochs=10)    "
   ]
  },
  {
   "cell_type": "code",
   "execution_count": 14,
   "id": "excessive-sunset",
   "metadata": {},
   "outputs": [
    {
     "data": {
      "text/plain": [
       "array([[16.19548  ],\n",
       "       [15.373272 ],\n",
       "       [15.432862 ],\n",
       "       [16.157986 ],\n",
       "       [15.639523 ],\n",
       "       [16.19683  ],\n",
       "       [16.007048 ],\n",
       "       [15.788388 ],\n",
       "       [15.388516 ],\n",
       "       [15.89349  ],\n",
       "       [15.263723 ],\n",
       "       [15.8532715],\n",
       "       [15.9831915],\n",
       "       [16.154434 ],\n",
       "       [15.403653 ],\n",
       "       [13.326104 ]], dtype=float32)"
      ]
     },
     "execution_count": 14,
     "metadata": {},
     "output_type": "execute_result"
    }
   ],
   "source": [
    "# Predict the model\n",
    "model.predict(X)"
   ]
  },
  {
   "cell_type": "code",
   "execution_count": 16,
   "id": "filled-andorra",
   "metadata": {},
   "outputs": [
    {
     "data": {
      "image/png": "[encoded data removed]",
      "text/plain": [
       "<Figure size 432x288 with 1 Axes>"
      ]
     },
     "metadata": {
      "needs_background": "light"
     },
     "output_type": "display_data"
    }
   ],
   "source": [
    "import matplotlib.pyplot as plt\n",
    "\n",
    "line_x = np.arange(min(X), max(X), 0.01)\n",
    "line_y = model.predict(line_x)\n",
    "\n",
    "plt.plot(line_x,line_y,'r--') \n",
    "plt.plot(X,Y,'bo')\n",
    "plt.xlabel('Population Growth Rate (%)') \n",
    "plt.ylabel('Elderly Population Rate (%)')\n",
    "plt.show()"
   ]
  },
  {
   "cell_type": "code",
   "execution_count": null,
   "id": "loving-portrait",
   "metadata": {},
   "outputs": [],
   "source": []
  }
 ],
 "metadata": {
  "kernelspec": {
   "display_name": "Python 3",
   "language": "python",
   "name": "python3"
  },
  "language_info": {
   "codemirror_mode": {
    "name": "ipython",
    "version": 3
   },
   "file_extension": ".py",
   "mimetype": "text/x-python",
   "name": "python",
   "nbconvert_exporter": "python",
   "pygments_lexer": "ipython3",
   "version": "3.7.10"
  },
  "toc": {
   "base_numbering": 1,
   "nav_menu": {},
   "number_sections": true,
   "sideBar": true,
   "skip_h1_title": false,
   "title_cell": "Table of Contents",
   "title_sidebar": "Contents",
   "toc_cell": false,
   "toc_position": {},
   "toc_section_display": true,
   "toc_window_display": false
  }
 },
 "nbformat": 4,
 "nbformat_minor": 5
}
