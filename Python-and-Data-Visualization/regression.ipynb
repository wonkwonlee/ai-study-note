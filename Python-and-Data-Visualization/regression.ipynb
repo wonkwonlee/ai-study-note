{
 "cells": [
  {
   "cell_type": "markdown",
   "id": "trying-privilege",
   "metadata": {},
   "source": [
    "# 회귀 Regression\n",
    "> 회귀는 머신러닝에서 가장 기초적인 데이터 분석 방법 중 하나이다.\n",
    ">\n",
    "> 선형 회귀(Linear Regression)은 데이터의 경향성을 나타내는 하나의 직선을 예측하는 것으로 선형 회귀에서 주로 사용되는 2차원에서의 직선이란 **기울기와 y절편을 가진 좌표 평면 위 점들의 집합**이다.\n",
    "\n",
    "* **극단치 Outlier** : 일반적인 경향에서 벗어나는 사례\n",
    "    + 데이터의 일반적인 경향을 파악하기 위해서 극단치는 제거하는 것이 좋다.\n",
    "* **잔차 Residual** : 데이터의 경향성을 가장 잘 설명하는 하나의 직선과 각 데이터의 차이\n",
    "* **최소제곱법 Least Squared Method** : 잔차의 제곱을 최소화하는 알고리즘"
   ]
  },
  {
   "cell_type": "code",
   "execution_count": null,
   "id": "suburban-corporation",
   "metadata": {},
   "outputs": [],
   "source": []
  }
 ],
 "metadata": {
  "kernelspec": {
   "display_name": "Python 3",
   "language": "python",
   "name": "python3"
  },
  "language_info": {
   "codemirror_mode": {
    "name": "ipython",
    "version": 3
   },
   "file_extension": ".py",
   "mimetype": "text/x-python",
   "name": "python",
   "nbconvert_exporter": "python",
   "pygments_lexer": "ipython3",
   "version": "3.7.10"
  },
  "toc": {
   "base_numbering": 1,
   "nav_menu": {},
   "number_sections": true,
   "sideBar": true,
   "skip_h1_title": false,
   "title_cell": "Table of Contents",
   "title_sidebar": "Contents",
   "toc_cell": false,
   "toc_position": {},
   "toc_section_display": true,
   "toc_window_display": false
  }
 },
 "nbformat": 4,
 "nbformat_minor": 5
}
