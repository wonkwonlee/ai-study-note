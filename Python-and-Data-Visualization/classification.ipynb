{
  "nbformat": 4,
  "nbformat_minor": 5,
  "metadata": {
    "kernelspec": {
      "display_name": "Python 3",
      "language": "python",
      "name": "python3"
    },
    "language_info": {
      "codemirror_mode": {
        "name": "ipython",
        "version": 3
      },
      "file_extension": ".py",
      "mimetype": "text/x-python",
      "name": "python",
      "nbconvert_exporter": "python",
      "pygments_lexer": "ipython3",
      "version": "3.7.10"
    },
    "toc": {
      "base_numbering": 1,
      "nav_menu": {},
      "number_sections": true,
      "sideBar": true,
      "skip_h1_title": false,
      "title_cell": "Table of Contents",
      "title_sidebar": "Contents",
      "toc_cell": false,
      "toc_position": {},
      "toc_section_display": true,
      "toc_window_display": false
    },
    "colab": {
      "name": "classification.ipynb",
      "provenance": [],
      "collapsed_sections": [],
      "include_colab_link": true
    }
  },
  "cells": [
    {
      "cell_type": "markdown",
      "metadata": {
        "id": "view-in-github",
        "colab_type": "text"
      },
      "source": [
        "<a href=\"https://colab.research.google.com/github/wonkwonlee/likelion-k-digital-training-AI/blob/main/Python-and-Data-Visualization/classification.ipynb\" target=\"_parent\"><img src=\"https://colab.research.google.com/assets/colab-badge.svg\" alt=\"Open In Colab\"/></a>"
      ]
    },
    {
      "cell_type": "code",
      "metadata": {
        "id": "median-criticism"
      },
      "source": [
        "import pandas as pd"
      ],
      "id": "median-criticism",
      "execution_count": null,
      "outputs": []
    },
    {
      "cell_type": "code",
      "metadata": {
        "id": "handled-embassy"
      },
      "source": [
        "# Import red and white wine datast\n",
        "red = pd.read_csv('http://archive.ics.uci.edu/ml/machine-learning-databases/wine-quality/winequality-red.csv', sep=';')\n",
        "white = pd.read_csv('http://archive.ics.uci.edu/ml/machine-learning-databases/wine-quality/winequality-white.csv', sep=';')"
      ],
      "id": "handled-embassy",
      "execution_count": null,
      "outputs": []
    },
    {
      "cell_type": "code",
      "metadata": {
        "colab": {
          "base_uri": "https://localhost:8080/"
        },
        "id": "compact-tumor",
        "outputId": "b64febc3-b05a-4a81-8817-dbdf76205a28"
      },
      "source": [
        "red['type'] = 0\n",
        "white['type'] = 1\n",
        "print(red.head(2))\n",
        "print(white.head(2))\n",
        "\n",
        "wine = pd.concat([red, white])"
      ],
      "id": "compact-tumor",
      "execution_count": null,
      "outputs": [
        {
          "output_type": "stream",
          "text": [
            "   fixed acidity  volatile acidity  citric acid  ...  alcohol  quality  type\n",
            "0            7.4              0.70          0.0  ...      9.4        5     0\n",
            "1            7.8              0.88          0.0  ...      9.8        5     0\n",
            "\n",
            "[2 rows x 13 columns]\n",
            "   fixed acidity  volatile acidity  citric acid  ...  alcohol  quality  type\n",
            "0            7.0              0.27         0.36  ...      8.8        6     1\n",
            "1            6.3              0.30         0.34  ...      9.5        6     1\n",
            "\n",
            "[2 rows x 13 columns]\n"
          ],
          "name": "stdout"
        }
      ]
    },
    {
      "cell_type": "code",
      "metadata": {
        "colab": {
          "base_uri": "https://localhost:8080/"
        },
        "id": "flush-basis",
        "outputId": "046af164-a28c-4a2b-935d-f48a53089658"
      },
      "source": [
        "# Type의 평균이 0.75인 것으로 보아 화이트 와인이 레드 와인보다 많다\n",
        "print(wine.describe())"
      ],
      "id": "flush-basis",
      "execution_count": null,
      "outputs": [
        {
          "output_type": "stream",
          "text": [
            "       fixed acidity  volatile acidity  ...      quality         type\n",
            "count    6497.000000       6497.000000  ...  6497.000000  6497.000000\n",
            "mean        7.215307          0.339666  ...     5.818378     0.753886\n",
            "std         1.296434          0.164636  ...     0.873255     0.430779\n",
            "min         3.800000          0.080000  ...     3.000000     0.000000\n",
            "25%         6.400000          0.230000  ...     5.000000     1.000000\n",
            "50%         7.000000          0.290000  ...     6.000000     1.000000\n",
            "75%         7.700000          0.400000  ...     6.000000     1.000000\n",
            "max        15.900000          1.580000  ...     9.000000     1.000000\n",
            "\n",
            "[8 rows x 13 columns]\n"
          ],
          "name": "stdout"
        }
      ]
    },
    {
      "cell_type": "code",
      "metadata": {
        "colab": {
          "base_uri": "https://localhost:8080/",
          "height": 316
        },
        "id": "lasting-bride",
        "outputId": "f26284a2-6667-45b8-8d8a-f067005d480a"
      },
      "source": [
        "#레드 와인과 화이트 와인 type 히스토그램 \n",
        "import matplotlib.pyplot as plt \n",
        "plt.hist(wine['type']) \n",
        "plt.xticks([0, 1]) # 눈금표시 \n",
        "plt.show()\n",
        "print(wine['type'].value_counts())"
      ],
      "id": "lasting-bride",
      "execution_count": null,
      "outputs": [
        {
          "output_type": "display_data",
          "data": {
            "image/png": "[encoded data removed]",
            "text/plain": [
              "<Figure size 432x288 with 1 Axes>"
            ]
          },
          "metadata": {
            "tags": [],
            "needs_background": "light"
          }
        },
        {
          "output_type": "stream",
          "text": [
            "1    4898\n",
            "0    1599\n",
            "Name: type, dtype: int64\n"
          ],
          "name": "stdout"
        }
      ]
    },
    {
      "cell_type": "code",
      "metadata": {
        "scrolled": false,
        "colab": {
          "base_uri": "https://localhost:8080/"
        },
        "id": "optional-heavy",
        "outputId": "d1b19006-247d-4f71-c4e8-78c16e74d148"
      },
      "source": [
        "# info() : 데이터프레임을 구성하는 속성 정보를 알려준다\n",
        "print(wine.info())"
      ],
      "id": "optional-heavy",
      "execution_count": null,
      "outputs": [
        {
          "output_type": "stream",
          "text": [
            "<class 'pandas.core.frame.DataFrame'>\n",
            "Int64Index: 6497 entries, 0 to 4897\n",
            "Data columns (total 13 columns):\n",
            " #   Column                Non-Null Count  Dtype  \n",
            "---  ------                --------------  -----  \n",
            " 0   fixed acidity         6497 non-null   float64\n",
            " 1   volatile acidity      6497 non-null   float64\n",
            " 2   citric acid           6497 non-null   float64\n",
            " 3   residual sugar        6497 non-null   float64\n",
            " 4   chlorides             6497 non-null   float64\n",
            " 5   free sulfur dioxide   6497 non-null   float64\n",
            " 6   total sulfur dioxide  6497 non-null   float64\n",
            " 7   density               6497 non-null   float64\n",
            " 8   pH                    6497 non-null   float64\n",
            " 9   sulphates             6497 non-null   float64\n",
            " 10  alcohol               6497 non-null   float64\n",
            " 11  quality               6497 non-null   int64  \n",
            " 12  type                  6497 non-null   int64  \n",
            "dtypes: float64(11), int64(2)\n",
            "memory usage: 710.6 KB\n",
            "None\n"
          ],
          "name": "stdout"
        }
      ]
    },
    {
      "cell_type": "markdown",
      "metadata": {
        "id": "checked-stomach"
      },
      "source": [
        "## 데이터의 정규분포 Data Normalization\n",
        "* 데이터를 0과 1 사이의 범위로 scaling 하는 방법\n",
        "\n",
        "<img width=\"423\" alt=\"normalization\" src=\"https://user-images.githubusercontent.com/28593767/112793169-c1c44f80-909f-11eb-9205-3036330e75c8.png\">"
      ],
      "id": "checked-stomach"
    },
    {
      "cell_type": "code",
      "metadata": {
        "scrolled": true,
        "colab": {
          "base_uri": "https://localhost:8080/"
        },
        "id": "express-leadership",
        "outputId": "6fba7408-d0cf-4f60-aa19-7ebb7fa19332"
      },
      "source": [
        "# Data Normalization\n",
        "wine_norm = (wine - wine.min()) / (wine.max() - wine.min())\n",
        "# Normalization 된 데이터 출력\n",
        "print(wine_norm.head()) \n",
        "# describe로 출력되는 속성들의 min이 0, max가 1로 변경\n",
        "print(wine_norm.describe())"
      ],
      "id": "express-leadership",
      "execution_count": null,
      "outputs": [
        {
          "output_type": "stream",
          "text": [
            "   fixed acidity  volatile acidity  citric acid  ...   alcohol   quality  type\n",
            "0       0.297521          0.413333     0.000000  ...  0.202899  0.333333   0.0\n",
            "1       0.330579          0.533333     0.000000  ...  0.260870  0.333333   0.0\n",
            "2       0.330579          0.453333     0.024096  ...  0.260870  0.333333   0.0\n",
            "3       0.611570          0.133333     0.337349  ...  0.260870  0.500000   0.0\n",
            "4       0.297521          0.413333     0.000000  ...  0.202899  0.333333   0.0\n",
            "\n",
            "[5 rows x 13 columns]\n",
            "       fixed acidity  volatile acidity  ...      quality         type\n",
            "count    6497.000000       6497.000000  ...  6497.000000  6497.000000\n",
            "mean        0.282257          0.173111  ...     0.469730     0.753886\n",
            "std         0.107143          0.109758  ...     0.145543     0.430779\n",
            "min         0.000000          0.000000  ...     0.000000     0.000000\n",
            "25%         0.214876          0.100000  ...     0.333333     1.000000\n",
            "50%         0.264463          0.140000  ...     0.500000     1.000000\n",
            "75%         0.322314          0.213333  ...     0.500000     1.000000\n",
            "max         1.000000          1.000000  ...     1.000000     1.000000\n",
            "\n",
            "[8 rows x 13 columns]\n"
          ],
          "name": "stdout"
        }
      ]
    },
    {
      "cell_type": "code",
      "metadata": {
        "colab": {
          "base_uri": "https://localhost:8080/"
        },
        "id": "middle-metro",
        "outputId": "9ab51594-ca0a-4b08-ae2c-d644e471bbea"
      },
      "source": [
        "# 데이터 섞은 후 numpy array로 변환 \n",
        "import numpy as np\n",
        "wine_shuffle = wine_norm.sample(frac=1)  # frac=1이면 모든 데이터를 뽑아서 섞는 것과 동일\n",
        "print(wine_shuffle.head()) \n",
        "wine_np = wine_shuffle.to_numpy() \n",
        "print(type(wine_np)) \n",
        "print(wine_np[:5])"
      ],
      "id": "middle-metro",
      "execution_count": null,
      "outputs": [
        {
          "output_type": "stream",
          "text": [
            "      fixed acidity  volatile acidity  citric acid  ...   alcohol   quality  type\n",
            "1170       0.322314          0.113333     0.259036  ...  0.275362  0.500000   1.0\n",
            "1658       0.231405          0.153333     0.295181  ...  0.115942  0.333333   1.0\n",
            "2591       0.239669          0.173333     0.180723  ...  0.434783  0.666667   1.0\n",
            "2323       0.314050          0.080000     0.204819  ...  0.449275  0.500000   1.0\n",
            "1016       0.247934          0.193333     0.283133  ...  0.173913  0.333333   1.0\n",
            "\n",
            "[5 rows x 13 columns]\n",
            "<class 'numpy.ndarray'>\n",
            "[[0.32231405 0.11333333 0.25903614 0.05981595 0.08803987 0.06597222\n",
            "  0.25115207 0.18295739 0.51162791 0.15730337 0.27536232 0.5\n",
            "  1.        ]\n",
            " [0.23140496 0.15333333 0.29518072 0.10889571 0.06810631 0.17708333\n",
            "  0.49308756 0.1791016  0.31007752 0.12921348 0.11594203 0.33333333\n",
            "  1.        ]\n",
            " [0.23966942 0.17333333 0.18072289 0.12116564 0.08305648 0.07986111\n",
            "  0.33640553 0.17428186 0.57364341 0.23595506 0.43478261 0.66666667\n",
            "  1.        ]\n",
            " [0.31404959 0.08       0.20481928 0.01840491 0.05315615 0.14236111\n",
            "  0.32718894 0.12030075 0.48837209 0.24719101 0.44927536 0.5\n",
            "  1.        ]\n",
            " [0.24793388 0.19333333 0.28313253 0.16257669 0.10299003 0.14930556\n",
            "  0.29953917 0.18681319 0.20155039 0.37078652 0.17391304 0.33333333\n",
            "  1.        ]]\n"
          ],
          "name": "stdout"
        }
      ]
    },
    {
      "cell_type": "code",
      "metadata": {
        "colab": {
          "base_uri": "https://localhost:8080/"
        },
        "id": "deluxe-trial",
        "outputId": "972093d7-3371-4f0e-eb38-713252beb692"
      },
      "source": [
        "#train 데이터와 test 데이터로 분리 \n",
        "import tensorflow as tf\n",
        "# 80%는 train 데이터, 나머지 20%는 test 데이터를 나누는 Index\n",
        "train_idx = int(len(wine_np) * 0.8) \n",
        "print(train_idx)\n",
        "# Train 데이터의 경우 마지막 속성을 제외하고 인덱스까지, Train 데이터의 정답은 마지막 속성값\n",
        "train_X, train_Y = wine_np[:train_idx, :-1], wine_np[:train_idx, -1] \n",
        "# Test 데이터의 경우 마지막 속성을 제외하고 인덱스부터, Test 데이터의 정답은 마지막 속성값\n",
        "test_X, test_Y = wine_np[train_idx:, :-1], wine_np[train_idx:, -1]\n",
        "\n",
        "print(train_X[0])\n",
        "print(train_Y[0])\n",
        "print(test_X[0])\n",
        "print(test_Y[0])"
      ],
      "id": "deluxe-trial",
      "execution_count": null,
      "outputs": [
        {
          "output_type": "stream",
          "text": [
            "5197\n",
            "[0.32231405 0.11333333 0.25903614 0.05981595 0.08803987 0.06597222\n",
            " 0.25115207 0.18295739 0.51162791 0.15730337 0.27536232 0.5       ]\n",
            "1.0\n",
            "[0.33057851 0.08       0.19277108 0.06748466 0.01162791 0.10416667\n",
            " 0.21889401 0.09157509 0.20930233 0.09550562 0.43478261 0.5       ]\n",
            "1.0\n"
          ],
          "name": "stdout"
        }
      ]
    },
    {
      "cell_type": "code",
      "metadata": {
        "colab": {
          "base_uri": "https://localhost:8080/"
        },
        "id": "employed-battle",
        "outputId": "b1ad9704-0cf5-4109-bb00-64e969fa4c4a"
      },
      "source": [
        "# to_categorical은 분류 문제에서 쓰이는 함수로m 정답 행렬을 원-핫 인코딩(One-Hot Encoding) 방식으로 바꾼다\n",
        "train_Y = tf.keras.utils.to_categorical(train_Y, num_classes=2) \n",
        "test_Y = tf.keras.utils.to_categorical(test_Y, num_classes=2) \n",
        "print(train_Y[0])\n",
        "print(test_Y[0])"
      ],
      "id": "employed-battle",
      "execution_count": null,
      "outputs": [
        {
          "output_type": "stream",
          "text": [
            "[0. 1.]\n",
            "[0. 1.]\n"
          ],
          "name": "stdout"
        }
      ]
    },
    {
      "cell_type": "code",
      "metadata": {
        "colab": {
          "base_uri": "https://localhost:8080/"
        },
        "id": "numerous-mongolia",
        "outputId": "7df45219-3bc8-4efa-8cdf-2545d2bce5db"
      },
      "source": [
        "# 와인 데이터셋 분류 모델 생성 \n",
        "model = tf.keras.Sequential([\n",
        "    tf.keras.layers.Dense(units=48, activation='relu', input_shape=(12,)), \n",
        "    tf.keras.layers.Dense(units=24, activation='relu'), \n",
        "    tf.keras.layers.Dense(units=12, activation='relu'), \n",
        "    tf.keras.layers.Dense(units=2, activation='softmax')  # 분류 모델이기에 활성화 함수로 softmax 사용\n",
        "])\n",
        "\n",
        "model.compile(optimizer=tf.keras.optimizers.Adam(lr=0.07), \n",
        "              loss='categorical_crossentropy', metrics=['accuracy'])\n",
        "model.summary()"
      ],
      "id": "numerous-mongolia",
      "execution_count": null,
      "outputs": [
        {
          "output_type": "stream",
          "text": [
            "Model: \"sequential_2\"\n",
            "_________________________________________________________________\n",
            "Layer (type)                 Output Shape              Param #   \n",
            "=================================================================\n",
            "dense_8 (Dense)              (None, 48)                624       \n",
            "_________________________________________________________________\n",
            "dense_9 (Dense)              (None, 24)                1176      \n",
            "_________________________________________________________________\n",
            "dense_10 (Dense)             (None, 12)                300       \n",
            "_________________________________________________________________\n",
            "dense_11 (Dense)             (None, 2)                 26        \n",
            "=================================================================\n",
            "Total params: 2,126\n",
            "Trainable params: 2,126\n",
            "Non-trainable params: 0\n",
            "_________________________________________________________________\n"
          ],
          "name": "stdout"
        }
      ]
    },
    {
      "cell_type": "markdown",
      "metadata": {
        "id": "boolean-comparative"
      },
      "source": [
        "## Softmax \n",
        "<img width=\"253\" alt=\"soft\" src=\"https://user-images.githubusercontent.com/28593767/112796488-01da0100-90a5-11eb-98a8-fe811f3d4c1d.png\">\n",
        "\n",
        "> 예시: [2, 1, 0] 이라는 값을 소프트맥스로 변환하면 다음과 같다.\n",
        ">\n",
        "> <img width=\"549\" alt=\"soft_ex\" src=\"https://user-images.githubusercontent.com/28593767/112796493-02729780-90a5-11eb-82b6-1bb0f2e9f1d9.png\">\n"
      ],
      "id": "boolean-comparative"
    },
    {
      "cell_type": "markdown",
      "metadata": {
        "id": "atomic-marshall"
      },
      "source": [
        "## 엔트로피 Entropy\n",
        "* 엔트로피는 불확실한 정보를 숫자로 표현하는 것으로 간단히 말해 확률의 역수에 로그를 취한 값이다.\n",
        "* 확률에 역수를 취하는 이유는 확률이 높을수록 정보량(놀라움)이 적다고 판단하기 때문이다. \n",
        "* 엔트로피의 기댓값은 각 엔트로피에 확률을 곱해준 값이다. \n",
        "    + 통계에서 기댓값의 정의는 각 사건이 벌어졌을 때의 이득과 그 사건이 벌어질 확률을 곱한 값이다."
      ],
      "id": "atomic-marshall"
    },
    {
      "cell_type": "code",
      "metadata": {
        "colab": {
          "base_uri": "https://localhost:8080/"
        },
        "id": "criminal-peninsula",
        "collapsed": true,
        "outputId": "6d894693-2d9f-43f8-b470-9788db60e78c"
      },
      "source": [
        "# 와인 데이터셋 분류 모델 학습\n",
        "history = model.fit(train_X, train_Y, epochs=25, batch_size=32, validation_split=0.25)"
      ],
      "id": "criminal-peninsula",
      "execution_count": null,
      "outputs": [
        {
          "output_type": "stream",
          "text": [
            "Epoch 1/25\n",
            "122/122 [==============================] - 1s 3ms/step - loss: 0.2779 - accuracy: 0.8598 - val_loss: 0.1374 - val_accuracy: 0.9454\n",
            "Epoch 2/25\n",
            "122/122 [==============================] - 0s 2ms/step - loss: 0.0542 - accuracy: 0.9789 - val_loss: 0.0462 - val_accuracy: 0.9885\n",
            "Epoch 3/25\n",
            "122/122 [==============================] - 0s 2ms/step - loss: 0.0426 - accuracy: 0.9888 - val_loss: 0.0431 - val_accuracy: 0.9900\n",
            "Epoch 4/25\n",
            "122/122 [==============================] - 0s 2ms/step - loss: 0.0511 - accuracy: 0.9870 - val_loss: 0.0484 - val_accuracy: 0.9892\n",
            "Epoch 5/25\n",
            "122/122 [==============================] - 0s 2ms/step - loss: 0.0513 - accuracy: 0.9875 - val_loss: 0.0390 - val_accuracy: 0.9885\n",
            "Epoch 6/25\n",
            "122/122 [==============================] - 0s 2ms/step - loss: 0.0407 - accuracy: 0.9891 - val_loss: 0.0449 - val_accuracy: 0.9862\n",
            "Epoch 7/25\n",
            "122/122 [==============================] - 0s 2ms/step - loss: 0.0369 - accuracy: 0.9898 - val_loss: 0.0353 - val_accuracy: 0.9885\n",
            "Epoch 8/25\n",
            "122/122 [==============================] - 0s 2ms/step - loss: 0.0410 - accuracy: 0.9885 - val_loss: 0.0456 - val_accuracy: 0.9885\n",
            "Epoch 9/25\n",
            "122/122 [==============================] - 0s 2ms/step - loss: 0.0406 - accuracy: 0.9864 - val_loss: 0.0540 - val_accuracy: 0.9838\n",
            "Epoch 10/25\n",
            "122/122 [==============================] - 0s 2ms/step - loss: 0.0456 - accuracy: 0.9887 - val_loss: 0.0293 - val_accuracy: 0.9931\n",
            "Epoch 11/25\n",
            "122/122 [==============================] - 0s 2ms/step - loss: 0.0358 - accuracy: 0.9900 - val_loss: 0.0366 - val_accuracy: 0.9908\n",
            "Epoch 12/25\n",
            "122/122 [==============================] - 0s 2ms/step - loss: 0.0299 - accuracy: 0.9924 - val_loss: 0.0327 - val_accuracy: 0.9900\n",
            "Epoch 13/25\n",
            "122/122 [==============================] - 0s 2ms/step - loss: 0.0313 - accuracy: 0.9908 - val_loss: 0.0310 - val_accuracy: 0.9923\n",
            "Epoch 14/25\n",
            "122/122 [==============================] - 0s 2ms/step - loss: 0.0470 - accuracy: 0.9852 - val_loss: 0.0894 - val_accuracy: 0.9792\n",
            "Epoch 15/25\n",
            "122/122 [==============================] - 0s 2ms/step - loss: 0.0557 - accuracy: 0.9875 - val_loss: 0.0405 - val_accuracy: 0.9885\n",
            "Epoch 16/25\n",
            "122/122 [==============================] - 0s 2ms/step - loss: 0.0623 - accuracy: 0.9853 - val_loss: 0.0299 - val_accuracy: 0.9946\n",
            "Epoch 17/25\n",
            "122/122 [==============================] - 0s 2ms/step - loss: 0.0337 - accuracy: 0.9899 - val_loss: 0.0451 - val_accuracy: 0.9877\n",
            "Epoch 18/25\n",
            "122/122 [==============================] - 0s 2ms/step - loss: 0.0326 - accuracy: 0.9921 - val_loss: 0.0258 - val_accuracy: 0.9946\n",
            "Epoch 19/25\n",
            "122/122 [==============================] - 0s 2ms/step - loss: 0.0308 - accuracy: 0.9924 - val_loss: 0.1127 - val_accuracy: 0.9785\n",
            "Epoch 20/25\n",
            "122/122 [==============================] - 0s 2ms/step - loss: 0.0830 - accuracy: 0.9788 - val_loss: 0.0271 - val_accuracy: 0.9931\n",
            "Epoch 21/25\n",
            "122/122 [==============================] - 0s 2ms/step - loss: 0.0242 - accuracy: 0.9953 - val_loss: 0.0315 - val_accuracy: 0.9908\n",
            "Epoch 22/25\n",
            "122/122 [==============================] - 0s 2ms/step - loss: 0.0256 - accuracy: 0.9962 - val_loss: 0.0349 - val_accuracy: 0.9908\n",
            "Epoch 23/25\n",
            "122/122 [==============================] - 0s 2ms/step - loss: 0.0217 - accuracy: 0.9954 - val_loss: 0.0299 - val_accuracy: 0.9923\n",
            "Epoch 24/25\n",
            "122/122 [==============================] - 0s 2ms/step - loss: 0.0322 - accuracy: 0.9922 - val_loss: 0.0272 - val_accuracy: 0.9946\n",
            "Epoch 25/25\n",
            "122/122 [==============================] - 0s 2ms/step - loss: 0.0340 - accuracy: 0.9911 - val_loss: 0.0303 - val_accuracy: 0.9923\n"
          ],
          "name": "stdout"
        }
      ]
    },
    {
      "cell_type": "code",
      "metadata": {
        "colab": {
          "base_uri": "https://localhost:8080/",
          "height": 283
        },
        "id": "domestic-forth",
        "outputId": "66adcfff-863a-4463-e8b9-f5c7a6d3a408"
      },
      "source": [
        "#분류 모델 학습 결과 시각화\n",
        "import matplotlib.pyplot as plt \n",
        "plt.figure(figsize=(12, 4)) #시각화 크기 지정\n",
        "\n",
        "plt.subplot(1, 2, 1)\n",
        "plt.plot(history.history['loss'], 'b-', label='loss') \n",
        "plt.plot(history.history['val_loss'], 'r--', label='val_loss') \n",
        "plt.xlabel('Epoch')\n",
        "plt.legend()\n",
        "\n",
        "plt.subplot(1, 2, 2)\n",
        "plt.plot(history.history['accuracy'], 'g-', label='accuracy') \n",
        "plt.plot(history.history['val_accuracy'], 'k--', label='val_accuracy') \n",
        "plt.xlabel('Epoch')\n",
        "plt.ylim(0.7, 1)\n",
        "plt.legend()\n",
        "\n",
        "plt.show()"
      ],
      "id": "domestic-forth",
      "execution_count": null,
      "outputs": [
        {
          "output_type": "display_data",
          "data": {
            "image/png": "[encoded data removed]",
            "text/plain": [
              "<Figure size 864x288 with 2 Axes>"
            ]
          },
          "metadata": {
            "tags": [],
            "needs_background": "light"
          }
        }
      ]
    },
    {
      "cell_type": "code",
      "metadata": {
        "colab": {
          "base_uri": "https://localhost:8080/",
          "height": 554
        },
        "id": "o5fOo0Cpy3Vs",
        "outputId": "5df11f05-d375-4b70-9703-486615b1eb78"
      },
      "source": [
        "# 품질 데이터 확인\n",
        "# 3, 4, 8, 9 데이터의 경우 개수가 너무 부족하므로 데이터를 묶어본다. (3,4,5), (6), (7,8,9)\n",
        "print(white['quality'].describe())\n",
        "print(white['quality'].value_counts())\n",
        "\n",
        "plt.hist(wine['quality'], bins=7, rwidth=0.8) \n",
        "plt.show()"
      ],
      "id": "o5fOo0Cpy3Vs",
      "execution_count": null,
      "outputs": [
        {
          "output_type": "stream",
          "text": [
            "count    4898.000000\n",
            "mean        5.877909\n",
            "std         0.885639\n",
            "min         3.000000\n",
            "25%         5.000000\n",
            "50%         6.000000\n",
            "75%         6.000000\n",
            "max         9.000000\n",
            "Name: quality, dtype: float64\n",
            "6    2198\n",
            "5    1457\n",
            "7     880\n",
            "8     175\n",
            "4     163\n",
            "3      20\n",
            "9       5\n",
            "Name: quality, dtype: int64\n"
          ],
          "name": "stdout"
        },
        {
          "output_type": "display_data",
          "data": {
            "image/png": "[encoded data removed]",
            "text/plain": [
              "<Figure size 432x288 with 1 Axes>"
            ]
          },
          "metadata": {
            "tags": [],
            "needs_background": "light"
          }
        }
      ]
    },
    {
      "cell_type": "code",
      "metadata": {
        "colab": {
          "base_uri": "https://localhost:8080/"
        },
        "id": "YcUbFRdw0PPf",
        "outputId": "7112cd32-1771-4d61-cb4d-e3a2447bd46f"
      },
      "source": [
        "#품질을 3개의 범주(좋음, 보통, 나쁨)로 재분류 \n",
        "wine.loc[wine['quality'] <= 5, 'new_quality'] = 0 \n",
        "wine.loc[wine['quality'] == 6, 'new_quality'] = 1 \n",
        "wine.loc[wine['quality'] >= 7, 'new_quality'] = 2\n",
        "\n",
        "print(wine['new_quality'].describe()) \n",
        "print(wine['new_quality'].value_counts())\n",
        "print(wine.head())"
      ],
      "id": "YcUbFRdw0PPf",
      "execution_count": null,
      "outputs": [
        {
          "output_type": "stream",
          "text": [
            "count    6497.000000\n",
            "mean        0.829614\n",
            "std         0.731124\n",
            "min         0.000000\n",
            "25%         0.000000\n",
            "50%         1.000000\n",
            "75%         1.000000\n",
            "max         2.000000\n",
            "Name: new_quality, dtype: float64\n",
            "1.0    2836\n",
            "0.0    2384\n",
            "2.0    1277\n",
            "Name: new_quality, dtype: int64\n",
            "   fixed acidity  volatile acidity  citric acid  ...  quality  type  new_quality\n",
            "0            7.4              0.70         0.00  ...        5     0          0.0\n",
            "1            7.8              0.88         0.00  ...        5     0          0.0\n",
            "2            7.8              0.76         0.04  ...        5     0          0.0\n",
            "3           11.2              0.28         0.56  ...        6     0          1.0\n",
            "4            7.4              0.70         0.00  ...        5     0          0.0\n",
            "\n",
            "[5 rows x 14 columns]\n"
          ],
          "name": "stdout"
        }
      ]
    },
    {
      "cell_type": "code",
      "metadata": {
        "id": "fn9XtjdK04v0"
      },
      "source": [
        "#데이터 정규화(normalization)및 train, test 데이터 분리 \n",
        "del wine['quality']\n",
        "wine_norm = (wine - wine.min()) / (wine.max() - wine.min()) \n",
        "wine_shuffle = wine_norm.sample(frac = 1) # 100% if frac = 1\n",
        "wine_np = wine_shuffle.to_numpy()"
      ],
      "id": "fn9XtjdK04v0",
      "execution_count": null,
      "outputs": []
    },
    {
      "cell_type": "code",
      "metadata": {
        "colab": {
          "base_uri": "https://localhost:8080/"
        },
        "id": "TpfUKypI1kKm",
        "outputId": "e2233403-f253-4ae8-8ca2-2a7f10897d68"
      },
      "source": [
        "train_idx = int(len(wine_np) * 0.8) #와인 데이터 세트 전체 인덱스 확인 \n",
        "train_X, train_Y = wine_np[:train_idx, :-1], wine_np[:train_idx, -1] #학습 데이터 X/Y 분할\n",
        "test_X, test_Y = wine_np[train_idx:, :-1], wine_np[train_idx:, -1] #테스트 데이터 X/Y 분할\n",
        "train_Y = tf.keras.utils.to_categorical(train_Y, num_classes=3) #학습 데이터 원-핫-인코딩\n",
        "test_Y = tf.keras.utils.to_categorical(test_Y, num_classes=3) #테스트 데이터 원-핫-인코딩\n",
        "\n",
        "#와인 데이터셋 다항 분류 모델 생성 및 학습 \n",
        "model = tf.keras.Sequential([\n",
        "                             tf.keras.layers.Dense(units=48, activation='relu', input_shape=(12,)), \n",
        "                             tf.keras.layers.Dense(units=24, activation='relu'), \n",
        "                             tf.keras.layers.Dense(units=12, activation='relu'), \n",
        "                             tf.keras.layers.Dense(units=3, activation='softmax')\n",
        "])\n",
        "\n",
        "model.compile(optimizer=tf.keras.optimizers.Adam(lr=0.003),\n",
        "              loss='categorical_crossentropy', metrics=['accuracy'])\n",
        "\n",
        "history = model.fit(train_X, train_Y, epochs=25, batch_size=32, validation_split=0.25)"
      ],
      "id": "TpfUKypI1kKm",
      "execution_count": null,
      "outputs": [
        {
          "output_type": "stream",
          "text": [
            "Epoch 1/25\n",
            "122/122 [==============================] - 1s 4ms/step - loss: 0.6296 - accuracy: 0.8006 - val_loss: 0.4132 - val_accuracy: 0.8154\n",
            "Epoch 2/25\n",
            "122/122 [==============================] - 0s 2ms/step - loss: 0.4180 - accuracy: 0.8125 - val_loss: 0.4065 - val_accuracy: 0.8300\n",
            "Epoch 3/25\n",
            "122/122 [==============================] - 0s 2ms/step - loss: 0.4087 - accuracy: 0.8039 - val_loss: 0.3817 - val_accuracy: 0.8369\n",
            "Epoch 4/25\n",
            "122/122 [==============================] - 0s 2ms/step - loss: 0.4141 - accuracy: 0.8077 - val_loss: 0.4127 - val_accuracy: 0.8146\n",
            "Epoch 5/25\n",
            "122/122 [==============================] - 0s 2ms/step - loss: 0.4052 - accuracy: 0.8167 - val_loss: 0.3727 - val_accuracy: 0.8385\n",
            "Epoch 6/25\n",
            "122/122 [==============================] - 0s 2ms/step - loss: 0.3890 - accuracy: 0.8173 - val_loss: 0.4042 - val_accuracy: 0.8131\n",
            "Epoch 7/25\n",
            "122/122 [==============================] - 0s 2ms/step - loss: 0.4064 - accuracy: 0.8074 - val_loss: 0.3709 - val_accuracy: 0.8400\n",
            "Epoch 8/25\n",
            "122/122 [==============================] - 0s 2ms/step - loss: 0.3872 - accuracy: 0.8090 - val_loss: 0.3731 - val_accuracy: 0.8392\n",
            "Epoch 9/25\n",
            "122/122 [==============================] - 0s 2ms/step - loss: 0.3808 - accuracy: 0.8214 - val_loss: 0.3897 - val_accuracy: 0.8208\n",
            "Epoch 10/25\n",
            "122/122 [==============================] - 0s 2ms/step - loss: 0.4031 - accuracy: 0.8034 - val_loss: 0.3551 - val_accuracy: 0.8469\n",
            "Epoch 11/25\n",
            "122/122 [==============================] - 0s 2ms/step - loss: 0.3916 - accuracy: 0.8158 - val_loss: 0.3732 - val_accuracy: 0.8469\n",
            "Epoch 12/25\n",
            "122/122 [==============================] - 0s 2ms/step - loss: 0.3903 - accuracy: 0.8072 - val_loss: 0.3837 - val_accuracy: 0.8438\n",
            "Epoch 13/25\n",
            "122/122 [==============================] - 0s 2ms/step - loss: 0.3827 - accuracy: 0.8165 - val_loss: 0.3491 - val_accuracy: 0.8500\n",
            "Epoch 14/25\n",
            "122/122 [==============================] - 0s 2ms/step - loss: 0.3742 - accuracy: 0.8198 - val_loss: 0.3489 - val_accuracy: 0.8538\n",
            "Epoch 15/25\n",
            "122/122 [==============================] - 0s 2ms/step - loss: 0.3649 - accuracy: 0.8192 - val_loss: 0.3501 - val_accuracy: 0.8492\n",
            "Epoch 16/25\n",
            "122/122 [==============================] - 0s 2ms/step - loss: 0.3799 - accuracy: 0.8211 - val_loss: 0.3732 - val_accuracy: 0.8262\n",
            "Epoch 17/25\n",
            "122/122 [==============================] - 0s 2ms/step - loss: 0.3763 - accuracy: 0.8276 - val_loss: 0.3563 - val_accuracy: 0.8408\n",
            "Epoch 18/25\n",
            "122/122 [==============================] - 0s 2ms/step - loss: 0.3781 - accuracy: 0.8228 - val_loss: 0.3406 - val_accuracy: 0.8538\n",
            "Epoch 19/25\n",
            "122/122 [==============================] - 0s 2ms/step - loss: 0.3722 - accuracy: 0.8178 - val_loss: 0.3409 - val_accuracy: 0.8546\n",
            "Epoch 20/25\n",
            "122/122 [==============================] - 0s 2ms/step - loss: 0.3469 - accuracy: 0.8297 - val_loss: 0.3393 - val_accuracy: 0.8538\n",
            "Epoch 21/25\n",
            "122/122 [==============================] - 0s 2ms/step - loss: 0.3636 - accuracy: 0.8253 - val_loss: 0.3376 - val_accuracy: 0.8569\n",
            "Epoch 22/25\n",
            "122/122 [==============================] - 0s 2ms/step - loss: 0.3646 - accuracy: 0.8275 - val_loss: 0.3421 - val_accuracy: 0.8462\n",
            "Epoch 23/25\n",
            "122/122 [==============================] - 0s 2ms/step - loss: 0.3776 - accuracy: 0.8098 - val_loss: 0.3430 - val_accuracy: 0.8508\n",
            "Epoch 24/25\n",
            "122/122 [==============================] - 0s 2ms/step - loss: 0.3572 - accuracy: 0.8365 - val_loss: 0.3461 - val_accuracy: 0.8477\n",
            "Epoch 25/25\n",
            "122/122 [==============================] - 0s 2ms/step - loss: 0.3609 - accuracy: 0.8230 - val_loss: 0.3363 - val_accuracy: 0.8554\n"
          ],
          "name": "stdout"
        }
      ]
    },
    {
      "cell_type": "code",
      "metadata": {
        "colab": {
          "base_uri": "https://localhost:8080/",
          "height": 279
        },
        "id": "vPg0E0nJ2Biz",
        "outputId": "eca28615-ad7c-4907-eb70-7c1652af5ac8"
      },
      "source": [
        "# 다항 분류 모델 학습 결과 시각화 \n",
        "import matplotlib.pyplot as plt \n",
        "plt.figure(figsize=(12, 4))\n",
        "\n",
        "plt.subplot(1, 2, 1)\n",
        "plt.plot(history.history['loss'], 'b-', label='loss') \n",
        "plt.plot(history.history['val_loss'], 'r--', label='val_loss') \n",
        "plt.xlabel('Epoch')\n",
        "plt.legend()\n",
        "\n",
        "plt.subplot(1, 2, 2)\n",
        "plt.plot(history.history['accuracy'], 'g-', label='accuracy') \n",
        "plt.plot(history.history['val_accuracy'], 'k--', label='val_accuracy') \n",
        "plt.xlabel('Epoch')\n",
        "plt.legend()\n",
        "plt.show()"
      ],
      "id": "vPg0E0nJ2Biz",
      "execution_count": null,
      "outputs": [
        {
          "output_type": "display_data",
          "data": {
            "image/png": "[encoded data removed]",
            "text/plain": [
              "<Figure size 864x288 with 2 Axes>"
            ]
          },
          "metadata": {
            "tags": [],
            "needs_background": "light"
          }
        }
      ]
    }
  ]
}