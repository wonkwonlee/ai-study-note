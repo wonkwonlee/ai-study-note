{
 "cells": [
  {
   "cell_type": "markdown",
   "id": "ceramic-budapest",
   "metadata": {
    "id": "ceramic-budapest",
    "pycharm": {
     "name": "#%% md\n"
    }
   },
   "source": [
    "# 분류 Classification\n",
    "\n",
    "## 이진 판단 문제\n",
    "* 이진 판단 문제란 예, 아니오 혹은 0, 1 같은 두 가지 값에 대해서 하나로 답하는 문제이다.\n",
    "* 하지만 이진 판단 문제를 신경망으로 해결하는 것은 까다로운 부분이 존재한다.\n",
    "  + 가중치와 편향을 이용하는 퍼셉트론의 선형 연산을 살펴보면 하나의 값 만을 출력한다.\n",
    "  + 즉 두 가지 값으로 결과를 제한할 수 없다.\n",
    "* 방법은 *선형 연산에서는 범위에 제한이 없는 실숫값을 계산하되, 이를 확률값의 성질에 맞게 즉 0~1 사이의 값을 갖도록 변환*해주는 비선형 활성화 함수, **시그모이드(sigmoid) 함수**를 사용하는 것이다.\n",
    "![cross](https://user-images.githubusercontent.com/28593767/112778597-d85aae80-907f-11eb-8d5a-5e752744edc5.png)\n",
    "* 신경망의 예측값에 따른 확률 분포와 실제 결괏값에 따른 확률 분포 사이의 각 확률 분포가 얼마나 다른지를 숫자 하나로 표 현해주는 **교차 엔트로피(Cross Entropy)** 라는 개념으로 풀 수 있다."
   ]
  },
  {
   "cell_type": "code",
   "execution_count": null,
   "id": "9hdT405yr1rE",
   "metadata": {
    "id": "9hdT405yr1rE"
   },
   "outputs": [],
   "source": []
  }
 ],
 "metadata": {
  "colab": {
   "collapsed_sections": [],
   "name": "classification.ipynb",
   "provenance": []
  },
  "kernelspec": {
   "display_name": "Python 3",
   "language": "python",
   "name": "python3"
  },
  "language_info": {
   "codemirror_mode": {
    "name": "ipython",
    "version": 3
   },
   "file_extension": ".py",
   "mimetype": "text/x-python",
   "name": "python",
   "nbconvert_exporter": "python",
   "pygments_lexer": "ipython3",
   "version": "3.7.10"
  },
  "toc": {
   "base_numbering": 1,
   "nav_menu": {},
   "number_sections": true,
   "sideBar": true,
   "skip_h1_title": false,
   "title_cell": "Table of Contents",
   "title_sidebar": "Contents",
   "toc_cell": false,
   "toc_position": {},
   "toc_section_display": true,
   "toc_window_display": false
  }
 },
 "nbformat": 4,
 "nbformat_minor": 5
}
