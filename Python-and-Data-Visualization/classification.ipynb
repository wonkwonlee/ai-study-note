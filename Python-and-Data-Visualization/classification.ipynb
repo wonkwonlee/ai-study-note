{
  "nbformat": 4,
  "nbformat_minor": 5,
  "metadata": {
    "kernelspec": {
      "display_name": "Python 3",
      "language": "python",
      "name": "python3"
    },
    "language_info": {
      "codemirror_mode": {
        "name": "ipython",
        "version": 3
      },
      "file_extension": ".py",
      "mimetype": "text/x-python",
      "name": "python",
      "nbconvert_exporter": "python",
      "pygments_lexer": "ipython3",
      "version": "3.7.10"
    },
    "toc": {
      "base_numbering": 1,
      "nav_menu": {},
      "number_sections": true,
      "sideBar": true,
      "skip_h1_title": false,
      "title_cell": "Table of Contents",
      "title_sidebar": "Contents",
      "toc_cell": false,
      "toc_position": {},
      "toc_section_display": true,
      "toc_window_display": false
    },
    "colab": {
      "name": "classification.ipynb",
      "provenance": [],
      "collapsed_sections": []
    }
  },
  "cells": [
    {
      "cell_type": "code",
      "metadata": {
        "id": "median-criticism"
      },
      "source": [
        "import pandas as pd"
      ],
      "id": "median-criticism",
      "execution_count": 1,
      "outputs": []
    },
    {
      "cell_type": "code",
      "metadata": {
        "id": "handled-embassy"
      },
      "source": [
        "# Import red and white wine datast\n",
        "red = pd.read_csv('http://archive.ics.uci.edu/ml/machine-learning-databases/wine-quality/winequality-red.csv', sep=';')\n",
        "white = pd.read_csv('http://archive.ics.uci.edu/ml/machine-learning-databases/wine-quality/winequality-white.csv', sep=';')"
      ],
      "id": "handled-embassy",
      "execution_count": 3,
      "outputs": []
    },
    {
      "cell_type": "code",
      "metadata": {
        "colab": {
          "base_uri": "https://localhost:8080/"
        },
        "id": "compact-tumor",
        "outputId": "29d1a10c-5bd8-44ce-f180-9d9901e07a8f"
      },
      "source": [
        "red['type'] = 0\n",
        "white['type'] = 1\n",
        "print(red.head(2))\n",
        "print(white.head(2))\n",
        "\n",
        "wine = pd.concat([red, white])"
      ],
      "id": "compact-tumor",
      "execution_count": 4,
      "outputs": [
        {
          "output_type": "stream",
          "text": [
            "   fixed acidity  volatile acidity  citric acid  ...  alcohol  quality  type\n",
            "0            7.4              0.70          0.0  ...      9.4        5     0\n",
            "1            7.8              0.88          0.0  ...      9.8        5     0\n",
            "\n",
            "[2 rows x 13 columns]\n",
            "   fixed acidity  volatile acidity  citric acid  ...  alcohol  quality  type\n",
            "0            7.0              0.27         0.36  ...      8.8        6     1\n",
            "1            6.3              0.30         0.34  ...      9.5        6     1\n",
            "\n",
            "[2 rows x 13 columns]\n"
          ],
          "name": "stdout"
        }
      ]
    },
    {
      "cell_type": "code",
      "metadata": {
        "colab": {
          "base_uri": "https://localhost:8080/"
        },
        "id": "flush-basis",
        "outputId": "fd6277d8-bd50-4377-cb7c-ed314833cd96"
      },
      "source": [
        "# Type의 평균이 0.75인 것으로 보아 화이트 와인이 레드 와인보다 많다\n",
        "print(wine.describe())"
      ],
      "id": "flush-basis",
      "execution_count": 5,
      "outputs": [
        {
          "output_type": "stream",
          "text": [
            "       fixed acidity  volatile acidity  ...      quality         type\n",
            "count    6497.000000       6497.000000  ...  6497.000000  6497.000000\n",
            "mean        7.215307          0.339666  ...     5.818378     0.753886\n",
            "std         1.296434          0.164636  ...     0.873255     0.430779\n",
            "min         3.800000          0.080000  ...     3.000000     0.000000\n",
            "25%         6.400000          0.230000  ...     5.000000     1.000000\n",
            "50%         7.000000          0.290000  ...     6.000000     1.000000\n",
            "75%         7.700000          0.400000  ...     6.000000     1.000000\n",
            "max        15.900000          1.580000  ...     9.000000     1.000000\n",
            "\n",
            "[8 rows x 13 columns]\n"
          ],
          "name": "stdout"
        }
      ]
    },
    {
      "cell_type": "code",
      "metadata": {
        "colab": {
          "base_uri": "https://localhost:8080/",
          "height": 316
        },
        "id": "lasting-bride",
        "outputId": "959ffdb7-4f65-47d2-c44a-bd24de420b9b"
      },
      "source": [
        "#레드 와인과 화이트 와인 type 히스토그램 \n",
        "import matplotlib.pyplot as plt \n",
        "plt.hist(wine['type']) \n",
        "plt.xticks([0, 1]) # 눈금표시 \n",
        "plt.show()\n",
        "print(wine['type'].value_counts())"
      ],
      "id": "lasting-bride",
      "execution_count": 6,
      "outputs": [
        {
          "output_type": "display_data",
          "data": {
            "image/png": "[encoded data removed]",
            "text/plain": [
              "<Figure size 432x288 with 1 Axes>"
            ]
          },
          "metadata": {
            "tags": [],
            "needs_background": "light"
          }
        },
        {
          "output_type": "stream",
          "text": [
            "1    4898\n",
            "0    1599\n",
            "Name: type, dtype: int64\n"
          ],
          "name": "stdout"
        }
      ]
    },
    {
      "cell_type": "code",
      "metadata": {
        "scrolled": false,
        "colab": {
          "base_uri": "https://localhost:8080/"
        },
        "id": "optional-heavy",
        "outputId": "4246311c-bf9d-4b56-c911-85963ebc4cf1"
      },
      "source": [
        "# info() : 데이터프레임을 구성하는 속성 정보를 알려준다\n",
        "print(wine.info())"
      ],
      "id": "optional-heavy",
      "execution_count": 7,
      "outputs": [
        {
          "output_type": "stream",
          "text": [
            "<class 'pandas.core.frame.DataFrame'>\n",
            "Int64Index: 6497 entries, 0 to 4897\n",
            "Data columns (total 13 columns):\n",
            " #   Column                Non-Null Count  Dtype  \n",
            "---  ------                --------------  -----  \n",
            " 0   fixed acidity         6497 non-null   float64\n",
            " 1   volatile acidity      6497 non-null   float64\n",
            " 2   citric acid           6497 non-null   float64\n",
            " 3   residual sugar        6497 non-null   float64\n",
            " 4   chlorides             6497 non-null   float64\n",
            " 5   free sulfur dioxide   6497 non-null   float64\n",
            " 6   total sulfur dioxide  6497 non-null   float64\n",
            " 7   density               6497 non-null   float64\n",
            " 8   pH                    6497 non-null   float64\n",
            " 9   sulphates             6497 non-null   float64\n",
            " 10  alcohol               6497 non-null   float64\n",
            " 11  quality               6497 non-null   int64  \n",
            " 12  type                  6497 non-null   int64  \n",
            "dtypes: float64(11), int64(2)\n",
            "memory usage: 710.6 KB\n",
            "None\n"
          ],
          "name": "stdout"
        }
      ]
    },
    {
      "cell_type": "markdown",
      "metadata": {
        "id": "checked-stomach"
      },
      "source": [
        "## 데이터의 정규분포 Data Normalization\n",
        "* 데이터를 0과 1 사이의 범위로 scaling 하는 방법\n",
        "\n",
        "<img width=\"423\" alt=\"normalization\" src=\"https://user-images.githubusercontent.com/28593767/112793169-c1c44f80-909f-11eb-9205-3036330e75c8.png\">"
      ],
      "id": "checked-stomach"
    },
    {
      "cell_type": "code",
      "metadata": {
        "scrolled": true,
        "colab": {
          "base_uri": "https://localhost:8080/"
        },
        "id": "express-leadership",
        "outputId": "1c472ed6-91c3-4a2a-ee59-a9d062940dda"
      },
      "source": [
        "# Data Normalization\n",
        "wine_norm = (wine - wine.min()) / (wine.max() - wine.min())\n",
        "# Normalization 된 데이터 출력\n",
        "print(wine_norm.head()) \n",
        "# describe로 출력되는 속성들의 min이 0, max가 1로 변경\n",
        "print(wine_norm.describe())"
      ],
      "id": "express-leadership",
      "execution_count": 8,
      "outputs": [
        {
          "output_type": "stream",
          "text": [
            "   fixed acidity  volatile acidity  citric acid  ...   alcohol   quality  type\n",
            "0       0.297521          0.413333     0.000000  ...  0.202899  0.333333   0.0\n",
            "1       0.330579          0.533333     0.000000  ...  0.260870  0.333333   0.0\n",
            "2       0.330579          0.453333     0.024096  ...  0.260870  0.333333   0.0\n",
            "3       0.611570          0.133333     0.337349  ...  0.260870  0.500000   0.0\n",
            "4       0.297521          0.413333     0.000000  ...  0.202899  0.333333   0.0\n",
            "\n",
            "[5 rows x 13 columns]\n",
            "       fixed acidity  volatile acidity  ...      quality         type\n",
            "count    6497.000000       6497.000000  ...  6497.000000  6497.000000\n",
            "mean        0.282257          0.173111  ...     0.469730     0.753886\n",
            "std         0.107143          0.109758  ...     0.145543     0.430779\n",
            "min         0.000000          0.000000  ...     0.000000     0.000000\n",
            "25%         0.214876          0.100000  ...     0.333333     1.000000\n",
            "50%         0.264463          0.140000  ...     0.500000     1.000000\n",
            "75%         0.322314          0.213333  ...     0.500000     1.000000\n",
            "max         1.000000          1.000000  ...     1.000000     1.000000\n",
            "\n",
            "[8 rows x 13 columns]\n"
          ],
          "name": "stdout"
        }
      ]
    },
    {
      "cell_type": "code",
      "metadata": {
        "colab": {
          "base_uri": "https://localhost:8080/"
        },
        "id": "middle-metro",
        "outputId": "c62f071f-1011-41a0-97be-ec1d6e26b64e"
      },
      "source": [
        "# 데이터 섞은 후 numpy array로 변환 \n",
        "import numpy as np\n",
        "wine_shuffle = wine_norm.sample(frac=1)  # frac=1이면 모든 데이터를 뽑아서 섞는 것과 동일\n",
        "print(wine_shuffle.head()) \n",
        "wine_np = wine_shuffle.to_numpy() \n",
        "print(type(wine_np)) \n",
        "print(wine_np[:5])"
      ],
      "id": "middle-metro",
      "execution_count": 9,
      "outputs": [
        {
          "output_type": "stream",
          "text": [
            "      fixed acidity  volatile acidity  citric acid  ...   alcohol   quality  type\n",
            "1204       0.280992          0.186667     0.277108  ...  0.434783  0.666667   0.0\n",
            "505        0.330579          0.066667     0.186747  ...  0.130435  0.500000   1.0\n",
            "3834       0.223140          0.220000     0.132530  ...  0.173913  0.333333   1.0\n",
            "1363       0.347107          0.500000     0.162651  ...  0.260870  0.166667   0.0\n",
            "582        0.652893          0.273333     0.295181  ...  0.173913  0.333333   0.0\n",
            "\n",
            "[5 rows x 13 columns]\n",
            "<class 'numpy.ndarray'>\n",
            "[[0.28099174 0.18666667 0.27710843 0.02300613 0.10797342 0.07986111\n",
            "  0.0875576  0.1586659  0.52713178 0.35393258 0.43478261 0.66666667\n",
            "  0.        ]\n",
            " [0.33057851 0.06666667 0.18674699 0.17791411 0.0730897  0.15625\n",
            "  0.30875576 0.20994795 0.26356589 0.1741573  0.13043478 0.5\n",
            "  1.        ]\n",
            " [0.2231405  0.22       0.13253012 0.06441718 0.07142857 0.16666667\n",
            "  0.31336406 0.14439946 0.3255814  0.2247191  0.17391304 0.33333333\n",
            "  1.        ]\n",
            " [0.34710744 0.5        0.1626506  0.02147239 0.1179402  0.03472222\n",
            "  0.13133641 0.18141508 0.44186047 0.14606742 0.26086957 0.16666667\n",
            "  0.        ]\n",
            " [0.65289256 0.27333333 0.29518072 0.02453988 0.12292359 0.01388889\n",
            "  0.02073733 0.24850588 0.36434109 0.11797753 0.17391304 0.33333333\n",
            "  0.        ]]\n"
          ],
          "name": "stdout"
        }
      ]
    },
    {
      "cell_type": "code",
      "metadata": {
        "colab": {
          "base_uri": "https://localhost:8080/"
        },
        "id": "deluxe-trial",
        "outputId": "7598b6be-655f-446f-9ac5-bb5ec4246b16"
      },
      "source": [
        "#train 데이터와 test 데이터로 분리 \n",
        "import tensorflow as tf\n",
        "# 80%는 train 데이터, 나머지 20%는 test 데이터를 나누는 Index\n",
        "train_idx = int(len(wine_np) * 0.8) \n",
        "print(train_idx)\n",
        "# Train 데이터의 경우 마지막 속성을 제외하고 인덱스까지, Train 데이터의 정답은 마지막 속성값\n",
        "train_X, train_Y = wine_np[:train_idx, :-1], wine_np[:train_idx, -1] \n",
        "# Test 데이터의 경우 마지막 속성을 제외하고 인덱스부터, Test 데이터의 정답은 마지막 속성값\n",
        "test_X, test_Y = wine_np[train_idx:, :-1], wine_np[train_idx:, -1]\n",
        "\n",
        "print(train_X[0])\n",
        "print(train_Y[0])\n",
        "print(test_X[0])\n",
        "print(test_Y[0])"
      ],
      "id": "deluxe-trial",
      "execution_count": 10,
      "outputs": [
        {
          "output_type": "stream",
          "text": [
            "5197\n",
            "[0.28099174 0.18666667 0.27710843 0.02300613 0.10797342 0.07986111\n",
            " 0.0875576  0.1586659  0.52713178 0.35393258 0.43478261 0.66666667]\n",
            "0.0\n",
            "[0.25619835 0.20666667 0.24096386 0.06134969 0.02159468 0.01388889\n",
            " 0.02995392 0.08463466 0.45736434 0.08426966 0.66666667 0.        ]\n",
            "1.0\n"
          ],
          "name": "stdout"
        }
      ]
    },
    {
      "cell_type": "code",
      "metadata": {
        "colab": {
          "base_uri": "https://localhost:8080/"
        },
        "id": "employed-battle",
        "outputId": "cd36bba6-ebc4-49e8-f209-4f077cc86f54"
      },
      "source": [
        "# to_categorical은 분류 문제에서 쓰이는 함수로m 정답 행렬을 원-핫 인코딩(One-Hot Encoding) 방식으로 바꾼다\n",
        "train_Y = tf.keras.utils.to_categorical(train_Y, num_classes=2) \n",
        "test_Y = tf.keras.utils.to_categorical(test_Y, num_classes=2) \n",
        "print(train_Y[0])\n",
        "print(test_Y[0])"
      ],
      "id": "employed-battle",
      "execution_count": 11,
      "outputs": [
        {
          "output_type": "stream",
          "text": [
            "[1. 0.]\n",
            "[0. 1.]\n"
          ],
          "name": "stdout"
        }
      ]
    },
    {
      "cell_type": "code",
      "metadata": {
        "colab": {
          "base_uri": "https://localhost:8080/"
        },
        "id": "numerous-mongolia",
        "outputId": "5b510d62-622f-415b-db9b-1f18622f1e68"
      },
      "source": [
        "# 와인 데이터셋 분류 모델 생성 \n",
        "model = tf.keras.Sequential([\n",
        "    tf.keras.layers.Dense(units=48, activation='relu', input_shape=(12,)), \n",
        "    tf.keras.layers.Dense(units=24, activation='relu'), \n",
        "    tf.keras.layers.Dense(units=12, activation='relu'), \n",
        "    tf.keras.layers.Dense(units=2, activation='softmax')  # 분류 모델이기에 활성화 함수로 softmax 사용\n",
        "])\n",
        "\n",
        "model.compile(optimizer=tf.keras.optimizers.Adam(lr=0.07), \n",
        "              loss='categorical_crossentropy', metrics=['accuracy'])\n",
        "model.summary()"
      ],
      "id": "numerous-mongolia",
      "execution_count": 12,
      "outputs": [
        {
          "output_type": "stream",
          "text": [
            "Model: \"sequential\"\n",
            "_________________________________________________________________\n",
            "Layer (type)                 Output Shape              Param #   \n",
            "=================================================================\n",
            "dense (Dense)                (None, 48)                624       \n",
            "_________________________________________________________________\n",
            "dense_1 (Dense)              (None, 24)                1176      \n",
            "_________________________________________________________________\n",
            "dense_2 (Dense)              (None, 12)                300       \n",
            "_________________________________________________________________\n",
            "dense_3 (Dense)              (None, 2)                 26        \n",
            "=================================================================\n",
            "Total params: 2,126\n",
            "Trainable params: 2,126\n",
            "Non-trainable params: 0\n",
            "_________________________________________________________________\n"
          ],
          "name": "stdout"
        }
      ]
    },
    {
      "cell_type": "markdown",
      "metadata": {
        "id": "boolean-comparative"
      },
      "source": [
        "## Softmax \n",
        "<img width=\"253\" alt=\"soft\" src=\"https://user-images.githubusercontent.com/28593767/112796488-01da0100-90a5-11eb-98a8-fe811f3d4c1d.png\">\n",
        "\n",
        "> 예시: [2, 1, 0] 이라는 값을 소프트맥스로 변환하면 다음과 같다.\n",
        ">\n",
        "> <img width=\"549\" alt=\"soft_ex\" src=\"https://user-images.githubusercontent.com/28593767/112796493-02729780-90a5-11eb-82b6-1bb0f2e9f1d9.png\">\n"
      ],
      "id": "boolean-comparative"
    },
    {
      "cell_type": "markdown",
      "metadata": {
        "id": "atomic-marshall"
      },
      "source": [
        "## 엔트로피 Entropy\n",
        "* 엔트로피는 불확실한 정보를 숫자로 표현하는 것으로 간단히 말해 확률의 역수에 로그를 취한 값이다.\n",
        "* 확률에 역수를 취하는 이유는 확률이 높을수록 정보량(놀라움)이 적다고 판단하기 때문이다. \n",
        "* 엔트로피의 기댓값은 각 엔트로피에 확률을 곱해준 값이다. \n",
        "    + 통계에서 기댓값의 정의는 각 사건이 벌어졌을 때의 이득과 그 사건이 벌어질 확률을 곱한 값이다."
      ],
      "id": "atomic-marshall"
    },
    {
      "cell_type": "code",
      "metadata": {
        "colab": {
          "base_uri": "https://localhost:8080/"
        },
        "id": "criminal-peninsula",
        "outputId": "6e52fcb7-b510-451f-d4f4-fe7d5d3e462d"
      },
      "source": [
        "# 와인 데이터셋 분류 모델 학습\n",
        "history = model.fit(train_X, train_Y, epochs=25, batch_size=32, validation_split=0.25)"
      ],
      "id": "criminal-peninsula",
      "execution_count": 15,
      "outputs": [
        {
          "output_type": "stream",
          "text": [
            "Epoch 1/25\n",
            "122/122 [==============================] - 0s 2ms/step - loss: 0.0345 - accuracy: 0.9920 - val_loss: 0.0260 - val_accuracy: 0.9931\n",
            "Epoch 2/25\n",
            "122/122 [==============================] - 0s 2ms/step - loss: 0.0308 - accuracy: 0.9931 - val_loss: 0.0410 - val_accuracy: 0.9931\n",
            "Epoch 3/25\n",
            "122/122 [==============================] - 0s 2ms/step - loss: 0.0319 - accuracy: 0.9915 - val_loss: 0.0372 - val_accuracy: 0.9915\n",
            "Epoch 4/25\n",
            "122/122 [==============================] - 0s 2ms/step - loss: 0.0328 - accuracy: 0.9920 - val_loss: 0.0292 - val_accuracy: 0.9946\n",
            "Epoch 5/25\n",
            "122/122 [==============================] - 0s 2ms/step - loss: 0.0355 - accuracy: 0.9913 - val_loss: 0.0246 - val_accuracy: 0.9908\n",
            "Epoch 6/25\n",
            "122/122 [==============================] - 0s 2ms/step - loss: 0.0330 - accuracy: 0.9926 - val_loss: 0.0319 - val_accuracy: 0.9938\n",
            "Epoch 7/25\n",
            "122/122 [==============================] - 0s 2ms/step - loss: 0.0327 - accuracy: 0.9923 - val_loss: 0.0241 - val_accuracy: 0.9931\n",
            "Epoch 8/25\n",
            "122/122 [==============================] - 0s 2ms/step - loss: 0.0452 - accuracy: 0.9905 - val_loss: 0.0523 - val_accuracy: 0.9892\n",
            "Epoch 9/25\n",
            "122/122 [==============================] - 0s 2ms/step - loss: 0.0470 - accuracy: 0.9879 - val_loss: 0.0362 - val_accuracy: 0.9908\n",
            "Epoch 10/25\n",
            "122/122 [==============================] - 0s 2ms/step - loss: 0.0554 - accuracy: 0.9861 - val_loss: 0.0489 - val_accuracy: 0.9938\n",
            "Epoch 11/25\n",
            "122/122 [==============================] - 0s 2ms/step - loss: 0.0547 - accuracy: 0.9877 - val_loss: 0.0526 - val_accuracy: 0.9885\n",
            "Epoch 12/25\n",
            "122/122 [==============================] - 0s 2ms/step - loss: 0.0392 - accuracy: 0.9913 - val_loss: 0.0266 - val_accuracy: 0.9923\n",
            "Epoch 13/25\n",
            "122/122 [==============================] - 0s 2ms/step - loss: 0.0409 - accuracy: 0.9895 - val_loss: 0.0690 - val_accuracy: 0.9908\n",
            "Epoch 14/25\n",
            "122/122 [==============================] - 0s 2ms/step - loss: 0.0400 - accuracy: 0.9923 - val_loss: 0.0389 - val_accuracy: 0.9923\n",
            "Epoch 15/25\n",
            "122/122 [==============================] - 0s 2ms/step - loss: 0.0351 - accuracy: 0.9918 - val_loss: 0.0449 - val_accuracy: 0.9938\n",
            "Epoch 16/25\n",
            "122/122 [==============================] - 0s 2ms/step - loss: 0.0315 - accuracy: 0.9928 - val_loss: 0.0280 - val_accuracy: 0.9900\n",
            "Epoch 17/25\n",
            "122/122 [==============================] - 0s 2ms/step - loss: 0.0379 - accuracy: 0.9897 - val_loss: 0.0659 - val_accuracy: 0.9923\n",
            "Epoch 18/25\n",
            "122/122 [==============================] - 0s 2ms/step - loss: 0.0377 - accuracy: 0.9915 - val_loss: 0.0299 - val_accuracy: 0.9900\n",
            "Epoch 19/25\n",
            "122/122 [==============================] - 0s 2ms/step - loss: 0.0461 - accuracy: 0.9908 - val_loss: 0.0305 - val_accuracy: 0.9915\n",
            "Epoch 20/25\n",
            "122/122 [==============================] - 0s 2ms/step - loss: 0.1034 - accuracy: 0.9736 - val_loss: 0.0223 - val_accuracy: 0.9923\n",
            "Epoch 21/25\n",
            "122/122 [==============================] - 0s 2ms/step - loss: 0.0492 - accuracy: 0.9869 - val_loss: 0.0418 - val_accuracy: 0.9923\n",
            "Epoch 22/25\n",
            "122/122 [==============================] - 0s 2ms/step - loss: 0.0306 - accuracy: 0.9928 - val_loss: 0.0319 - val_accuracy: 0.9946\n",
            "Epoch 23/25\n",
            "122/122 [==============================] - 0s 2ms/step - loss: 0.0378 - accuracy: 0.9913 - val_loss: 0.0304 - val_accuracy: 0.9915\n",
            "Epoch 24/25\n",
            "122/122 [==============================] - 0s 2ms/step - loss: 0.0348 - accuracy: 0.9910 - val_loss: 0.0322 - val_accuracy: 0.9923\n",
            "Epoch 25/25\n",
            "122/122 [==============================] - 0s 2ms/step - loss: 0.0295 - accuracy: 0.9941 - val_loss: 0.0557 - val_accuracy: 0.9946\n"
          ],
          "name": "stdout"
        }
      ]
    },
    {
      "cell_type": "code",
      "metadata": {
        "colab": {
          "base_uri": "https://localhost:8080/",
          "height": 283
        },
        "id": "domestic-forth",
        "outputId": "21929f36-b884-43ea-fcc2-439073c8243d"
      },
      "source": [
        "#분류 모델 학습 결과 시각화\n",
        "import matplotlib.pyplot as plt \n",
        "plt.figure(figsize=(12, 4)) #시각화 크기 지정\n",
        "\n",
        "plt.subplot(1, 2, 1)\n",
        "plt.plot(history.history['loss'], 'b-', label='loss') \n",
        "plt.plot(history.history['val_loss'], 'r--', label='val_loss') \n",
        "plt.xlabel('Epoch')\n",
        "plt.legend()\n",
        "\n",
        "plt.subplot(1, 2, 2)\n",
        "plt.plot(history.history['accuracy'], 'g-', label='accuracy') \n",
        "plt.plot(history.history['val_accuracy'], 'k--', label='val_accuracy') \n",
        "plt.xlabel('Epoch')\n",
        "plt.ylim(0.7, 1)\n",
        "plt.legend()\n",
        "\n",
        "plt.show()"
      ],
      "id": "domestic-forth",
      "execution_count": 16,
      "outputs": [
        {
          "output_type": "display_data",
          "data": {
            "image/png": "[encoded data removed]",
            "text/plain": [
              "<Figure size 864x288 with 2 Axes>"
            ]
          },
          "metadata": {
            "tags": [],
            "needs_background": "light"
          }
        }
      ]
    }
  ]
}