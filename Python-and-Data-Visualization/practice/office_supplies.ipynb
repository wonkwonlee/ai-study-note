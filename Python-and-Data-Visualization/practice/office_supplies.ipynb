{
 "cells": [
  {
   "cell_type": "markdown",
   "metadata": {},
   "source": [
    "# 지역 별 판매 실적 분석\n",
    "\n",
    "Region 별로 구분하여 판매한 Units를 확인할 수 있는 Box Plot을 만들어라."
   ]
  },
  {
   "cell_type": "code",
   "execution_count": 1,
   "metadata": {},
   "outputs": [
    {
     "name": "stdout",
     "output_type": "stream",
     "text": [
      "<class 'pandas.core.frame.DataFrame'>\n",
      "     OrderDate   Region      Rep     Item  Units  Unit Price\n",
      "0   4-Jul-2014     East  Richard  Pen Set     62        4.99\n",
      "1  12-Jul-2014     East     Nick   Binder     29        1.99\n",
      "2  21-Jul-2014  Central   Morgan  Pen Set     55       12.49\n",
      "3  29-Jul-2014     East    Susan   Binder     81       19.99\n",
      "4   7-Aug-2014  Central  Matthew  Pen Set     42       23.95\n",
      "Index(['OrderDate', 'Region', 'Rep', 'Item', 'Units', 'Unit Price'], dtype='object')\n"
     ]
    }
   ],
   "source": [
    "import pandas as pd\n",
    "import matplotlib.pyplot as plt\n",
    "# from numpy import NaN, NAN, nan\n",
    "\n",
    "data_sales = pd.read_csv('../data_visual/data_officesupplies.csv')\n",
    "print(type(data_sales))\n",
    "print(data_sales.head())\n",
    "print(data_sales.columns)"
   ]
  },
  {
   "cell_type": "code",
   "execution_count": 2,
   "metadata": {},
   "outputs": [
    {
     "name": "stdout",
     "output_type": "stream",
     "text": [
      "<class 'pandas.core.series.Series'>\n",
      "Region\n",
      "Central    49.958333\n",
      "East       53.153846\n",
      "West       38.500000\n",
      "Name: Units, dtype: float64\n"
     ]
    }
   ],
   "source": [
    "# 지역 별 평균 판매 개수 확인\n",
    "# 데이터를 그룹화하여 지역 별 평균 판매량 확인\n",
    "\n",
    "groupby_sales = data_sales.groupby('Region')['Units'].mean()\n",
    "print(type(groupby_sales))\n",
    "print(groupby_sales)"
   ]
  },
  {
   "cell_type": "code",
   "execution_count": 3,
   "metadata": {
    "scrolled": true
   },
   "outputs": [
    {
     "data": {
      "image/png": "[encoded data removed]",
      "text/plain": [
       "<Figure size 432x288 with 1 Axes>"
      ]
     },
     "metadata": {
      "needs_background": "light"
     },
     "output_type": "display_data"
    }
   ],
   "source": [
    "boxplot = plt.figure()\n",
    "ax1 = boxplot.add_subplot(1,1,1)\n",
    "\n",
    "ax1.boxplot([data_sales[data_sales['Region']=='Central']['Units'],\n",
    "            data_sales[data_sales['Region']=='East']['Units'],\n",
    "            data_sales[data_sales['Region']=='West']['Units']],\n",
    "            labels = ['Central', 'East', 'West'])\n",
    "ax1.set_xlabel(\"Regions\")\n",
    "ax1.set_ylabel(\"Sales of units\")      \n",
    "ax1.set_title(\"Boxplot of sales of units by regions\")\n",
    "plt.show()"
   ]
  },
  {
   "cell_type": "markdown",
   "metadata": {},
   "source": [
    "지역 별 판매 개수의 양을 보면 East 지역이 중앙값과 3사분위가 가장 높고 1사분위도 근소한 차이로 Central 지역보다 낮다.\n",
    "\n",
    "또한 위에 확인한 지역 별 평균 판매량도 East 지역이 53.15개로 가장 높았다.\n",
    "\n",
    "반면 West 지역은 평균 구매량이나 1사분위, 중앙값, 3사분위 모두 낮았다.\n",
    "\n",
    "Central 지역은 1사분위의 구매량은 East 지역보다 근소한 차이로 높고, 3사분위의 구매량은 근소한 차이로 낮았다. 그런 반면 중앙값이 East 지역과 유의미한 차이를 보였다. \n",
    "\n",
    "Central 지역의 평균 판매량은 49.95개로 East 지역보다 3개 가량 적었다.\n",
    "\n",
    "\n",
    "**따라서, East > Central > West 지역 순으로 판매량이 차이가 난다고 할 수 있다.**\n",
    "\n",
    "*그렇다면 총 판매량은 어떨까? 과연 그것도 East 지역이 가장 높을까?*"
   ]
  },
  {
   "cell_type": "code",
   "execution_count": 4,
   "metadata": {},
   "outputs": [
    {
     "name": "stdout",
     "output_type": "stream",
     "text": [
      "     OrderDate   Region      Rep     Item  Units  Unit Price  total_sales\n",
      "0   4-Jul-2014     East  Richard  Pen Set     62        4.99       309.38\n",
      "1  12-Jul-2014     East     Nick   Binder     29        1.99        57.71\n",
      "2  21-Jul-2014  Central   Morgan  Pen Set     55       12.49       686.95\n",
      "3  29-Jul-2014     East    Susan   Binder     81       19.99      1619.19\n",
      "4   7-Aug-2014  Central  Matthew  Pen Set     42       23.95      1005.90\n"
     ]
    }
   ],
   "source": [
    "# 판매량과 단위 가격을 합쳐서 새로운 column, 총 판매량(total_sales)를 만들었다.\n",
    "\n",
    "data_sales['total_sales'] = (data_sales['Units'] * data_sales['Unit Price'])\n",
    "print(data_sales.head())"
   ]
  },
  {
   "cell_type": "code",
   "execution_count": 5,
   "metadata": {},
   "outputs": [
    {
     "name": "stdout",
     "output_type": "stream",
     "text": [
      "<class 'pandas.core.series.Series'>\n",
      "Region\n",
      "Central    464.127917\n",
      "East       461.699231\n",
      "West       414.453333\n",
      "Name: total_sales, dtype: float64\n"
     ]
    }
   ],
   "source": [
    "# 지역 별 총 판매량 확인\n",
    "\n",
    "groupby_sales = data_sales.groupby('Region')['total_sales'].mean()\n",
    "print(type(groupby_sales))\n",
    "print(groupby_sales)"
   ]
  },
  {
   "cell_type": "code",
   "execution_count": 6,
   "metadata": {},
   "outputs": [
    {
     "data": {
      "image/png": "[encoded data removed]",
      "text/plain": [
       "<Figure size 432x288 with 1 Axes>"
      ]
     },
     "metadata": {
      "needs_background": "light"
     },
     "output_type": "display_data"
    }
   ],
   "source": [
    "boxplot = plt.figure()\n",
    "ax1 = boxplot.add_subplot(1,1,1)\n",
    "\n",
    "ax1.boxplot([data_sales[data_sales['Region']=='Central']['total_sales'],\n",
    "            data_sales[data_sales['Region']=='East']['total_sales'],\n",
    "            data_sales[data_sales['Region']=='West']['total_sales']],\n",
    "            labels = ['Central', 'East', 'West'])\n",
    "ax1.set_xlabel(\"Regions\")\n",
    "ax1.set_ylabel(\"Total amount of sales\")      \n",
    "ax1.set_title(\"Boxplot of total amount of sales by regions\")\n",
    "plt.show()"
   ]
  },
  {
   "cell_type": "markdown",
   "metadata": {},
   "source": [
    "총 판매량의 경우 다른 경우가 나왔다.\n",
    "\n",
    "지역 별 총 판매량의 평균은 Central 464.12, East 461.70, West 414.45로 Central 지역이 East 지역보다 높고 West 지역이 가장 낮았다.\n",
    "\n",
    "Outlier를 제외한 박스 그래프에서 West 지역의 1사분위의 경우 다른 두 지역보다 높았지만, 판매 수익의 중앙값이 매우 낮았다.\n",
    "\n",
    "반면 Central 지역과 East 지역은 모두 엇비슷한 수준의 판매량의 중앙값을 지녔고 제1사분위의 경우 Central 지역이 더 높았다.\n",
    "\n",
    "**결론 : 지역 별 판매 개수만 봤을 때는 East 지역이 가장 많이 팔리는 지역처럼 보였지만, 총 판매 수익을 확인해보니 Central 지역이 오히려 근소하게나마 더 수익성있는 지역이었음을 확인할 수 있었다.**"
   ]
  }
 ],
 "metadata": {
  "kernelspec": {
   "display_name": "Python 3",
   "language": "python",
   "name": "python3"
  },
  "language_info": {
   "codemirror_mode": {
    "name": "ipython",
    "version": 3
   },
   "file_extension": ".py",
   "mimetype": "text/x-python",
   "name": "python",
   "nbconvert_exporter": "python",
   "pygments_lexer": "ipython3",
   "version": "3.8.5"
  },
  "toc": {
   "base_numbering": 1,
   "nav_menu": {},
   "number_sections": false,
   "sideBar": true,
   "skip_h1_title": false,
   "title_cell": "Table of Contents",
   "title_sidebar": "Contents",
   "toc_cell": false,
   "toc_position": {},
   "toc_section_display": true,
   "toc_window_display": false
  }
 },
 "nbformat": 4,
 "nbformat_minor": 4
}
