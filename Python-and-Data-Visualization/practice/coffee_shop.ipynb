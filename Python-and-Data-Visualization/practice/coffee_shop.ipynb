{
 "cells": [
  {
   "cell_type": "markdown",
   "metadata": {},
   "source": [
    "# 전국 커피숍 매장 분석"
   ]
  },
  {
   "cell_type": "code",
   "execution_count": 1,
   "metadata": {},
   "outputs": [
    {
     "name": "stdout",
     "output_type": "stream",
     "text": [
      "<class 'pandas.core.frame.DataFrame'>\n",
      "   number        companyName  \\\n",
      "0       1  #11(Sharp eleven)   \n",
      "1       2  ( 주)커피빈코리아청주지웰시티점   \n",
      "2       3           (aA)더블에이   \n",
      "3       4           (강서)카페치따   \n",
      "4       5        (로즈버드)명동아바타   \n",
      "\n",
      "                                              adress  \\\n",
      "0       서울특별시 양천구 목동 956번지 롯데캐슬위너 상가동 107호(한두3길 44)    \n",
      "1  충청북도 청주시 흥덕구 복대동 3379번지 신영지웰시티1차상업시설 124-1, 12...   \n",
      "2                            경상북도 경산시 사동 39번지 108-2호   \n",
      "3    서울특별시 강서구 등촌동 63-12번지 외 2필지 어위쉬예다인 (지상 1층) 104호   \n",
      "4                  서울특별시 중구 명동2가 83-5번지 (아바타1층1218)    \n",
      "\n",
      "                                      adressBystreet  dateOflicensing  \\\n",
      "0  서울특별시 양천구 목동중앙북로 38 (목동,롯데캐슬위너 상가동 107호(한두3길 44))         20080917   \n",
      "1  충청북도 청주시 흥덕구 대농로 17 (복대동,신영지웰시티1차상업시설 124-1, 1...         20101124   \n",
      "2                  경상북도 경산시 백자로10길 3-11, 108-2호 (사동)         20130902   \n",
      "3        서울특별시 강서구 양천로 452, 1층 104호 (등촌동, 3동 어위쉬예다인)         20121108   \n",
      "4                                                NaN         20020911   \n",
      "\n",
      "  stateOfbusiness  dateOfclosure  startdateOfcessation  duedateOfcessation  \\\n",
      "0             운영중            NaN                   NaN                 NaN   \n",
      "1             운영중            NaN                   NaN                 NaN   \n",
      "2             운영중            NaN                   NaN                 NaN   \n",
      "3             운영중            NaN                   NaN                 NaN   \n",
      "4            폐업 등     20071105.0                   NaN                 NaN   \n",
      "\n",
      "   dateOfreOpen  ...  numOfmenWorker  yearOfStart multipleUse  grade  \\\n",
      "0           NaN  ...             NaN       2008.0           N    NaN   \n",
      "1           NaN  ...             NaN       2010.0           N    NaN   \n",
      "2           NaN  ...             NaN       2013.0           N    NaN   \n",
      "3           NaN  ...             NaN       2012.0           N    NaN   \n",
      "4           NaN  ...             0.0       2002.0           N    NaN   \n",
      "\n",
      "   sizeOfsite numOfwomenWorker vicintyOfsite  sanitaryName  businessCondition  \\\n",
      "0       20.80              NaN           NaN         휴게음식점                커피숍   \n",
      "1      212.72              NaN           NaN         휴게음식점                커피숍   \n",
      "2       20.04              NaN         아파트지역         휴게음식점                커피숍   \n",
      "3       64.17              NaN           NaN         휴게음식점                커피숍   \n",
      "4       11.40              0.0           NaN         휴게음식점                커피숍   \n",
      "\n",
      "  totalOfworker  \n",
      "0           NaN  \n",
      "1           NaN  \n",
      "2           NaN  \n",
      "3           NaN  \n",
      "4           0.0  \n",
      "\n",
      "[5 rows x 23 columns]\n",
      "Index(['number', 'companyName', 'adress', 'adressBystreet', 'dateOflicensing',\n",
      "       'stateOfbusiness', 'dateOfclosure', 'startdateOfcessation',\n",
      "       'duedateOfcessation', 'dateOfreOpen', 'areaOfsite', 'zip', 'waterwork',\n",
      "       'numOfmenWorker', 'yearOfStart', 'multipleUse', 'grade', 'sizeOfsite',\n",
      "       'numOfwomenWorker', 'vicintyOfsite', 'sanitaryName',\n",
      "       'businessCondition', 'totalOfworker'],\n",
      "      dtype='object')\n"
     ]
    }
   ],
   "source": [
    "import pandas as pd\n",
    "import matplotlib.pyplot as plt\n",
    "from numpy import NaN, NAN, nan\n",
    "\n",
    "data_coffee = pd.read_csv('../data_visual/data_coffee.csv',encoding='cp949')\n",
    "print(type(data_coffee))\n",
    "print(data_coffee.head())\n",
    "\n",
    "# print(data_coffee.shape())\n",
    "print(data_coffee.columns)"
   ]
  },
  {
   "cell_type": "markdown",
   "metadata": {},
   "source": [
    "## 매장의 규모 정보\n",
    "* sizeOfsite는 매장의 규모를 나타내는 변수다. \n",
    "* sizeOfsite 변수에 대한 간단한 정보들을 알아보겠다."
   ]
  },
  {
   "cell_type": "code",
   "execution_count": 2,
   "metadata": {},
   "outputs": [
    {
     "name": "stdout",
     "output_type": "stream",
     "text": [
      "<class 'pandas.core.frame.DataFrame'>\n",
      "RangeIndex: 46832 entries, 0 to 46831\n",
      "Data columns (total 23 columns):\n",
      " #   Column                Non-Null Count  Dtype  \n",
      "---  ------                --------------  -----  \n",
      " 0   number                46832 non-null  int64  \n",
      " 1   companyName           46832 non-null  object \n",
      " 2   adress                46600 non-null  object \n",
      " 3   adressBystreet        39548 non-null  object \n",
      " 4   dateOflicensing       46832 non-null  int64  \n",
      " 5   stateOfbusiness       46832 non-null  object \n",
      " 6   dateOfclosure         13245 non-null  float64\n",
      " 7   startdateOfcessation  0 non-null      float64\n",
      " 8   duedateOfcessation    0 non-null      float64\n",
      " 9   dateOfreOpen          0 non-null      float64\n",
      " 10  areaOfsite            0 non-null      float64\n",
      " 11  zip                   0 non-null      float64\n",
      " 12  waterwork             29610 non-null  object \n",
      " 13  numOfmenWorker        5918 non-null   float64\n",
      " 14  yearOfStart           46813 non-null  float64\n",
      " 15  multipleUse           46813 non-null  object \n",
      " 16  grade                 3775 non-null   object \n",
      " 17  sizeOfsite            46813 non-null  float64\n",
      " 18  numOfwomenWorker      7042 non-null   float64\n",
      " 19  vicintyOfsite         12894 non-null  object \n",
      " 20  sanitaryName          46813 non-null  object \n",
      " 21  businessCondition     46813 non-null  object \n",
      " 22  totalOfworker         5537 non-null   float64\n",
      "dtypes: float64(11), int64(2), object(10)\n",
      "memory usage: 8.2+ MB\n",
      "<class 'NoneType'>\n",
      "nan\n",
      "===============매장 규모 평균===============\n",
      "75.53101211202025\n",
      "75.53101211202025\n",
      "===============최대 매장 규모===============\n",
      "24075.0\n",
      "===============최소 매장 규모===============\n",
      "0.0\n",
      "=============매장 규모 표준 편차=============\n",
      "135.08874548488032\n"
     ]
    }
   ],
   "source": [
    "# Column 별 자료형 확인. sizeOfsize은 float64로 확인되었다.\n",
    "print(type(data_coffee.info()))\n",
    "\n",
    "# skipna의 인자가 False이면 NaN\n",
    "print(data_coffee.sizeOfsite.mean(skipna = False))\n",
    "\n",
    "# 기본 값이 True인 걸 알 수 있다. 하단의 두 값 일치\n",
    "print(\"===============매장 규모 평균===============\")\n",
    "print(data_coffee.sizeOfsite.mean(skipna = True))\n",
    "print(data_coffee.sizeOfsite.mean())\n",
    "\n",
    "print(\"===============최대 매장 규모===============\")       # 명백한 이상치\n",
    "print(data_coffee.sizeOfsite.max())\n",
    "print(\"===============최소 매장 규모===============\")       # 0은 결측값\n",
    "print(data_coffee.sizeOfsite.min())\n",
    "print(\"=============매장 규모 표준 편차=============\")\n",
    "print(data_coffee.sizeOfsite.std())"
   ]
  },
  {
   "cell_type": "markdown",
   "metadata": {},
   "source": [
    "## 히스토그램 그리기\n",
    "\n",
    "히스토그램을 그리기 앞서서 결측값을 제거해야 한다. \n",
    "\n",
    "커피숍 데이터의 경우 결측값이 NaN과 0으로 표시됨에 따라 두 결측값 모두 제거해야 한다."
   ]
  },
  {
   "cell_type": "code",
   "execution_count": 3,
   "metadata": {},
   "outputs": [
    {
     "name": "stdout",
     "output_type": "stream",
     "text": [
      "46832\n",
      "46813\n",
      "19\n"
     ]
    }
   ],
   "source": [
    "# 먼저 기존 데이터의 총 개수와 NaN의 개수, 그리고 NaN을 제외한 데이터의 총 개수를 출력한다.\n",
    "\n",
    "# 전체: 46832개, NaN 제외: 46813개, NaN: 19개\n",
    "\n",
    "print(data_coffee['sizeOfsite'].shape[0])\n",
    "print(data_coffee['sizeOfsite'].count())\n",
    "num_rows = data_coffee.shape[0]\n",
    "num_missing = num_rows - data_coffee.count()\n",
    "print(num_missing['sizeOfsite'])"
   ]
  },
  {
   "cell_type": "code",
   "execution_count": 4,
   "metadata": {},
   "outputs": [
    {
     "name": "stdout",
     "output_type": "stream",
     "text": [
      "46813\n"
     ]
    }
   ],
   "source": [
    "# 원본 데이터의 복사본을 만들어 안전하게 NaN이 있는 열을 제외한다\n",
    "data_coffee_copy = data_coffee.copy()\n",
    "\n",
    "data_drop = data_coffee_copy.dropna(subset=['sizeOfsite'],axis=0)\n",
    "print(data_drop['sizeOfsite'].shape[0])\n",
    "# print(data_drop.head())"
   ]
  },
  {
   "cell_type": "code",
   "execution_count": 5,
   "metadata": {},
   "outputs": [
    {
     "name": "stdout",
     "output_type": "stream",
     "text": [
      "45472\n",
      "0         20.80\n",
      "1        212.72\n",
      "2         20.04\n",
      "3         64.17\n",
      "4         11.40\n",
      "          ...  \n",
      "46827     30.61\n",
      "46828     44.21\n",
      "46829     35.70\n",
      "46830     46.20\n",
      "46831    176.49\n",
      "Name: sizeOfsite, Length: 45472, dtype: float64\n"
     ]
    }
   ],
   "source": [
    "# NaN 삭제. axis = 0 인자를 통해 sizeOfsites column 값 NaN인 row를 삭제한다.\n",
    "data_size = data_coffee['sizeOfsite'].dropna(axis=0)\n",
    "# Boolean 추출 (value != 0)\n",
    "data_size = data_size[data_size != 0]\n",
    "\n",
    "# NaN과 0의 두 결측값을 모두 제거한 최종 개수는 45472개가 나왔다.\n",
    "print(data_size.shape[0])\n",
    "print(data_size)"
   ]
  },
  {
   "cell_type": "code",
   "execution_count": 6,
   "metadata": {},
   "outputs": [
    {
     "data": {
      "text/plain": [
       "(0.0, 10000.0)"
      ]
     },
     "execution_count": 6,
     "metadata": {},
     "output_type": "execute_result"
    },
    {
     "data": {
      "image/png": "[encoded data removed]",
      "text/plain": [
       "<Figure size 432x288 with 1 Axes>"
      ]
     },
     "metadata": {
      "needs_background": "light"
     },
     "output_type": "display_data"
    }
   ],
   "source": [
    "fig = plt.figure()\n",
    "axes1 = fig.add_subplot(1,1,1)\n",
    "plt.xlim([0, 500])\n",
    "plt.ylim([0, 10000])"
   ]
  },
  {
   "cell_type": "code",
   "execution_count": 7,
   "metadata": {},
   "outputs": [
    {
     "data": {
      "image/png": "[encoded data removed]",
      "text/plain": [
       "<Figure size 432x288 with 1 Axes>"
      ]
     },
     "execution_count": 7,
     "metadata": {},
     "output_type": "execute_result"
    }
   ],
   "source": [
    "axes1.hist(data_size, bins=2000)\n",
    "axes1.set_title('Coffeeshop Data')\n",
    "axes1.set_xlabel('Size of Site')\n",
    "axes1.set_ylabel('Frequency')\n",
    "\n",
    "fig"
   ]
  },
  {
   "cell_type": "code",
   "execution_count": 8,
   "metadata": {},
   "outputs": [
    {
     "name": "stdout",
     "output_type": "stream",
     "text": [
      "===============이상치의 개수===============\n",
      "112\n",
      "===============전체 매장 수===============\n",
      "45360\n"
     ]
    }
   ],
   "source": [
    "# Boolean 추출을 이용해 점포 사이즈가 500 이상인 outlier를 제거한다.\n",
    "\n",
    "data_refined = data_size[data_size<500]\n",
    "outlier = data_size.shape[0] - data_refined.shape[0]\n",
    "\n",
    "print(\"===============이상치의 개수===============\")\n",
    "print(outlier)\n",
    "print(\"===============전체 매장 수===============\")\n",
    "print(data_refined.shape[0])"
   ]
  },
  {
   "cell_type": "code",
   "execution_count": 9,
   "metadata": {},
   "outputs": [
    {
     "name": "stdout",
     "output_type": "stream",
     "text": [
      "===============매장 규모 평균===============\n",
      "75.90031261022935\n",
      "===============최대 매장 규모===============\n",
      "499.2\n",
      "===============최소 매장 규모===============\n",
      "0.25\n",
      "=============매장 규모 표준 편차=============\n",
      "72.00972692847462\n"
     ]
    }
   ],
   "source": [
    "print(\"===============매장 규모 평균===============\")\n",
    "print(data_refined.mean())\n",
    "print(\"===============최대 매장 규모===============\")\n",
    "print(data_refined.max())\n",
    "print(\"===============최소 매장 규모===============\")\n",
    "print(data_refined.min())\n",
    "print(\"=============매장 규모 표준 편차=============\")\n",
    "print(data_refined.std())"
   ]
  },
  {
   "cell_type": "code",
   "execution_count": 10,
   "metadata": {
    "scrolled": true
   },
   "outputs": [
    {
     "data": {
      "image/png": "[encoded data removed]",
      "text/plain": [
       "<Figure size 432x288 with 1 Axes>"
      ]
     },
     "execution_count": 10,
     "metadata": {},
     "output_type": "execute_result"
    }
   ],
   "source": [
    "axes1.hist(data_refined, bins=2000)\n",
    "axes1.set_title('Coffeeshop Data')\n",
    "axes1.set_xlabel('Size of Site')\n",
    "axes1.set_ylabel('Frequency')\n",
    "fig"
   ]
  },
  {
   "cell_type": "markdown",
   "metadata": {},
   "source": [
    "## 분석 결과\n",
    "\n",
    "결측치와 이상치를 제외하고 45360개의 데이터를 분석하고 히스토그램을 만들었다.\n",
    "\n",
    "매장 규모의 평균은 75.9였고 이상치를 제외한 최대 규모는 499.2였으며 최소는 0.25였다.\n",
    "\n",
    "표준 편차는 72.01이었다.\n",
    "\n",
    "히스토그램에서 확인했다시피 대부분의 매장의 규모는 100개 이하에 집중되어 있었다.\n"
   ]
  }
 ],
 "metadata": {
  "kernelspec": {
   "display_name": "Python 3",
   "language": "python",
   "name": "python3"
  },
  "language_info": {
   "codemirror_mode": {
    "name": "ipython",
    "version": 3
   },
   "file_extension": ".py",
   "mimetype": "text/x-python",
   "name": "python",
   "nbconvert_exporter": "python",
   "pygments_lexer": "ipython3",
   "version": "3.8.5"
  },
  "toc": {
   "base_numbering": 1,
   "nav_menu": {},
   "number_sections": false,
   "sideBar": true,
   "skip_h1_title": false,
   "title_cell": "Table of Contents",
   "title_sidebar": "Contents",
   "toc_cell": false,
   "toc_position": {},
   "toc_section_display": true,
   "toc_window_display": false
  }
 },
 "nbformat": 4,
 "nbformat_minor": 4
}
