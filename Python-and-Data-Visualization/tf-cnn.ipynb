{
  "nbformat": 4,
  "nbformat_minor": 0,
  "metadata": {
    "colab": {
      "name": "tf-cnn-opencv.ipynb",
      "provenance": [],
      "collapsed_sections": [],
      "authorship_tag": "ABX9TyMVqu77MxG/JUs8igcztRaw",
      "include_colab_link": true
    },
    "kernelspec": {
      "name": "python3",
      "display_name": "Python 3"
    },
    "language_info": {
      "name": "python"
    }
  },
  "cells": [
    {
      "cell_type": "markdown",
      "metadata": {
        "id": "view-in-github",
        "colab_type": "text"
      },
      "source": [
        "<a href=\"https://colab.research.google.com/github/wonkwonlee/likelion-k-digital-training-AI/blob/main/Python-and-Data-Visualization/tf-cnn-opencv.ipynb\" target=\"_parent\"><img src=\"https://colab.research.google.com/assets/colab-badge.svg\" alt=\"Open In Colab\"/></a>"
      ]
    },
    {
      "cell_type": "code",
      "metadata": {
        "colab": {
          "base_uri": "https://localhost:8080/"
        },
        "id": "wH92dyWMtVc7",
        "outputId": "a2637085-353e-4fd9-e9a6-ac290927e61c"
      },
      "source": [
        "import tensorflow as tf\n",
        "print(tf.__version__)\n",
        "\n",
        "#fashion_mnist - 의류 이미지/ 10개의 범주 / 흑백처리 / 28 * 28\n",
        "fashion_mnist = tf.keras.datasets.fashion_mnist\n",
        "(train_X, train_Y), (test_X,test_Y) = fashion_mnist.load_data()\n",
        "\n",
        "print(len(train_X), len(test_X))\n"
      ],
      "execution_count": 1,
      "outputs": [
        {
          "output_type": "stream",
          "text": [
            "2.4.1\n",
            "60000 10000\n"
          ],
          "name": "stdout"
        }
      ]
    },
    {
      "cell_type": "code",
      "metadata": {
        "colab": {
          "base_uri": "https://localhost:8080/",
          "height": 282
        },
        "id": "l-NWW_CVub6W",
        "outputId": "9718ac49-7ea2-465a-a6a0-585cf8c942a9"
      },
      "source": [
        "import matplotlib.pyplot as plt \n",
        "plt.imshow(train_X[3]) \n",
        "plt.colorbar()\n",
        "plt.show()\n",
        "\n",
        "# 정답 범주 확인\n",
        "print(\"정답 범주 : \",train_Y[3])"
      ],
      "execution_count": 2,
      "outputs": [
        {
          "output_type": "display_data",
          "data": {
            "image/png": "[encoded data removed]",
            "text/plain": [
              "<Figure size 432x288 with 2 Axes>"
            ]
          },
          "metadata": {
            "tags": [],
            "needs_background": "light"
          }
        },
        {
          "output_type": "stream",
          "text": [
            "정답 범주 :  3\n"
          ],
          "name": "stdout"
        }
      ]
    },
    {
      "cell_type": "code",
      "metadata": {
        "id": "7ERGu38Lu34R"
      },
      "source": [
        "train_X = train_X / 255.0\n",
        "test_X = test_X / 255.0\n",
        "# print(train_X[0])"
      ],
      "execution_count": 3,
      "outputs": []
    },
    {
      "cell_type": "code",
      "metadata": {
        "colab": {
          "base_uri": "https://localhost:8080/"
        },
        "id": "H4h31zI4wjpb",
        "outputId": "fe833bcd-2e1d-4d90-cffe-9e8588079705"
      },
      "source": [
        "model = tf.keras.Sequential([\n",
        "                             tf.keras.layers.Flatten(input_shape = (28,28)), \n",
        "                             tf.keras.layers.Dense(units=128,activation='relu'), \n",
        "                             tf.keras.layers.Dense(units=10, activation='softmax')\n",
        "])\n",
        "\n",
        "model.compile(optimizer = tf.keras.optimizers.Adam(), \n",
        "              loss = 'sparse_categorical_crossentropy',\n",
        "              metrics = ['accuracy']) \n",
        "\n",
        "model.summary()"
      ],
      "execution_count": 4,
      "outputs": [
        {
          "output_type": "stream",
          "text": [
            "Model: \"sequential\"\n",
            "_________________________________________________________________\n",
            "Layer (type)                 Output Shape              Param #   \n",
            "=================================================================\n",
            "flatten (Flatten)            (None, 784)               0         \n",
            "_________________________________________________________________\n",
            "dense (Dense)                (None, 128)               100480    \n",
            "_________________________________________________________________\n",
            "dense_1 (Dense)              (None, 10)                1290      \n",
            "=================================================================\n",
            "Total params: 101,770\n",
            "Trainable params: 101,770\n",
            "Non-trainable params: 0\n",
            "_________________________________________________________________\n"
          ],
          "name": "stdout"
        }
      ]
    },
    {
      "cell_type": "code",
      "metadata": {
        "colab": {
          "base_uri": "https://localhost:8080/"
        },
        "id": "1kbrlnvjyu7K",
        "outputId": "20881378-1a3d-4e0e-dad8-574d993323f4"
      },
      "source": [
        "history = model.fit(train_X, train_Y,\n",
        "                    epochs = 500,\n",
        "                    validation_split = 0.25,\n",
        "                    callbacks = [tf.keras.callbacks.EarlyStopping(patience = 5, monitor='val_loss')])"
      ],
      "execution_count": 5,
      "outputs": [
        {
          "output_type": "stream",
          "text": [
            "Epoch 1/500\n",
            "1407/1407 [==============================] - 4s 3ms/step - loss: 0.6653 - accuracy: 0.7707 - val_loss: 0.4507 - val_accuracy: 0.8382\n",
            "Epoch 2/500\n",
            "1407/1407 [==============================] - 3s 2ms/step - loss: 0.3941 - accuracy: 0.8590 - val_loss: 0.3945 - val_accuracy: 0.8599\n",
            "Epoch 3/500\n",
            "1407/1407 [==============================] - 3s 2ms/step - loss: 0.3435 - accuracy: 0.8760 - val_loss: 0.3496 - val_accuracy: 0.8751\n",
            "Epoch 4/500\n",
            "1407/1407 [==============================] - 3s 2ms/step - loss: 0.3156 - accuracy: 0.8843 - val_loss: 0.3491 - val_accuracy: 0.8753\n",
            "Epoch 5/500\n",
            "1407/1407 [==============================] - 3s 2ms/step - loss: 0.3014 - accuracy: 0.8887 - val_loss: 0.3541 - val_accuracy: 0.8705\n",
            "Epoch 6/500\n",
            "1407/1407 [==============================] - 3s 2ms/step - loss: 0.2893 - accuracy: 0.8922 - val_loss: 0.3336 - val_accuracy: 0.8827\n",
            "Epoch 7/500\n",
            "1407/1407 [==============================] - 3s 2ms/step - loss: 0.2682 - accuracy: 0.9014 - val_loss: 0.3674 - val_accuracy: 0.8657\n",
            "Epoch 8/500\n",
            "1407/1407 [==============================] - 3s 2ms/step - loss: 0.2604 - accuracy: 0.9024 - val_loss: 0.3328 - val_accuracy: 0.8807\n",
            "Epoch 9/500\n",
            "1407/1407 [==============================] - 3s 2ms/step - loss: 0.2484 - accuracy: 0.9049 - val_loss: 0.3202 - val_accuracy: 0.8867\n",
            "Epoch 10/500\n",
            "1407/1407 [==============================] - 3s 2ms/step - loss: 0.2380 - accuracy: 0.9117 - val_loss: 0.3155 - val_accuracy: 0.8875\n",
            "Epoch 11/500\n",
            "1407/1407 [==============================] - 3s 2ms/step - loss: 0.2314 - accuracy: 0.9158 - val_loss: 0.3424 - val_accuracy: 0.8773\n",
            "Epoch 12/500\n",
            "1407/1407 [==============================] - 3s 2ms/step - loss: 0.2247 - accuracy: 0.9161 - val_loss: 0.3133 - val_accuracy: 0.8881\n",
            "Epoch 13/500\n",
            "1407/1407 [==============================] - 3s 2ms/step - loss: 0.2186 - accuracy: 0.9197 - val_loss: 0.3269 - val_accuracy: 0.8869\n",
            "Epoch 14/500\n",
            "1407/1407 [==============================] - 3s 2ms/step - loss: 0.2082 - accuracy: 0.9208 - val_loss: 0.3395 - val_accuracy: 0.8787\n",
            "Epoch 15/500\n",
            "1407/1407 [==============================] - 3s 2ms/step - loss: 0.2009 - accuracy: 0.9241 - val_loss: 0.3256 - val_accuracy: 0.8871\n",
            "Epoch 16/500\n",
            "1407/1407 [==============================] - 3s 2ms/step - loss: 0.1936 - accuracy: 0.9268 - val_loss: 0.3286 - val_accuracy: 0.8897\n",
            "Epoch 17/500\n",
            "1407/1407 [==============================] - 3s 2ms/step - loss: 0.1874 - accuracy: 0.9306 - val_loss: 0.3498 - val_accuracy: 0.8869\n"
          ],
          "name": "stdout"
        }
      ]
    },
    {
      "cell_type": "code",
      "metadata": {
        "colab": {
          "base_uri": "https://localhost:8080/",
          "height": 541
        },
        "id": "4Pbhls1wy8vG",
        "outputId": "20e22b68-fa46-4285-d751-77a5551787d1"
      },
      "source": [
        "plt.figure(figsize = (12,4))\n",
        "\n",
        "plt.subplot(1,2,1)\n",
        "plt.plot(history.history['loss'],'b-',label = 'loss') \n",
        "plt.plot(history.history['val_loss'],'r--',label = 'val_loss') \n",
        "plt.xlabel('Epoch')\n",
        "plt.legend()\n",
        "plt.show()\n",
        "\n",
        "plt.subplot(1,2,2) \n",
        "plt.plot(history.history['accuracy'],'g-',label = 'acc') \n",
        "plt.plot(history.history['val_accuracy'],'k--',label = 'val_acc') \n",
        "plt.xlabel('Epoch')\n",
        "plt.legend()\n",
        "plt.show()"
      ],
      "execution_count": 6,
      "outputs": [
        {
          "output_type": "display_data",
          "data": {
            "image/png": "[encoded data removed]",
            "text/plain": [
              "<Figure size 864x288 with 1 Axes>"
            ]
          },
          "metadata": {
            "tags": [],
            "needs_background": "light"
          }
        },
        {
          "output_type": "display_data",
          "data": {
            "image/png": "[encoded data removed]",
            "text/plain": [
              "<Figure size 432x288 with 1 Axes>"
            ]
          },
          "metadata": {
            "tags": [],
            "needs_background": "light"
          }
        }
      ]
    },
    {
      "cell_type": "code",
      "metadata": {
        "colab": {
          "base_uri": "https://localhost:8080/"
        },
        "id": "bhuPKVxfz4g5",
        "outputId": "8fa3a224-e5a6-47ac-dd4a-9b3916d0fb93"
      },
      "source": [
        "model.evaluate(test_X,test_Y)"
      ],
      "execution_count": 13,
      "outputs": [
        {
          "output_type": "stream",
          "text": [
            "313/313 [==============================] - 0s 1ms/step - loss: 0.3903 - accuracy: 0.8781\n"
          ],
          "name": "stdout"
        },
        {
          "output_type": "execute_result",
          "data": {
            "text/plain": [
              "[0.39026719331741333, 0.8780999779701233]"
            ]
          },
          "metadata": {
            "tags": []
          },
          "execution_count": 13
        }
      ]
    },
    {
      "cell_type": "code",
      "metadata": {
        "colab": {
          "base_uri": "https://localhost:8080/",
          "height": 350
        },
        "id": "rGNv-_59z81k",
        "outputId": "f60635dc-9e15-4b1f-e5be-06ac715620e0"
      },
      "source": [
        "import numpy as np\n",
        "\n",
        "#예측 수행\n",
        "pred_X = model.predict(test_X[[13]]) \n",
        "#예측 이미지 확인 \n",
        "plt.imshow(test_X[13], cmap = 'pink') \n",
        "plt.show()\n",
        "\n",
        "#예측 결과 확인\n",
        "pred_X_argmax = np.argmax(pred_X)\n",
        "correct = np.equal(pred_X_argmax, test_Y[13])\n",
        "\n",
        "print(\"신경망의 예측 확률분포 \\n {}\".format(pred_X + 1)) \n",
        "print(\"\\n 예측 범주:{} 실제 범주:{} → 일치 여부 {}\".format(pred_X_argmax, test_Y[13], correct))"
      ],
      "execution_count": 12,
      "outputs": [
        {
          "output_type": "display_data",
          "data": {
            "image/png": "[encoded data removed]",
            "text/plain": [
              "<Figure size 432x288 with 1 Axes>"
            ]
          },
          "metadata": {
            "tags": [],
            "needs_background": "light"
          }
        },
        {
          "output_type": "stream",
          "text": [
            "신경망의 예측 확률분포 \n",
            " [[1.0001165 1.0002426 1.0000868 1.9995267 1.0000046 1.0000008 1.0000168\n",
            "  1.        1.0000037 1.0000015]]\n",
            "\n",
            " 예측 범주:3 실제 범주:3 → 일치 여부 True\n"
          ],
          "name": "stdout"
        }
      ]
    },
    {
      "cell_type": "code",
      "metadata": {
        "id": "AOrsUkeZ2ygy"
      },
      "source": [
        ""
      ],
      "execution_count": null,
      "outputs": []
    }
  ]
}
