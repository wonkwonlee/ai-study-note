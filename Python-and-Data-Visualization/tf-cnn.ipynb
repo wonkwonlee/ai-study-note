{
  "nbformat": 4,
  "nbformat_minor": 0,
  "metadata": {
    "colab": {
      "name": "tf-cnn.ipynb",
      "provenance": [],
      "collapsed_sections": [],
      "authorship_tag": "ABX9TyNZGuT4les3lNYp/IU2jajk",
      "include_colab_link": true
    },
    "kernelspec": {
      "name": "python3",
      "display_name": "Python 3"
    },
    "language_info": {
      "name": "python"
    },
    "accelerator": "GPU"
  },
  "cells": [
    {
      "cell_type": "markdown",
      "metadata": {
        "id": "view-in-github",
        "colab_type": "text"
      },
      "source": [
        "<a href=\"https://colab.research.google.com/github/wonkwonlee/likelion-k-digital-training-AI/blob/main/Python-and-Data-Visualization/tf-cnn.ipynb\" target=\"_parent\"><img src=\"https://colab.research.google.com/assets/colab-badge.svg\" alt=\"Open In Colab\"/></a>"
      ]
    },
    {
      "cell_type": "code",
      "metadata": {
        "colab": {
          "base_uri": "https://localhost:8080/"
        },
        "id": "wH92dyWMtVc7",
        "outputId": "410c11df-f566-4c20-a097-8ffb47cdb677"
      },
      "source": [
        "import tensorflow as tf\n",
        "print(tf.__version__)\n",
        "\n",
        "#fashion_mnist - 의류 이미지/ 10개의 범주 / 흑백처리 / 28 * 28\n",
        "fashion_mnist = tf.keras.datasets.fashion_mnist\n",
        "(train_X, train_Y), (test_X,test_Y) = fashion_mnist.load_data()\n",
        "\n",
        "print(len(train_X), len(test_X))\n"
      ],
      "execution_count": 2,
      "outputs": [
        {
          "output_type": "stream",
          "text": [
            "2.4.1\n",
            "Downloading data from https://storage.googleapis.com/tensorflow/tf-keras-datasets/train-labels-idx1-ubyte.gz\n",
            "32768/29515 [=================================] - 0s 0us/step\n",
            "Downloading data from https://storage.googleapis.com/tensorflow/tf-keras-datasets/train-images-idx3-ubyte.gz\n",
            "26427392/26421880 [==============================] - 0s 0us/step\n",
            "Downloading data from https://storage.googleapis.com/tensorflow/tf-keras-datasets/t10k-labels-idx1-ubyte.gz\n",
            "8192/5148 [===============================================] - 0s 0us/step\n",
            "Downloading data from https://storage.googleapis.com/tensorflow/tf-keras-datasets/t10k-images-idx3-ubyte.gz\n",
            "4423680/4422102 [==============================] - 0s 0us/step\n",
            "60000 10000\n"
          ],
          "name": "stdout"
        }
      ]
    },
    {
      "cell_type": "code",
      "metadata": {
        "colab": {
          "base_uri": "https://localhost:8080/",
          "height": 282
        },
        "id": "l-NWW_CVub6W",
        "outputId": "9718ac49-7ea2-465a-a6a0-585cf8c942a9"
      },
      "source": [
        "import matplotlib.pyplot as plt \n",
        "plt.imshow(train_X[3]) \n",
        "plt.colorbar()\n",
        "plt.show()\n",
        "\n",
        "# 정답 범주 확인\n",
        "print(\"정답 범주 : \",train_Y[3])"
      ],
      "execution_count": null,
      "outputs": [
        {
          "output_type": "display_data",
          "data": {
            "image/png": "[encoded data removed]",
            "text/plain": [
              "<Figure size 432x288 with 2 Axes>"
            ]
          },
          "metadata": {
            "tags": [],
            "needs_background": "light"
          }
        },
        {
          "output_type": "stream",
          "text": [
            "정답 범주 :  3\n"
          ],
          "name": "stdout"
        }
      ]
    },
    {
      "cell_type": "code",
      "metadata": {
        "id": "7ERGu38Lu34R"
      },
      "source": [
        "train_X = train_X / 255.0\n",
        "test_X = test_X / 255.0\n",
        "# print(train_X[0])"
      ],
      "execution_count": null,
      "outputs": []
    },
    {
      "cell_type": "code",
      "metadata": {
        "colab": {
          "base_uri": "https://localhost:8080/"
        },
        "id": "H4h31zI4wjpb",
        "outputId": "fe833bcd-2e1d-4d90-cffe-9e8588079705"
      },
      "source": [
        "model = tf.keras.Sequential([\n",
        "                             tf.keras.layers.Flatten(input_shape = (28,28)), \n",
        "                             tf.keras.layers.Dense(units=128,activation='relu'), \n",
        "                             tf.keras.layers.Dense(units=10, activation='softmax')\n",
        "])\n",
        "\n",
        "model.compile(optimizer = tf.keras.optimizers.Adam(), \n",
        "              loss = 'sparse_categorical_crossentropy',\n",
        "              metrics = ['accuracy']) \n",
        "\n",
        "model.summary()"
      ],
      "execution_count": null,
      "outputs": [
        {
          "output_type": "stream",
          "text": [
            "Model: \"sequential\"\n",
            "_________________________________________________________________\n",
            "Layer (type)                 Output Shape              Param #   \n",
            "=================================================================\n",
            "flatten (Flatten)            (None, 784)               0         \n",
            "_________________________________________________________________\n",
            "dense (Dense)                (None, 128)               100480    \n",
            "_________________________________________________________________\n",
            "dense_1 (Dense)              (None, 10)                1290      \n",
            "=================================================================\n",
            "Total params: 101,770\n",
            "Trainable params: 101,770\n",
            "Non-trainable params: 0\n",
            "_________________________________________________________________\n"
          ],
          "name": "stdout"
        }
      ]
    },
    {
      "cell_type": "code",
      "metadata": {
        "colab": {
          "base_uri": "https://localhost:8080/"
        },
        "id": "1kbrlnvjyu7K",
        "outputId": "20881378-1a3d-4e0e-dad8-574d993323f4"
      },
      "source": [
        "history = model.fit(train_X, train_Y,\n",
        "                    epochs = 500,\n",
        "                    validation_split = 0.25,\n",
        "                    callbacks = [tf.keras.callbacks.EarlyStopping(patience = 5, monitor='val_loss')])"
      ],
      "execution_count": null,
      "outputs": [
        {
          "output_type": "stream",
          "text": [
            "Epoch 1/500\n",
            "1407/1407 [==============================] - 4s 3ms/step - loss: 0.6653 - accuracy: 0.7707 - val_loss: 0.4507 - val_accuracy: 0.8382\n",
            "Epoch 2/500\n",
            "1407/1407 [==============================] - 3s 2ms/step - loss: 0.3941 - accuracy: 0.8590 - val_loss: 0.3945 - val_accuracy: 0.8599\n",
            "Epoch 3/500\n",
            "1407/1407 [==============================] - 3s 2ms/step - loss: 0.3435 - accuracy: 0.8760 - val_loss: 0.3496 - val_accuracy: 0.8751\n",
            "Epoch 4/500\n",
            "1407/1407 [==============================] - 3s 2ms/step - loss: 0.3156 - accuracy: 0.8843 - val_loss: 0.3491 - val_accuracy: 0.8753\n",
            "Epoch 5/500\n",
            "1407/1407 [==============================] - 3s 2ms/step - loss: 0.3014 - accuracy: 0.8887 - val_loss: 0.3541 - val_accuracy: 0.8705\n",
            "Epoch 6/500\n",
            "1407/1407 [==============================] - 3s 2ms/step - loss: 0.2893 - accuracy: 0.8922 - val_loss: 0.3336 - val_accuracy: 0.8827\n",
            "Epoch 7/500\n",
            "1407/1407 [==============================] - 3s 2ms/step - loss: 0.2682 - accuracy: 0.9014 - val_loss: 0.3674 - val_accuracy: 0.8657\n",
            "Epoch 8/500\n",
            "1407/1407 [==============================] - 3s 2ms/step - loss: 0.2604 - accuracy: 0.9024 - val_loss: 0.3328 - val_accuracy: 0.8807\n",
            "Epoch 9/500\n",
            "1407/1407 [==============================] - 3s 2ms/step - loss: 0.2484 - accuracy: 0.9049 - val_loss: 0.3202 - val_accuracy: 0.8867\n",
            "Epoch 10/500\n",
            "1407/1407 [==============================] - 3s 2ms/step - loss: 0.2380 - accuracy: 0.9117 - val_loss: 0.3155 - val_accuracy: 0.8875\n",
            "Epoch 11/500\n",
            "1407/1407 [==============================] - 3s 2ms/step - loss: 0.2314 - accuracy: 0.9158 - val_loss: 0.3424 - val_accuracy: 0.8773\n",
            "Epoch 12/500\n",
            "1407/1407 [==============================] - 3s 2ms/step - loss: 0.2247 - accuracy: 0.9161 - val_loss: 0.3133 - val_accuracy: 0.8881\n",
            "Epoch 13/500\n",
            "1407/1407 [==============================] - 3s 2ms/step - loss: 0.2186 - accuracy: 0.9197 - val_loss: 0.3269 - val_accuracy: 0.8869\n",
            "Epoch 14/500\n",
            "1407/1407 [==============================] - 3s 2ms/step - loss: 0.2082 - accuracy: 0.9208 - val_loss: 0.3395 - val_accuracy: 0.8787\n",
            "Epoch 15/500\n",
            "1407/1407 [==============================] - 3s 2ms/step - loss: 0.2009 - accuracy: 0.9241 - val_loss: 0.3256 - val_accuracy: 0.8871\n",
            "Epoch 16/500\n",
            "1407/1407 [==============================] - 3s 2ms/step - loss: 0.1936 - accuracy: 0.9268 - val_loss: 0.3286 - val_accuracy: 0.8897\n",
            "Epoch 17/500\n",
            "1407/1407 [==============================] - 3s 2ms/step - loss: 0.1874 - accuracy: 0.9306 - val_loss: 0.3498 - val_accuracy: 0.8869\n"
          ],
          "name": "stdout"
        }
      ]
    },
    {
      "cell_type": "code",
      "metadata": {
        "colab": {
          "base_uri": "https://localhost:8080/",
          "height": 541
        },
        "id": "4Pbhls1wy8vG",
        "outputId": "20e22b68-fa46-4285-d751-77a5551787d1"
      },
      "source": [
        "plt.figure(figsize = (12,4))\n",
        "\n",
        "plt.subplot(1,2,1)\n",
        "plt.plot(history.history['loss'],'b-',label = 'loss') \n",
        "plt.plot(history.history['val_loss'],'r--',label = 'val_loss') \n",
        "plt.xlabel('Epoch')\n",
        "plt.legend()\n",
        "plt.show()\n",
        "\n",
        "plt.subplot(1,2,2) \n",
        "plt.plot(history.history['accuracy'],'g-',label = 'acc') \n",
        "plt.plot(history.history['val_accuracy'],'k--',label = 'val_acc') \n",
        "plt.xlabel('Epoch')\n",
        "plt.legend()\n",
        "plt.show()"
      ],
      "execution_count": null,
      "outputs": [
        {
          "output_type": "display_data",
          "data": {
            "image/png": "[encoded data removed]",
            "text/plain": [
              "<Figure size 864x288 with 1 Axes>"
            ]
          },
          "metadata": {
            "tags": [],
            "needs_background": "light"
          }
        },
        {
          "output_type": "display_data",
          "data": {
            "image/png": "[encoded data removed]",
            "text/plain": [
              "<Figure size 432x288 with 1 Axes>"
            ]
          },
          "metadata": {
            "tags": [],
            "needs_background": "light"
          }
        }
      ]
    },
    {
      "cell_type": "code",
      "metadata": {
        "colab": {
          "base_uri": "https://localhost:8080/"
        },
        "id": "bhuPKVxfz4g5",
        "outputId": "8fa3a224-e5a6-47ac-dd4a-9b3916d0fb93"
      },
      "source": [
        "model.evaluate(test_X,test_Y)"
      ],
      "execution_count": null,
      "outputs": [
        {
          "output_type": "stream",
          "text": [
            "313/313 [==============================] - 0s 1ms/step - loss: 0.3903 - accuracy: 0.8781\n"
          ],
          "name": "stdout"
        },
        {
          "output_type": "execute_result",
          "data": {
            "text/plain": [
              "[0.39026719331741333, 0.8780999779701233]"
            ]
          },
          "metadata": {
            "tags": []
          },
          "execution_count": 13
        }
      ]
    },
    {
      "cell_type": "code",
      "metadata": {
        "colab": {
          "base_uri": "https://localhost:8080/",
          "height": 350
        },
        "id": "rGNv-_59z81k",
        "outputId": "f60635dc-9e15-4b1f-e5be-06ac715620e0"
      },
      "source": [
        "import numpy as np\n",
        "\n",
        "#예측 수행\n",
        "pred_X = model.predict(test_X[[13]]) \n",
        "#예측 이미지 확인 \n",
        "plt.imshow(test_X[13], cmap = 'pink') \n",
        "plt.show()\n",
        "\n",
        "#예측 결과 확인\n",
        "pred_X_argmax = np.argmax(pred_X)\n",
        "correct = np.equal(pred_X_argmax, test_Y[13])\n",
        "\n",
        "print(\"신경망의 예측 확률분포 \\n {}\".format(pred_X + 1)) \n",
        "print(\"\\n 예측 범주:{} 실제 범주:{} → 일치 여부 {}\".format(pred_X_argmax, test_Y[13], correct))"
      ],
      "execution_count": null,
      "outputs": [
        {
          "output_type": "display_data",
          "data": {
            "image/png": "[encoded data removed]",
            "text/plain": [
              "<Figure size 432x288 with 1 Axes>"
            ]
          },
          "metadata": {
            "tags": [],
            "needs_background": "light"
          }
        },
        {
          "output_type": "stream",
          "text": [
            "신경망의 예측 확률분포 \n",
            " [[1.0001165 1.0002426 1.0000868 1.9995267 1.0000046 1.0000008 1.0000168\n",
            "  1.        1.0000037 1.0000015]]\n",
            "\n",
            " 예측 범주:3 실제 범주:3 → 일치 여부 True\n"
          ],
          "name": "stdout"
        }
      ]
    },
    {
      "cell_type": "markdown",
      "metadata": {
        "id": "leyxABnw8hcc"
      },
      "source": [
        "## 합성곱 신경망을 활용한 이미지 판별\n",
        "* 실험 1. 합성곱 계층만 사용\n",
        "* 실험 2. 풀링 계층과 정규화 기법인 드랍아웃을 함께 사용\n",
        "* 실험 3. VGGNet 스타일 구축\n",
        "* 실험 4. VGGNet + 이미지 보강\n",
        "\n",
        "합성곱 연산을 진행하기 위한 4차원 (미니배치 데이터, 입력 이미지 행, 입력 이미지 열, 입력 채널 수 ) \n",
        "\n",
        "reshape() : 기존 3차원 에서 채널이 추가된 4차원 형태로 차원 변경"
      ]
    },
    {
      "cell_type": "code",
      "metadata": {
        "id": "AOrsUkeZ2ygy",
        "colab": {
          "base_uri": "https://localhost:8080/"
        },
        "outputId": "742d2158-ba5e-496a-a7ef-ad46d419f5f2"
      },
      "source": [
        "import tensorflow as tf\n",
        "\n",
        "fashion_mnist = tf.keras.datasets.fashion_mnist\n",
        "(train_X, train_Y), (test_X,test_Y) = fashion_mnist.load_data()\n",
        "\n",
        "train_X = train_X / 255.0\n",
        "test_X = test_X / 255.0\n",
        "\n",
        "# reshape(): 기존 3차원 에서 채널이 추가된 4차원 형태로 차원 변경\n",
        "print(train_X.shape, test_X.shape) \n",
        "train_X = train_X.reshape(-1, 28, 28, 1) \n",
        "test_X = test_X.reshape(-1, 28, 28, 1) \n",
        "print(train_X.shape,test_X.shape)"
      ],
      "execution_count": 2,
      "outputs": [
        {
          "output_type": "stream",
          "text": [
            "Downloading data from https://storage.googleapis.com/tensorflow/tf-keras-datasets/train-labels-idx1-ubyte.gz\n",
            "32768/29515 [=================================] - 0s 0us/step\n",
            "Downloading data from https://storage.googleapis.com/tensorflow/tf-keras-datasets/train-images-idx3-ubyte.gz\n",
            "26427392/26421880 [==============================] - 0s 0us/step\n",
            "Downloading data from https://storage.googleapis.com/tensorflow/tf-keras-datasets/t10k-labels-idx1-ubyte.gz\n",
            "8192/5148 [===============================================] - 0s 0us/step\n",
            "Downloading data from https://storage.googleapis.com/tensorflow/tf-keras-datasets/t10k-images-idx3-ubyte.gz\n",
            "4423680/4422102 [==============================] - 0s 0us/step\n",
            "(60000, 28, 28) (10000, 28, 28)\n",
            "(60000, 28, 28, 1) (10000, 28, 28, 1)\n"
          ],
          "name": "stdout"
        }
      ]
    },
    {
      "cell_type": "code",
      "metadata": {
        "colab": {
          "base_uri": "https://localhost:8080/",
          "height": 627
        },
        "id": "qeWvfCx-7njd",
        "outputId": "8cad0a9b-111a-44ff-b5f1-9c32f28ca92a"
      },
      "source": [
        "import matplotlib.pyplot as plt\n",
        "plt.figure(figsize=(10,10))\n",
        "\n",
        "for i in range(16):\n",
        "  plt.subplot(4,4,i+1) \n",
        "  plt.imshow(train_X[i].reshape(28,28), cmap='pink')\n",
        "\n",
        "plt.show() \n",
        "print(train_Y[:16])\n",
        "\n",
        "train_X[0].shape"
      ],
      "execution_count": 3,
      "outputs": [
        {
          "output_type": "display_data",
          "data": {
            "image/png": "[encoded data removed]",
            "text/plain": [
              "<Figure size 720x720 with 16 Axes>"
            ]
          },
          "metadata": {
            "tags": [],
            "needs_background": "light"
          }
        },
        {
          "output_type": "stream",
          "text": [
            "[9 0 0 3 0 2 7 2 5 5 0 9 5 5 7 9]\n"
          ],
          "name": "stdout"
        },
        {
          "output_type": "execute_result",
          "data": {
            "text/plain": [
              "(28, 28, 1)"
            ]
          },
          "metadata": {
            "tags": []
          },
          "execution_count": 3
        }
      ]
    },
    {
      "cell_type": "markdown",
      "metadata": {
        "id": "e-KY89vi79vn"
      },
      "source": [
        "### 실험 1. 풀링 레이어 없이, 단순 합성곱 계층만 활용 \n",
        "* tf.keras.layers.Conv2D()\n",
        "  + input_shape : 입력 이미지의 크기 및 채널 \n",
        "  + kernel_size : 커널 사이즈\n",
        "  + filters : 몇 개의 필터를 생성할 것 인지\n",
        "  + strides : 건너뛰기 (default (1,1))\n",
        "  + padding : 패딩 방식 (default valid)\n",
        "* tf.keras.layers.Flatten() : 다차원 레이어를 1차원으로 펼쳐준다."
      ]
    },
    {
      "cell_type": "code",
      "metadata": {
        "id": "jhFYw2i98QKS"
      },
      "source": [
        "model = tf.keras.Sequential([ \n",
        "        tf.keras.layers.Conv2D(input_shape=(28,28,1),kernel_size=(3,3), filters=16, strides = (1,1), padding = 'valid'), \n",
        "        tf.keras.layers.Conv2D(kernel_size=(3,3),filters=32),\n",
        "        tf.keras.layers.Conv2D(kernel_size=(3,3),filters=64), \n",
        "        tf.keras.layers.Flatten(), \n",
        "        tf.keras.layers.Dense(units=128, activation = 'relu'), \n",
        "        tf.keras.layers.Dense(units=10, activation = 'softmax')\n",
        "])"
      ],
      "execution_count": 4,
      "outputs": []
    },
    {
      "cell_type": "code",
      "metadata": {
        "colab": {
          "base_uri": "https://localhost:8080/"
        },
        "id": "OTfT15Am_0zY",
        "outputId": "c8e49e80-a87e-4d84-8d3a-6543721c61c6"
      },
      "source": [
        "model.compile(optimizer = tf.keras.optimizers.Adam(), \n",
        "              loss = 'sparse_categorical_crossentropy',\n",
        "              metrics = ['accuracy'])\n",
        "\n",
        "model.summary()"
      ],
      "execution_count": 5,
      "outputs": [
        {
          "output_type": "stream",
          "text": [
            "Model: \"sequential\"\n",
            "_________________________________________________________________\n",
            "Layer (type)                 Output Shape              Param #   \n",
            "=================================================================\n",
            "conv2d (Conv2D)              (None, 26, 26, 16)        160       \n",
            "_________________________________________________________________\n",
            "conv2d_1 (Conv2D)            (None, 24, 24, 32)        4640      \n",
            "_________________________________________________________________\n",
            "conv2d_2 (Conv2D)            (None, 22, 22, 64)        18496     \n",
            "_________________________________________________________________\n",
            "flatten (Flatten)            (None, 30976)             0         \n",
            "_________________________________________________________________\n",
            "dense (Dense)                (None, 128)               3965056   \n",
            "_________________________________________________________________\n",
            "dense_1 (Dense)              (None, 10)                1290      \n",
            "=================================================================\n",
            "Total params: 3,989,642\n",
            "Trainable params: 3,989,642\n",
            "Non-trainable params: 0\n",
            "_________________________________________________________________\n"
          ],
          "name": "stdout"
        }
      ]
    },
    {
      "cell_type": "code",
      "metadata": {
        "colab": {
          "base_uri": "https://localhost:8080/"
        },
        "id": "BRTRt4c8AmMQ",
        "outputId": "13b70d25-3a94-459b-c9ea-c26e3af8e6c5"
      },
      "source": [
        "history = model.fit(train_X,train_Y, epochs=500, validation_split=0.25,\n",
        "                    callbacks = [tf.keras.callbacks.EarlyStopping(patience = 5, monitor = 'val_loss')])"
      ],
      "execution_count": 6,
      "outputs": [
        {
          "output_type": "stream",
          "text": [
            "Epoch 1/500\n",
            "1407/1407 [==============================] - 39s 5ms/step - loss: 0.5965 - accuracy: 0.7936 - val_loss: 0.4017 - val_accuracy: 0.8547\n",
            "Epoch 2/500\n",
            "1407/1407 [==============================] - 7s 5ms/step - loss: 0.3360 - accuracy: 0.8772 - val_loss: 0.3719 - val_accuracy: 0.8652\n",
            "Epoch 3/500\n",
            "1407/1407 [==============================] - 7s 5ms/step - loss: 0.2806 - accuracy: 0.8965 - val_loss: 0.3758 - val_accuracy: 0.8695\n",
            "Epoch 4/500\n",
            "1407/1407 [==============================] - 7s 5ms/step - loss: 0.2276 - accuracy: 0.9143 - val_loss: 0.3986 - val_accuracy: 0.8719\n",
            "Epoch 5/500\n",
            "1407/1407 [==============================] - 7s 5ms/step - loss: 0.1957 - accuracy: 0.9269 - val_loss: 0.4060 - val_accuracy: 0.8738\n",
            "Epoch 6/500\n",
            "1407/1407 [==============================] - 7s 5ms/step - loss: 0.1753 - accuracy: 0.9359 - val_loss: 0.4406 - val_accuracy: 0.8723\n",
            "Epoch 7/500\n",
            "1407/1407 [==============================] - 7s 5ms/step - loss: 0.1512 - accuracy: 0.9428 - val_loss: 0.4798 - val_accuracy: 0.8693\n"
          ],
          "name": "stdout"
        }
      ]
    },
    {
      "cell_type": "code",
      "metadata": {
        "colab": {
          "base_uri": "https://localhost:8080/",
          "height": 279
        },
        "id": "ClKut0T6B6hH",
        "outputId": "2d0a8df7-1701-404f-9b6e-28c88dc0f7c4"
      },
      "source": [
        "import matplotlib.pyplot as plt\n",
        "\n",
        "plt.figure(figsize = (12,4))\n",
        "plt.subplot(1,2,1)\n",
        "plt.plot(history.history['loss'],'b-',label = 'loss') \n",
        "plt.plot(history.history['val_loss'],'r--',label = 'val_loss') \n",
        "plt.xlabel('Epoch')\n",
        "plt.legend()\n",
        "\n",
        "plt.subplot(1,2,2) \n",
        "plt.plot(history.history['accuracy'],'g-',label = 'acc') \n",
        "plt.plot(history.history['val_accuracy'],'k--',label = 'val_acc')\n",
        "plt.xlabel('Epoch')\n",
        "plt.legend()\n",
        "plt.show()"
      ],
      "execution_count": 7,
      "outputs": [
        {
          "output_type": "display_data",
          "data": {
            "image/png": "[encoded data removed]",
            "text/plain": [
              "<Figure size 864x288 with 2 Axes>"
            ]
          },
          "metadata": {
            "tags": [],
            "needs_background": "light"
          }
        }
      ]
    },
    {
      "cell_type": "code",
      "metadata": {
        "colab": {
          "base_uri": "https://localhost:8080/"
        },
        "id": "SEo5inoqENV9",
        "outputId": "3ac73cc1-5d80-4f57-806c-a06e71077ee1"
      },
      "source": [
        "model.evaluate(test_X,test_Y)"
      ],
      "execution_count": 8,
      "outputs": [
        {
          "output_type": "stream",
          "text": [
            "313/313 [==============================] - 1s 3ms/step - loss: 0.4994 - accuracy: 0.8653\n"
          ],
          "name": "stdout"
        },
        {
          "output_type": "execute_result",
          "data": {
            "text/plain": [
              "[0.49939456582069397, 0.8652999997138977]"
            ]
          },
          "metadata": {
            "tags": []
          },
          "execution_count": 8
        }
      ]
    },
    {
      "cell_type": "markdown",
      "metadata": {
        "id": "-a3DuDnYFLYv"
      },
      "source": [
        "### 실험 2. 합성곱, 풀링, 드랍아웃 사용\n",
        "* 최대치 풀링 : tf.keras.layers.MaxPool2D()\n",
        "  + strides : 건너뛰기\n",
        "  + pool size : 풀링 사이즈 설정 - 기본값 : (2,2)\n",
        "* 평균치 풀링 : tf.keras.layers.AveragePool2D()\n",
        "* 드랍아웃 계층 생성 : tf.keras.layers.Dropout()\n",
        "  + rate : 이전 계층에서 제외할 뉴런의 비율 설정"
      ]
    },
    {
      "cell_type": "code",
      "metadata": {
        "id": "rAdUDTluFScw"
      },
      "source": [
        "model= tf.keras.Sequential([ \n",
        "                            tf.keras.layers.Conv2D(input_shape=(28,28,1),kernel_size=(3,3),filters=32), \n",
        "                            tf.keras.layers.MaxPool2D(strides = (2,2),pool_size=(2,2)), \n",
        "                            tf.keras.layers.Conv2D(kernel_size=(3,3),filters = 64), \n",
        "                            tf.keras.layers.AvgPool2D(strides = (2,2)), \n",
        "                            tf.keras.layers.Conv2D(kernel_size=(3,3),filters=128), \n",
        "                            tf.keras.layers.Flatten(),\n",
        "                            tf.keras.layers.Dense(units=128, activation = 'relu'), \n",
        "                            tf.keras.layers.Dropout(rate = 0.3),\n",
        "                            tf.keras.layers.Dense(units=10, activation = 'softmax')\n",
        "])"
      ],
      "execution_count": 9,
      "outputs": []
    },
    {
      "cell_type": "code",
      "metadata": {
        "colab": {
          "base_uri": "https://localhost:8080/"
        },
        "id": "VHyzhgxWFhAw",
        "outputId": "66997c8a-282c-417b-c23f-43090988f315"
      },
      "source": [
        "model.compile(optimizer = tf.keras.optimizers.Adam(), \n",
        "              loss = 'sparse_categorical_crossentropy',\n",
        "              metrics = ['accuracy'])\n",
        "              \n",
        "model.summary()"
      ],
      "execution_count": 10,
      "outputs": [
        {
          "output_type": "stream",
          "text": [
            "Model: \"sequential_1\"\n",
            "_________________________________________________________________\n",
            "Layer (type)                 Output Shape              Param #   \n",
            "=================================================================\n",
            "conv2d_3 (Conv2D)            (None, 26, 26, 32)        320       \n",
            "_________________________________________________________________\n",
            "max_pooling2d (MaxPooling2D) (None, 13, 13, 32)        0         \n",
            "_________________________________________________________________\n",
            "conv2d_4 (Conv2D)            (None, 11, 11, 64)        18496     \n",
            "_________________________________________________________________\n",
            "average_pooling2d (AveragePo (None, 5, 5, 64)          0         \n",
            "_________________________________________________________________\n",
            "conv2d_5 (Conv2D)            (None, 3, 3, 128)         73856     \n",
            "_________________________________________________________________\n",
            "flatten_1 (Flatten)          (None, 1152)              0         \n",
            "_________________________________________________________________\n",
            "dense_2 (Dense)              (None, 128)               147584    \n",
            "_________________________________________________________________\n",
            "dropout (Dropout)            (None, 128)               0         \n",
            "_________________________________________________________________\n",
            "dense_3 (Dense)              (None, 10)                1290      \n",
            "=================================================================\n",
            "Total params: 241,546\n",
            "Trainable params: 241,546\n",
            "Non-trainable params: 0\n",
            "_________________________________________________________________\n"
          ],
          "name": "stdout"
        }
      ]
    },
    {
      "cell_type": "code",
      "metadata": {
        "colab": {
          "base_uri": "https://localhost:8080/"
        },
        "id": "FsLT_IdvFk2r",
        "outputId": "1aef79f1-3b4f-4f95-8241-eb2c30674f24"
      },
      "source": [
        "history = model.fit(train_X,train_Y, epochs=500, validation_split=0.25,\n",
        "                    callbacks = [tf.keras.callbacks.EarlyStopping(patience = 5, monitor = 'val_loss')])"
      ],
      "execution_count": 11,
      "outputs": [
        {
          "output_type": "stream",
          "text": [
            "Epoch 1/500\n",
            "1407/1407 [==============================] - 6s 4ms/step - loss: 0.7364 - accuracy: 0.7338 - val_loss: 0.4278 - val_accuracy: 0.8412\n",
            "Epoch 2/500\n",
            "1407/1407 [==============================] - 5s 3ms/step - loss: 0.4093 - accuracy: 0.8540 - val_loss: 0.3476 - val_accuracy: 0.8744\n",
            "Epoch 3/500\n",
            "1407/1407 [==============================] - 5s 3ms/step - loss: 0.3641 - accuracy: 0.8665 - val_loss: 0.3353 - val_accuracy: 0.8785\n",
            "Epoch 4/500\n",
            "1407/1407 [==============================] - 5s 3ms/step - loss: 0.3346 - accuracy: 0.8789 - val_loss: 0.3210 - val_accuracy: 0.8830\n",
            "Epoch 5/500\n",
            "1407/1407 [==============================] - 5s 4ms/step - loss: 0.3204 - accuracy: 0.8862 - val_loss: 0.3131 - val_accuracy: 0.8878\n",
            "Epoch 6/500\n",
            "1407/1407 [==============================] - 5s 3ms/step - loss: 0.3112 - accuracy: 0.8897 - val_loss: 0.3175 - val_accuracy: 0.8873\n",
            "Epoch 7/500\n",
            "1407/1407 [==============================] - 5s 4ms/step - loss: 0.2909 - accuracy: 0.8951 - val_loss: 0.3065 - val_accuracy: 0.8890\n",
            "Epoch 8/500\n",
            "1407/1407 [==============================] - 5s 3ms/step - loss: 0.2827 - accuracy: 0.8968 - val_loss: 0.3088 - val_accuracy: 0.8890\n",
            "Epoch 9/500\n",
            "1407/1407 [==============================] - 5s 4ms/step - loss: 0.2762 - accuracy: 0.8991 - val_loss: 0.3167 - val_accuracy: 0.8873\n",
            "Epoch 10/500\n",
            "1407/1407 [==============================] - 5s 3ms/step - loss: 0.2665 - accuracy: 0.9041 - val_loss: 0.3045 - val_accuracy: 0.8915\n",
            "Epoch 11/500\n",
            "1407/1407 [==============================] - 5s 3ms/step - loss: 0.2616 - accuracy: 0.9032 - val_loss: 0.2902 - val_accuracy: 0.8993\n",
            "Epoch 12/500\n",
            "1407/1407 [==============================] - 5s 3ms/step - loss: 0.2532 - accuracy: 0.9062 - val_loss: 0.3007 - val_accuracy: 0.8975\n",
            "Epoch 13/500\n",
            "1407/1407 [==============================] - 5s 3ms/step - loss: 0.2451 - accuracy: 0.9100 - val_loss: 0.3058 - val_accuracy: 0.8951\n",
            "Epoch 14/500\n",
            "1407/1407 [==============================] - 5s 3ms/step - loss: 0.2401 - accuracy: 0.9112 - val_loss: 0.3180 - val_accuracy: 0.8946\n",
            "Epoch 15/500\n",
            "1407/1407 [==============================] - 5s 3ms/step - loss: 0.2496 - accuracy: 0.9087 - val_loss: 0.3054 - val_accuracy: 0.8994\n",
            "Epoch 16/500\n",
            "1407/1407 [==============================] - 5s 3ms/step - loss: 0.2354 - accuracy: 0.9138 - val_loss: 0.3097 - val_accuracy: 0.9006\n"
          ],
          "name": "stdout"
        }
      ]
    },
    {
      "cell_type": "code",
      "metadata": {
        "colab": {
          "base_uri": "https://localhost:8080/",
          "height": 279
        },
        "id": "6l0C75zUFpva",
        "outputId": "1cc6c3f1-2891-47b0-8bed-9b107edca61f"
      },
      "source": [
        "plt.figure(figsize = (12,4))\n",
        "plt.subplot(1,2,1)\n",
        "plt.plot(history.history['loss'],'b-',label = 'loss') \n",
        "plt.plot(history.history['val_loss'],'r--',label = 'val_loss') \n",
        "plt.xlabel('Epoch')\n",
        "plt.legend()\n",
        "\n",
        "plt.subplot(1,2,2) \n",
        "plt.plot(history.history['accuracy'],'g-',label = 'acc') \n",
        "plt.plot(history.history['val_accuracy'],'k--',label = 'val_acc')\n",
        "plt.xlabel('Epoch')\n",
        "plt.legend()\n",
        "plt.show()"
      ],
      "execution_count": 12,
      "outputs": [
        {
          "output_type": "display_data",
          "data": {
            "image/png": "[encoded data removed]",
            "text/plain": [
              "<Figure size 864x288 with 2 Axes>"
            ]
          },
          "metadata": {
            "tags": [],
            "needs_background": "light"
          }
        }
      ]
    },
    {
      "cell_type": "code",
      "metadata": {
        "colab": {
          "base_uri": "https://localhost:8080/"
        },
        "id": "RhOLoWrtHiH4",
        "outputId": "c6a6eae9-128a-4d56-ea9a-586667ed5e9b"
      },
      "source": [
        "model.evaluate(test_X,test_Y)"
      ],
      "execution_count": 14,
      "outputs": [
        {
          "output_type": "stream",
          "text": [
            "313/313 [==============================] - 1s 2ms/step - loss: 0.3207 - accuracy: 0.8996\n"
          ],
          "name": "stdout"
        },
        {
          "output_type": "execute_result",
          "data": {
            "text/plain": [
              "[0.32070285081863403, 0.8996000289916992]"
            ]
          },
          "metadata": {
            "tags": []
          },
          "execution_count": 14
        }
      ]
    },
    {
      "cell_type": "markdown",
      "metadata": {
        "id": "CaLNnrbiH4eT"
      },
      "source": [
        "![cnn](https://user-images.githubusercontent.com/28593767/114665468-099dd480-9d38-11eb-9dcb-231dfba70e83.png)\n"
      ]
    },
    {
      "cell_type": "markdown",
      "metadata": {
        "id": "gfrehB0wJyp_"
      },
      "source": [
        "### 실험 3. VGGNet 스타일 적용\n",
        "Style Transfer 논문에서도 VGGNet활용\n",
        "* VGGNet 스타일 일부 적용\n",
        "  + 합성곱 계층 2개 적용 / 풀링 레이어 삽입 \n",
        "  + 합성곱 계층 2개 적용 / 풀링 레이어 삽입 \n",
        "  + 완전 연결 계층 적용\n",
        "  + 완전 연결 계층 적용\n",
        "  + 완전 연결 계층 적용\n",
        "\n",
        "[VGGNet 참고 문헌](https://arxiv.org/pdf/1709.01921.pdf)\n",
        "\n",
        "[Style Transfer 참고 문헌](https://arxiv.org/pdf/1508.06576.pdf)"
      ]
    },
    {
      "cell_type": "code",
      "metadata": {
        "id": "XcVmpTYiH6UO"
      },
      "source": [
        "model= tf.keras.Sequential([ \n",
        "    tf.keras.layers.Conv2D(input_shape=(28,28,1),kernel_size=(3,3),filters=32,padding='same',activation='relu'), \n",
        "    tf.keras.layers.Conv2D(input_shape=(28,28,1),kernel_size=(3,3),filters=64,padding='same',activation='relu'), \n",
        "    tf.keras.layers.MaxPool2D(strides = (2,2)),\n",
        "    tf.keras.layers.Dropout(rate=0.5),\n",
        "    tf.keras.layers.Conv2D(kernel_size=(3,3),filters = 128, padding='same', activation='relu'), \n",
        "    tf.keras.layers.Conv2D(kernel_size=(3,3),filters = 256, padding = 'valid', activation='relu'), \n",
        "    tf.keras.layers.MaxPool2D(strides = (2,2)),\n",
        "    tf.keras.layers.Dropout(rate=0.5),\n",
        "    tf.keras.layers.Flatten(),\n",
        "    tf.keras.layers.Dense(units=512, activation = 'relu'),\n",
        "    tf.keras.layers.Dropout(rate = 0.5),\n",
        "    tf.keras.layers.Dense(units=256, activation = 'relu'),\n",
        "    tf.keras.layers.Dropout(rate = 0.5),\n",
        "    tf.keras.layers.Dense(units=10, activation = 'softmax')\n",
        "])"
      ],
      "execution_count": 15,
      "outputs": []
    },
    {
      "cell_type": "code",
      "metadata": {
        "colab": {
          "base_uri": "https://localhost:8080/"
        },
        "id": "y3FVWIHfKcXt",
        "outputId": "1320470b-9590-48a7-b645-dbf764e599f2"
      },
      "source": [
        "model.compile(optimizer = tf.keras.optimizers.Adam(), \n",
        "              loss = 'sparse_categorical_crossentropy',\n",
        "              metrics = ['accuracy']) \n",
        "\n",
        "model.summary()"
      ],
      "execution_count": 16,
      "outputs": [
        {
          "output_type": "stream",
          "text": [
            "Model: \"sequential_2\"\n",
            "_________________________________________________________________\n",
            "Layer (type)                 Output Shape              Param #   \n",
            "=================================================================\n",
            "conv2d_6 (Conv2D)            (None, 28, 28, 32)        320       \n",
            "_________________________________________________________________\n",
            "conv2d_7 (Conv2D)            (None, 28, 28, 64)        18496     \n",
            "_________________________________________________________________\n",
            "max_pooling2d_1 (MaxPooling2 (None, 14, 14, 64)        0         \n",
            "_________________________________________________________________\n",
            "dropout_1 (Dropout)          (None, 14, 14, 64)        0         \n",
            "_________________________________________________________________\n",
            "conv2d_8 (Conv2D)            (None, 14, 14, 128)       73856     \n",
            "_________________________________________________________________\n",
            "conv2d_9 (Conv2D)            (None, 12, 12, 256)       295168    \n",
            "_________________________________________________________________\n",
            "max_pooling2d_2 (MaxPooling2 (None, 6, 6, 256)         0         \n",
            "_________________________________________________________________\n",
            "dropout_2 (Dropout)          (None, 6, 6, 256)         0         \n",
            "_________________________________________________________________\n",
            "flatten_2 (Flatten)          (None, 9216)              0         \n",
            "_________________________________________________________________\n",
            "dense_4 (Dense)              (None, 512)               4719104   \n",
            "_________________________________________________________________\n",
            "dropout_3 (Dropout)          (None, 512)               0         \n",
            "_________________________________________________________________\n",
            "dense_5 (Dense)              (None, 256)               131328    \n",
            "_________________________________________________________________\n",
            "dropout_4 (Dropout)          (None, 256)               0         \n",
            "_________________________________________________________________\n",
            "dense_6 (Dense)              (None, 10)                2570      \n",
            "=================================================================\n",
            "Total params: 5,240,842\n",
            "Trainable params: 5,240,842\n",
            "Non-trainable params: 0\n",
            "_________________________________________________________________\n"
          ],
          "name": "stdout"
        }
      ]
    },
    {
      "cell_type": "code",
      "metadata": {
        "colab": {
          "base_uri": "https://localhost:8080/"
        },
        "id": "QmcmQq6wLaZb",
        "outputId": "990cd6e1-d4d0-49d5-8eb7-bc3ae846ca6b"
      },
      "source": [
        "history = model.fit(train_X,train_Y, epochs=500, validation_split=0.25,\n",
        "                    callbacks = [tf.keras.callbacks.EarlyStopping(patience = 5,monitor = 'val_loss')])"
      ],
      "execution_count": 17,
      "outputs": [
        {
          "output_type": "stream",
          "text": [
            "Epoch 1/500\n",
            "1407/1407 [==============================] - 12s 8ms/step - loss: 0.8779 - accuracy: 0.6788 - val_loss: 0.3506 - val_accuracy: 0.8648\n",
            "Epoch 2/500\n",
            "1407/1407 [==============================] - 11s 8ms/step - loss: 0.3790 - accuracy: 0.8633 - val_loss: 0.3008 - val_accuracy: 0.8864\n",
            "Epoch 3/500\n",
            "1407/1407 [==============================] - 11s 8ms/step - loss: 0.3370 - accuracy: 0.8796 - val_loss: 0.2464 - val_accuracy: 0.9073\n",
            "Epoch 4/500\n",
            "1407/1407 [==============================] - 11s 8ms/step - loss: 0.3042 - accuracy: 0.8918 - val_loss: 0.2548 - val_accuracy: 0.9046\n",
            "Epoch 5/500\n",
            "1407/1407 [==============================] - 11s 8ms/step - loss: 0.2835 - accuracy: 0.9001 - val_loss: 0.2401 - val_accuracy: 0.9114\n",
            "Epoch 6/500\n",
            "1407/1407 [==============================] - 11s 8ms/step - loss: 0.2808 - accuracy: 0.9014 - val_loss: 0.2257 - val_accuracy: 0.9167\n",
            "Epoch 7/500\n",
            "1407/1407 [==============================] - 11s 8ms/step - loss: 0.2746 - accuracy: 0.9023 - val_loss: 0.2159 - val_accuracy: 0.9195\n",
            "Epoch 8/500\n",
            "1407/1407 [==============================] - 11s 8ms/step - loss: 0.2573 - accuracy: 0.9065 - val_loss: 0.2218 - val_accuracy: 0.9150\n",
            "Epoch 9/500\n",
            "1407/1407 [==============================] - 11s 8ms/step - loss: 0.2641 - accuracy: 0.9023 - val_loss: 0.2138 - val_accuracy: 0.9242\n",
            "Epoch 10/500\n",
            "1407/1407 [==============================] - 11s 7ms/step - loss: 0.2603 - accuracy: 0.9089 - val_loss: 0.2082 - val_accuracy: 0.9249\n",
            "Epoch 11/500\n",
            "1407/1407 [==============================] - 11s 7ms/step - loss: 0.2548 - accuracy: 0.9097 - val_loss: 0.2172 - val_accuracy: 0.9187\n",
            "Epoch 12/500\n",
            "1407/1407 [==============================] - 11s 7ms/step - loss: 0.2450 - accuracy: 0.9125 - val_loss: 0.2072 - val_accuracy: 0.9231\n",
            "Epoch 13/500\n",
            "1407/1407 [==============================] - 11s 8ms/step - loss: 0.2420 - accuracy: 0.9139 - val_loss: 0.2225 - val_accuracy: 0.9205\n",
            "Epoch 14/500\n",
            "1407/1407 [==============================] - 11s 8ms/step - loss: 0.2331 - accuracy: 0.9190 - val_loss: 0.2103 - val_accuracy: 0.9251\n",
            "Epoch 15/500\n",
            "1407/1407 [==============================] - 11s 8ms/step - loss: 0.2435 - accuracy: 0.9122 - val_loss: 0.2063 - val_accuracy: 0.9252\n",
            "Epoch 16/500\n",
            "1407/1407 [==============================] - 11s 8ms/step - loss: 0.2405 - accuracy: 0.9166 - val_loss: 0.2010 - val_accuracy: 0.9295\n",
            "Epoch 17/500\n",
            "1407/1407 [==============================] - 11s 8ms/step - loss: 0.2191 - accuracy: 0.9202 - val_loss: 0.2005 - val_accuracy: 0.9276\n",
            "Epoch 18/500\n",
            "1407/1407 [==============================] - 11s 8ms/step - loss: 0.2327 - accuracy: 0.9154 - val_loss: 0.1999 - val_accuracy: 0.9296\n",
            "Epoch 19/500\n",
            "1407/1407 [==============================] - 11s 8ms/step - loss: 0.2342 - accuracy: 0.9168 - val_loss: 0.2101 - val_accuracy: 0.9223\n",
            "Epoch 20/500\n",
            "1407/1407 [==============================] - 11s 8ms/step - loss: 0.2298 - accuracy: 0.9158 - val_loss: 0.2037 - val_accuracy: 0.9285\n",
            "Epoch 21/500\n",
            "1407/1407 [==============================] - 11s 8ms/step - loss: 0.2297 - accuracy: 0.9193 - val_loss: 0.1984 - val_accuracy: 0.9293\n",
            "Epoch 22/500\n",
            "1407/1407 [==============================] - 11s 8ms/step - loss: 0.2298 - accuracy: 0.9173 - val_loss: 0.2040 - val_accuracy: 0.9256\n",
            "Epoch 23/500\n",
            "1407/1407 [==============================] - 11s 8ms/step - loss: 0.2219 - accuracy: 0.9198 - val_loss: 0.2052 - val_accuracy: 0.9289\n",
            "Epoch 24/500\n",
            "1407/1407 [==============================] - 11s 8ms/step - loss: 0.2250 - accuracy: 0.9199 - val_loss: 0.1968 - val_accuracy: 0.9286\n",
            "Epoch 25/500\n",
            "1407/1407 [==============================] - 11s 8ms/step - loss: 0.2294 - accuracy: 0.9171 - val_loss: 0.2049 - val_accuracy: 0.9244\n",
            "Epoch 26/500\n",
            "1407/1407 [==============================] - 11s 7ms/step - loss: 0.2237 - accuracy: 0.9215 - val_loss: 0.2140 - val_accuracy: 0.9223\n",
            "Epoch 27/500\n",
            "1407/1407 [==============================] - 11s 7ms/step - loss: 0.2225 - accuracy: 0.9227 - val_loss: 0.1956 - val_accuracy: 0.9298\n",
            "Epoch 28/500\n",
            "1407/1407 [==============================] - 11s 7ms/step - loss: 0.2230 - accuracy: 0.9197 - val_loss: 0.2006 - val_accuracy: 0.9274\n",
            "Epoch 29/500\n",
            "1407/1407 [==============================] - 11s 8ms/step - loss: 0.2218 - accuracy: 0.9190 - val_loss: 0.2041 - val_accuracy: 0.9278\n",
            "Epoch 30/500\n",
            "1407/1407 [==============================] - 10s 7ms/step - loss: 0.2220 - accuracy: 0.9219 - val_loss: 0.1977 - val_accuracy: 0.9310\n",
            "Epoch 31/500\n",
            "1407/1407 [==============================] - 11s 8ms/step - loss: 0.2144 - accuracy: 0.9238 - val_loss: 0.1982 - val_accuracy: 0.9302\n",
            "Epoch 32/500\n",
            "1407/1407 [==============================] - 11s 7ms/step - loss: 0.2200 - accuracy: 0.9242 - val_loss: 0.1992 - val_accuracy: 0.9299\n"
          ],
          "name": "stdout"
        }
      ]
    },
    {
      "cell_type": "code",
      "metadata": {
        "colab": {
          "base_uri": "https://localhost:8080/",
          "height": 279
        },
        "id": "BrQ1Cp_mL_2w",
        "outputId": "20edfe74-e7a3-4742-bda5-9f85d51e1945"
      },
      "source": [
        "plt.figure(figsize = (12,4))\n",
        "plt.subplot(1,2,1)\n",
        "plt.plot(history.history['loss'],'b-',label = 'loss') \n",
        "plt.plot(history.history['val_loss'],'r--',label = 'val_loss') \n",
        "plt.xlabel('Epoch')\n",
        "plt.legend()\n",
        "\n",
        "plt.subplot(1,2,2) \n",
        "plt.plot(history.history['accuracy'],'g-',label = 'acc') \n",
        "plt.plot(history.history['val_accuracy'],'k--',label = 'val_acc') \n",
        "plt.xlabel('Epoch')\n",
        "plt.legend()\n",
        "plt.show()"
      ],
      "execution_count": 18,
      "outputs": [
        {
          "output_type": "display_data",
          "data": {
            "image/png": "[encoded data removed]",
            "text/plain": [
              "<Figure size 864x288 with 2 Axes>"
            ]
          },
          "metadata": {
            "tags": [],
            "needs_background": "light"
          }
        }
      ]
    },
    {
      "cell_type": "code",
      "metadata": {
        "colab": {
          "base_uri": "https://localhost:8080/"
        },
        "id": "n2f32OKgMGHc",
        "outputId": "d634ae7f-3b75-42fb-a8da-1ee74ada69d0"
      },
      "source": [
        "model.evaluate(test_X,test_Y)"
      ],
      "execution_count": 19,
      "outputs": [
        {
          "output_type": "stream",
          "text": [
            "313/313 [==============================] - 1s 3ms/step - loss: 0.2117 - accuracy: 0.9242\n"
          ],
          "name": "stdout"
        },
        {
          "output_type": "execute_result",
          "data": {
            "text/plain": [
              "[0.21168583631515503, 0.9241999983787537]"
            ]
          },
          "metadata": {
            "tags": []
          },
          "execution_count": 19
        }
      ]
    },
    {
      "cell_type": "markdown",
      "metadata": {
        "id": "3fkEddZwNHG3"
      },
      "source": [
        "VGGNet을 사용한 결과 매우 높은 accuracy(92%)와 낮은 loss값(21%)를 지니게 되었다.\n",
        "\n",
        "또한 시각화된 그래프 역시 적절한 모양을 갖추게 되었다."
      ]
    }
  ]
}