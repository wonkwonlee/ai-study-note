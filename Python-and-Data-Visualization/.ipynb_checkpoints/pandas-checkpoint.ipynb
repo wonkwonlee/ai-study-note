{
 "cells": [
  {
   "cell_type": "markdown",
   "metadata": {},
   "source": [
    "# Pandas \n",
    "> 판다스(Pandas)는 데이터프레임(DataFrame)과 시리즈(Series)라는 자료형과 데이터 분석을 위한 다양한 기능을 제공하는 파이썬 라이브러리를 말한다\n",
    ">\n",
    "> 판다스의 기초 개념을 정리하고 실습을 통해 판다스를 숙지한다\n",
    "\n",
    "## Pandas 시작하기\n",
    "> *빅데이터의 분석의 시작은 데이터 불러오기 부터*\n",
    "\n",
    "* import pandas 명령어 사용하여 csv나 tsv의 데이터를 불러올 수 있다.\n",
    "* 판다스에 있는 메서드를 호출하려면 pandas와 점(.) 연산자를 사용해야 한다"
   ]
  },
  {
   "cell_type": "code",
   "execution_count": 1,
   "metadata": {
    "scrolled": true
   },
   "outputs": [],
   "source": [
    "# 매번 pandas라고 입력하면 번거롭기 때문에 관습적으로 pandas를 pd로 줄여 사용\n",
    "\n",
    "import pandas as pd\n",
    "df = pd.read_csv('data_visual/gapminder.tsv', sep='\\t')    # Load gapminder, 탭으로 구분"
   ]
  },
  {
   "cell_type": "markdown",
   "metadata": {},
   "source": [
    "## 시리즈와 데이터프레임\n",
    "* 데이터프레임 DataFrame : **엑셀에서 볼 수 있는 시트(Sheet)**와 동일한 개념\n",
    "* 시리즈 Series : 시트의 **열 1개**를 의미\n",
    "* read_csv(): 데이터 집합을 데이터프레임 자료형으로 변환한다.\n",
    "* head() : 데이터프레임에서 가장 앞 5개의 행을 출력한다.\n",
    "* tail() : 데이터프레임에서 가장 뒤 5개의 행을 출력한다.\n",
    "* type() : 자료형을 출력한다.\n",
    "    + 자료가 데이터프레임인지 확인 가능하다\n",
    "* shape() : 행과 열의 크기를 출력한다.\n",
    "* column() : 데이터프레임의 열 이름을 출력한다.\n",
    "\n",
    "\n",
    "* csv : Comma-Separated Values. 콤마로 구분된 데이터\n",
    "* tsv : Tab-Separated Values. 탭으로 구분된 데이터"
   ]
  },
  {
   "cell_type": "code",
   "execution_count": 2,
   "metadata": {},
   "outputs": [
    {
     "name": "stdout",
     "output_type": "stream",
     "text": [
      "       country continent  year  lifeExp       pop   gdpPercap\n",
      "0  Afghanistan      Asia  1952   28.801   8425333  779.445314\n",
      "1  Afghanistan      Asia  1957   30.332   9240934  820.853030\n",
      "2  Afghanistan      Asia  1962   31.997  10267083  853.100710\n",
      "3  Afghanistan      Asia  1967   34.020  11537966  836.197138\n",
      "4  Afghanistan      Asia  1972   36.088  13079460  739.981106\n",
      "<class 'pandas.core.frame.DataFrame'>\n",
      "(1704, 6)\n"
     ]
    }
   ],
   "source": [
    "print(df.head())    # df의 5개의 행 출력\n",
    "print(type(df))     # df의 자료형 출력\n",
    "print(df.shape)     # df의 행, 열의 크기 출력"
   ]
  },
  {
   "cell_type": "code",
   "execution_count": 3,
   "metadata": {},
   "outputs": [
    {
     "name": "stdout",
     "output_type": "stream",
     "text": [
      "Index(['country', 'continent', 'year', 'lifeExp', 'pop', 'gdpPercap'], dtype='object')\n",
      "country       object\n",
      "continent     object\n",
      "year           int64\n",
      "lifeExp      float64\n",
      "pop            int64\n",
      "gdpPercap    float64\n",
      "dtype: object\n"
     ]
    }
   ],
   "source": [
    "print(df.columns)     # Print column indices\n",
    "print(df.dtypes)      # 데이터프레임을 구성하는 값의 자료형을 알려준다"
   ]
  },
  {
   "cell_type": "code",
   "execution_count": 4,
   "metadata": {},
   "outputs": [
    {
     "name": "stdout",
     "output_type": "stream",
     "text": [
      "<class 'pandas.core.frame.DataFrame'>\n",
      "RangeIndex: 1704 entries, 0 to 1703\n",
      "Data columns (total 6 columns):\n",
      " #   Column     Non-Null Count  Dtype  \n",
      "---  ------     --------------  -----  \n",
      " 0   country    1704 non-null   object \n",
      " 1   continent  1704 non-null   object \n",
      " 2   year       1704 non-null   int64  \n",
      " 3   lifeExp    1704 non-null   float64\n",
      " 4   pop        1704 non-null   int64  \n",
      " 5   gdpPercap  1704 non-null   float64\n",
      "dtypes: float64(2), int64(2), object(2)\n",
      "memory usage: 80.0+ KB\n",
      "None\n"
     ]
    }
   ],
   "source": [
    "print(df.info())     # 데이터프레임을 구성하는 값의 자료형을 알려준다 (dtype과 비슷)"
   ]
  },
  {
   "cell_type": "markdown",
   "metadata": {},
   "source": [
    "### Pandas와 파이썬 자료형 비교\n",
    "![dtype](https://user-images.githubusercontent.com/28593767/111310695-b9801380-86a0-11eb-9dd3-3c01828232fb.png)"
   ]
  },
  {
   "cell_type": "markdown",
   "metadata": {},
   "source": [
    "## 데이터 추출하기\n",
    "\n",
    "### 열 단위 데이터 추출하기\n",
    "    new_df = df['column name']\n",
    "    new_df2 = df[['column1 name', 'column2 name']]\n",
    "\n",
    "* 1개의 열만 추출하면 시리즈 형태의 데이터를 얻을 수 있고 2개 이상의 열을 추출하면 데이터프레임을 얻을 수 있다.\n",
    "* 2개 이상의 열을 추출할 때는 **배열 안에** 넣어야한다.\n",
    "* 2개 이상의 열을 추출한 것은 보통 subset이라고 한다."
   ]
  },
  {
   "cell_type": "code",
   "execution_count": 5,
   "metadata": {},
   "outputs": [
    {
     "name": "stdout",
     "output_type": "stream",
     "text": [
      "<class 'pandas.core.series.Series'>\n",
      "<class 'pandas.core.frame.DataFrame'>\n",
      "0    Afghanistan\n",
      "1    Afghanistan\n",
      "2    Afghanistan\n",
      "3    Afghanistan\n",
      "4    Afghanistan\n",
      "Name: country, dtype: object\n",
      "1699    Zimbabwe\n",
      "1700    Zimbabwe\n",
      "1701    Zimbabwe\n",
      "1702    Zimbabwe\n",
      "1703    Zimbabwe\n",
      "Name: country, dtype: object\n"
     ]
    }
   ],
   "source": [
    "country_df = df['country']\n",
    "test_df = df[['country', 'continent']]      # 대괄호 안에 배열 안에 인덱스를 넣음\n",
    "\n",
    "print(type(country_df))       # 1개의 열만 추출하면 시리즈\n",
    "print(type(test_df))          # 2개 이상의 열은 데이터프레임(subset)\n",
    "print(country_df.head())\n",
    "print(country_df.tail())"
   ]
  },
  {
   "cell_type": "code",
   "execution_count": 6,
   "metadata": {},
   "outputs": [
    {
     "name": "stdout",
     "output_type": "stream",
     "text": [
      "<class 'pandas.core.frame.DataFrame'>\n",
      "\n",
      "       country continent  year\n",
      "0  Afghanistan      Asia  1952\n",
      "1  Afghanistan      Asia  1957\n",
      "2  Afghanistan      Asia  1962\n",
      "3  Afghanistan      Asia  1967\n",
      "4  Afghanistan      Asia  1972\n",
      "       country continent  year\n",
      "1699  Zimbabwe    Africa  1987\n",
      "1700  Zimbabwe    Africa  1992\n",
      "1701  Zimbabwe    Africa  1997\n",
      "1702  Zimbabwe    Africa  2002\n",
      "1703  Zimbabwe    Africa  2007\n"
     ]
    }
   ],
   "source": [
    "subset = df[['country', 'continent', 'year']]\n",
    "print(type(subset))\n",
    "print()\n",
    "print(subset.head())\n",
    "print(subset.tail())"
   ]
  },
  {
   "cell_type": "markdown",
   "metadata": {},
   "source": [
    "### 행 단위 데이터 추출하기\n",
    "* 행 단위로 추출하려면 loc, iloc 속성을 사용해야 한다.\n",
    "    + loc : 인덱스를 기준으로 행 데이터 추출\n",
    "    + iloc: 행 번호를 기준으로 행 데이터 추출\n",
    "* 일반적으로 프로그래밍에서 인덱스는 list같은 자료형에 저장된 데이터의 순서를 의미하지만, Pandas에서는 이러한 개념을 **행 번호**라고 부른다.\n",
    "* 인덱스는 출력된 데이터 집합에 맨 왼쪽에 부여되는 번호이다. 일반적으로 0부터 시작하는 숫자이지만 행 데이터가 추가, 삭제되면 변할 수 있고 숫자 대신 문자열을 사용할 수도 있다. \n",
    "    + 예를 들어 first, second, third같은 문자열로도 지정할 수 있다.\n",
    "* 즉, 행 번호는 데이터의 순서를 따라가기 때문에 실제 데이터프레임에서는 확인할 수 없는 값이다.\n",
    "* loc에 비해 iloc는 데이터가 커질수록 정확한 데이터를 알기 어렵다는 단점이 있어 현업에서 덜 쓰인다.\n",
    "\n",
    "```\n",
    "    df.loc[index]\n",
    "    df.loc[[index1, index2, index3]]\n",
    "```    "
   ]
  },
  {
   "cell_type": "code",
   "execution_count": 7,
   "metadata": {},
   "outputs": [
    {
     "name": "stdout",
     "output_type": "stream",
     "text": [
      "country      Afghanistan\n",
      "continent           Asia\n",
      "year                1952\n",
      "lifeExp           28.801\n",
      "pop              8425333\n",
      "gdpPercap        779.445\n",
      "Name: 0, dtype: object\n",
      "country      Bangladesh\n",
      "continent          Asia\n",
      "year               1967\n",
      "lifeExp          43.453\n",
      "pop            62821884\n",
      "gdpPercap       721.186\n",
      "Name: 99, dtype: object\n",
      "         country continent  year  lifeExp       pop   gdpPercap\n",
      "0    Afghanistan      Asia  1952   28.801   8425333  779.445314\n",
      "10   Afghanistan      Asia  2002   42.129  25268405  726.734055\n",
      "100   Bangladesh      Asia  1972   45.252  70759295  630.233627\n"
     ]
    }
   ],
   "source": [
    "# loc에 인덱스 번호를 넣으면 원하는 행 데이터를 추출 가능 \n",
    "\n",
    "print(df.loc[0])      # Index 0 데이터\n",
    "print(df.loc[99])     # Index 99 데이터\n",
    "print(df.loc[[0, 10, 100]])    # Index 0, 10, 100 데이터"
   ]
  },
  {
   "cell_type": "markdown",
   "metadata": {},
   "source": [
    "### 데이터 슬라이싱\n",
    "* 추출할 데이터의 행과 열을 지정하는 것을 슬라이싱이라 한다.\n",
    "* 슬라이싱에는 슬라이싱 구문을 사용하는 방법과 range 메서드를 사용하는 방법이 있다.\n",
    "* 일반적으로 슬라이싱 구문이 더 많이 쓰인다.\n",
    "\n",
    "#### 슬라이싱 구문\n",
    "```python\n",
    "    subset = df.loc[[row], [col]]\n",
    "    subset = df.iloc[[row], [col]]\n",
    "```"
   ]
  },
  {
   "cell_type": "code",
   "execution_count": 8,
   "metadata": {},
   "outputs": [
    {
     "name": "stdout",
     "output_type": "stream",
     "text": [
      "   year       pop\n",
      "0  1952   8425333\n",
      "1  1957   9240934\n",
      "2  1962  10267083\n",
      "3  1967  11537966\n",
      "4  1972  13079460\n"
     ]
    }
   ],
   "source": [
    "# 데이터 슬라이싱 기법\n",
    "# 특정 데이터끼리 비교할 때 많이 쓰임\n",
    "\n",
    "# year, pop 행만 출력\n",
    "subset = df.loc[:,['year', 'pop']]\n",
    "print(subset.head())"
   ]
  },
  {
   "cell_type": "code",
   "execution_count": 9,
   "metadata": {},
   "outputs": [
    {
     "name": "stdout",
     "output_type": "stream",
     "text": [
      "       country continent  year\n",
      "0  Afghanistan      Asia  1952\n",
      "1  Afghanistan      Asia  1957\n",
      "2  Afghanistan      Asia  1962\n",
      "3  Afghanistan      Asia  1967\n",
      "4  Afghanistan      Asia  1972\n",
      "       country  year       pop\n",
      "0  Afghanistan  1952   8425333\n",
      "1  Afghanistan  1957   9240934\n",
      "2  Afghanistan  1962  10267083\n",
      "3  Afghanistan  1967  11537966\n",
      "4  Afghanistan  1972  13079460\n"
     ]
    }
   ],
   "source": [
    "# 3개 column 만 출력\n",
    "subset = df.iloc[:,:3]\n",
    "print(subset.head())\n",
    "\n",
    "# 0부터 6까지 2개 단위 column만 출력\n",
    "subset = df.iloc[:,0:6:2]\n",
    "print(subset.head())"
   ]
  },
  {
   "cell_type": "code",
   "execution_count": 10,
   "metadata": {},
   "outputs": [
    {
     "name": "stdout",
     "output_type": "stream",
     "text": [
      "         country  lifeExp    gdpPercap\n",
      "0    Afghanistan   28.801   779.445314\n",
      "99    Bangladesh   43.453   721.186086\n",
      "999     Mongolia   51.253  1226.041130\n"
     ]
    }
   ],
   "source": [
    "subset = df.iloc[[0,99,999],[0,3,5]]\n",
    "print(subset)"
   ]
  },
  {
   "cell_type": "code",
   "execution_count": 11,
   "metadata": {},
   "outputs": [
    {
     "name": "stdout",
     "output_type": "stream",
     "text": [
      "    year       pop  lifeExp\n",
      "10  2002  25268405   42.129\n",
      "11  2007  31889923   43.828\n",
      "12  1952   1282697   55.230\n",
      "13  1957   1476505   59.280\n"
     ]
    }
   ],
   "source": [
    "# 10~13행과 year, pop, lifeExp의 열 출력\n",
    "print(df.loc[10:13, ['year','pop','lifeExp']])"
   ]
  },
  {
   "cell_type": "markdown",
   "metadata": {},
   "source": [
    "#### range 메서드\n",
    "```python\n",
    "    small_range = list(range(n))\n",
    "    subset = df.iloc[[row], small_range]\n",
    "```\n",
    "\n",
    "* range()는 제너레이터를 반환한다. \n",
    "* 따라서 iloc에 쓰기 위해서는 리스트로 변환해야 한다.\n",
    "* list(range(n))"
   ]
  },
  {
   "cell_type": "code",
   "execution_count": 12,
   "metadata": {},
   "outputs": [
    {
     "name": "stdout",
     "output_type": "stream",
     "text": [
      "[3, 4, 5]\n",
      "<class 'list'>\n",
      "   lifeExp       pop   gdpPercap\n",
      "0   28.801   8425333  779.445314\n",
      "1   30.332   9240934  820.853030\n",
      "2   31.997  10267083  853.100710\n",
      "3   34.020  11537966  836.197138\n",
      "4   36.088  13079460  739.981106\n"
     ]
    }
   ],
   "source": [
    "small_range = list(range(3,6))   # range를 list로 변환\n",
    "print(small_range)\n",
    "print(type(small_range))         # 이제 자료형이 list로 나온다\n",
    "\n",
    "subset= df.iloc[:,small_range]   # range를 사용해 슬라이싱\n",
    "print(subset.head())"
   ]
  },
  {
   "cell_type": "markdown",
   "metadata": {},
   "source": [
    "## 데이터 그룹화\n",
    "* groupby() 명령어를 이용해 괄호 안에 그룹화 하고싶은 열을 넣어 데이터를 그룹핑 할 수 있다.\n",
    "* 그룹화한 데이터프레임에서 특정 1개의 열만 추출하면 그룹화한 시리즈를 얻을 수 있다.\n",
    "* nunique() 명령어를 이용해 그룹화한 데이터의 빈도수를 알 수 있다.\n",
    "\n",
    "```\n",
    "    groupby_df = df.groupby(col)\n",
    "    groupby_df.nunique()\n",
    "    groupby_df[col].nunique()\n",
    "```    "
   ]
  },
  {
   "cell_type": "code",
   "execution_count": 13,
   "metadata": {},
   "outputs": [
    {
     "name": "stdout",
     "output_type": "stream",
     "text": [
      "               pop     gdpPercap\n",
      "year                            \n",
      "1952  1.695040e+07   3725.276046\n",
      "1957  1.876341e+07   4299.408345\n",
      "1962  2.042101e+07   4725.812342\n",
      "1967  2.265830e+07   5483.653047\n",
      "1972  2.518998e+07   6770.082815\n",
      "1977  2.767638e+07   7313.166421\n",
      "1982  3.020730e+07   7518.901673\n",
      "1987  3.303857e+07   7900.920218\n",
      "1992  3.599092e+07   8158.608521\n",
      "1997  3.883947e+07   9090.175363\n",
      "2002  4.145759e+07   9917.848365\n",
      "2007  4.402122e+07  11680.071820\n",
      "      country  continent  lifeExp  pop  gdpPercap\n",
      "year                                             \n",
      "1952      142          5      142  142        142\n",
      "1957      142          5      142  142        142\n",
      "1962      142          5      141  142        142\n",
      "1967      142          5      141  142        142\n",
      "1972      142          5      142  142        142\n",
      "1977      142          5      142  142        142\n",
      "1982      142          5      142  142        142\n",
      "1987      142          5      141  142        142\n",
      "1992      142          5      141  142        142\n",
      "1997      142          5      142  142        142\n",
      "2002      142          5      142  142        142\n",
      "2007      142          5      142  142        142\n"
     ]
    }
   ],
   "source": [
    "# 연도별 평균 인구수와 평균 1인당 gdp\n",
    "print(df.groupby('year')[['pop', 'gdpPercap']].mean())\n",
    "print(df.groupby('year').nunique())"
   ]
  },
  {
   "cell_type": "code",
   "execution_count": 14,
   "metadata": {},
   "outputs": [
    {
     "name": "stdout",
     "output_type": "stream",
     "text": [
      "year\n",
      "1952    49.057620\n",
      "1957    51.507401\n",
      "1962    53.609249\n",
      "1967    55.678290\n",
      "1972    57.647386\n",
      "1977    59.570157\n",
      "1982    61.533197\n",
      "1987    63.212613\n",
      "1992    64.160338\n",
      "1997    65.014676\n",
      "2002    65.694923\n",
      "2007    67.007423\n",
      "Name: lifeExp, dtype: float64\n"
     ]
    }
   ],
   "source": [
    "# 연도별 평균 기대수명\n",
    "\n",
    "# year로 그룹화하고 그 데이터에서 lifeExp열을 지정하여 mean() 매서드로 평균을 구한다.\n",
    "print(df.groupby('year')['lifeExp'].mean())"
   ]
  },
  {
   "cell_type": "code",
   "execution_count": 15,
   "metadata": {
    "scrolled": false
   },
   "outputs": [
    {
     "name": "stdout",
     "output_type": "stream",
     "text": [
      "                  lifeExp     gdpPercap\n",
      "year continent                         \n",
      "1952 Africa     39.135500   1252.572466\n",
      "     Americas   53.279840   4079.062552\n",
      "     Asia       46.314394   5195.484004\n",
      "     Europe     64.408500   5661.057435\n",
      "     Oceania    69.255000  10298.085650\n",
      "1957 Africa     41.266346   1385.236062\n",
      "     Americas   55.960280   4616.043733\n",
      "     Asia       49.318544   5787.732940\n",
      "     Europe     66.703067   6963.012816\n",
      "     Oceania    70.295000  11598.522455\n",
      "1962 Africa     43.319442   1598.078825\n",
      "     Americas   58.398760   4901.541870\n",
      "     Asia       51.563223   5729.369625\n",
      "     Europe     68.539233   8365.486814\n",
      "     Oceania    71.085000  12696.452430\n",
      "1967 Africa     45.334538   2050.363801\n",
      "     Americas   60.410920   5668.253496\n",
      "     Asia       54.663640   5971.173374\n",
      "     Europe     69.737600  10143.823757\n",
      "     Oceania    71.310000  14495.021790\n",
      "1972 Africa     47.450942   2339.615674\n",
      "     Americas   62.394920   6491.334139\n",
      "     Asia       57.319269   8187.468699\n",
      "     Europe     70.775033  12479.575246\n",
      "     Oceania    71.910000  16417.333380\n",
      "1977 Africa     49.580423   2585.938508\n",
      "     Americas   64.391560   7352.007126\n",
      "     Asia       59.610556   7791.314020\n",
      "     Europe     71.937767  14283.979110\n",
      "     Oceania    72.855000  17283.957605\n",
      "1982 Africa     51.592865   2481.592960\n",
      "     Americas   66.228840   7506.737088\n",
      "     Asia       62.617939   7434.135157\n",
      "     Europe     72.806400  15617.896551\n",
      "     Oceania    74.290000  18554.709840\n",
      "1987 Africa     53.344788   2282.668991\n",
      "     Americas   68.090720   7793.400261\n",
      "     Asia       64.851182   7608.226508\n",
      "     Europe     73.642167  17214.310727\n",
      "     Oceania    75.320000  20448.040160\n",
      "1992 Africa     53.629577   2281.810333\n",
      "     Americas   69.568360   8044.934406\n",
      "     Asia       66.537212   8639.690248\n",
      "     Europe     74.440100  17061.568084\n",
      "     Oceania    76.945000  20894.045885\n",
      "1997 Africa     53.598269   2378.759555\n",
      "     Americas   71.150480   8889.300863\n",
      "     Asia       68.020515   9834.093295\n",
      "     Europe     75.505167  19076.781802\n",
      "     Oceania    78.190000  24024.175170\n",
      "2002 Africa     53.325231   2599.385159\n",
      "     Americas   72.422040   9287.677107\n",
      "     Asia       69.233879  10174.090397\n",
      "     Europe     76.700600  21711.732422\n",
      "     Oceania    79.740000  26938.778040\n",
      "2007 Africa     54.806038   3089.032605\n",
      "     Americas   73.608120  11003.031625\n",
      "     Asia       70.728485  12473.026870\n",
      "     Europe     77.648600  25054.481636\n",
      "     Oceania    80.719500  29810.188275\n",
      "year  continent\n",
      "1952  Africa       39.135500\n",
      "      Americas     53.279840\n",
      "      Asia         46.314394\n",
      "      Europe       64.408500\n",
      "      Oceania      69.255000\n",
      "Name: lifeExp, dtype: float64\n"
     ]
    }
   ],
   "source": [
    "# year과 contient 기준으로 그룹화하고 각 lifeExp, gdpPercap의 평균을 구한다.\n",
    "multi_group_var = df.groupby(['year', 'continent'])[['lifeExp', 'gdpPercap']].mean()\n",
    "print(multi_group_var)\n",
    "\n",
    "\n",
    "# 그룹화된 데이터에서 lifeExp만 추출하여 만든 그룹화된 시리즈\n",
    "multi_group_var_lifeExp = multi_group_var['lifeExp']\n",
    "print(multi_group_var_lifeExp.head())"
   ]
  },
  {
   "cell_type": "code",
   "execution_count": 16,
   "metadata": {},
   "outputs": [
    {
     "name": "stdout",
     "output_type": "stream",
     "text": [
      "           country\n",
      "continent         \n",
      "Africa          52\n",
      "Americas        25\n",
      "Asia            33\n",
      "Europe          30\n",
      "Oceania          2\n"
     ]
    }
   ],
   "source": [
    "# nunique() : 그룹화한 데이터의 개수, 빈도수를 출력\n",
    "\n",
    "# continent를 기준으로 데이터프레임을 만들고 country 열만 추출해서 데이터의 빈도수를 계산\n",
    "print(df.groupby(['continent'])[['country']].nunique())"
   ]
  },
  {
   "cell_type": "markdown",
   "metadata": {},
   "source": [
    "### 데이터의 시각화\n",
    "* 데이터의 분석 과정에서 가장 중요한 요소이다.\n",
    "* 데이터를 시각화하면 데이터를 이해하거나 추이를 파악하는 등의 작업을 할 때 도움이 된다.\n",
    "* matplotlib을 이용하면 간단하게 그래프를 그릴 수 있다.\n"
   ]
  },
  {
   "cell_type": "code",
   "execution_count": 17,
   "metadata": {
    "scrolled": false
   },
   "outputs": [
    {
     "name": "stdout",
     "output_type": "stream",
     "text": [
      "year\n",
      "1952    49.057620\n",
      "1957    51.507401\n",
      "1962    53.609249\n",
      "1967    55.678290\n",
      "1972    57.647386\n",
      "1977    59.570157\n",
      "1982    61.533197\n",
      "1987    63.212613\n",
      "1992    64.160338\n",
      "1997    65.014676\n",
      "2002    65.694923\n",
      "2007    67.007423\n",
      "Name: lifeExp, dtype: float64\n"
     ]
    },
    {
     "data": {
      "image/png": "[encoded data removed]",
      "text/plain": [
       "<Figure size 432x288 with 1 Axes>"
      ]
     },
     "metadata": {
      "needs_background": "light"
     },
     "output_type": "display_data"
    }
   ],
   "source": [
    "# matplotlib을 이용해서 데이터의 시각화를 할 수 있다.\n",
    "\n",
    "import matplotlib.pyplot as plt\n",
    "\n",
    "global_yearly_life_expectancy = df.groupby('year')['lifeExp'].mean()\n",
    "print(global_yearly_life_expectancy)\n",
    "\n",
    "global_yearly_life_expectancy.plot()\n",
    "plt.show()"
   ]
  },
  {
   "cell_type": "markdown",
   "metadata": {},
   "source": [
    "### 시리즈 속성과 메서드 - index, values, keys\n",
    "\n",
    "* 시리즈에는 loc, iloc 이외에도 다양한 속성이 미리 정의되어 있다.\n",
    "* index 속성 : 시리즈의 인덱스가 들어있다.\n",
    "* values 속성 : 시리즈의 데이터가 저장되어 있다.\n",
    "* keys() 메서드 : index 속성과 같은 역할을 한다.\n",
    "\n",
    "![series](https://user-images.githubusercontent.com/28593767/111479198-18fb2380-8774-11eb-8457-1a4f91b1c86e.png)\n",
    "\n",
    "\n",
    "* 시리즈에는 기초 통계 메서드도 미리 정의되어 있다.\n",
    "* mean(), max(), min(), std()"
   ]
  },
  {
   "cell_type": "markdown",
   "metadata": {},
   "source": [
    "##  Boolean 추출\n",
    "* 일반적으로 추출을 할 데이터의 정확한 인덱스를 모르는 경우가 더 많다. 이런 경우에 사용하는 방법이 boolean 추출이다.\n",
    "* Boolean 추출은 **특정 조건을 만족하는 값만 추출**할 수 있다."
   ]
  },
  {
   "cell_type": "code",
   "execution_count": 18,
   "metadata": {},
   "outputs": [
    {
     "name": "stdout",
     "output_type": "stream",
     "text": [
      "                   Name        Born        Died  Age    Occupation\n",
      "0     Rosaline Franklin  1920-07-25  1958-04-16   37       Chemist\n",
      "1        William Gosset  1876-06-13  1937-10-16   61  Statistician\n",
      "2  Florence Nightingale  1820-05-12  1910-08-13   90         Nurse\n",
      "3           Marie Curie  1867-11-07  1934-07-04   66       Chemist\n",
      "4         Rachel Carson  1907-05-27  1964-04-14   56     Biologist\n",
      "90\n",
      "37\n",
      "59.125\n",
      "18.325918413937288\n",
      "0    False\n",
      "1     True\n",
      "2     True\n",
      "3     True\n",
      "4    False\n",
      "5    False\n",
      "6    False\n",
      "7     True\n",
      "Name: Age, dtype: bool\n",
      "1    61\n",
      "2    90\n",
      "3    66\n",
      "7    77\n",
      "Name: Age, dtype: int64\n"
     ]
    }
   ],
   "source": [
    "scientists = pd.read_csv('data_visual/scientists.csv')     # csv파일이라 tab 인자값 필요 없음\n",
    "print(scientists.head())\n",
    "\n",
    "ages = scientists['Age']\n",
    "print(ages.max())\n",
    "print(ages.min())\n",
    "print(ages.mean())\n",
    "print(ages.std())\n",
    "\n",
    "# 조건식에 대한 참, 거짓 출력\n",
    "print(ages>ages.mean())\n",
    "\n",
    "# 평균 나이보다 많은 나이만 출력 (참인 데이터만 출력)\n",
    "print(ages[ages>ages.mean()])"
   ]
  },
  {
   "cell_type": "markdown",
   "metadata": {},
   "source": [
    "### 브로드캐스팅 Broadcasting\n",
    "\n",
    "* 시리즈나 데이터프레임에 있는 **모든 데이터에 대해 한 번에 연산**하는 것을 **브로드캐스팅(Broadcasting)**이라고 한다. \n",
    "* 또한 시리즈처럼 여러 개의 값을 가진 데이터를 **벡터**라고 하고 단순 크기를 나타내는 데이터를 **스칼라**라고 한다. \n",
    "* 같은 길이의 벡터끼리 연산하면 같은 길이의 벡터가 출력된다.\n",
    "* 벡터에 스칼라를 연산하면 벡터의 모든 값에 스칼라를 적용하여 브로드캐스팅한 결과가 나온다.\n",
    "* 길이가 다른 벡터를 연산하면 **같은 인덱스의 값만 계산하고 나머지는 누락값(NaN)으로 처리**한다.\n",
    "* 벡터와 벡터의 연산은 **일치하는 인덱스의 값 끼리** 수행하게 된다."
   ]
  },
  {
   "cell_type": "code",
   "execution_count": 19,
   "metadata": {
    "scrolled": false
   },
   "outputs": [
    {
     "name": "stdout",
     "output_type": "stream",
     "text": [
      "0     74\n",
      "1    122\n",
      "2    180\n",
      "3    132\n",
      "4    112\n",
      "5     90\n",
      "6     82\n",
      "7    154\n",
      "Name: Age, dtype: int64\n",
      "0     74\n",
      "1    122\n",
      "2    180\n",
      "3    132\n",
      "4    112\n",
      "5     90\n",
      "6     82\n",
      "7    154\n",
      "Name: Age, dtype: int64\n",
      "0     47.0\n",
      "1     81.0\n",
      "2    120.0\n",
      "3    106.0\n",
      "4      NaN\n",
      "5      NaN\n",
      "6      NaN\n",
      "7      NaN\n",
      "dtype: float64\n"
     ]
    }
   ],
   "source": [
    "# 같은 길이의 벡터끼리 연산\n",
    "print(ages + ages)\n",
    "\n",
    "# 벡터에 스칼라 연산\n",
    "print(ages * 2)\n",
    "\n",
    "# 다른 길이의 벡터끼리 연산\n",
    "new_series = pd.Series([10, 20, 30, 40])     # 임의의 새 series 생성\n",
    "print(ages + new_series)"
   ]
  },
  {
   "cell_type": "code",
   "execution_count": 20,
   "metadata": {},
   "outputs": [
    {
     "name": "stdout",
     "output_type": "stream",
     "text": [
      "0    37\n",
      "1    61\n",
      "2    90\n",
      "3    66\n",
      "4    56\n",
      "5    45\n",
      "6    41\n",
      "7    77\n",
      "Name: Age, dtype: int64\n",
      "7    77\n",
      "6    41\n",
      "5    45\n",
      "4    56\n",
      "3    66\n",
      "2    90\n",
      "1    61\n",
      "0    37\n",
      "Name: Age, dtype: int64\n",
      "0     74\n",
      "1    122\n",
      "2    180\n",
      "3    132\n",
      "4    112\n",
      "5     90\n",
      "6     82\n",
      "7    154\n",
      "Name: Age, dtype: int64\n",
      "0     74\n",
      "1    122\n",
      "2    180\n",
      "3    132\n",
      "4    112\n",
      "5     90\n",
      "6     82\n",
      "7    154\n",
      "Name: Age, dtype: int64\n"
     ]
    }
   ],
   "source": [
    "# 기존 인덱스 순서 데이터\n",
    "print(ages)\n",
    "\n",
    "# 인덱스 역순으로 데이터 정렬\n",
    "rev_ages = ages.sort_index(ascending=False)\n",
    "print(rev_ages)\n",
    "\n",
    "# 기존 데이터를 두 번 더한 값과 역순과 합한 값 모두 일치\n",
    "# 즉 인덱스가 일치하는 값끼리 연산했음을 알 수 있다\n",
    "print(ages*2)\n",
    "print(ages + rev_ages)"
   ]
  },
  {
   "cell_type": "markdown",
   "metadata": {},
   "source": [
    "### 데이터프레임의 Boolean 추출과 브로드캐스팅\n",
    "\n",
    "* 시리즈와 마찬가지로 데이터프레임도 boolean 추출과 브로드캐스팅이 가능하다.\n",
    "* 데이터프레임에서 boolean 추출을 하기 위해서는 특정 열을 지정해 조건문을 입력하면 된다.\n",
    "* 데이터프레임에서 스칼라 연산을 적용하면 모든 요소에 스칼라를 적용하여 연산한다. \n",
    "    + 만약 2를 곱하면 정수 데이터는 2를 곱한 수가 되고 문자열 데이터는 2배로 늘어난다."
   ]
  },
  {
   "cell_type": "code",
   "execution_count": 21,
   "metadata": {},
   "outputs": [
    {
     "name": "stdout",
     "output_type": "stream",
     "text": [
      "                   Name        Born        Died  Age     Occupation\n",
      "1        William Gosset  1876-06-13  1937-10-16   61   Statistician\n",
      "2  Florence Nightingale  1820-05-12  1910-08-13   90          Nurse\n",
      "3           Marie Curie  1867-11-07  1934-07-04   66        Chemist\n",
      "7          Johann Gauss  1777-04-30  1855-02-23   77  Mathematician\n"
     ]
    }
   ],
   "source": [
    "# 데이터프레임 boolean 추출\n",
    "\n",
    "# 데이터프레임의 Age 열에서 평균보다 높은 행만 출력\n",
    "print(scientists[scientists['Age']> scientists['Age'].mean()])"
   ]
  },
  {
   "cell_type": "code",
   "execution_count": 22,
   "metadata": {},
   "outputs": [
    {
     "name": "stdout",
     "output_type": "stream",
     "text": [
      "                                       Name                  Born  \\\n",
      "0        Rosaline FranklinRosaline Franklin  1920-07-251920-07-25   \n",
      "1              William GossetWilliam Gosset  1876-06-131876-06-13   \n",
      "2  Florence NightingaleFlorence Nightingale  1820-05-121820-05-12   \n",
      "3                    Marie CurieMarie Curie  1867-11-071867-11-07   \n",
      "4                Rachel CarsonRachel Carson  1907-05-271907-05-27   \n",
      "5                        John SnowJohn Snow  1813-03-151813-03-15   \n",
      "6                    Alan TuringAlan Turing  1912-06-231912-06-23   \n",
      "7                  Johann GaussJohann Gauss  1777-04-301777-04-30   \n",
      "\n",
      "                   Died  Age                            Occupation  \n",
      "0  1958-04-161958-04-16   74                        ChemistChemist  \n",
      "1  1937-10-161937-10-16  122              StatisticianStatistician  \n",
      "2  1910-08-131910-08-13  180                            NurseNurse  \n",
      "3  1934-07-041934-07-04  132                        ChemistChemist  \n",
      "4  1964-04-141964-04-14  112                    BiologistBiologist  \n",
      "5  1858-06-161858-06-16   90                    PhysicianPhysician  \n",
      "6  1954-06-071954-06-07   82  Computer ScientistComputer Scientist  \n",
      "7  1855-02-231855-02-23  154            MathematicianMathematician  \n"
     ]
    }
   ],
   "source": [
    "# 데이터프레임 브로드캐스팅\n",
    "\n",
    "# 데이터프레임에 스칼라 연산\n",
    "print(scientists*2)"
   ]
  },
  {
   "cell_type": "markdown",
   "metadata": {},
   "source": [
    "## 데이터 처리하기\n",
    "> 새로운 데이터 열을 추가하거나 문자열 날짜를 datetime 자료형으로 바꿀 수 있다."
   ]
  },
  {
   "cell_type": "code",
   "execution_count": 23,
   "metadata": {},
   "outputs": [
    {
     "name": "stdout",
     "output_type": "stream",
     "text": [
      "(8, 5)\n",
      "object\n",
      "object\n",
      "0   1920-07-25\n",
      "1   1876-06-13\n",
      "2   1820-05-12\n",
      "3   1867-11-07\n",
      "4   1907-05-27\n",
      "5   1813-03-15\n",
      "6   1912-06-23\n",
      "7   1777-04-30\n",
      "Name: Born, dtype: datetime64[ns]\n",
      "0   1958-04-16\n",
      "1   1937-10-16\n",
      "2   1910-08-13\n",
      "3   1934-07-04\n",
      "4   1964-04-14\n",
      "5   1858-06-16\n",
      "6   1954-06-07\n",
      "7   1855-02-23\n",
      "Name: Died, dtype: datetime64[ns]\n",
      "                   Name        Born        Died  Age    Occupation    born_dt  \\\n",
      "0     Rosaline Franklin  1920-07-25  1958-04-16   37       Chemist 1920-07-25   \n",
      "1        William Gosset  1876-06-13  1937-10-16   61  Statistician 1876-06-13   \n",
      "2  Florence Nightingale  1820-05-12  1910-08-13   90         Nurse 1820-05-12   \n",
      "3           Marie Curie  1867-11-07  1934-07-04   66       Chemist 1867-11-07   \n",
      "4         Rachel Carson  1907-05-27  1964-04-14   56     Biologist 1907-05-27   \n",
      "\n",
      "     died_dt  \n",
      "0 1958-04-16  \n",
      "1 1937-10-16  \n",
      "2 1910-08-13  \n",
      "3 1934-07-04  \n",
      "4 1964-04-14  \n",
      "                   Name        Born        Died  Age          Occupation  \\\n",
      "0     Rosaline Franklin  1920-07-25  1958-04-16   37             Chemist   \n",
      "1        William Gosset  1876-06-13  1937-10-16   61        Statistician   \n",
      "2  Florence Nightingale  1820-05-12  1910-08-13   90               Nurse   \n",
      "3           Marie Curie  1867-11-07  1934-07-04   66             Chemist   \n",
      "4         Rachel Carson  1907-05-27  1964-04-14   56           Biologist   \n",
      "5             John Snow  1813-03-15  1858-06-16   45           Physician   \n",
      "6           Alan Turing  1912-06-23  1954-06-07   41  Computer Scientist   \n",
      "7          Johann Gauss  1777-04-30  1855-02-23   77       Mathematician   \n",
      "\n",
      "     born_dt    died_dt age_days_dt  \n",
      "0 1920-07-25 1958-04-16  13779 days  \n",
      "1 1876-06-13 1937-10-16  22404 days  \n",
      "2 1820-05-12 1910-08-13  32964 days  \n",
      "3 1867-11-07 1934-07-04  24345 days  \n",
      "4 1907-05-27 1964-04-14  20777 days  \n",
      "5 1813-03-15 1858-06-16  16529 days  \n",
      "6 1912-06-23 1954-06-07  15324 days  \n",
      "7 1777-04-30 1855-02-23  28422 days  \n",
      "(8, 8)\n"
     ]
    }
   ],
   "source": [
    "print(scientists.shape)    # 기존 데이터프레임 (8,5)\n",
    "\n",
    "# 기존 Born과 Died열의 자료형은 문자열(오브젝트)\n",
    "print(scientists['Born'].dtype) \n",
    "print(scientists['Died'].dtype)\n",
    "\n",
    "# Born과 Died를 datetime 자료형으로 변경\n",
    "# format 속성을 ‘%Y-%m-%d’로 지정하여 날짜 형식을 지정\n",
    "born_datetime = pd.to_datetime(scientists['Born'],format = '%Y-%m-%d') \n",
    "print(born_datetime)\n",
    "died_datetime = pd.to_datetime(scientists['Died'],format = '%Y-%m-%d') \n",
    "print(died_datetime)\n",
    "\n",
    "# born_dt, died_dt datetime 자료형 추가\n",
    "scientists['born_dt'], scientists['died_dt'] = (born_datetime, died_datetime) \n",
    "print(scientists.head())\n",
    "\n",
    "scientists['age_days_dt'] = (scientists['died_dt'] - scientists['born_dt']) \n",
    "print(scientists)\n",
    "print(scientists.shape)    # 데이터프레임이 (8,5)에서 (8,8)로 2개의 열이 추가됨"
   ]
  },
  {
   "cell_type": "code",
   "execution_count": 24,
   "metadata": {},
   "outputs": [
    {
     "name": "stdout",
     "output_type": "stream",
     "text": [
      "0    66\n",
      "1    56\n",
      "2    41\n",
      "3    77\n",
      "4    90\n",
      "5    45\n",
      "6    37\n",
      "7    61\n",
      "Name: Age, dtype: int64\n"
     ]
    },
    {
     "name": "stderr",
     "output_type": "stream",
     "text": [
      "/opt/anaconda3/lib/python3.8/random.py:307: SettingWithCopyWarning: \n",
      "A value is trying to be set on a copy of a slice from a DataFrame\n",
      "\n",
      "See the caveats in the documentation: https://pandas.pydata.org/pandas-docs/stable/user_guide/indexing.html#returning-a-view-versus-a-copy\n",
      "  x[i], x[j] = x[j], x[i]\n"
     ]
    }
   ],
   "source": [
    "# 데이터프레임 섞어주기\n",
    "\n",
    "# random 라이브러리\n",
    "import random\n",
    "\n",
    "# seed()는 컴퓨터가 생성하는 난수의 기준값을 정하기 위해 사용\n",
    "# 일반적으로 같은 프로젝트에서 실험할 때는 같은 난수값을 사용한다\n",
    "random.seed(42) \n",
    "\n",
    "# shuffle()을 이용해서 데이터를 섞어준다\n",
    "scientists_copy = scientists.copy()\n",
    "random.shuffle(scientists_copy['Age']) \n",
    "print(scientists_copy['Age'])"
   ]
  },
  {
   "cell_type": "markdown",
   "metadata": {},
   "source": [
    "> copy(): 데이터프레임의 복사본을 만들어준다. \n",
    "> a = b는 원본 데이터가 변하면 똑같이 변하는 **얕은 복사**인 반면,\n",
    "> pandas.DataFrame.copy는 복사 당시의 데이터프레임 상태만 복사되는 **깊은 복사**이다.\n",
    "> 얕은 복사를 하면 복사본은 원본과 데이터/index를 공유하지만, 깊은 복사는 복사본이 자신만의 데이터/index를 갖게한다. "
   ]
  },
  {
   "cell_type": "code",
   "execution_count": 25,
   "metadata": {},
   "outputs": [
    {
     "name": "stdout",
     "output_type": "stream",
     "text": [
      "Index(['Name', 'Born', 'Died', 'Age', 'Occupation', 'born_dt', 'died_dt',\n",
      "       'age_days_dt'],\n",
      "      dtype='object')\n",
      "Index(['Name', 'Born', 'Died', 'Occupation', 'born_dt', 'died_dt',\n",
      "       'age_days_dt'],\n",
      "      dtype='object')\n",
      "                Name        Born        Died  Age          Occupation  \\\n",
      "0  Rosaline Franklin  1920-07-25  1958-04-16   37             Chemist   \n",
      "4      Rachel Carson  1907-05-27  1964-04-14   56           Biologist   \n",
      "5          John Snow  1813-03-15  1858-06-16   45           Physician   \n",
      "6        Alan Turing  1912-06-23  1954-06-07   41  Computer Scientist   \n",
      "7       Johann Gauss  1777-04-30  1855-02-23   77       Mathematician   \n",
      "\n",
      "     born_dt    died_dt age_days_dt  \n",
      "0 1920-07-25 1958-04-16  13779 days  \n",
      "4 1907-05-27 1964-04-14  20777 days  \n",
      "5 1813-03-15 1858-06-16  16529 days  \n",
      "6 1912-06-23 1954-06-07  15324 days  \n",
      "7 1777-04-30 1855-02-23  28422 days  \n"
     ]
    }
   ],
   "source": [
    "# 데이터프레임 열 삭제하기\n",
    "# drop()을 이용해서 데이터프레임에서 열을 삭제할 수 있다\n",
    "# axis = 0 : x축, axis = 1 : y축, axis = 2 : z축\n",
    "\n",
    "# 현재 열 전부 출력\n",
    "print(scientists.columns)\n",
    "\n",
    "# Age 열 삭제\n",
    "scientists_dropped = scientists.drop(['Age'], axis = 1) \n",
    "print(scientists_dropped.columns)\n",
    "\n",
    "# 1~4번 행 번호 삭제\n",
    "scientists_dropped_row = scientists.drop(range(1,4), axis = 0)\n",
    "print(scientists_dropped_row)"
   ]
  },
  {
   "cell_type": "markdown",
   "metadata": {},
   "source": [
    "### 데이터 저장하기\n",
    "> to_csv()을 이용해 CSV로 저장하거나 sep 인자를 추가하여 '\\t'을 지정하고 파일 확장자를 .tsv로 지정하면 TSV 파일로 저장할 수 있다.\n",
    ">\n",
    "> xlwt 라이브러리가 있으면 엑셀 파일로 저장할 수도 있다.\n",
    "\n",
    "```\n",
    "    data_file.to_csv('../data_file.csv')\n",
    "    data_file.to_csv('../data_file.tsv',sep='\\t')\n",
    "```"
   ]
  },
  {
   "cell_type": "code",
   "execution_count": 26,
   "metadata": {},
   "outputs": [
    {
     "name": "stdout",
     "output_type": "stream",
     "text": [
      "                   Name        Born        Died  Age          Occupation  \\\n",
      "0     Rosaline Franklin  1920-07-25  1958-04-16   37             Chemist   \n",
      "1        William Gosset  1876-06-13  1937-10-16   61        Statistician   \n",
      "2  Florence Nightingale  1820-05-12  1910-08-13   90               Nurse   \n",
      "3           Marie Curie  1867-11-07  1934-07-04   66             Chemist   \n",
      "4         Rachel Carson  1907-05-27  1964-04-14   56           Biologist   \n",
      "5             John Snow  1813-03-15  1858-06-16   45           Physician   \n",
      "6           Alan Turing  1912-06-23  1954-06-07   41  Computer Scientist   \n",
      "7          Johann Gauss  1777-04-30  1855-02-23   77       Mathematician   \n",
      "\n",
      "     born_dt    died_dt age_days_dt  \n",
      "0 1920-07-25 1958-04-16  13779 days  \n",
      "1 1876-06-13 1937-10-16  22404 days  \n",
      "2 1820-05-12 1910-08-13  32964 days  \n",
      "3 1867-11-07 1934-07-04  24345 days  \n",
      "4 1907-05-27 1964-04-14  20777 days  \n",
      "5 1813-03-15 1858-06-16  16529 days  \n",
      "6 1912-06-23 1954-06-07  15324 days  \n",
      "7 1777-04-30 1855-02-23  28422 days  \n"
     ]
    }
   ],
   "source": [
    "scientists_randAge = scientists\n",
    "print(scientists_randAge)"
   ]
  }
 ],
 "metadata": {
  "kernelspec": {
   "display_name": "Python 3",
   "language": "python",
   "name": "python3"
  },
  "language_info": {
   "codemirror_mode": {
    "name": "ipython",
    "version": 3
   },
   "file_extension": ".py",
   "mimetype": "text/x-python",
   "name": "python",
   "nbconvert_exporter": "python",
   "pygments_lexer": "ipython3",
   "version": "3.8.5"
  },
  "toc": {
   "base_numbering": 1,
   "nav_menu": {},
   "number_sections": true,
   "sideBar": true,
   "skip_h1_title": false,
   "title_cell": "Table of Contents",
   "title_sidebar": "Contents",
   "toc_cell": false,
   "toc_position": {},
   "toc_section_display": true,
   "toc_window_display": true
  }
 },
 "nbformat": 4,
 "nbformat_minor": 5
}
